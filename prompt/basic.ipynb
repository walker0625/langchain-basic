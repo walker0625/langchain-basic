{
 "cells": [
  {
   "cell_type": "markdown",
   "id": "a62cc52a",
   "metadata": {},
   "source": [
    "# 프롬프트 엔지니어링"
   ]
  },
  {
   "cell_type": "code",
   "execution_count": 10,
   "id": "4d1349c8",
   "metadata": {},
   "outputs": [
    {
     "data": {
      "text/plain": [
       "'LANGCHAIN-BASIC'"
      ]
     },
     "execution_count": 10,
     "metadata": {},
     "output_type": "execute_result"
    }
   ],
   "source": [
    "from dotenv import load_dotenv\n",
    "load_dotenv()\n",
    "\n",
    "import os\n",
    "\n",
    "os.environ[\"LANGSMITH_PROJECT\"]"
   ]
  },
  {
   "cell_type": "code",
   "execution_count": 12,
   "id": "12c37822",
   "metadata": {},
   "outputs": [],
   "source": [
    "from langchain_openai import ChatOpenAI\n",
    "\n",
    "model = ChatOpenAI(\n",
    "    temperature=0.1,\n",
    "    model='gpt-4.1-mini',\n",
    "    verbose=True\n",
    ")"
   ]
  },
  {
   "cell_type": "code",
   "execution_count": 13,
   "id": "5dd70d21",
   "metadata": {},
   "outputs": [
    {
     "data": {
      "text/plain": [
       "PromptTemplate(input_variables=['skill', 'year'], input_types={}, partial_variables={}, template='\\n최근 {year}년 간 {skill} 분야의 기술 발전에 대해서 알려줘\\n')"
      ]
     },
     "execution_count": 13,
     "metadata": {},
     "output_type": "execute_result"
    }
   ],
   "source": [
    "from langchain_core.prompts import PromptTemplate\n",
    "\n",
    "# 프롬프트 템플릿 설정\n",
    "template = '''\n",
    "최근 {year}년 간 {skill} 분야의 기술 발전에 대해서 알려줘\n",
    "'''\n",
    "\n",
    "prompt_template = PromptTemplate.from_template(template)\n",
    "prompt_template"
   ]
  },
  {
   "cell_type": "code",
   "execution_count": 14,
   "id": "207c66a6",
   "metadata": {},
   "outputs": [
    {
     "name": "stdout",
     "output_type": "stream",
     "text": [
      "최근 3년 간 LangChain 분야의 기술 발전에 대해 요약해 드리겠습니다. LangChain은 주로 대규모 언어 모델(LLM)을 활용한 애플리케이션 개발을 지원하는 프레임워크로, 자연어 처리(NLP)와 AI 분야에서 빠르게 성장하고 있습니다.\n",
      "\n",
      "### 1. 2021년: LangChain 초기 등장 및 개념 정립\n",
      "- **초기 개발 및 오픈소스 공개**: LangChain은 2021년경에 처음 등장하여, LLM을 다양한 데이터 소스와 연결하고 체인 형태로 작업을 구성하는 개념을 도입했습니다.\n",
      "- **기본 기능 구현**: 텍스트 생성, 프롬프트 관리, 간단한 체인 구성 기능이 중심이었으며, 개발자들이 LLM을 쉽게 활용할 수 있도록 도왔습니다.\n",
      "- **커뮤니티 형성 시작**: GitHub와 같은 플랫폼에서 초기 사용자와 개발자 커뮤니티가 형성되기 시작했습니다.\n",
      "\n",
      "### 2. 2022년: 기능 확장 및 생태계 성장\n",
      "- **다양한 데이터 소스 통합**: 데이터베이스, API, 문서 저장소 등 다양한 외부 데이터 소스와의 연동 기능이 강화되었습니다.\n",
      "- **복잡한 체인 및 에이전트 도입**: 단순한 프롬프트 체인을 넘어서, 조건 분기, 반복, 에이전트(Agent) 개념이 도입되어 복잡한 작업 흐름을 자동화할 수 있게 되었습니다.\n",
      "- **멀티모달 지원 시도**: 텍스트뿐 아니라 이미지, 음성 등 다양한 입력을 처리하는 시도가 이루어졌습니다.\n",
      "- **상용화 및 기업 도입 증가**: 스타트업 및 기업들이 LangChain을 활용한 맞춤형 AI 솔루션 개발에 적극 나서기 시작했습니다.\n",
      "\n",
      "### 3. 2023년 ~ 2024년 초: 고도화 및 산업 적용 확대\n",
      "- **대규모 모델과의 최적화**: GPT-4, PaLM 등 최신 대규모 언어 모델과의 통합이 강화되고, 비용 효율성과 응답 속도 최적화 기술이 발전했습니다.\n",
      "- **자동화 및 에이전트 고도화**: 자율적 의사결정이 가능한 에이전트 개발이 활발해지면서, 복잡한 업무 자동화 및 멀티스텝 추론이 가능해졌습니다.\n",
      "- **보안 및 프라이버시 강화**: 기업용 솔루션에 맞춰 데이터 보안, 프라이버시 보호 기능이 추가되고, 온프레미스 배포 옵션도 제공되었습니다.\n",
      "- **생태계 확장 및 표준화 시도**: 플러그인, 커넥터, 템플릿 등 다양한 확장 모듈이 개발되었고, LangChain을 중심으로 한 개발 표준과 베스트 프랙티스가 정립되고 있습니다.\n",
      "- **교육 및 커뮤니티 활성화**: 공식 문서, 튜토리얼, 워크숍 등이 활발히 제공되면서 개발자 및 연구자 커뮤니티가 크게 성장했습니다.\n",
      "\n",
      "---\n",
      "\n",
      "### 요약\n",
      "- **2021년**: LangChain 개념 등장 및 기본 기능 구현\n",
      "- **2022년**: 데이터 소스 통합, 복잡한 체인 및 에이전트 도입, 멀티모달 시도\n",
      "- **2023년~2024년**: 최신 LLM 최적화, 고도화된 자동화 에이전트, 보안 강화, 생태계 확장 및 표준화\n",
      "\n",
      "LangChain은 LLM 기반 애플리케이션 개발을 혁신적으로 단순화하고 자동화하는 도구로 자리잡으며, 앞으로도 AI 분야에서 중요한 역할을 할 것으로 기대됩니다. 필요하시면 특정 연도별 기술 상세나 주요 프로젝트 사례도 제공해 드릴 수 있습니다.\n"
     ]
    }
   ],
   "source": [
    "chain = prompt_template | model\n",
    "\n",
    "response = chain.invoke({'skill': 'langchain', 'year' : 3})\n",
    "print(response.content)"
   ]
  },
  {
   "cell_type": "markdown",
   "id": "0c9d0097",
   "metadata": {},
   "source": [
    "## 1. Partial Variable"
   ]
  },
  {
   "cell_type": "code",
   "execution_count": null,
   "id": "17393ab8",
   "metadata": {},
   "outputs": [
    {
     "data": {
      "text/plain": [
       "PromptTemplate(input_variables=['year'], input_types={}, partial_variables={'skill': 'langchain'}, template='\\n최근 {year}년 간 {skill} 분야의 기술 발전에 대해서 알려줘\\n')"
      ]
     },
     "execution_count": 17,
     "metadata": {},
     "output_type": "execute_result"
    }
   ],
   "source": [
    "prompt_template_fixed = PromptTemplate(\n",
    "    template=template,\n",
    "    input_variables=['year'], # 가변값\n",
    "    partial_variables={ # 고정값\n",
    "        \"skill\": \"langchain\"\n",
    "    }\n",
    ")\n",
    "\n",
    "prompt_template_fixed"
   ]
  },
  {
   "cell_type": "code",
   "execution_count": null,
   "id": "2656e758",
   "metadata": {},
   "outputs": [
    {
     "name": "stdout",
     "output_type": "stream",
     "text": [
      "최근 3년 간 LangChain 분야의 기술 발전에 대해 요약해 드리겠습니다. LangChain은 주로 대규모 언어 모델(LLM)을 활용한 애플리케이션 개발을 지원하는 프레임워크로, 자연어 처리(NLP)와 AI 분야에서 빠르게 성장하고 있습니다.\n",
      "\n",
      "### 1. 2021년: LangChain 초기 개발 및 개념 확립\n",
      "- **프레임워크 출범**: LangChain은 2021년경부터 개발되기 시작했으며, LLM을 활용한 체인(chain) 기반의 작업 흐름 설계 개념을 도입했습니다.\n",
      "- **기본 기능 구현**: 텍스트 생성, 질의응답, 문서 요약 등 기본적인 LLM 활용 기능을 체인 형태로 연결해 복합 작업을 수행할 수 있도록 했습니다.\n",
      "- **오픈소스 커뮤니티 활성화**: GitHub 등에서 초기 버전이 공개되며 개발자 커뮤니티가 형성되기 시작했습니다.\n",
      "\n",
      "### 2. 2022년: 기능 확장 및 다양한 LLM 통합\n",
      "- **다양한 LLM 지원**: OpenAI GPT-3, Cohere, AI21 등 여러 LLM API와의 통합이 이루어졌습니다.\n",
      "- **데이터 연결 기능 강화**: 외부 데이터베이스, 문서, API와 연동해 LLM이 실시간 데이터에 접근할 수 있도록 하는 기능이 추가되었습니다.\n",
      "- **프롬프트 템플릿 및 관리**: 복잡한 프롬프트를 체계적으로 관리하고 재사용할 수 있는 템플릿 기능이 도입되었습니다.\n",
      "- **에이전트(Agent) 개념 도입**: LLM이 여러 도구(tool)를 활용해 자율적으로 문제를 해결하는 에이전트 기능이 개발되었습니다.\n",
      "\n",
      "### 3. 2023년: 고도화 및 산업 적용 확대\n",
      "- **멀티모달 지원**: 텍스트뿐 아니라 이미지, 음성 등 다양한 데이터 유형을 처리하는 멀티모달 기능이 연구 및 일부 구현되었습니다.\n",
      "- **대화형 AI 및 챗봇 고도화**: LangChain을 활용한 대화형 AI 시스템이 상용화되기 시작했으며, 복잡한 대화 흐름 관리가 가능해졌습니다.\n",
      "- **성능 최적화 및 확장성 강화**: 대규모 서비스에 적합하도록 성능 개선과 분산 처리 기능이 강화되었습니다.\n",
      "- **기업용 솔루션 및 SaaS 등장**: LangChain 기반의 맞춤형 AI 솔루션과 SaaS 제품들이 시장에 출시되면서 산업 전반에 적용 사례가 늘어났습니다.\n",
      "- **생성형 AI와의 결합**: 생성형 AI 기술과 결합해 자동 문서 작성, 코드 생성, 데이터 분석 등 다양한 분야에서 활용도가 높아졌습니다.\n",
      "\n",
      "### 4. 2024년 상반기 동향 (지식 컷오프 기준)\n",
      "- **자동화 및 자율 에이전트 발전**: LangChain 기반의 자율 에이전트가 더욱 지능화되어 복잡한 업무 자동화에 활용되고 있습니다.\n",
      "- **통합 개발 환경(IDE) 및 툴링 개선**: 개발자 생산성을 높이기 위한 통합 개발 환경과 디버깅 도구가 발전하고 있습니다.\n",
      "- **보안 및 프라이버시 강화**: 기업용 적용 확대에 따라 데이터 보안과 프라이버시 보호 기능이 강화되고 있습니다.\n",
      "- **커뮤니티 및 생태계 확장**: 플러그인, 확장 모듈, 템플릿 공유 등 생태계가 활발히 성장 중입니다.\n",
      "\n",
      "---\n",
      "\n",
      "### 요약\n",
      "최근 3년간 LangChain은 LLM을 활용한 복합 작업 체인 설계에서 시작해, 다양한 LLM 및 데이터 소스 통합, 자율 에이전트 개발, 멀티모달 지원, 산업 적용 확대 등으로 빠르게 발전해 왔습니다. 2024년 현재는 고도화된 자동화, 보안 강화, 개발자 툴 개선과 함께 AI 생태계의 핵심 프레임워크 중 하나로 자리매김하고 있습니다.\n",
      "\n",
      "필요하시면 특정 연도별 상세 기술이나 적용 사례도 추가로 설명해 드릴 수 있습니다.\n"
     ]
    }
   ],
   "source": [
    "chain = prompt_template_fixed | model\n",
    "response = chain.invoke({\"year\": 3}) # skill은 고정값(langchain)으로 되어 있음\n",
    "print(response.content)"
   ]
  },
  {
   "cell_type": "code",
   "execution_count": 21,
   "id": "86cf2a64",
   "metadata": {},
   "outputs": [
    {
     "name": "stdout",
     "output_type": "stream",
     "text": [
      "2025-09-30 14:26:33\n"
     ]
    }
   ],
   "source": [
    "from datetime import datetime\n",
    "\n",
    "str_time = datetime.now().strftime(\"%Y-%m-%d %H:%M:%S\")\n",
    "print(str_time)"
   ]
  },
  {
   "cell_type": "code",
   "execution_count": 23,
   "id": "8a723d38",
   "metadata": {},
   "outputs": [],
   "source": [
    "# 현재 날짜/시간을 변환하는 함수 \n",
    "def get_today():\n",
    "    return datetime.now().strftime(\"%Y-%m-%d %H:%M:%S\")"
   ]
  },
  {
   "cell_type": "code",
   "execution_count": 26,
   "id": "1403c566",
   "metadata": {},
   "outputs": [],
   "source": [
    "template = '현재 시간은 {today} 입니다. 이 시간대에 사람들이 가장 많이 하는 활동을 {number}가지 알려주세요'\n",
    "\n",
    "prompt_template = PromptTemplate(\n",
    "    template=template,\n",
    "    input_variables=[{\"number\" : 3}],\n",
    "    partial_variables={\n",
    "        'today' : get_today # 고정값이지만 함수이므로 가변값이 들어옴\n",
    "    }\n",
    ")"
   ]
  },
  {
   "cell_type": "code",
   "execution_count": 27,
   "id": "4ad6857c",
   "metadata": {},
   "outputs": [
    {
     "name": "stdout",
     "output_type": "stream",
     "text": [
      "현재 시간인 2025년 9월 30일 오후 2시 33분경에 사람들이 가장 많이 하는 활동 3가지는 다음과 같습니다:\n",
      "\n",
      "1. **업무 및 학업 활동**  \n",
      "   대부분의 사람들은 오후 시간대에 직장이나 학교에서 업무나 공부를 하고 있습니다. 회의, 프로젝트 작업, 수업 참여 등이 활발히 이루어지는 시간입니다.\n",
      "\n",
      "2. **점심 후 휴식 또는 간식 시간**  \n",
      "   점심 식사 후 약간의 휴식이나 간식을 즐기며 재충전하는 사람들이 많습니다. 커피를 마시거나 가벼운 산책을 하는 경우도 흔합니다.\n",
      "\n",
      "3. **쇼핑 및 외출 활동**  \n",
      "   오후 시간은 쇼핑몰, 카페, 공원 등 외출하기 좋은 시간대로, 여가를 즐기거나 필요한 물건을 구매하는 사람들이 많습니다.\n",
      "\n",
      "이 시간대의 활동은 개인의 생활 패턴이나 지역, 요일에 따라 다소 차이가 있을 수 있습니다.\n"
     ]
    }
   ],
   "source": [
    "chain = prompt_template | model\n",
    "response = chain.invoke({\"number\" : 3})\n",
    "\n",
    "print(response.content)"
   ]
  },
  {
   "cell_type": "markdown",
   "id": "037a3987",
   "metadata": {},
   "source": [
    "### 2. 프롬프트 템플릿 저장 및 로드(optional)"
   ]
  },
  {
   "cell_type": "code",
   "execution_count": 41,
   "id": "5ef9107a",
   "metadata": {},
   "outputs": [],
   "source": [
    "template = '현재 시간은 {today} 입니다. 이 시간대에 사람들이 가장 많이 하는 활동을 {number}가지 알려주세요'\n",
    "\n",
    "prompt_template = PromptTemplate(\n",
    "    template=template\n",
    ")"
   ]
  },
  {
   "cell_type": "code",
   "execution_count": 42,
   "id": "728e8b99",
   "metadata": {},
   "outputs": [],
   "source": [
    "prompt_template.save('best_template.yaml')"
   ]
  },
  {
   "cell_type": "code",
   "execution_count": 43,
   "id": "2ffcb54d",
   "metadata": {},
   "outputs": [],
   "source": [
    "import yaml\n",
    "\n",
    "with open('best_template.yaml', 'r', encoding='utf-8') as file:\n",
    "    config = yaml.safe_load(file)"
   ]
  },
  {
   "cell_type": "code",
   "execution_count": 44,
   "id": "73263ded",
   "metadata": {},
   "outputs": [
    {
     "data": {
      "text/plain": [
       "{'_type': 'prompt',\n",
       " 'input_variables': ['number', 'today'],\n",
       " 'metadata': None,\n",
       " 'name': None,\n",
       " 'optional_variables': [],\n",
       " 'output_parser': None,\n",
       " 'partial_variables': {},\n",
       " 'tags': None,\n",
       " 'template': '현재 시간은 {today} 입니다. 이 시간대에 사람들이 가장 많이 하는 활동을 {number}가지 알려주세요',\n",
       " 'template_format': 'f-string',\n",
       " 'validate_template': False}"
      ]
     },
     "execution_count": 44,
     "metadata": {},
     "output_type": "execute_result"
    }
   ],
   "source": [
    "config"
   ]
  },
  {
   "cell_type": "code",
   "execution_count": 45,
   "id": "6fc7ce2c",
   "metadata": {},
   "outputs": [
    {
     "data": {
      "text/plain": [
       "PromptTemplate(input_variables=['number', 'today'], input_types={}, partial_variables={}, template='현재 시간은 {today} 입니다. 이 시간대에 사람들이 가장 많이 하는 활동을 {number}가지 알려주세요')"
      ]
     },
     "execution_count": 45,
     "metadata": {},
     "output_type": "execute_result"
    }
   ],
   "source": [
    "# 로드한 template 적용하여 chain 만들기\n",
    "\n",
    "from langchain_core.prompts import loading\n",
    "\n",
    "load_prompt = loading.load_prompt_from_config(config)\n",
    "load_prompt"
   ]
  }
 ],
 "metadata": {
  "kernelspec": {
   "display_name": "langchain-basic",
   "language": "python",
   "name": "python3"
  },
  "language_info": {
   "codemirror_mode": {
    "name": "ipython",
    "version": 3
   },
   "file_extension": ".py",
   "mimetype": "text/x-python",
   "name": "python",
   "nbconvert_exporter": "python",
   "pygments_lexer": "ipython3",
   "version": "3.11.13"
  }
 },
 "nbformat": 4,
 "nbformat_minor": 5
}
