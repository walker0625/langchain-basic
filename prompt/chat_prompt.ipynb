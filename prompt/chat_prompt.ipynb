{
 "cells": [
  {
   "cell_type": "markdown",
   "id": "6adac466",
   "metadata": {},
   "source": [
    "### ChatPromptTemplate\n",
    "\n",
    "- 대화 목록 스타일로 프롬프트를 사용\n",
    "- 튜플 형태(role, message)\n",
    "- role \n",
    "    - system\n",
    "    - human, user\n",
    "    - ai, assistant\n"
   ]
  },
  {
   "cell_type": "code",
   "execution_count": 4,
   "id": "17427172",
   "metadata": {},
   "outputs": [
    {
     "data": {
      "text/plain": [
       "'LANGCHAIN-BASIC'"
      ]
     },
     "execution_count": 4,
     "metadata": {},
     "output_type": "execute_result"
    }
   ],
   "source": [
    "from dotenv import load_dotenv\n",
    "load_dotenv()\n",
    "\n",
    "import os\n",
    "\n",
    "os.environ[\"LANGSMITH_PROJECT\"]"
   ]
  },
  {
   "cell_type": "code",
   "execution_count": 5,
   "id": "4cf7b108",
   "metadata": {},
   "outputs": [],
   "source": [
    "from langchain_openai import ChatOpenAI\n",
    "\n",
    "model = ChatOpenAI(\n",
    "    temperature=0.1,\n",
    "    model='gpt-4.1-mini',\n",
    "    verbose=True\n",
    ")"
   ]
  },
  {
   "cell_type": "code",
   "execution_count": null,
   "id": "54dcbb26",
   "metadata": {},
   "outputs": [
    {
     "name": "stdout",
     "output_type": "stream",
     "text": [
      "물론이지! 자바(Java)는 컴퓨터한테 \"이렇게 해줘!\"라고 말하는 특별한 언어야. 우리가 사람들끼리 영어, 한국어, 일본어처럼 서로 이야기하듯이, 컴퓨터랑 이야기할 때는 자바 같은 프로그래밍 언어를 써서 명령을 알려주는 거야.\n",
      "\n",
      "예를 들어, 자바로 게임을 만들거나, 스마트폰 앱을 만들거나, 로봇을 움직이게 할 수도 있어. 그래서 자바는 컴퓨터가 우리가 원하는 일을 하도록 도와주는 마법 같은 언어라고 생각하면 돼!\n"
     ]
    }
   ],
   "source": [
    "from langchain_core.prompts import ChatPromptTemplate\n",
    "\n",
    "basic_template = ChatPromptTemplate.from_template(\n",
    "    '{term}이 무엇인지 초등학생도 알 수 있게 설명해줘' # user\n",
    ")\n",
    "\n",
    "chain = basic_template | model\n",
    "\n",
    "response = chain.invoke({'term': 'ai'})\n",
    "print(response.content)"
   ]
  },
  {
   "cell_type": "code",
   "execution_count": null,
   "id": "ed2e899e",
   "metadata": {},
   "outputs": [
    {
     "data": {
      "text/plain": [
       "ChatPromptTemplate(input_variables=['job', 'object', 'question', 'target'], input_types={}, partial_variables={}, messages=[SystemMessagePromptTemplate(prompt=PromptTemplate(input_variables=['job', 'object', 'target'], input_types={}, partial_variables={}, template='당신은 {target}에게 {object}를 많이 설명해온 경력이 풍부한 {job}야'), additional_kwargs={}), HumanMessagePromptTemplate(prompt=PromptTemplate(input_variables=[], input_types={}, partial_variables={}, template='안녕하세요.'), additional_kwargs={}), AIMessagePromptTemplate(prompt=PromptTemplate(input_variables=[], input_types={}, partial_variables={}, template='안녕하세요. 무엇을 도와드릴까요?'), additional_kwargs={}), HumanMessagePromptTemplate(prompt=PromptTemplate(input_variables=['question'], input_types={}, partial_variables={}, template='{question}에 대해 너의 스타일대로 답변해줘'), additional_kwargs={})])"
      ]
     },
     "execution_count": 14,
     "metadata": {},
     "output_type": "execute_result"
    }
   ],
   "source": [
    "chat_prompt = ChatPromptTemplate.from_messages([ # list 형태\n",
    "    ('system', '당신은 {target}에게 {object}를 많이 설명해온 경력이 풍부한 {job}야'), # 시스템 프롬프트가 중요 / + 페르소나\n",
    "    ('human', '안녕하세요.'),\n",
    "    ('ai', '안녕하세요. 무엇을 도와드릴까요?'),\n",
    "    ('human', '{question}에 대해 너의 스타일대로 답변해줘'),\n",
    "])\n",
    "\n",
    "chat_prompt"
   ]
  },
  {
   "cell_type": "code",
   "execution_count": 15,
   "id": "439c4632",
   "metadata": {},
   "outputs": [
    {
     "data": {
      "text/plain": [
       "ChatPromptTemplate(input_variables=['job', 'object', 'question', 'target'], input_types={}, partial_variables={}, messages=[SystemMessagePromptTemplate(prompt=PromptTemplate(input_variables=['job', 'object', 'target'], input_types={}, partial_variables={}, template='당신은 {target}에게 {object}를 많이 설명해온 경력이 풍부한 {job}야'), additional_kwargs={}), HumanMessagePromptTemplate(prompt=PromptTemplate(input_variables=[], input_types={}, partial_variables={}, template='안녕하세요.'), additional_kwargs={}), AIMessagePromptTemplate(prompt=PromptTemplate(input_variables=[], input_types={}, partial_variables={}, template='안녕하세요. 무엇을 도와드릴까요?'), additional_kwargs={}), HumanMessagePromptTemplate(prompt=PromptTemplate(input_variables=['question'], input_types={}, partial_variables={}, template='{question}에 대해 너의 스타일대로 답변해줘'), additional_kwargs={})])\n",
       "| ChatOpenAI(client=<openai.resources.chat.completions.completions.Completions object at 0x000002D5AE9F9D90>, async_client=<openai.resources.chat.completions.completions.AsyncCompletions object at 0x000002D5AE9FA410>, root_client=<openai.OpenAI object at 0x000002D5AE9AFA10>, root_async_client=<openai.AsyncOpenAI object at 0x000002D5AE9FA090>, model_name='gpt-4.1-mini', temperature=0.1, model_kwargs={}, openai_api_key=SecretStr('**********'))"
      ]
     },
     "execution_count": 15,
     "metadata": {},
     "output_type": "execute_result"
    }
   ],
   "source": [
    "chain = chat_prompt | model\n",
    "chain"
   ]
  },
  {
   "cell_type": "code",
   "execution_count": 18,
   "id": "859fb379",
   "metadata": {},
   "outputs": [
    {
     "name": "stdout",
     "output_type": "stream",
     "text": [
      "네, 경복궁에 대해 설명드릴게요!\n",
      "\n",
      "경복궁은 서울 한복판에 위치한 조선 시대의 대표적인 궁궐로, 1395년에 조선의 태조 이성계가 건립했어요. ‘경복’이라는 이름은 ‘큰 복을 누린다’는 뜻을 담고 있죠. 경복궁은 조선 왕조의 법궁(정궁)으로서 정치, 문화, 행정의 중심지였답니다.\n",
      "\n",
      "궁궐은 광화문을 비롯해 근정전, 경회루, 수정전 등 여러 중요한 건물로 이루어져 있어요. 특히 경회루는 연못 위에 세워진 누각으로, 왕이 연회를 열거나 외국 사신을 접대할 때 사용되었죠. 근정전은 왕이 공식적으로 정사를 보던 곳으로, 웅장하고 아름다운 전각입니다.\n",
      "\n",
      "경복궁은 일제강점기 때 많은 부분이 훼손되었지만, 현재는 복원 작업이 활발히 진행되어 옛 조선의 궁궐 모습을 느낄 수 있어요. 매일 오전 10시와 오후 2시에 수문장 교대식도 볼 수 있는데, 전통 의상을 입은 수문장들이 펼치는 의식이 매우 인상적입니다.\n",
      "\n",
      "한국의 역사와 문화를 깊이 체험하고 싶다면 경복궁 방문을 강력히 추천드려요! 궁궐 주변에는 국립민속박물관과 청와대도 가까워서 함께 둘러보시면 더욱 풍성한 여행이 될 거예요.\n"
     ]
    }
   ],
   "source": [
    "response = chain.invoke({\n",
    "    'job' : '관광 가이드', \n",
    "    'object' : '한국 문화', \n",
    "    'question' : '경복궁', \n",
    "    'target' : '외국인'\n",
    "})\n",
    "\n",
    "print(response.content)"
   ]
  }
 ],
 "metadata": {
  "kernelspec": {
   "display_name": "langchain-basic",
   "language": "python",
   "name": "python3"
  },
  "language_info": {
   "codemirror_mode": {
    "name": "ipython",
    "version": 3
   },
   "file_extension": ".py",
   "mimetype": "text/x-python",
   "name": "python",
   "nbconvert_exporter": "python",
   "pygments_lexer": "ipython3",
   "version": "3.11.13"
  }
 },
 "nbformat": 4,
 "nbformat_minor": 5
}
