{
 "cells": [
  {
   "cell_type": "markdown",
   "id": "ea9a1e3f",
   "metadata": {},
   "source": [
    "# FewShotPrompt"
   ]
  },
  {
   "cell_type": "code",
   "execution_count": 1,
   "id": "20e94220",
   "metadata": {},
   "outputs": [
    {
     "data": {
      "text/plain": [
       "'LANGCHAIN-BASIC'"
      ]
     },
     "execution_count": 1,
     "metadata": {},
     "output_type": "execute_result"
    }
   ],
   "source": [
    "from dotenv import load_dotenv\n",
    "load_dotenv()\n",
    "\n",
    "import os\n",
    "\n",
    "os.environ[\"LANGSMITH_PROJECT\"]"
   ]
  },
  {
   "cell_type": "code",
   "execution_count": 2,
   "id": "52238f38",
   "metadata": {},
   "outputs": [],
   "source": [
    "from langchain_openai import ChatOpenAI\n",
    "\n",
    "model = ChatOpenAI(\n",
    "    temperature=0.1,\n",
    "    model='gpt-4.1-mini',\n",
    "    verbose=True\n",
    ")"
   ]
  },
  {
   "cell_type": "code",
   "execution_count": 3,
   "id": "b276435d",
   "metadata": {},
   "outputs": [],
   "source": [
    "from langchain_core.prompts.few_shot import FewShotPromptTemplate\n",
    "from langchain_core.prompts.prompt import PromptTemplate\n",
    "\n",
    "examples = [\n",
    "    {'question' : '안녕하세요', # 표준어\n",
    "        'answer' : '안녕하나'}, # 경상도 사투리\n",
    "    {'question' : '맛있게 먹어',\n",
    "        'answer' : '마이 무라'},\n",
    "    {'question' : '뭐하니',\n",
    "        'answer' : '뭐하노'},\n",
    "    {'question' : '뭐라고',\n",
    "        'answer' : '뭐라카노'},\n",
    "    {'question' : '밥 먹었어?',\n",
    "        'answer' : '밥 뭇나?'},\n",
    "]"
   ]
  },
  {
   "cell_type": "code",
   "execution_count": 4,
   "id": "98c68900",
   "metadata": {},
   "outputs": [
    {
     "data": {
      "text/plain": [
       "PromptTemplate(input_variables=['answer', 'question'], input_types={}, partial_variables={}, template='\\n[질문 내용]    \\n{question} 을/를 경상도 사투리로 어떻게 말하나요?\\n\\n[경상도 사투리]\\n{answer}\\n')"
      ]
     },
     "execution_count": 4,
     "metadata": {},
     "output_type": "execute_result"
    }
   ],
   "source": [
    "example_prompt = PromptTemplate.from_template(\n",
    "\"\"\"\n",
    "[질문 내용]    \n",
    "{question} 을/를 경상도 사투리로 어떻게 말하나요?\n",
    "\n",
    "[경상도 사투리]\n",
    "{answer}\n",
    "\"\"\"\n",
    ")\n",
    "\n",
    "example_prompt"
   ]
  },
  {
   "cell_type": "code",
   "execution_count": 5,
   "id": "51edc323",
   "metadata": {},
   "outputs": [],
   "source": [
    "# prefix + (example_prompt(format) * examples(data)) + suffix(필수요소 - 적어도 \"\"으로 처리 필요)\n",
    "prompt_template = FewShotPromptTemplate(\n",
    "    examples = examples, # 학습용 예시 data\n",
    "    example_prompt = example_prompt, # examples를 어떤 식으로 변경할지 알려주는 format\n",
    "    prefix = \"\"\"다음은 표준어 문장을 경상도 사투리로 바꾼 예시입니다. 반드시 같은 형식을 따라 답하세요.\\n\\n\"\"\", # 응답에 대한 가이드\n",
    "    suffix= # 실제 질문이 들어갈 프롬프트\n",
    "    \"\"\"질문 내용 : {question}\\n 사투리 :\"\"\",\n",
    "    input_variables=[\"question\"]\n",
    ")"
   ]
  },
  {
   "cell_type": "code",
   "execution_count": 6,
   "id": "7de452d6",
   "metadata": {},
   "outputs": [
    {
     "name": "stdout",
     "output_type": "stream",
     "text": [
      "다음은 표준어 문장을 경상도 사투리로 바꾼 예시입니다. 반드시 같은 형식을 따라 답하세요.\n",
      "\n",
      "\n",
      "\n",
      "\n",
      "[질문 내용]    \n",
      "안녕하세요 을/를 경상도 사투리로 어떻게 말하나요?\n",
      "\n",
      "[경상도 사투리]\n",
      "안녕하나\n",
      "\n",
      "\n",
      "\n",
      "[질문 내용]    \n",
      "맛있게 먹어 을/를 경상도 사투리로 어떻게 말하나요?\n",
      "\n",
      "[경상도 사투리]\n",
      "마이 무라\n",
      "\n",
      "\n",
      "\n",
      "[질문 내용]    \n",
      "뭐하니 을/를 경상도 사투리로 어떻게 말하나요?\n",
      "\n",
      "[경상도 사투리]\n",
      "뭐하노\n",
      "\n",
      "\n",
      "\n",
      "[질문 내용]    \n",
      "뭐라고 을/를 경상도 사투리로 어떻게 말하나요?\n",
      "\n",
      "[경상도 사투리]\n",
      "뭐라카노\n",
      "\n",
      "\n",
      "\n",
      "[질문 내용]    \n",
      "밥 먹었어? 을/를 경상도 사투리로 어떻게 말하나요?\n",
      "\n",
      "[경상도 사투리]\n",
      "밥 뭇나?\n",
      "\n",
      "\n",
      "질문 내용 : 안녕하세요 지금 뭐하고 있어요?\n",
      " 사투리 :\n"
     ]
    }
   ],
   "source": [
    "question = \"안녕하세요 지금 뭐하고 있어요?\"\n",
    "q_prompt = prompt_template.format(question=question)\n",
    "print(q_prompt)"
   ]
  },
  {
   "cell_type": "code",
   "execution_count": 7,
   "id": "917de451",
   "metadata": {},
   "outputs": [
    {
     "name": "stdout",
     "output_type": "stream",
     "text": [
      "[경상도 사투리]  \n",
      "안녕하나 지금 뭐하노?\n"
     ]
    }
   ],
   "source": [
    "question = '안녕하세요 지금 뭐하고 있어요?'\n",
    "\n",
    "chain = prompt_template | model\n",
    "\n",
    "response = chain.invoke({'question' : question})\n",
    "print(response.content)"
   ]
  }
 ],
 "metadata": {
  "kernelspec": {
   "display_name": "langchain-basic",
   "language": "python",
   "name": "python3"
  },
  "language_info": {
   "codemirror_mode": {
    "name": "ipython",
    "version": 3
   },
   "file_extension": ".py",
   "mimetype": "text/x-python",
   "name": "python",
   "nbconvert_exporter": "python",
   "pygments_lexer": "ipython3",
   "version": "3.11.13"
  }
 },
 "nbformat": 4,
 "nbformat_minor": 5
}
