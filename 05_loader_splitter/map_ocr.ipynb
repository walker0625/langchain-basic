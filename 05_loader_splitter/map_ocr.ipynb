{
 "cells": [
  {
   "cell_type": "markdown",
   "id": "820df4fa",
   "metadata": {},
   "source": [
    "# 지도 이미지에서 Text 추출"
   ]
  },
  {
   "cell_type": "code",
   "execution_count": 3,
   "id": "979b5641",
   "metadata": {},
   "outputs": [],
   "source": [
    "from langchain_community.document_loaders import PDFPlumberLoader\n",
    "from langchain_core.documents import Document"
   ]
  },
  {
   "cell_type": "code",
   "execution_count": 5,
   "id": "6b3a5a7b",
   "metadata": {},
   "outputs": [
    {
     "name": "stdout",
     "output_type": "stream",
     "text": [
      "[Document(metadata={'source': '../data/olympic.pdf', 'file_path': '../data/olympic.pdf', 'page': 0, 'total_pages': 1, 'CreationDate': \"D:20250731103136+09'00'\", 'Creator': 'Adobe Illustrator CS6 (Windows)', 'ModDate': \"D:20250731103228+09'00'\", 'Producer': 'Adobe PDF library 16.03', 'Title': '올림픽공원_종합안내도'}, page_content='\\n')]\n",
      "\n",
      "\n"
     ]
    }
   ],
   "source": [
    "# 1. pdf 로드\n",
    "\n",
    "map_path = '../data/olympic.pdf'\n",
    "\n",
    "loader = PDFPlumberLoader(map_path)\n",
    "docs = loader.load()\n",
    "print(docs)\n",
    "print(docs[0].page_content)"
   ]
  },
  {
   "cell_type": "code",
   "execution_count": 6,
   "id": "3fce6882",
   "metadata": {},
   "outputs": [],
   "source": [
    "import fitz\n",
    "import numpy as np\n",
    "from PIL import Image\n",
    "import easyocr\n",
    "from langchain.docstore.document import Document"
   ]
  },
  {
   "cell_type": "code",
   "execution_count": 7,
   "id": "a56fd5f4",
   "metadata": {},
   "outputs": [],
   "source": [
    "def load_pdf_with_easyocr(\n",
    "    pdf_path: str,\n",
    "    languages=(\"ko\",\"en\"),   # 한국어+영어\n",
    "    gpu=True,                # GPU 사용\n",
    "    dpi=300,                 # OCR 품질용 렌더 DPI\n",
    "    page_from=None,          # 1부터 시작, None=첫 페이지\n",
    "    page_to=None             # 포함, None=마지막 페이지\n",
    "):\n",
    "    reader = easyocr.Reader(list(languages), gpu=gpu)\n",
    "    docs = []\n",
    "\n",
    "    with fitz.open(pdf_path) as pdf:\n",
    "        total = len(pdf)\n",
    "        start = 1 if page_from is None else max(1, page_from)\n",
    "        end   = total if page_to is None else min(total, page_to)\n",
    "\n",
    "        for p in range(start-1, end):\n",
    "            page = pdf[p]\n",
    "            zoom = dpi / 72.0\n",
    "            mat = fitz.Matrix(zoom, zoom)\n",
    "            pix = page.get_pixmap(matrix=mat, alpha=False)\n",
    "            img = Image.frombytes(\"RGB\", (pix.width, pix.height), pix.samples)\n",
    "\n",
    "            arr = np.array(img)\n",
    "            result = reader.readtext(arr, detail=0, paragraph=True)\n",
    "            text = \"\\n\".join(result) if result else \"\"\n",
    "\n",
    "            docs.append(Document(\n",
    "                page_content=text,\n",
    "                metadata={\"source\": pdf_path, \"page\": p+1, \"dpi\": dpi, \"ocr_engine\": \"EasyOCR\"}\n",
    "            ))\n",
    "\n",
    "    return docs"
   ]
  },
  {
   "cell_type": "code",
   "execution_count": 8,
   "id": "6d11cfc9",
   "metadata": {},
   "outputs": [
    {
     "data": {
      "text/plain": [
       "[Document(metadata={'source': '../data/olympic.pdf', 'page': 1, 'dpi': 300, 'ocr_engine': 'EasyOCR'}, page_content='SFDILID8 8\\n올림픽공원 종합안내 Olympic Park Information\\nKSPos\\nOYMPIC PARK\\n4과거와 현재가 공존하는 심과 사색의 공간 올림픽공원\" 1988년 서울올림픽올 성공적으로 치른 긋이다 한성백제시대 중요한 성각 가운데 하나인 \\'동존토성 (사적 제297호)올 중심으로 서울올림픽이 열핏던 사이클 역도 편상 수영 체조 테니스 등 6개의 경기장과 소마(SOMA) 미술관, 한성백제박물관, 올림픽파크텔 등 역사와 문화, 예술과 스포츠가 함께 공존하는 유서 깊은 공간이다. 1982년 경기도; 강원도 충청도 등 전국 각지의 수목 94종 3,892주름 기증받아 아름다운 우리의 자연올 담고 있는 올림픽공원은 \\'대한민국 수목 박물관\\' 으로도 손색이 없는 긋이다 또한 서울올림픽 \\'세계현대 미술제 틀 통해 세계 유명 조각가들의 수준 높은 조형작품올 유치하여고 현재 유명 조각품 222점이 상시 전시되어 세계적인 조각공원으로 불리고 있다. 서울올림픽기념국민체육진홍공단은 서울올림픽의 훌륭한 유산이자 대한민국 공원의 자부심인 올림픽공원올 소중히 보존 하는 한편 시민들의 사색의 공간이자 심과 여유의 공간이 되도록 가꾸어 나가고 있다.\\n올림픽대교 Olympic Bridge 용 내 어 통 *J\\n북]문 NORTH GATEI\\n북?문 NORTH GATE2\\n뻔콩 \\n편의시설\\n안내센터\\n공원 매점\\n주차장\\n편의점\\n처진개벗나무\\n화장실\\n카페\\n어린이놀이터\\n패스트푸드점\\n피크나장\\n포켓심터\\n음식점\\n올림픽존 olympic zone 서울올림픽파크텔 Seoul OlympicParkte 습] 넷치[로스되`움 \"기IIUJL7I:-거쥐\\n의사이팅존 Exciting zone 올림픽수영경기장 OlympicIndoorSwimmingpool 빗치[ #가흙없- | 71))y7K }#히다 KSPO DOME 올림픽체조경기장 KSPO DOME 모+[로 서 쫓.|*t3 | 71JJ느\"시j못3움|#t류 한얼광장 Han-Eul Square HAN-EULr 1J | 시)tJL IGt륙\\n자연생태존 Picnic zone 동존해자 Mong Chon Moat 철시보7 | 기처여7 곰말다리 Gom-ma Bridge #3tf 그4?)L롬 동존정 팔각정 Mongchon Pavilion 초t흙 | 흙시름\\n지압로\\n기념품점\\n은행나무 보호스\\n호돌이열차 매표소\\n음수대\\n올림픽수영경기장\\n88호수\\n자전거 매표소\\n은행\\n국민체육진용공단 대한체육회 KSPOrKoreaSpothomcicnFoundaicnl [료-손방죄랑 [ \"JILIIJJLy)\\nKSPO DOME (올림픽체조경기장)\\n수변무대B Lakeside Stage ##우##숨B Ki#숨B 수변무대A Lakeside Stage #똑#솜B 가Kin#옥A\\n한얼교 Han-Eul Bridge HAN_EUL+주 시\\'다L롬\\n구중교 Gu-Joong Bridge 1et 7 )그 J\\n국기광장 National Flags Plaza [`- -t [어로0다t류\\n티켓굉크라이브이리나-핸드물경기장 ticketLINKLveArena 똑숨tt}옮+n 3t하17 |3가 \\'JJJSJ J ) 우리금움아트올 올림픽역도경기장 Woori Art Hall | #제숲 #손kF \\')숲n7 별로드롬 올림픽사이클경기장 Velodrome 로밥; 후표-13 사미디-L\\n성내천 Sunana Stream tilll \"*I\\n올림픽공원역 3번출\\n품 마] 내문\\n88서물올림픽 (조각)\\n평화의 광장 Peace Plaza \\'쥐꾸 #t특 주i014t류\\n나홀로나무 One Tree Hill #대* \\'시국_50*\\n임지손가락\\n88마당\\n올림픽스포츠콤플렉스 홍보관 OlympicSporsComplexPtomotionHall | 대어-] 출다 _바F 게가거-\"J7L JtQ\\n피크녁장 Picnic Area 푹준t kh=\"유\\n서울올림픽파크텔\\n소나무 (정이품승 장자목)\\nO항m 티켓굉크 라이브 아레나 (핸드결경기장)\\n기\\n$ 매움 올림픽테니스경기장\\n국민체력100 대표체력인증센터 National Fitness Award Cente \\'E로지다 I00; iP다 | E문 tJjIOOi-lt) )\\n스포츠비즈홀 Sport Biz Hall | {*습조름 ## 저-\"논질- 지심터도서관 Literature Librarv #튜 [롭U금 | X저l늄#\\n무지개다리 Moo-Ji-Gae Bridqe m모It 모Ot\\n세계평화의문 World peace Gate | #되m주z] #무 주주n0 RE\\n동촌역사관 Monachon Museum of History 청tJF모if | 훌시표Q-\\n18 야생화학습장\\n연리목\\n한국스포츠과학원  올림픽문화센터 Korea Instituteof Sport Sciencel 위주-슬-쪽회초F7| #미+슬o주버국다\\n청홍교 Chuna-Yona Bridqe 표tt 출룻$\\n동# 움\\n국민체육진용공단 . 대한체육회 (올림픽회관)\\n월킬국용안f록)\\n문화역사존 Culture zone 선린동산 Seonlin Garden 쓸내 lL UJ JOE 음악분수 Music fountain 쓸5 필측숫 품 못 \\nK-아트홀 태권도공연장 KAtHall TakwondoSuadium K한차하요속-발륭 t | K7-Hi-주그가-#랍#다 올림픽올 유조라이브 OlympicHall, Muselive 뱃Ni MuseLive tUJthi; =1-저) 실내테니스장 Indoor Tennis Center 로r터t3 로n주_지류\\n까치다리 Kka-Chi Bridge 꼼#t | 74+-o1  오른정 팔각정 Olympic | Ring Pavilion 표b흙 도우습#30 물+0+ 표보FF 서울역사편찬원 SeoulCiyCumtertEiertRblishingCommitee 습]  ;름터 조류숲 | \\'기V tll# 특치름숲 88호수 88 Lake 88-37 88 뼈\\n동존토성 산책로\\n37 동존해자 음악분수\\n올림픽올 (유즈라이브) 실내테니스장\\n서울의 만남(조각)\\n스포츠비즈홀 P PIB\\n동표 흙\\n귀롭나무\\n별로드롬 (올림픽사이클경기장)\\n동존쪽포 Mona Chon Waterfall 초t n# 혹시 국#\\n올림픽테니스경기장 Olympic Tennis Court 못c로미다3*t3 t1JLyh주_제 #류\\n느티나무 보호수\\n대li\\nP1A\\n한국스포츠과학원 림픽문화센터)\\n물레방아 Waterwheell *K- 후 소마미술관 SOMA Museum ofArt SOMAP기 J?*TjfB\\n백호다리 Baek-ho Bridae t 타tot음\\n88호수수변무대 88 Lake Stage | 88 #빠#습 88 뼈ki꽃습\\n9경 장미광장\\n세계평화의출\\n하늘기둥(조각)\\n3대3 농구장 3on3BasketballCourt =저=i표:]t3 3, #I지\"+-류\\n백제집자리전시관 -움집터전시관 Duaout Hut Exhibition Center 옮t료-e 고#더표가e\\nSorro 2관입구\\n조각공원 Sculpture park [#켓소무 마켓소무\\n성백제역 2번출구\\n둘꽃피록\\n10\\n국민체력센터 National Fitness Center 퇴료스-4 L 퇴류l-t)7\\n88마당 88 Lawn Field 88터 88111류\\n조각공원\\n한성백제박물관\\n내0 용 곳통\\n지구촌공원 Global Village Park |  조-소표 #터+ 쇠죄 한성백제박물관 Hansung Museum \\'못#급[##가i \\'못#요 t##]A금 원두막 Center Supply Room #때#교로 4*/# 솜로 들꽃마루 Flower Garden #t묘 171E07u7\\n당 r\\n소마미술관\\n만남의 광장 Meeting Plaza 1 #더nr-1] R숲내015t류\\n야생화학습장 Wild Flower Garden 또소표 똑소07E0 미배 가족늘이동산 Family Playground Area 커돈 h55t 흙f*O#iUoE\\n동존토성역 평화의문 1번출구\\n남4문 SOUTH GATE4\\n남3문 SOUTH GATE3\\n남오문 SOUTH GATE2\\n남1문 SOUTH GATEI\\n그래피티의 벽 Graffiti Wall | [거-t*한--품 737+주+01\\n올림픽공원 안내센터 Information Cente\\n올림픽공원 어풀\\n평화 의광장\\n(02)2180-3564 (02)2180-3565 만남 의광장 안 내 방 송 (02)2180-3568\\n올림픽공원은\\n\\' @ [O Smoking 공원입니다.\\n장미광장 Rose Plaza | FL터 1150161류\\n안드로이드곧용\\n아이혼용\\n공원홍보영상\\n나홀로나루')]"
      ]
     },
     "execution_count": 8,
     "metadata": {},
     "output_type": "execute_result"
    }
   ],
   "source": [
    "docs = load_pdf_with_easyocr(map_path, languages=(\"ko\",\"en\"), gpu=True, dpi=300)\n",
    "docs"
   ]
  },
  {
   "cell_type": "code",
   "execution_count": 11,
   "id": "898c9731",
   "metadata": {},
   "outputs": [
    {
     "name": "stdout",
     "output_type": "stream",
     "text": [
      "SFDILID8 8\n",
      "올림픽공원 종합안내 Olympic Park Information\n",
      "KSPos\n",
      "OYMPIC PARK\n",
      "4과거와 현재가 공존하는 심과 사색의 공간 올림픽공원\" 1988년 서울올림픽올 성공적으로 치른 긋이다 한성백제시대 중요한 성각 가운데 하나인 '동존토성 (사적 제297호)올 중심으로 서울올림픽이 열핏던 사이클 역도 편상 수영 체조 테니스 등 6개의 경기장과 소마(SOMA) 미술관, 한성백제박물관, 올림픽파크텔 등 역사와 문화, 예술과 스포츠가 함께 공존하는 유서 깊은 공간이다. 1982년 경기도; 강원도 충청도 등 전국 각지의 수목 94종 3,892주름 기증받아 아름다운 우리의 자연올 담고 있는 올림픽공원은 '대한민국 수목 박물관' 으로도 손색이 없는 긋이다 또한 서울올림픽 '세계현대 미술제 틀 통해 세계 유명 조각가들의 수준 높은 조형작품올 유치하여고 현재 유명 조각품 222점이 상시 전시되어 세계적인 조각공원으로 불리고 있다. 서울올림픽기념국민체육진홍공단은 서울올림픽의 훌륭한 유산이자 대한민국 공원의 자부심인 올림픽공원올 소중히 보존 하는 한편 시민들의 사색의 공간이자 심과 여유의 공간이 되도록 가꾸어 나가고 있다.\n",
      "올림픽대교 Olympic Bridge 용 내 어 통 *J\n",
      "북]문 NORTH GATEI\n",
      "북?문 NORTH GATE2\n",
      "뻔콩 \n",
      "편의시설\n",
      "안내센터\n",
      "공원 매점\n",
      "주차장\n",
      "편의점\n",
      "처진개벗나무\n",
      "화장실\n",
      "카페\n",
      "어린이놀이터\n",
      "패스트푸드점\n",
      "피크나장\n",
      "포켓심터\n",
      "음식점\n",
      "올림픽존 olympic zone 서울올림픽파크텔 Seoul OlympicParkte 습] 넷치[로스되`움 \"기IIUJL7I:-거쥐\n",
      "의사이팅존 Exciting zone 올림픽수영경기장 OlympicIndoorSwimmingpool 빗치[ #가흙없- | 71))y7K }#히다 KSPO DOME 올림픽체조경기장 KSPO DOME 모+[로 서 쫓.|*t3 | 71JJ느\"시j못3움|#t류 한얼광장 Han-Eul Square HAN-EULr 1J | 시)tJL IGt륙\n",
      "자연생태존 Picnic zone 동존해자 Mong Chon Moat 철시보7 | 기처여7 곰말다리 Gom-ma Bridge #3tf 그4?)L롬 동존정 팔각정 Mongchon Pavilion 초t흙 | 흙시름\n",
      "지압로\n",
      "기념품점\n",
      "은행나무 보호스\n",
      "호돌이열차 매표소\n",
      "음수대\n",
      "올림픽수영경기장\n",
      "88호수\n",
      "자전거 매표소\n",
      "은행\n",
      "국민체육진용공단 대한체육회 KSPOrKoreaSpothomcicnFoundaicnl [료-손방죄랑 [ \"JILIIJJLy)\n",
      "KSPO DOME (올림픽체조경기장)\n",
      "수변무대B Lakeside Stage ##우##숨B Ki#숨B 수변무대A Lakeside Stage #똑#솜B 가Kin#옥A\n",
      "한얼교 Han-Eul Bridge HAN_EUL+주 시'다L롬\n",
      "구중교 Gu-Joong Bridge 1et 7 )그 J\n",
      "국기광장 National Flags Plaza [`- -t [어로0다t류\n",
      "티켓굉크라이브이리나-핸드물경기장 ticketLINKLveArena 똑숨tt}옮+n 3t하17 |3가 'JJJSJ J ) 우리금움아트올 올림픽역도경기장 Woori Art Hall | #제숲 #손kF ')숲n7 별로드롬 올림픽사이클경기장 Velodrome 로밥; 후표-13 사미디-L\n",
      "성내천 Sunana Stream tilll \"*I\n",
      "올림픽공원역 3번출\n",
      "품 마] 내문\n",
      "88서물올림픽 (조각)\n",
      "평화의 광장 Peace Plaza '쥐꾸 #t특 주i014t류\n",
      "나홀로나무 One Tree Hill #대* '시국_50*\n",
      "임지손가락\n",
      "88마당\n",
      "올림픽스포츠콤플렉스 홍보관 OlympicSporsComplexPtomotionHall | 대어-] 출다 _바F 게가거-\"J7L JtQ\n",
      "피크녁장 Picnic Area 푹준t kh=\"유\n",
      "서울올림픽파크텔\n",
      "소나무 (정이품승 장자목)\n",
      "O항m 티켓굉크 라이브 아레나 (핸드결경기장)\n",
      "기\n",
      "$ 매움 올림픽테니스경기장\n",
      "국민체력100 대표체력인증센터 National Fitness Award Cente 'E로지다 I00; iP다 | E문 tJjIOOi-lt) )\n",
      "스포츠비즈홀 Sport Biz Hall | {*습조름 ## 저-\"논질- 지심터도서관 Literature Librarv #튜 [롭U금 | X저l늄#\n",
      "무지개다리 Moo-Ji-Gae Bridqe m모It 모Ot\n",
      "세계평화의문 World peace Gate | #되m주z] #무 주주n0 RE\n",
      "동촌역사관 Monachon Museum of History 청tJF모if | 훌시표Q-\n",
      "18 야생화학습장\n",
      "연리목\n",
      "한국스포츠과학원  올림픽문화센터 Korea Instituteof Sport Sciencel 위주-슬-쪽회초F7| #미+슬o주버국다\n",
      "청홍교 Chuna-Yona Bridqe 표tt 출룻$\n",
      "동# 움\n",
      "국민체육진용공단 . 대한체육회 (올림픽회관)\n",
      "월킬국용안f록)\n",
      "문화역사존 Culture zone 선린동산 Seonlin Garden 쓸내 lL UJ JOE 음악분수 Music fountain 쓸5 필측숫 품 못 \n",
      "K-아트홀 태권도공연장 KAtHall TakwondoSuadium K한차하요속-발륭 t | K7-Hi-주그가-#랍#다 올림픽올 유조라이브 OlympicHall, Muselive 뱃Ni MuseLive tUJthi; =1-저) 실내테니스장 Indoor Tennis Center 로r터t3 로n주_지류\n",
      "까치다리 Kka-Chi Bridge 꼼#t | 74+-o1  오른정 팔각정 Olympic | Ring Pavilion 표b흙 도우습#30 물+0+ 표보FF 서울역사편찬원 SeoulCiyCumtertEiertRblishingCommitee 습]  ;름터 조류숲 | '기V tll# 특치름숲 88호수 88 Lake 88-37 88 뼈\n",
      "동존토성 산책로\n",
      "37 동존해자 음악분수\n",
      "올림픽올 (유즈라이브) 실내테니스장\n",
      "서울의 만남(조각)\n",
      "스포츠비즈홀 P PIB\n",
      "동표 흙\n",
      "귀롭나무\n",
      "별로드롬 (올림픽사이클경기장)\n",
      "동존쪽포 Mona Chon Waterfall 초t n# 혹시 국#\n",
      "올림픽테니스경기장 Olympic Tennis Court 못c로미다3*t3 t1JLyh주_제 #류\n",
      "느티나무 보호수\n",
      "대li\n",
      "P1A\n",
      "한국스포츠과학원 림픽문화센터)\n",
      "물레방아 Waterwheell *K- 후 소마미술관 SOMA Museum ofArt SOMAP기 J?*TjfB\n",
      "백호다리 Baek-ho Bridae t 타tot음\n",
      "88호수수변무대 88 Lake Stage | 88 #빠#습 88 뼈ki꽃습\n",
      "9경 장미광장\n",
      "세계평화의출\n",
      "하늘기둥(조각)\n",
      "3대3 농구장 3on3BasketballCourt =저=i표:]t3 3, #I지\"+-류\n",
      "백제집자리전시관 -움집터전시관 Duaout Hut Exhibition Center 옮t료-e 고#더표가e\n",
      "Sorro 2관입구\n",
      "조각공원 Sculpture park [#켓소무 마켓소무\n",
      "성백제역 2번출구\n",
      "둘꽃피록\n",
      "10\n",
      "국민체력센터 National Fitness Center 퇴료스-4 L 퇴류l-t)7\n",
      "88마당 88 Lawn Field 88터 88111류\n",
      "조각공원\n",
      "한성백제박물관\n",
      "내0 용 곳통\n",
      "지구촌공원 Global Village Park |  조-소표 #터+ 쇠죄 한성백제박물관 Hansung Museum '못#급[##가i '못#요 t##]A금 원두막 Center Supply Room #때#교로 4*/# 솜로 들꽃마루 Flower Garden #t묘 171E07u7\n",
      "당 r\n",
      "소마미술관\n",
      "만남의 광장 Meeting Plaza 1 #더nr-1] R숲내015t류\n",
      "야생화학습장 Wild Flower Garden 또소표 똑소07E0 미배 가족늘이동산 Family Playground Area 커돈 h55t 흙f*O#iUoE\n",
      "동존토성역 평화의문 1번출구\n",
      "남4문 SOUTH GATE4\n",
      "남3문 SOUTH GATE3\n",
      "남오문 SOUTH GATE2\n",
      "남1문 SOUTH GATEI\n",
      "그래피티의 벽 Graffiti Wall | [거-t*한--품 737+주+01\n",
      "올림픽공원 안내센터 Information Cente\n",
      "올림픽공원 어풀\n",
      "평화 의광장\n",
      "(02)2180-3564 (02)2180-3565 만남 의광장 안 내 방 송 (02)2180-3568\n",
      "올림픽공원은\n",
      "' @ [O Smoking 공원입니다.\n",
      "장미광장 Rose Plaza | FL터 1150161류\n",
      "안드로이드곧용\n",
      "아이혼용\n",
      "공원홍보영상\n",
      "나홀로나루\n"
     ]
    }
   ],
   "source": [
    "print(docs[0].page_content)"
   ]
  }
 ],
 "metadata": {
  "kernelspec": {
   "display_name": "langchain-basic",
   "language": "python",
   "name": "python3"
  },
  "language_info": {
   "codemirror_mode": {
    "name": "ipython",
    "version": 3
   },
   "file_extension": ".py",
   "mimetype": "text/x-python",
   "name": "python",
   "nbconvert_exporter": "python",
   "pygments_lexer": "ipython3",
   "version": "3.11.13"
  }
 },
 "nbformat": 4,
 "nbformat_minor": 5
}
