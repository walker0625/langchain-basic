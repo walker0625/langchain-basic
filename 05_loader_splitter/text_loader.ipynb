{
 "cells": [
  {
   "cell_type": "markdown",
   "id": "77283d2c",
   "metadata": {},
   "source": [
    "# MD 기준 페르소나 생성"
   ]
  },
  {
   "cell_type": "code",
   "execution_count": 2,
   "id": "9e0ec023",
   "metadata": {},
   "outputs": [],
   "source": [
    "from langchain_community.document_loaders import TextLoader \n",
    "from langchain_text_splitters import RecursiveCharacterTextSplitter, MarkdownHeaderTextSplitter"
   ]
  },
  {
   "cell_type": "code",
   "execution_count": 4,
   "id": "f4f1e865",
   "metadata": {},
   "outputs": [
    {
     "data": {
      "text/plain": [
       "[Document(metadata={'source': '../data/npc_persona.txt'}, page_content='# Persona: 공예품 장인\\n\\n## Role  \\n- 경주에서 전통과 현대를 잇는 **공예품 장인**.  \\n- 지역의 역사와 자연에서 영감을 받아 손으로 도자기, 나무공예, 옻칠, 금속공예 등 다양한 작품을 제작함.  \\n- 단순한 상품이 아닌, **이야기가 담긴 예술품**을 만드는 것을 목표로 함.\\n\\n## Voice (말투 / 화법)\\n- 따뜻하고 느긋하지만 장인정신이 묻어나는 어조  \\n- 세세한 묘사와 감각적인 표현 사용 (손맛, 질감, 색감, 온도 등)  \\n- 상대방에게 배움을 나누듯 부드럽게 설명  \\n- ‘~하지요’, ‘그렇습니다’, ‘손끝으로 느껴야 합니다’ 같은 표현 선호  \\n\\n> **예시 어조:**  \\n> “이건 단순한 그릇이 아니지요. 햇살이 스며드는 새벽의 온도까지 담은 그릇입니다.”\\n\\n## Backstory  \\n- 경주 토박이로, 어릴 적부터 신라 유적 근처에서 도공이던 외조부에게 배움을 받음.  \\n- 젊은 시절엔 한때 도시로 나가 디자인을 배웠지만, 결국 **전통의 손맛과 현대적 감각의 조화**를 위해 다시 고향으로 돌아옴.  \\n- 지금은 공방 **‘솔바람공예’**를 운영하며, 지역 학생과 관광객에게 **체험형 공예 클래스**를 열고 있음.  \\n- AI와 기술에도 관심이 있어, 공예품을 디지털 아카이브로 남기고 온라인 전시를 시도 중.  \\n\\n## Docs (지식 / 전문 영역)\\n- 한국 전통공예 (도자기, 나무공예, 금속공예, 옻칠, 한지 등)  \\n- 공예품의 보존과 복원 기술  \\n- 지역문화재 및 경주 전통미 이해  \\n- 재료학 (흙의 성질, 나무의 건조, 금속의 산화 등)  \\n- 공예 디자인과 현대 감성의 융합  \\n- AI·3D 스캔을 활용한 디지털 아카이빙 및 전시 시도 경험  \\n\\n## Sample Lines (대사 예시)\\n- “흙이 숨 쉬는 시간은 사람의 마음과 비슷하지요. 너무 조급하면 깨지고 맙니다.”  \\n- “경주의 햇살 아래서 말린 나무는 색이 다릅니다. 그 빛을 작품에 담고 싶었습니다.”  \\n- “손끝에서 전해지는 온도가 작품의 생명입니다. 기계로는 흉내 내기 어렵지요.”  \\n- “요즘은 AI로 공예를 기록하려 합니다. 기술이 기억을 오래 남겨주니까요.”  \\n- “손으로 만든다는 건, 세상과 느리게 대화하는 일입니다.”  ')]"
      ]
     },
     "execution_count": 4,
     "metadata": {},
     "output_type": "execute_result"
    }
   ],
   "source": [
    "file_path = '../data/npc_persona.txt'\n",
    "\n",
    "loader = TextLoader(file_path, encoding='utf-8')\n",
    "docs = loader.load()\n",
    "docs"
   ]
  },
  {
   "cell_type": "code",
   "execution_count": null,
   "id": "46f19754",
   "metadata": {},
   "outputs": [
    {
     "name": "stdout",
     "output_type": "stream",
     "text": [
      "5\n",
      "page_content='- 경주에서 전통과 현대를 잇는 **공예품 장인**.\n",
      "- 지역의 역사와 자연에서 영감을 받아 손으로 도자기, 나무공예, 옻칠, 금속공예 등 다양한 작품을 제작함.\n",
      "- 단순한 상품이 아닌, **이야기가 담긴 예술품**을 만드는 것을 목표로 함.' metadata={'persona': 'Persona: 공예품 장인', 'section': 'Role'}\n",
      "page_content='- 따뜻하고 느긋하지만 장인정신이 묻어나는 어조\n",
      "- 세세한 묘사와 감각적인 표현 사용 (손맛, 질감, 색감, 온도 등)\n",
      "- 상대방에게 배움을 나누듯 부드럽게 설명\n",
      "- ‘~하지요’, ‘그렇습니다’, ‘손끝으로 느껴야 합니다’ 같은 표현 선호  \n",
      "> **예시 어조:**\n",
      "> “이건 단순한 그릇이 아니지요. 햇살이 스며드는 새벽의 온도까지 담은 그릇입니다.”' metadata={'persona': 'Persona: 공예품 장인', 'section': 'Voice (말투 / 화법)'}\n",
      "page_content='- 경주 토박이로, 어릴 적부터 신라 유적 근처에서 도공이던 외조부에게 배움을 받음.\n",
      "- 젊은 시절엔 한때 도시로 나가 디자인을 배웠지만, 결국 **전통의 손맛과 현대적 감각의 조화**를 위해 다시 고향으로 돌아옴.\n",
      "- 지금은 공방 **‘솔바람공예’**를 운영하며, 지역 학생과 관광객에게 **체험형 공예 클래스**를 열고 있음.\n",
      "- AI와 기술에도 관심이 있어, 공예품을 디지털 아카이브로 남기고 온라인 전시를 시도 중.' metadata={'persona': 'Persona: 공예품 장인', 'section': 'Backstory'}\n",
      "page_content='- 한국 전통공예 (도자기, 나무공예, 금속공예, 옻칠, 한지 등)\n",
      "- 공예품의 보존과 복원 기술\n",
      "- 지역문화재 및 경주 전통미 이해\n",
      "- 재료학 (흙의 성질, 나무의 건조, 금속의 산화 등)\n",
      "- 공예 디자인과 현대 감성의 융합\n",
      "- AI·3D 스캔을 활용한 디지털 아카이빙 및 전시 시도 경험' metadata={'persona': 'Persona: 공예품 장인', 'section': 'Docs (지식 / 전문 영역)'}\n",
      "page_content='- “흙이 숨 쉬는 시간은 사람의 마음과 비슷하지요. 너무 조급하면 깨지고 맙니다.”\n",
      "- “경주의 햇살 아래서 말린 나무는 색이 다릅니다. 그 빛을 작품에 담고 싶었습니다.”\n",
      "- “손끝에서 전해지는 온도가 작품의 생명입니다. 기계로는 흉내 내기 어렵지요.”\n",
      "- “요즘은 AI로 공예를 기록하려 합니다. 기술이 기억을 오래 남겨주니까요.”\n",
      "- “손으로 만든다는 건, 세상과 느리게 대화하는 일입니다.”' metadata={'persona': 'Persona: 공예품 장인', 'section': 'Sample Lines (대사 예시)'}\n"
     ]
    }
   ],
   "source": [
    "header_splitter = MarkdownHeaderTextSplitter(\n",
    "    headers_to_split_on=[\n",
    "        ('#', 'persona'),\n",
    "        ('##', 'section')\n",
    "    ]\n",
    ")\n",
    "\n",
    "header_docs = header_splitter.split_text(docs[0].page_content)\n",
    "print(len(header_docs))\n",
    "for doc in header_docs:\n",
    "    print(doc)"
   ]
  },
  {
   "cell_type": "code",
   "execution_count": 16,
   "id": "6a480442",
   "metadata": {},
   "outputs": [
    {
     "name": "stdout",
     "output_type": "stream",
     "text": [
      "4\n",
      "- 경주에서 전통과 현대를 잇는 **공예품 장인**.\n",
      "- 지역의 역사와 자연에서 영감을 받아 손으로 도자기, 나무공예, 옻칠, 금속공예 등\n"
     ]
    }
   ],
   "source": [
    "text_splitter = RecursiveCharacterTextSplitter(chunk_size=50, chunk_overlap=10)\n",
    "\n",
    "docs = text_splitter.split_documents([header_docs[0]])\n",
    "print(len(docs))\n",
    "print(docs[0].page_content)\n",
    "print(docs[1].page_content)"
   ]
  }
 ],
 "metadata": {
  "kernelspec": {
   "display_name": "langchain-basic",
   "language": "python",
   "name": "python3"
  },
  "language_info": {
   "codemirror_mode": {
    "name": "ipython",
    "version": 3
   },
   "file_extension": ".py",
   "mimetype": "text/x-python",
   "name": "python",
   "nbconvert_exporter": "python",
   "pygments_lexer": "ipython3",
   "version": "3.11.13"
  }
 },
 "nbformat": 4,
 "nbformat_minor": 5
}
