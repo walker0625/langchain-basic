{
 "cells": [
  {
   "cell_type": "markdown",
   "id": "cfba1db7",
   "metadata": {},
   "source": [
    "# RAG"
   ]
  },
  {
   "cell_type": "code",
   "execution_count": 1,
   "id": "177dea72",
   "metadata": {},
   "outputs": [],
   "source": [
    "from langchain_community.document_loaders import PyPDFLoader\n",
    "from langchain_text_splitters import RecursiveCharacterTextSplitter\n",
    "from langchain_openai import OpenAIEmbeddings, ChatOpenAI\n",
    "from langchain_community.vectorstores import Chroma\n",
    "from langchain_core.runnables import RunnablePassthrough, RunnableLambda\n",
    "from langchain_core.prompts import ChatPromptTemplate\n",
    "from langchain_core.output_parsers import StrOutputParser"
   ]
  },
  {
   "cell_type": "markdown",
   "id": "af8bc5c2",
   "metadata": {},
   "source": [
    "# 1. 문서 로드 "
   ]
  },
  {
   "cell_type": "code",
   "execution_count": 10,
   "id": "ee27d26d",
   "metadata": {},
   "outputs": [
    {
     "name": "stdout",
     "output_type": "stream",
     "text": [
      "문서 로드\n"
     ]
    }
   ],
   "source": [
    "file_path = '../data/Sustainability_report_2024_kr.pdf'\n",
    "\n",
    "print('문서 로드')\n",
    "\n",
    "loader = PyPDFLoader(file_path)\n",
    "docs = loader.load()"
   ]
  },
  {
   "cell_type": "code",
   "execution_count": 11,
   "id": "900bc5d2",
   "metadata": {},
   "outputs": [
    {
     "data": {
      "text/plain": [
       "83"
      ]
     },
     "execution_count": 11,
     "metadata": {},
     "output_type": "execute_result"
    }
   ],
   "source": [
    "len(docs)"
   ]
  },
  {
   "cell_type": "code",
   "execution_count": 14,
   "id": "5e939f1c",
   "metadata": {},
   "outputs": [
    {
     "data": {
      "text/plain": [
       "{'producer': 'Adobe PDF Library 15.0',\n",
       " 'creator': 'Adobe InDesign 15.1 (Macintosh)',\n",
       " 'creationdate': '2024-11-25T11:10:32+09:00',\n",
       " 'moddate': '2024-11-25T11:10:46+09:00',\n",
       " 'trapped': '/False',\n",
       " 'source': '../data/Sustainability_report_2024_kr.pdf',\n",
       " 'total_pages': 83,\n",
       " 'page': 1,\n",
       " 'page_label': '2'}"
      ]
     },
     "execution_count": 14,
     "metadata": {},
     "output_type": "execute_result"
    }
   ],
   "source": [
    "docs[1].metadata"
   ]
  },
  {
   "cell_type": "markdown",
   "id": "83c802b5",
   "metadata": {},
   "source": [
    "# 2. 텍스트 청킹"
   ]
  },
  {
   "cell_type": "code",
   "execution_count": 17,
   "id": "d6438b1b",
   "metadata": {},
   "outputs": [
    {
     "name": "stdout",
     "output_type": "stream",
     "text": [
      "207\n"
     ]
    }
   ],
   "source": [
    "splitter = RecursiveCharacterTextSplitter(\n",
    "    chunk_size=1000,\n",
    "    chunk_overlap=100,\n",
    "    #separators=['\\n\\n', 'n', ' ', ''] 내부 code로 설정되어 있음\n",
    ")\n",
    "\n",
    "chunks = splitter.split_documents(docs)\n",
    "print(len(chunks))"
   ]
  },
  {
   "cell_type": "code",
   "execution_count": 21,
   "id": "ca48a546",
   "metadata": {},
   "outputs": [
    {
     "data": {
      "text/plain": [
       "Document(metadata={'producer': 'Adobe PDF Library 15.0', 'creator': 'Adobe InDesign 15.1 (Macintosh)', 'creationdate': '2024-11-25T11:10:32+09:00', 'moddate': '2024-11-25T11:10:46+09:00', 'trapped': '/False', 'source': '../data/Sustainability_report_2024_kr.pdf', 'total_pages': 83, 'page': 3, 'page_label': '4'}, page_content='삼성전자 지속가능경영보고서 2024\\n04\\nOur Company AppendixMateriality Assessment Facts & Figures PrinciplePlanet People\\nCEO 메시지\\nMessage from \\nOur CEO\\n주주, 고객, 협력회사, 그리고 임직원 여러분,\\n2023년은 고금리와 인플레이션, 지정학적 이슈 등 매우 불확실한 \\n거시경제 환경과 함께, 메모리 산업 부진과 다양한 제품군에서의 경쟁 \\n심화로 삼성전자에게 매우 어려운 한 해였습니다. 이토록 대내외적으로 \\n어려운 환경에서도 지속 성장의 기반 마련을 위해 역대 최고 수준의 28.3\\n조원을 연구개발에 투자하고, 53.1조원 수준의 전략적 시설투자로 기술 \\n리더십을 강화하며 중장기 수요에 미리 대응할 수 있었던 것은 삼성전자를 \\n아껴주시는 이해관계자 여러분의 관심과 격려 덕분입니다. 다시 한 번 \\n깊이 감사 드립니다.\\n급격한 변화를 겪고 있는 경제 상황에 맞춰, 기업의 지속가능경영 \\n분야에서도 많은 변화가 일어나고 있습니다. 특히 기업의 지속가능경영 \\n활동 정보 공개는 글로벌 비재무정보 공시 제도의 확산에 맞춰, 새로운 \\n국면을 맞고 있습니다. 국제회계기준재단(IFRS Foundation)이 2023년 \\n6월 지속가능성 지표를 확정한 것을 시작으로, EU의 지속가능성 보고지침\\n(CSRD)과 미국 증권거래위원회(SEC) 기후공시 기준 역시 세부 내용을 \\n순차적으로 확정하며 ESG 정보의 의무 공시 시대가 열리고 있습니다.\\n이와 함께, EU 탄소국경조정제도(CBAM)와 EU 배터리규제 등을 통한 \\n환경규제 역시 지속 강화되는 추세이고, 독일에서는 공급망의 인권과 \\n근로환경 관리를 의무화하는 공급망실사법이 2023년 발효되었으며, \\n2024년 5월 EU 공급망 실사지침(CSDDD)이 확정되는 등 인권 분야에 \\n대한 관심 또한 지속 고조되고 있습니다. \\n삼성전자는 이러한 추세에 맞춰 지속가능한 미래를 위한 노력을 계속해')"
      ]
     },
     "execution_count": 21,
     "metadata": {},
     "output_type": "execute_result"
    }
   ],
   "source": [
    "chunks[3]"
   ]
  },
  {
   "cell_type": "code",
   "execution_count": 19,
   "id": "68969698",
   "metadata": {},
   "outputs": [
    {
     "data": {
      "text/plain": [
       "'삼성전자 지속가능경영보고서 2024\\n04\\nOur Company AppendixMateriality Assessment Facts & Figures PrinciplePlanet People\\nCEO 메시지\\nMessage from \\nOur CEO\\n주주, 고객, 협력회사, 그리고 임직원 여러분,\\n2023년은 고금리와 인플레이션, 지정학적 이슈 등 매우 불확실한 \\n거시경제 환경과 함께, 메모리 산업 부진과 다양한 제품군에서의 경쟁 \\n심화로 삼성전자에게 매우 어려운 한 해였습니다. 이토록 대내외적으로 \\n어려운 환경에서도 지속 성장의 기반 마련을 위해 역대 최고 수준의 28.3\\n조원을 연구개발에 투자하고, 53.1조원 수준의 전략적 시설투자로 기술 \\n리더십을 강화하며 중장기 수요에 미리 대응할 수 있었던 것은 삼성전자를 \\n아껴주시는 이해관계자 여러분의 관심과 격려 덕분입니다. 다시 한 번 \\n깊이 감사 드립니다.\\n급격한 변화를 겪고 있는 경제 상황에 맞춰, 기업의 지속가능경영 \\n분야에서도 많은 변화가 일어나고 있습니다. 특히 기업의 지속가능경영 \\n활동 정보 공개는 글로벌 비재무정보 공시 제도의 확산에 맞춰, 새로운 \\n국면을 맞고 있습니다. 국제회계기준재단(IFRS Foundation)이 2023년 \\n6월 지속가능성 지표를 확정한 것을 시작으로, EU의 지속가능성 보고지침\\n(CSRD)과 미국 증권거래위원회(SEC) 기후공시 기준 역시 세부 내용을 \\n순차적으로 확정하며 ESG 정보의 의무 공시 시대가 열리고 있습니다.\\n이와 함께, EU 탄소국경조정제도(CBAM)와 EU 배터리규제 등을 통한 \\n환경규제 역시 지속 강화되는 추세이고, 독일에서는 공급망의 인권과 \\n근로환경 관리를 의무화하는 공급망실사법이 2023년 발효되었으며, \\n2024년 5월 EU 공급망 실사지침(CSDDD)이 확정되는 등 인권 분야에 \\n대한 관심 또한 지속 고조되고 있습니다. \\n삼성전자는 이러한 추세에 맞춰 지속가능한 미래를 위한 노력을 계속해'"
      ]
     },
     "execution_count": 19,
     "metadata": {},
     "output_type": "execute_result"
    }
   ],
   "source": [
    "chunks[3].page_content"
   ]
  },
  {
   "cell_type": "code",
   "execution_count": 24,
   "id": "1c9b9af4",
   "metadata": {},
   "outputs": [
    {
     "data": {
      "text/plain": [
       "{'producer': 'Adobe PDF Library 15.0',\n",
       " 'creator': 'Adobe InDesign 15.1 (Macintosh)',\n",
       " 'creationdate': '2024-11-25T11:10:32+09:00',\n",
       " 'moddate': '2024-11-25T11:10:46+09:00',\n",
       " 'trapped': '/False',\n",
       " 'source': '../data/Sustainability_report_2024_kr.pdf',\n",
       " 'total_pages': 83,\n",
       " 'page': 3,\n",
       " 'page_label': '4'}"
      ]
     },
     "execution_count": 24,
     "metadata": {},
     "output_type": "execute_result"
    }
   ],
   "source": [
    "chunks[3].metadata"
   ]
  },
  {
   "cell_type": "markdown",
   "id": "49f3612e",
   "metadata": {},
   "source": [
    "# 3. 임베딩 생성 Chroma DB 저장"
   ]
  },
  {
   "cell_type": "code",
   "execution_count": null,
   "id": "f350f675",
   "metadata": {},
   "outputs": [],
   "source": [
    "db_path = '../vectorstore/chromadb_rag_basic'\n",
    "\n",
    "# load할때도 같은 모델 사용해야 함\n",
    "embedding = OpenAIEmbeddings(model='text-embedding-3-small')\n",
    "\n",
    "vector_store = Chroma.from_documents(\n",
    "    documents=chunks,\n",
    "    embedding=embedding,\n",
    "    persist_directory=db_path,\n",
    "    collection_name='samsung_2024'\n",
    ")"
   ]
  },
  {
   "cell_type": "markdown",
   "id": "f9212f76",
   "metadata": {},
   "source": [
    "# 4. 검색기 구성(retriever)"
   ]
  },
  {
   "cell_type": "code",
   "execution_count": 31,
   "id": "666c7399",
   "metadata": {},
   "outputs": [
    {
     "data": {
      "text/plain": [
       "[Document(metadata={'total_pages': 83, 'creationdate': '2024-11-25T11:10:32+09:00', 'trapped': '/False', 'source': '../data/Sustainability_report_2024_kr.pdf', 'page': 3, 'moddate': '2024-11-25T11:10:46+09:00', 'producer': 'Adobe PDF Library 15.0', 'page_label': '4', 'creator': 'Adobe InDesign 15.1 (Macintosh)'}, page_content='삼성전자 지속가능경영보고서 2024\\n04\\nOur Company AppendixMateriality Assessment Facts & Figures PrinciplePlanet People\\nCEO 메시지\\nMessage from \\nOur CEO\\n주주, 고객, 협력회사, 그리고 임직원 여러분,\\n2023년은 고금리와 인플레이션, 지정학적 이슈 등 매우 불확실한 \\n거시경제 환경과 함께, 메모리 산업 부진과 다양한 제품군에서의 경쟁 \\n심화로 삼성전자에게 매우 어려운 한 해였습니다. 이토록 대내외적으로 \\n어려운 환경에서도 지속 성장의 기반 마련을 위해 역대 최고 수준의 28.3\\n조원을 연구개발에 투자하고, 53.1조원 수준의 전략적 시설투자로 기술 \\n리더십을 강화하며 중장기 수요에 미리 대응할 수 있었던 것은 삼성전자를 \\n아껴주시는 이해관계자 여러분의 관심과 격려 덕분입니다. 다시 한 번 \\n깊이 감사 드립니다.\\n급격한 변화를 겪고 있는 경제 상황에 맞춰, 기업의 지속가능경영 \\n분야에서도 많은 변화가 일어나고 있습니다. 특히 기업의 지속가능경영 \\n활동 정보 공개는 글로벌 비재무정보 공시 제도의 확산에 맞춰, 새로운 \\n국면을 맞고 있습니다. 국제회계기준재단(IFRS Foundation)이 2023년 \\n6월 지속가능성 지표를 확정한 것을 시작으로, EU의 지속가능성 보고지침\\n(CSRD)과 미국 증권거래위원회(SEC) 기후공시 기준 역시 세부 내용을 \\n순차적으로 확정하며 ESG 정보의 의무 공시 시대가 열리고 있습니다.\\n이와 함께, EU 탄소국경조정제도(CBAM)와 EU 배터리규제 등을 통한 \\n환경규제 역시 지속 강화되는 추세이고, 독일에서는 공급망의 인권과 \\n근로환경 관리를 의무화하는 공급망실사법이 2023년 발효되었으며, \\n2024년 5월 EU 공급망 실사지침(CSDDD)이 확정되는 등 인권 분야에 \\n대한 관심 또한 지속 고조되고 있습니다. \\n삼성전자는 이러한 추세에 맞춰 지속가능한 미래를 위한 노력을 계속해'),\n",
       " Document(metadata={'moddate': '2024-11-25T11:10:46+09:00', 'producer': 'Adobe PDF Library 15.0', 'creator': 'Adobe InDesign 15.1 (Macintosh)', 'page_label': '1', 'trapped': '/False', 'page': 0, 'creationdate': '2024-11-25T11:10:32+09:00', 'total_pages': 83, 'source': '../data/Sustainability_report_2024_kr.pdf'}, page_content='A Journey Towards  \\na Sustainable Future\\n삼성전자 지속가능경영보고서 2024'),\n",
       " Document(metadata={'page_label': '13', 'trapped': '/False', 'creationdate': '2024-11-25T11:10:32+09:00', 'producer': 'Adobe PDF Library 15.0', 'source': '../data/Sustainability_report_2024_kr.pdf', 'moddate': '2024-11-25T11:10:46+09:00', 'total_pages': 83, 'page': 12, 'creator': 'Adobe InDesign 15.1 (Macintosh)'}, page_content='삼성전자 지속가능경영보고서 2024\\n13\\nOur Company AppendixMateriality Assessment Facts & Figures PrinciplePlanet People\\n기후변화\\nClimate Change\\n Planet / DX부문\\n추진방향\\nDX부문은 지난  2022년에 발표한 新 환경경영전략에 맞춰 2030년  \\n까지 직∙ 간접(Scope 1, 2) 탄소 순배출을 제로화하는 탄소중립을 \\n달성할 계획입니다. 이를 위해 공정 에너지 효율 제고를 통해 온실가스 \\n직접배출을 최소화하고 재생 에너지 사용을 확대하고 있습니다. 또한 \\n제품의 물류, 판매, 사용 등 사업장을 넘 어 전 밸류체인에 걸쳐 다양한 \\n온실가스 감축 과제를 추진하고 있습니다.\\n기후변화 전략\\n리스크 관리\\nDX부문은 기후변화와 관련된 리스 크의 실질적인 재무적 또는 전략적 \\n영향을 규명하고, 이슈의 중요도와 사업에 미치는 영향에 따라 대응전략을 \\n수립하고 의사 결정에 반영합니다. 리스크는 글로벌 기후체제, 지역별 \\n규제 강화, 시장의 변화, 이해관계자 요구사 항, 물리적 환경 변화 등을 \\n포함합니다. 특히, 국내 제조사업장은 배출권거래제 기반으로 온실가스 \\n배출량 관리, 산정, 배출권 제출의 법적의무를 이행하고 있습니다. \\n국가 온실가스 감 축목표(NDC\\n1)\\n)에 따라 배출권거래제 해 당 기업에게 \\n부과되는 온실가스 감축목표는 점차 강화될 것으로 예상하고 있습니다.\\n단기적으로는 탄소배출권 가격 상승과 에너지 고효율 기술 도입에 따른 \\n투자비 증가, 기상이변 대응을 위한 투자, 복구비용 증가를 잠재적인 \\n리스크로 보고 있으며, 외부 탄소배출권 확보를 통한 탄소가격 민 감도 \\n완화와 에너지 고효율 설비 도입에 따른 에너지 비용 절감을 기회요인으로 \\n인식하고 있습니다. \\n중기적으로는 소비자 들의 소비 패턴 변화와 친 환경 제품 선 호 등을 \\n기회요인으로 예상하며, 기온 상승  및 수자원 고갈  등과 같 은 물리적 \\n영향을 장기적 리스크로 예상하고 있습니다.'),\n",
       " Document(metadata={'trapped': '/False', 'page_label': '13', 'moddate': '2024-11-25T11:10:46+09:00', 'creator': 'Adobe InDesign 15.1 (Macintosh)', 'page': 12, 'producer': 'Adobe PDF Library 15.0', 'source': '../data/Sustainability_report_2024_kr.pdf', 'total_pages': 83, 'creationdate': '2024-11-25T11:10:32+09:00'}, page_content='기회요인으로 예상하며, 기온 상승  및 수자원 고갈  등과 같 은 물리적 \\n영향을 장기적 리스크로 예상하고 있습니다.\\n1) Nationally Determined Contribution\\n기후변화 리스크/기회\\n활동\\n온실가스 직접배출 감축\\nDX부문은 사업장의 에너지 효율화, 에너지 절감, 에너지 전환 활동을 통해 \\n자체 배출량을 최소화하는 것을 최우선 과제로 추진하고, 자체 감축활동을 \\n통해 줄일 수 없는 배출량을 상쇄하기 위한 온실가스 감축사업을 발굴/\\n수행합니다. 또한 글로벌 제조법인을 대상으로 전년 에너지 사용량 대비 \\n감축 목표를 설정\\n1)\\n하고 에너지 사용 절감활동을 지속하고 있습니다.\\n2023년은 인도와 인도네시아에서의 산림 농업과 맹그로브 조성 사업을 \\n발굴하여 총 25 만톤의 외부감축  배출권을 확보하였습니다. 특히, \\n쿡스토브, 산림 농업 확대 등과 같 이 온실가스 감축뿐만 아니라  인근 \\n지역주민들의 삶의 질 향상과 소득증대 등에도 기여할 수 있는 감축사업에 \\n중점적으로 참여하고 있습니다. 앞 으로도 자체 감축 활동을 지속하고 \\n탄소중립 목표 달성을 위해 외부 온실가스 감축사업을 지속 발굴해 나갈 \\n예정입니다. 뿐만 아니라 2027년까지 국내 업무용 차량을 무공해차(전기/\\n수소차)로 100% 전환할 계획입니다.\\n1) 2024년, 전년 에너지 사용량 대비 10% 감축 목표\\n온실가스 직접배출 감축 중장기 로드맵\\n‧ 고효율 설비 교체, IoT 시스템 적용 등 자동화 통한 온실가스 감축\\n‧ 냉난방 설비 운영 최적화를 통한 에너지 절감\\n‧ 글로벌 감축사업 전문기관과 협력\\n‧ 조림 사업, 맹그로브 조성 사업을 통한 외부감축 배출권 확보\\n‧ LNG 사용 효율화 등을 통한 사업장 에너지 사용 절감\\n‧ DX부문 탄소중립 달성(Scope 1, 2)\\n2023 \\n \\n2024 \\n2030\\n직접배출 감축 활동\\n온실가스 직접배출 감축\\n‧  고효율 설비 교체 및 제조공정 효율화 등 \\n에너지 절감 활동\\n‧  잔여 배출량 감축을 위한 온실가스 \\n감축사업 발굴 및 추진')]"
      ]
     },
     "execution_count": 31,
     "metadata": {},
     "output_type": "execute_result"
    }
   ],
   "source": [
    "retriever = vector_store.as_retriever()\n",
    "result = retriever.invoke('이 보고서에서 2024년 주요 지속 가능 목표가 뭘까?')\n",
    "result"
   ]
  },
  {
   "cell_type": "code",
   "execution_count": 35,
   "id": "b50a51a1",
   "metadata": {},
   "outputs": [
    {
     "name": "stdout",
     "output_type": "stream",
     "text": [
      "삼성전자 지속가능경영보고서 2024\n",
      "04\n",
      "Our Com\n",
      "====================================================================================================\n",
      "A Journey Towards  \n",
      "a Sustaina\n",
      "====================================================================================================\n",
      "삼성전자 지속가능경영보고서 2024\n",
      "13\n",
      "Our Com\n",
      "====================================================================================================\n",
      "기회요인으로 예상하며, 기온 상승  및 수자원 고갈  \n",
      "====================================================================================================\n"
     ]
    }
   ],
   "source": [
    "for r in result:\n",
    "    print(r.page_content[:30])\n",
    "    print('=' * 100)"
   ]
  },
  {
   "cell_type": "markdown",
   "id": "b9e920e2",
   "metadata": {},
   "source": [
    "# 5. LANGCHAIN 연결"
   ]
  },
  {
   "cell_type": "code",
   "execution_count": null,
   "id": "e529c3a3",
   "metadata": {},
   "outputs": [],
   "source": [
    "# basic langchain\n",
    "\n",
    "# 1. 프롬프트 \n",
    "rag_prompt = ChatPromptTemplate.from_messages([\n",
    "    ('system', \"\"\"\n",
    "    주어진 context만 근거로 간결하고 정확하게 대답해줘\n",
    "    context에 없으면 문서에 '근거 없음'이라고 대답\n",
    "    \n",
    "    # context\n",
    "    {context}\n",
    "    \"\"\"),\n",
    "    ('human', '{question}')\n",
    "])\n",
    "\n",
    "# 2. 모델 선택\n",
    "model = ChatOpenAI(\n",
    "    model='gpt-4.1-mini',\n",
    "    temperature=0\n",
    ")\n",
    "\n",
    "#3. output_parser 선택\n",
    "\n",
    "output_parser = StrOutputParser()\n",
    "\n",
    "chain = rag_prompt | model | output_parser"
   ]
  },
  {
   "cell_type": "code",
   "execution_count": null,
   "id": "0a070a68",
   "metadata": {},
   "outputs": [],
   "source": [
    "def format_docs_join(docs):\n",
    "    \n",
    "    tmp_docs = []\n",
    "    \n",
    "    for doc in docs:\n",
    "        tmp_docs.append(doc.page_content)\n",
    "    \n",
    "    return '\\n\\n\\---\\n\\n'.join(tmp_docs)"
   ]
  },
  {
   "cell_type": "code",
   "execution_count": 40,
   "id": "b029ec74",
   "metadata": {},
   "outputs": [],
   "source": [
    "rag_chain = (\n",
    "    {\n",
    "    'context': retriever | RunnableLambda(format_docs_join),\n",
    "    'question' : RunnablePassthrough()\n",
    "    }\n",
    "    | chain\n",
    ")"
   ]
  },
  {
   "cell_type": "code",
   "execution_count": 42,
   "id": "bf98f351",
   "metadata": {},
   "outputs": [
    {
     "name": "stdout",
     "output_type": "stream",
     "text": [
      "2024년 주요 지속 가능 목표는 전년 에너지 사용량 대비 10% 감축 목표 설정, 국내 업무용 차량을 100% 무공해차(전기/수소차)로 전환 계획, 온실가스 직접배출 감축을 위한 고효율 설비 교체 및 제조공정 효율화, 에너지 절감 활동, 그리고 외부 온실가스 감축사업 발굴 및 추진입니다.\n"
     ]
    }
   ],
   "source": [
    "result = rag_chain.invoke('이 보고서에서 2024년 주요 지속 가능 목표가 뭘까?')\n",
    "print(result)"
   ]
  },
  {
   "cell_type": "markdown",
   "id": "85e4f8e4",
   "metadata": {},
   "source": [
    "# langchain + rag practice"
   ]
  },
  {
   "cell_type": "code",
   "execution_count": 72,
   "id": "be81ec93",
   "metadata": {},
   "outputs": [],
   "source": [
    "from langchain_text_splitters import RecursiveCharacterTextSplitter\n",
    "from langchain_community.document_loaders import PDFPlumberLoader\n",
    "from langchain_community.vectorstores import FAISS\n",
    "from langchain_core.output_parsers import StrOutputParser\n",
    "from langchain_core.runnables import RunnablePassthrough\n",
    "from langchain_openai import ChatOpenAI, OpenAIEmbeddings\n",
    "from langchain import hub"
   ]
  },
  {
   "cell_type": "code",
   "execution_count": 50,
   "id": "d9ef593a",
   "metadata": {},
   "outputs": [
    {
     "data": {
      "text/plain": [
       "'삼성전자 지속가능경영보고서 2024\\nA Journey Towards\\na Sustainable Future\\n'"
      ]
     },
     "execution_count": 50,
     "metadata": {},
     "output_type": "execute_result"
    }
   ],
   "source": [
    "loader = PDFPlumberLoader('../data/Sustainability_report_2024_kr.pdf')\n",
    "docs = loader.load()\n",
    "docs[0].page_content"
   ]
  },
  {
   "cell_type": "code",
   "execution_count": 86,
   "id": "0deee162",
   "metadata": {},
   "outputs": [],
   "source": [
    "def format_docs_join(docs):\n",
    "    \n",
    "    tmp_docs = []\n",
    "    \n",
    "    for doc in docs:\n",
    "        tmp_docs.append(doc.page_content)\n",
    "    \n",
    "    return '\\n\\n\\---\\n\\n'.join(tmp_docs)"
   ]
  },
  {
   "cell_type": "code",
   "execution_count": 49,
   "id": "452cbdb2",
   "metadata": {},
   "outputs": [
    {
     "data": {
      "text/plain": [
       "'삼성전자 지속가능경영보고서 2024\\nA Journey Towards\\na Sustainable Future'"
      ]
     },
     "execution_count": 49,
     "metadata": {},
     "output_type": "execute_result"
    }
   ],
   "source": [
    "text_splitter = RecursiveCharacterTextSplitter(chunk_size=1000, chunk_overlap=100)\n",
    "chunks = text_splitter.split_documents(docs)\n",
    "chunks[0].page_content"
   ]
  },
  {
   "cell_type": "code",
   "execution_count": 52,
   "id": "d6f13c1e",
   "metadata": {},
   "outputs": [],
   "source": [
    "openai_embedding = OpenAIEmbeddings(model='text-embedding-3-small')\n",
    "\n",
    "vector_store = FAISS.from_documents(\n",
    "    documents=chunks,\n",
    "    embedding=openai_embedding,\n",
    ")\n",
    "\n",
    "vector_store.save_local('../vectorstore/samsung_2024_faiss')"
   ]
  },
  {
   "cell_type": "code",
   "execution_count": null,
   "id": "a795c0d9",
   "metadata": {},
   "outputs": [
    {
     "data": {
      "text/plain": [
       "ChatPromptTemplate(input_variables=['context', 'question'], input_types={}, partial_variables={}, messages=[SystemMessagePromptTemplate(prompt=PromptTemplate(input_variables=['context'], input_types={}, partial_variables={}, template=\"\\n    주어진 context만 근거로 간결하고 정확하게 대답해줘\\n    context에 없으면 문서에 '근거 없음'이라고 대답\\n\\n    # context\\n    {context}\\n    \"), additional_kwargs={}), HumanMessagePromptTemplate(prompt=PromptTemplate(input_variables=['question'], input_types={}, partial_variables={}, template='{question}'), additional_kwargs={})])"
      ]
     },
     "execution_count": 84,
     "metadata": {},
     "output_type": "execute_result"
    }
   ],
   "source": [
    "retriever = vector_store.as_retriever()\n",
    "\n",
    "# 그냥 문자열로 prompt를 사용하면 chain 적용이 안되니 template로 감싸주는 것 주의!\n",
    "# context외에는 응답하지 않도록 하면, llm이 학습된 내용은 제외하고 응답 가능(rag data 기준)\n",
    "prompt = ChatPromptTemplate.from_messages([\n",
    "    ('system', \"\"\"\n",
    "    주어진 context만 근거로 간결하고 정확하게 대답해줘\n",
    "    context에 없으면 문서에 '근거 없음'이라고 대답\n",
    "    \n",
    "    # context\n",
    "    {context}\n",
    "    \"\"\"),\n",
    "    ('human', '{question}')\n",
    "])\n",
    "\n",
    "prompt"
   ]
  },
  {
   "cell_type": "code",
   "execution_count": 85,
   "id": "e67efe04",
   "metadata": {},
   "outputs": [],
   "source": [
    "llm = ChatOpenAI(model='gpt-4.1-mini', temperature=0)"
   ]
  },
  {
   "cell_type": "code",
   "execution_count": 87,
   "id": "3ef12e4d",
   "metadata": {},
   "outputs": [],
   "source": [
    "chain = (\n",
    "    {\n",
    "    'context': retriever | format_docs_join, \n",
    "    'question': RunnablePassthrough()\n",
    "    }\n",
    "    | prompt\n",
    "    | llm \n",
    "    | StrOutputParser()\n",
    ")"
   ]
  },
  {
   "cell_type": "code",
   "execution_count": 88,
   "id": "aca29c1a",
   "metadata": {},
   "outputs": [
    {
     "name": "stdout",
     "output_type": "stream",
     "text": [
      "2024년 삼성전자의 중대성 목표는 기업 활동이 외부 환경에 미치는 영향과 해당 주제가 회사에 재무적으로 미치는 영향을 모두 고려하여 환경·사회 영향, 재무 위험 및 기회를 평가하고, 이를 바탕으로 중대 주제를 선정하여 지속가능경영에 중대하게 수렴하는 것입니다.\n"
     ]
    }
   ],
   "source": [
    "result = chain.invoke('2024 중대성 목표는 뭐야')\n",
    "print(result)"
   ]
  }
 ],
 "metadata": {
  "kernelspec": {
   "display_name": "langchain-basic",
   "language": "python",
   "name": "python3"
  },
  "language_info": {
   "codemirror_mode": {
    "name": "ipython",
    "version": 3
   },
   "file_extension": ".py",
   "mimetype": "text/x-python",
   "name": "python",
   "nbconvert_exporter": "python",
   "pygments_lexer": "ipython3",
   "version": "3.11.13"
  }
 },
 "nbformat": 4,
 "nbformat_minor": 5
}
