{
 "cells": [
  {
   "cell_type": "markdown",
   "id": "4a877949",
   "metadata": {},
   "source": [
    "# Agent Custom"
   ]
  },
  {
   "cell_type": "code",
   "execution_count": 1,
   "id": "3e6af73e",
   "metadata": {},
   "outputs": [
    {
     "name": "stderr",
     "output_type": "stream",
     "text": [
      "c:\\walker\\code\\langchain-basic\\.venv\\Lib\\site-packages\\tqdm\\auto.py:21: TqdmWarning: IProgress not found. Please update jupyter and ipywidgets. See https://ipywidgets.readthedocs.io/en/stable/user_install.html\n",
      "  from .autonotebook import tqdm as notebook_tqdm\n"
     ]
    }
   ],
   "source": [
    "from dotenv import load_dotenv\n",
    "\n",
    "from langchain_core.tools import tool\n",
    "from langchain_openai import ChatOpenAI\n",
    "from langchain.agents import create_openai_tools_agent, AgentExecutor\n",
    "from langchain_core.prompts import ChatPromptTemplate, MessagesPlaceholder"
   ]
  },
  {
   "cell_type": "markdown",
   "id": "ddad48ab",
   "metadata": {},
   "source": [
    "## 1. Custom Tool"
   ]
  },
  {
   "cell_type": "code",
   "execution_count": 2,
   "id": "e6bfd034",
   "metadata": {},
   "outputs": [],
   "source": [
    "# 커스텀 TOOL 정의\n",
    "@tool\n",
    "def add_function(a: float, b: float) -> float:\n",
    "    \"\"\" Add two numbers\"\"\"\n",
    "    return a + b"
   ]
  },
  {
   "cell_type": "code",
   "execution_count": 3,
   "id": "33556ef7",
   "metadata": {},
   "outputs": [],
   "source": [
    "prompt = \"\"\"\n",
    "너는 수학을 잘하는 전문가야\n",
    "\"\"\"\n",
    "\n",
    "# 1. LLM 설정\n",
    "llm = ChatOpenAI(model='gpt-4.1-mini', temperature=0)\n",
    "\n",
    "# 2. PROMPT \n",
    "prompt = ChatPromptTemplate.from_messages([\n",
    "    ('system', prompt),\n",
    "    ('human', '{input}'),\n",
    "    ('placeholder', '{agent_scratchpad}') # tool 사용 결과를 담는 임시 공간\n",
    "])\n",
    "\n",
    "# 3. 단일 AGENT 생성\n",
    "agent = create_openai_tools_agent(\n",
    "    llm=llm,\n",
    "    tools=[add_function],\n",
    "    prompt=prompt\n",
    ")\n",
    "\n",
    "# 5. AGENT EXECUTOR 설정\n",
    "executor = AgentExecutor(\n",
    "    agent=agent,\n",
    "    tools=[add_function],\n",
    "    verbose=True\n",
    ")"
   ]
  },
  {
   "cell_type": "code",
   "execution_count": 4,
   "id": "d4f7eff0",
   "metadata": {},
   "outputs": [
    {
     "name": "stdout",
     "output_type": "stream",
     "text": [
      "\n",
      "\n",
      "\u001b[1m> Entering new AgentExecutor chain...\u001b[0m\n",
      "\u001b[32;1m\u001b[1;3m\n",
      "Invoking: `add_function` with `{'a': 2, 'b': 2}`\n",
      "\n",
      "\n",
      "\u001b[0m\u001b[36;1m\u001b[1;3m4.0\u001b[0m\u001b[32;1m\u001b[1;3m2 + 2는 4입니다.\u001b[0m\n",
      "\n",
      "\u001b[1m> Finished chain.\u001b[0m\n",
      "{'input': '2 + 2', 'output': '2 + 2는 4입니다.'}\n"
     ]
    }
   ],
   "source": [
    "result = executor.invoke({'input' : '2 + 2'})\n",
    "print(result)"
   ]
  },
  {
   "cell_type": "markdown",
   "id": "a7f728cd",
   "metadata": {},
   "source": [
    "## 2. Memory + Tool"
   ]
  },
  {
   "cell_type": "code",
   "execution_count": 6,
   "id": "59217754",
   "metadata": {},
   "outputs": [],
   "source": [
    "from typing import Dict \n",
    "from langchain_core.runnables.history import RunnableWithMessageHistory\n",
    "from langchain_core.chat_history import InMemoryChatMessageHistory"
   ]
  },
  {
   "cell_type": "code",
   "execution_count": 7,
   "id": "a1cb7aa3",
   "metadata": {},
   "outputs": [],
   "source": [
    "prompt = \"\"\"\n",
    "너는 수학을 잘하는 전문가야\n",
    "\"\"\"\n",
    "\n",
    "# 1. LLM 설정\n",
    "llm = ChatOpenAI(model='gpt-4.1-mini', temperature=0)\n",
    "\n",
    "# 2. PROMPT \n",
    "prompt = ChatPromptTemplate.from_messages([\n",
    "    ('system', prompt),\n",
    "    MessagesPlaceholder(variable_name='history'), # ('placeholder', '{history}'),\n",
    "    ('human', '{question}'),\n",
    "    ('placeholder', '{agent_scratchpad}')\n",
    "])\n",
    "\n",
    "# 3. 단일 AGENT 생성\n",
    "agent = create_openai_tools_agent(\n",
    "    llm=llm,\n",
    "    tools=[add_function],\n",
    "    prompt=prompt\n",
    ")\n",
    "\n",
    "# 5. AGENT EXECUTOR 설정\n",
    "executor = AgentExecutor(\n",
    "    agent=agent,\n",
    "    tools=[add_function],\n",
    "    verbose=True\n",
    ")"
   ]
  },
  {
   "cell_type": "code",
   "execution_count": 8,
   "id": "eed4d0ce",
   "metadata": {},
   "outputs": [],
   "source": [
    "stores : Dict[str, InMemoryChatMessageHistory] = {}\n",
    "\n",
    "def get_stores(session_id: str):\n",
    "    \n",
    "    if session_id not in stores:\n",
    "        stores[session_id] = InMemoryChatMessageHistory()\n",
    "        \n",
    "    return stores[session_id]"
   ]
  },
  {
   "cell_type": "code",
   "execution_count": 9,
   "id": "1655370c",
   "metadata": {},
   "outputs": [],
   "source": [
    "agent_history = RunnableWithMessageHistory(\n",
    "    executor, \n",
    "    lambda session_id: get_stores(session_id),\n",
    "    input_messages_key='question',\n",
    "    history_messages_key='history'\n",
    ")"
   ]
  },
  {
   "cell_type": "code",
   "execution_count": 10,
   "id": "5680458f",
   "metadata": {},
   "outputs": [
    {
     "name": "stdout",
     "output_type": "stream",
     "text": [
      "\n",
      "\n",
      "\u001b[1m> Entering new AgentExecutor chain...\u001b[0m\n",
      "\u001b[32;1m\u001b[1;3m\n",
      "Invoking: `add_function` with `{'a': 5, 'b': 2}`\n",
      "\n",
      "\n",
      "\u001b[0m\u001b[36;1m\u001b[1;3m7.0\u001b[0m\u001b[32;1m\u001b[1;3m5 + 2는 7입니다.\u001b[0m\n",
      "\n",
      "\u001b[1m> Finished chain.\u001b[0m\n"
     ]
    },
    {
     "data": {
      "text/plain": [
       "{'question': '5 + 2는?', 'history': [], 'output': '5 + 2는 7입니다.'}"
      ]
     },
     "execution_count": 10,
     "metadata": {},
     "output_type": "execute_result"
    }
   ],
   "source": [
    "cfg = {\"configurable\" : {\"session_id\" : \"user-123\"}}\n",
    "agent_history.invoke({\n",
    "    \"question\" : \"5 + 2는?\"\n",
    "    }, config = cfg\n",
    ")"
   ]
  },
  {
   "cell_type": "code",
   "execution_count": null,
   "id": "220a8fbf",
   "metadata": {},
   "outputs": [
    {
     "name": "stdout",
     "output_type": "stream",
     "text": [
      "\n",
      "\n",
      "\u001b[1m> Entering new AgentExecutor chain...\u001b[0m\n",
      "\u001b[32;1m\u001b[1;3m아까 \"5 + 2는?\"이라고 물어보셨어요.\u001b[0m\n",
      "\n",
      "\u001b[1m> Finished chain.\u001b[0m\n"
     ]
    },
    {
     "data": {
      "text/plain": [
       "{'question': '아까 내가 뭐 물어봤어?',\n",
       " 'history': [HumanMessage(content='5 + 2는?', additional_kwargs={}, response_metadata={}),\n",
       "  AIMessage(content='5 + 2는 7입니다.', additional_kwargs={}, response_metadata={})],\n",
       " 'output': '아까 \"5 + 2는?\"이라고 물어보셨어요.'}"
      ]
     },
     "execution_count": 11,
     "metadata": {},
     "output_type": "execute_result"
    }
   ],
   "source": [
    "cfg = {\"configurable\" : {\"session_id\" : \"user-123\"}}\n",
    "agent_history.invoke({\n",
    "    \"question\" : \"아까 내가 뭐 물어봤어?\"\n",
    "    }, config = cfg\n",
    ")"
   ]
  },
  {
   "cell_type": "code",
   "execution_count": 11,
   "id": "218c32b4",
   "metadata": {},
   "outputs": [
    {
     "name": "stdout",
     "output_type": "stream",
     "text": [
      "\n",
      "\n",
      "\u001b[1m> Entering new AgentExecutor chain...\u001b[0m\n",
      "\u001b[32;1m\u001b[1;3m방금 \"5 + 2는?\"이라고 물어보셨어요.\u001b[0m\n",
      "\n",
      "\u001b[1m> Finished chain.\u001b[0m\n"
     ]
    },
    {
     "data": {
      "text/plain": [
       "{'question': '방금 뭐 물어봤어?',\n",
       " 'history': [HumanMessage(content='5 + 2는?', additional_kwargs={}, response_metadata={}),\n",
       "  AIMessage(content='5 + 2는 7입니다.', additional_kwargs={}, response_metadata={})],\n",
       " 'output': '방금 \"5 + 2는?\"이라고 물어보셨어요.'}"
      ]
     },
     "execution_count": 11,
     "metadata": {},
     "output_type": "execute_result"
    }
   ],
   "source": [
    "cfg = {\"configurable\" : {\"session_id\" : \"user-123\"}}\n",
    "agent_history.invoke({\n",
    "    \"question\" : \"방금 뭐 물어봤어?\"\n",
    "    }, config = cfg\n",
    ")"
   ]
  },
  {
   "cell_type": "markdown",
   "id": "71c370d6",
   "metadata": {},
   "source": [
    "## 3. CSV Tool Custom"
   ]
  },
  {
   "cell_type": "code",
   "execution_count": 12,
   "id": "93f32790",
   "metadata": {},
   "outputs": [
    {
     "data": {
      "text/plain": [
       "True"
      ]
     },
     "execution_count": 12,
     "metadata": {},
     "output_type": "execute_result"
    }
   ],
   "source": [
    "from dotenv import load_dotenv\n",
    "\n",
    "from typing import List, Dict, Optional\n",
    "\n",
    "from langchain_core.tools import tool\n",
    "from langchain_openai import ChatOpenAI\n",
    "from langchain.agents import create_openai_tools_agent, AgentExecutor\n",
    "from langchain_core.prompts import ChatPromptTemplate, MessagesPlaceholder\n",
    "\n",
    "load_dotenv()"
   ]
  },
  {
   "cell_type": "code",
   "execution_count": 13,
   "id": "d49a0de2",
   "metadata": {},
   "outputs": [],
   "source": [
    "import csv\n",
    "\n",
    "@tool('csv_write', return_direct=False)\n",
    "def csv_write(csv_path: str, rows: List[Dict], mode: str = 'a') -> str:\n",
    "    \"\"\"\n",
    "    rows(List[dict])를 csv 파일에 저장한다\n",
    "    - csv_path : csv 경로('result.csv')\n",
    "    - rows : 딕셔너리 목록, 키가 헤더가 됨, 새파일이면 헤더를 자동 생성\n",
    "    - mode : 'a' 추가 모드(기본), 'w' 새로 쓰기\n",
    "    반환 : 작성 행 수/헤더 정보\n",
    "    \"\"\"\n",
    "    \n",
    "    header = [\"date\", \"query\", \"title\", \"url\", \"snippet\"]\n",
    "    \n",
    "    with open(csv_path, mode, newline=\"\", encoding='utf-8') as f:\n",
    "        writer = csv.DictWriter(f, fieldnames=header)\n",
    "        for r in rows:\n",
    "            writer.writerow(r)\n",
    "    return f'csv 저장 완료 : {csv_path}, 행수 : {len(rows)}, 헤더 : {header}'"
   ]
  },
  {
   "cell_type": "markdown",
   "id": "ac3a670d",
   "metadata": {},
   "source": [
    "## * decorator"
   ]
  },
  {
   "cell_type": "code",
   "execution_count": 14,
   "id": "ff414350",
   "metadata": {},
   "outputs": [],
   "source": [
    "def my_decorator(func):\n",
    "    def wrapper(*args, **kwargs):\n",
    "        print(\"함수 실행전\")\n",
    "        result = func(*args, **kwargs)\n",
    "        print(\"함수 실행 후\")\n",
    "        return result\n",
    "    return wrapper"
   ]
  },
  {
   "cell_type": "code",
   "execution_count": 15,
   "id": "661672b5",
   "metadata": {},
   "outputs": [],
   "source": [
    "@my_decorator\n",
    "def hello_custom(name, greeting=\"반가워요\"):\n",
    "    print(name, \"님\", greeting)"
   ]
  },
  {
   "cell_type": "code",
   "execution_count": 16,
   "id": "3170e97b",
   "metadata": {},
   "outputs": [
    {
     "name": "stdout",
     "output_type": "stream",
     "text": [
      "함수 실행전\n",
      "walker 님 반가워요\n",
      "함수 실행 후\n"
     ]
    }
   ],
   "source": [
    "result = hello_custom(\"walker\")"
   ]
  }
 ],
 "metadata": {
  "kernelspec": {
   "display_name": "langchain-basic",
   "language": "python",
   "name": "python3"
  },
  "language_info": {
   "codemirror_mode": {
    "name": "ipython",
    "version": 3
   },
   "file_extension": ".py",
   "mimetype": "text/x-python",
   "name": "python",
   "nbconvert_exporter": "python",
   "pygments_lexer": "ipython3",
   "version": "3.11.13"
  }
 },
 "nbformat": 4,
 "nbformat_minor": 5
}
