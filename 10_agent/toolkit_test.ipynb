{
 "cells": [
  {
   "cell_type": "code",
   "execution_count": 1,
   "id": "0e8a7d14",
   "metadata": {},
   "outputs": [
    {
     "data": {
      "text/plain": [
       "True"
      ]
     },
     "execution_count": 1,
     "metadata": {},
     "output_type": "execute_result"
    }
   ],
   "source": [
    "from dotenv import load_dotenv\n",
    "load_dotenv()"
   ]
  },
  {
   "cell_type": "code",
   "execution_count": 2,
   "id": "bf1ac937",
   "metadata": {},
   "outputs": [
    {
     "name": "stderr",
     "output_type": "stream",
     "text": [
      "c:\\walker\\code\\langchain-basic\\.venv\\Lib\\site-packages\\tqdm\\auto.py:21: TqdmWarning: IProgress not found. Please update jupyter and ipywidgets. See https://ipywidgets.readthedocs.io/en/stable/user_install.html\n",
      "  from .autonotebook import tqdm as notebook_tqdm\n"
     ]
    }
   ],
   "source": [
    "from langchain_openai import ChatOpenAI\n",
    "from langchain.agents import create_openai_tools_agent, AgentExecutor\n",
    "from langchain_core.prompts import ChatPromptTemplate, MessagesPlaceholder\n",
    "from typing import List, Dict, Optional"
   ]
  },
  {
   "cell_type": "code",
   "execution_count": 3,
   "id": "c3fe40cc",
   "metadata": {},
   "outputs": [],
   "source": [
    "from schedule_toolkits import ScheduleToolkit # __init__ 파일이 있어서 from schedule_toolkits.toolkit이라고 쓸 필요가 없는 것 \n",
    "from schedule_toolkits import AddTodoTool\n",
    "from schedule_toolkits import ViewTodoTool"
   ]
  },
  {
   "cell_type": "code",
   "execution_count": 4,
   "id": "3168110e",
   "metadata": {},
   "outputs": [
    {
     "data": {
      "text/plain": [
       "[AddTodoTool(), ViewTodoTool()]"
      ]
     },
     "execution_count": 4,
     "metadata": {},
     "output_type": "execute_result"
    }
   ],
   "source": [
    "# 1. tool setting\n",
    "tools = ScheduleToolkit().get_tools()\n",
    "tools"
   ]
  },
  {
   "cell_type": "code",
   "execution_count": 5,
   "id": "ccdb8890",
   "metadata": {},
   "outputs": [
    {
     "data": {
      "text/plain": [
       "ChatOpenAI(client=<openai.resources.chat.completions.completions.Completions object at 0x0000026AF3A63BD0>, async_client=<openai.resources.chat.completions.completions.AsyncCompletions object at 0x0000026AF50C8A10>, root_client=<openai.OpenAI object at 0x0000026AF3C07ED0>, root_async_client=<openai.AsyncOpenAI object at 0x0000026AF50C86D0>, model_name='gpt-4.1-mini', temperature=0.0, model_kwargs={}, openai_api_key=SecretStr('**********'), stream_usage=True)"
      ]
     },
     "execution_count": 5,
     "metadata": {},
     "output_type": "execute_result"
    }
   ],
   "source": [
    "# 2. llm setting\n",
    "model = ChatOpenAI(\n",
    "    model = \"gpt-4.1-mini\",\n",
    "    temperature = 0\n",
    ")\n",
    "\n",
    "model"
   ]
  },
  {
   "cell_type": "code",
   "execution_count": 6,
   "id": "603775a4",
   "metadata": {},
   "outputs": [
    {
     "data": {
      "text/plain": [
       "ChatPromptTemplate(input_variables=['history', 'question'], optional_variables=['agent_scratchpad'], input_types={'history': list[typing.Annotated[typing.Union[typing.Annotated[langchain_core.messages.ai.AIMessage, Tag(tag='ai')], typing.Annotated[langchain_core.messages.human.HumanMessage, Tag(tag='human')], typing.Annotated[langchain_core.messages.chat.ChatMessage, Tag(tag='chat')], typing.Annotated[langchain_core.messages.system.SystemMessage, Tag(tag='system')], typing.Annotated[langchain_core.messages.function.FunctionMessage, Tag(tag='function')], typing.Annotated[langchain_core.messages.tool.ToolMessage, Tag(tag='tool')], typing.Annotated[langchain_core.messages.ai.AIMessageChunk, Tag(tag='AIMessageChunk')], typing.Annotated[langchain_core.messages.human.HumanMessageChunk, Tag(tag='HumanMessageChunk')], typing.Annotated[langchain_core.messages.chat.ChatMessageChunk, Tag(tag='ChatMessageChunk')], typing.Annotated[langchain_core.messages.system.SystemMessageChunk, Tag(tag='SystemMessageChunk')], typing.Annotated[langchain_core.messages.function.FunctionMessageChunk, Tag(tag='FunctionMessageChunk')], typing.Annotated[langchain_core.messages.tool.ToolMessageChunk, Tag(tag='ToolMessageChunk')]], FieldInfo(annotation=NoneType, required=True, discriminator=Discriminator(discriminator=<function _get_type at 0x0000026ABB696CA0>, custom_error_type=None, custom_error_message=None, custom_error_context=None))]], 'agent_scratchpad': list[typing.Annotated[typing.Union[typing.Annotated[langchain_core.messages.ai.AIMessage, Tag(tag='ai')], typing.Annotated[langchain_core.messages.human.HumanMessage, Tag(tag='human')], typing.Annotated[langchain_core.messages.chat.ChatMessage, Tag(tag='chat')], typing.Annotated[langchain_core.messages.system.SystemMessage, Tag(tag='system')], typing.Annotated[langchain_core.messages.function.FunctionMessage, Tag(tag='function')], typing.Annotated[langchain_core.messages.tool.ToolMessage, Tag(tag='tool')], typing.Annotated[langchain_core.messages.ai.AIMessageChunk, Tag(tag='AIMessageChunk')], typing.Annotated[langchain_core.messages.human.HumanMessageChunk, Tag(tag='HumanMessageChunk')], typing.Annotated[langchain_core.messages.chat.ChatMessageChunk, Tag(tag='ChatMessageChunk')], typing.Annotated[langchain_core.messages.system.SystemMessageChunk, Tag(tag='SystemMessageChunk')], typing.Annotated[langchain_core.messages.function.FunctionMessageChunk, Tag(tag='FunctionMessageChunk')], typing.Annotated[langchain_core.messages.tool.ToolMessageChunk, Tag(tag='ToolMessageChunk')]], FieldInfo(annotation=NoneType, required=True, discriminator=Discriminator(discriminator=<function _get_type at 0x0000026ABB696CA0>, custom_error_type=None, custom_error_message=None, custom_error_context=None))]]}, partial_variables={'agent_scratchpad': []}, messages=[SystemMessagePromptTemplate(prompt=PromptTemplate(input_variables=[], input_types={}, partial_variables={}, template='너는 일정을 잘 관리하는 ai 비서야. 주어지는 tool을 활용해서 사용자의 요청을 처리해줘'), additional_kwargs={}), MessagesPlaceholder(variable_name='history'), HumanMessagePromptTemplate(prompt=PromptTemplate(input_variables=['question'], input_types={}, partial_variables={}, template='{question}'), additional_kwargs={}), MessagesPlaceholder(variable_name='agent_scratchpad', optional=True)])"
      ]
     },
     "execution_count": 6,
     "metadata": {},
     "output_type": "execute_result"
    }
   ],
   "source": [
    "# 3. prompt setting\n",
    "prompt = ChatPromptTemplate.from_messages(\n",
    "    [\n",
    "        ('system', '너는 일정을 잘 관리하는 ai 비서야. 주어지는 tool을 활용해서 사용자의 요청을 처리해줘'),\n",
    "        MessagesPlaceholder(variable_name='history'),\n",
    "        ('human', '{question}'),\n",
    "        (\"placeholder\", \"{agent_scratchpad}\")\n",
    "    ]\n",
    ")\n",
    "\n",
    "prompt"
   ]
  },
  {
   "cell_type": "code",
   "execution_count": 7,
   "id": "4d4faa88",
   "metadata": {},
   "outputs": [],
   "source": [
    "# 4. agent setting\n",
    "agent = create_openai_tools_agent(\n",
    "    model,\n",
    "    tools,\n",
    "    prompt\n",
    ")\n",
    "\n",
    "executor = AgentExecutor(\n",
    "    agent=agent,\n",
    "    tools=tools,\n",
    "    verbose=True\n",
    ")"
   ]
  },
  {
   "cell_type": "code",
   "execution_count": 8,
   "id": "b25d92ba",
   "metadata": {},
   "outputs": [],
   "source": [
    "# 5. memory setting\n",
    "from typing import Dict\n",
    "from langchain_core.chat_history import InMemoryChatMessageHistory\n",
    "from langchain_core.runnables.history import RunnableWithMessageHistory\n",
    "\n",
    "stores : Dict[str, InMemoryChatMessageHistory] = {}\n",
    "\n",
    "def get_store(session_id : str):\n",
    "    if session_id not in stores:\n",
    "        stores[session_id] = InMemoryChatMessageHistory()\n",
    "    return stores[session_id]\n",
    "\n",
    "agent_history = RunnableWithMessageHistory(\n",
    "    executor,\n",
    "    lambda session_id: get_store(session_id),\n",
    "    input_messages_key=\"question\",\n",
    "    history_messages_key=\"history\"\n",
    ")"
   ]
  },
  {
   "cell_type": "code",
   "execution_count": null,
   "id": "91e31b4c",
   "metadata": {},
   "outputs": [
    {
     "name": "stdout",
     "output_type": "stream",
     "text": [
      "\n",
      "\n",
      "\u001b[1m> Entering new AgentExecutor chain...\u001b[0m\n",
      "\u001b[32;1m\u001b[1;3m\n",
      "Invoking: `add_todo` with `{'item': '돌마리 운동회 12시 30분 파워댄스'}`\n",
      "\n",
      "\n",
      "\u001b[0m\u001b[36;1m\u001b[1;3mAdded 돌마리 운동회 12시 30분 파워댄스 to schedule\u001b[0m\u001b[32;1m\u001b[1;3m오늘 돌마리 운동회 12시 30분에 파워댄스 일정을 등록해드렸습니다. 다른 일정도 도와드릴까요?\u001b[0m\n",
      "\n",
      "\u001b[1m> Finished chain.\u001b[0m\n"
     ]
    },
    {
     "data": {
      "text/plain": [
       "{'question': '오늘 돌마리 운동회 12시 30분에 파워댄스 일정 등록해줘',\n",
       " 'history': [],\n",
       " 'output': '오늘 돌마리 운동회 12시 30분에 파워댄스 일정을 등록해드렸습니다. 다른 일정도 도와드릴까요?'}"
      ]
     },
     "execution_count": 9,
     "metadata": {},
     "output_type": "execute_result"
    }
   ],
   "source": [
    "# 6. schedule register\n",
    "cfg = {\"configurable\" : {\"session_id\" : \"user-123\"}}\n",
    "\n",
    "agent_history.invoke({\n",
    "        \"question\" : \"오늘 오후 5시에 미팅 일정 등록해줘\"\n",
    "    }, config = cfg\n",
    ")"
   ]
  },
  {
   "cell_type": "code",
   "execution_count": 10,
   "id": "6459235f",
   "metadata": {},
   "outputs": [
    {
     "name": "stdout",
     "output_type": "stream",
     "text": [
      "\n",
      "\n",
      "\u001b[1m> Entering new AgentExecutor chain...\u001b[0m\n",
      "\u001b[32;1m\u001b[1;3m\n",
      "Invoking: `view_todos` with `{}`\n",
      "\n",
      "\n",
      "\u001b[0mtest item : 돌마리 운동회 12시 30분 파워댄스\n",
      "False\n",
      "\u001b[33;1m\u001b[1;3mTodo Schedule(Not Completed): - 돌마리 운동회 12시 30분 파워댄스\u001b[0m\u001b[32;1m\u001b[1;3m등록된 일정은 \"돌마리 운동회 12시 30분 파워댄스\"입니다. 다른 일정도 확인하거나 추가할 것이 있나요?\u001b[0m\n",
      "\n",
      "\u001b[1m> Finished chain.\u001b[0m\n"
     ]
    },
    {
     "data": {
      "text/plain": [
       "{'question': '등록된 일정들 알려줘',\n",
       " 'history': [HumanMessage(content='오늘 돌마리 운동회 12시 30분에 파워댄스 일정 등록해줘', additional_kwargs={}, response_metadata={}),\n",
       "  AIMessage(content='오늘 돌마리 운동회 12시 30분에 파워댄스 일정을 등록해드렸습니다. 다른 일정도 도와드릴까요?', additional_kwargs={}, response_metadata={})],\n",
       " 'output': '등록된 일정은 \"돌마리 운동회 12시 30분 파워댄스\"입니다. 다른 일정도 확인하거나 추가할 것이 있나요?'}"
      ]
     },
     "execution_count": 10,
     "metadata": {},
     "output_type": "execute_result"
    }
   ],
   "source": [
    "# 6. schedule viewer\n",
    "cfg = {\"configurable\" : {\"session_id\" : \"user-123\"}}\n",
    "\n",
    "agent_history.invoke({\n",
    "    \"question\" : \"등록된 일정들 알려줘\"\n",
    "    }, config = cfg\n",
    ")"
   ]
  }
 ],
 "metadata": {
  "kernelspec": {
   "display_name": "langchain-basic",
   "language": "python",
   "name": "python3"
  },
  "language_info": {
   "codemirror_mode": {
    "name": "ipython",
    "version": 3
   },
   "file_extension": ".py",
   "mimetype": "text/x-python",
   "name": "python",
   "nbconvert_exporter": "python",
   "pygments_lexer": "ipython3",
   "version": "3.11.13"
  }
 },
 "nbformat": 4,
 "nbformat_minor": 5
}
