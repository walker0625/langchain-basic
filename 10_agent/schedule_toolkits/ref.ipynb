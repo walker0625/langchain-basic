{
 "cells": [
  {
   "cell_type": "markdown",
   "id": "cee56e58",
   "metadata": {},
   "source": [
    "## * decorator"
   ]
  },
  {
   "cell_type": "code",
   "execution_count": null,
   "id": "8dcdab26",
   "metadata": {},
   "outputs": [],
   "source": [
    "def my_decorator(func):\n",
    "    def wrapper(*args, **kwargs):\n",
    "        print(\"함수 실행전\")\n",
    "        result = func(*args, **kwargs)\n",
    "        print(\"함수 실행 후\")\n",
    "        return result\n",
    "    return wrapper\n",
    "\n",
    "@my_decorator\n",
    "def hello_custom(name, greeting=\"반가워요\"):\n",
    "    print(name, \"님\", greeting)\n",
    "    \n",
    "result = hello_custom(\"walker\")"
   ]
  },
  {
   "cell_type": "markdown",
   "id": "0d67c112",
   "metadata": {},
   "source": [
    "## * csv"
   ]
  },
  {
   "cell_type": "code",
   "execution_count": null,
   "id": "50c4fc59",
   "metadata": {},
   "outputs": [],
   "source": [
    "import csv\n",
    "\n",
    "@tool('csv_write', return_direct=False)\n",
    "def csv_write(csv_path: str, rows: List[Dict], mode: str = 'a') -> str:\n",
    "    \"\"\"\n",
    "    rows(List[dict])를 csv 파일에 저장한다\n",
    "    - csv_path : csv 경로('result.csv')\n",
    "    - rows : 딕셔너리 목록, 키가 헤더가 됨, 새파일이면 헤더를 자동 생성\n",
    "    - mode : 'a' 추가 모드(기본), 'w' 새로 쓰기\n",
    "    반환 : 작성 행 수/헤더 정보\n",
    "    \"\"\"\n",
    "    \n",
    "    header = [\"date\", \"query\", \"title\", \"url\", \"snippet\"]\n",
    "    \n",
    "    with open(csv_path, mode, newline=\"\", encoding='utf-8') as f:\n",
    "        writer = csv.DictWriter(f, fieldnames=header)\n",
    "        for r in rows:\n",
    "            writer.writerow(r)\n",
    "    return f'csv 저장 완료 : {csv_path}, 행수 : {len(rows)}, 헤더 : {header}'"
   ]
  }
 ],
 "metadata": {
  "language_info": {
   "name": "python"
  }
 },
 "nbformat": 4,
 "nbformat_minor": 5
}
