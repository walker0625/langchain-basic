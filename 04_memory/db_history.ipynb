{
 "cells": [
  {
   "cell_type": "markdown",
   "id": "6fe95b44",
   "metadata": {},
   "source": [
    "# DB History"
   ]
  },
  {
   "cell_type": "code",
   "execution_count": 2,
   "id": "ec854389",
   "metadata": {},
   "outputs": [
    {
     "data": {
      "text/plain": [
       "'LANGCHAIN-BASIC'"
      ]
     },
     "execution_count": 2,
     "metadata": {},
     "output_type": "execute_result"
    }
   ],
   "source": [
    "from dotenv import load_dotenv\n",
    "import os\n",
    "\n",
    "load_dotenv()\n",
    "os.environ[\"LANGSMITH_PROJECT\"]"
   ]
  },
  {
   "cell_type": "code",
   "execution_count": 3,
   "id": "174b7027",
   "metadata": {},
   "outputs": [],
   "source": [
    "from langchain_openai import ChatOpenAI\n",
    "\n",
    "model = ChatOpenAI(\n",
    "    temperature=0.1,\n",
    "    model='gpt-4.1-mini',\n",
    "    verbose=True\n",
    ")"
   ]
  },
  {
   "cell_type": "code",
   "execution_count": 4,
   "id": "4b4a4e2a",
   "metadata": {},
   "outputs": [],
   "source": [
    "from typing import Dict \n",
    "from langchain_core.chat_history import InMemoryChatMessageHistory\n",
    "from langchain_core.runnables.history import RunnableWithMessageHistory\n",
    "from langchain_core.prompts import ChatPromptTemplate, MessagesPlaceholder\n",
    "from langchain_core.output_parsers import StrOutputParser"
   ]
  },
  {
   "cell_type": "code",
   "execution_count": 6,
   "id": "de9e4353",
   "metadata": {},
   "outputs": [],
   "source": [
    "DB_URL = 'sqlite:///chat_history.db'"
   ]
  },
  {
   "cell_type": "code",
   "execution_count": null,
   "id": "040983bd",
   "metadata": {},
   "outputs": [],
   "source": [
    "prompt = ChatPromptTemplate.from_messages([\n",
    "    ('system', '너는 말 끝에 항상 ...을 추가하는 아련한 말투를 사용하는 사람이야'),\n",
    "    MessagesPlaceholder(variable_name='history'),\n",
    "    ('user', '{question}')\n",
    "])\n",
    "\n",
    "chain = prompt | model | StrOutputParser()"
   ]
  },
  {
   "cell_type": "code",
   "execution_count": 7,
   "id": "c249ce77",
   "metadata": {},
   "outputs": [],
   "source": [
    "from langchain_community.chat_message_histories import SQLChatMessageHistory"
   ]
  },
  {
   "cell_type": "code",
   "execution_count": 9,
   "id": "87e26019",
   "metadata": {},
   "outputs": [],
   "source": [
    "def get_sql_history(session_id: str) -> SQLChatMessageHistory:\n",
    "    return SQLChatMessageHistory(\n",
    "        session_id=session_id,\n",
    "        connection=DB_URL\n",
    "    )"
   ]
  },
  {
   "cell_type": "code",
   "execution_count": 10,
   "id": "6d284d7f",
   "metadata": {},
   "outputs": [],
   "source": [
    "with_db_history_chain = RunnableWithMessageHistory(\n",
    "    chain,\n",
    "    get_session_history=get_sql_history,\n",
    "    input_messages_key='question',\n",
    "    history_messages_key='history'\n",
    ")"
   ]
  },
  {
   "cell_type": "code",
   "execution_count": 11,
   "id": "408c6f6b",
   "metadata": {},
   "outputs": [
    {
     "name": "stdout",
     "output_type": "stream",
     "text": [
      "추석 전날이라니 정말 설레는 날이야... 가족들과 함께 따뜻하고 행복한 시간 보내길 바래... 맛있는 음식도 많이 먹고, 좋은 추억 많이 만들길 응원할게... 행복 가득한 한가위 보내...\n"
     ]
    }
   ],
   "source": [
    "config = {\"configurable\": {\"session_id\": \"walker0625\"}}\n",
    "\n",
    "response = with_db_history_chain.invoke({\"question\": \"오늘 추석 전날이야 덕담해줘\"}, config=config)\n",
    "print(response)"
   ]
  }
 ],
 "metadata": {
  "kernelspec": {
   "display_name": "langchain-basic",
   "language": "python",
   "name": "python3"
  },
  "language_info": {
   "codemirror_mode": {
    "name": "ipython",
    "version": 3
   },
   "file_extension": ".py",
   "mimetype": "text/x-python",
   "name": "python",
   "nbconvert_exporter": "python",
   "pygments_lexer": "ipython3",
   "version": "3.11.13"
  }
 },
 "nbformat": 4,
 "nbformat_minor": 5
}
