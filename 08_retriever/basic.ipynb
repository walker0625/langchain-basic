{
 "cells": [
  {
   "cell_type": "markdown",
   "id": "046321cb",
   "metadata": {},
   "source": [
    "# Retriever"
   ]
  },
  {
   "cell_type": "code",
   "execution_count": null,
   "id": "c53ab2bc",
   "metadata": {},
   "outputs": [],
   "source": [
    "# uv add rich : 포메팅 의존성"
   ]
  },
  {
   "cell_type": "code",
   "execution_count": 1,
   "id": "5bcbd31f",
   "metadata": {},
   "outputs": [
    {
     "data": {
      "text/plain": [
       "True"
      ]
     },
     "execution_count": 1,
     "metadata": {},
     "output_type": "execute_result"
    }
   ],
   "source": [
    "from dotenv import load_dotenv\n",
    "load_dotenv()"
   ]
  },
  {
   "cell_type": "code",
   "execution_count": 11,
   "id": "b94ae693",
   "metadata": {},
   "outputs": [],
   "source": [
    "# 출력 예쁘게 하기\n",
    "from rich.console import Console\n",
    "from rich.table import Table\n",
    "\n",
    "console = Console()\n",
    "\n",
    "def rich_docs(docs, max_len=140, title=\"Retriever Results\"):\n",
    "    table = Table(title=title)\n",
    "    table.add_column(\"#\", justify=\"right\")\n",
    "    table.add_column(\"Source\")\n",
    "    table.add_column(\"Page\", justify=\"right\")\n",
    "    table.add_column(\"Preview\")\n",
    "\n",
    "    for i, d in enumerate(docs, 1):\n",
    "        m = d.metadata or {}\n",
    "        src = (m.get(\"source\",\"\") or \"\").split(\"/\")[-1]\n",
    "        page = str(m.get(\"page_label\", m.get(\"page\",0)+1))\n",
    "        text = (d.page_content or \"\").strip().replace(\"\\n\", \" \")\n",
    "        table.add_row(str(i), src, page, (text[:max_len] + (\"…\" if len(text) > max_len else \"\")))\n",
    "\n",
    "    console.print(table)"
   ]
  },
  {
   "cell_type": "markdown",
   "id": "f5ccada3",
   "metadata": {},
   "source": [
    "## retriever 설정\n",
    "- 일반 RAG 기본값 : similarity or mmr\n",
    "- 중복이 많을 경우 : mmr\n",
    "- 그외 필터링이 필요한 경우 : search_krwargs\n",
    "- 길이가 긴 경우 : compressed_retriever | parant_child\n",
    "- 용어가 중요할 경우 : hybrid(vec + bm25)\n",
    "- 정확도 극대화 : similarity -> rerank -> reorder"
   ]
  },
  {
   "cell_type": "code",
   "execution_count": 3,
   "id": "d9dda042",
   "metadata": {},
   "outputs": [],
   "source": [
    "from langchain_openai import OpenAIEmbeddings, ChatOpenAI\n",
    "from langchain_chroma import Chroma"
   ]
  },
  {
   "cell_type": "code",
   "execution_count": 5,
   "id": "1b97099c",
   "metadata": {},
   "outputs": [
    {
     "data": {
      "text/plain": [
       "444"
      ]
     },
     "execution_count": 5,
     "metadata": {},
     "output_type": "execute_result"
    }
   ],
   "source": [
    "emb = OpenAIEmbeddings(model='text-embedding-3-small')\n",
    "\n",
    "db_path = '../vectorstore/chroma_samsung'\n",
    "collection_name = 'samsung_all'\n",
    "\n",
    "vecstore = Chroma(\n",
    "    persist_directory=db_path,\n",
    "    collection_name=collection_name,\n",
    "    embedding_function=emb\n",
    ")\n",
    "\n",
    "vecstore._collection.count()"
   ]
  },
  {
   "cell_type": "code",
   "execution_count": 6,
   "id": "460db7bf",
   "metadata": {},
   "outputs": [
    {
     "data": {
      "text/plain": [
       "1536"
      ]
     },
     "execution_count": 6,
     "metadata": {},
     "output_type": "execute_result"
    }
   ],
   "source": [
    "dim_size = len(emb.embed_query('test'))\n",
    "dim_size"
   ]
  },
  {
   "cell_type": "markdown",
   "id": "8f556cb3",
   "metadata": {},
   "source": [
    "## 1. 벡터 기반 검색기(유사도/mmr/score_threshole/filter)"
   ]
  },
  {
   "cell_type": "code",
   "execution_count": 7,
   "id": "2ddd1404",
   "metadata": {},
   "outputs": [],
   "source": [
    "question = '삼성의 지속 가능성에 대해 알려줘'"
   ]
  },
  {
   "cell_type": "code",
   "execution_count": null,
   "id": "b1b647bb",
   "metadata": {},
   "outputs": [
    {
     "data": {
      "text/html": [
       "<pre style=\"white-space:pre;overflow-x:auto;line-height:normal;font-family:Menlo,'DejaVu Sans Mono',consolas,'Courier New',monospace\"><span style=\"font-style: italic\">                                                    similarity                                                     </span>\n",
       "┏━━━━┳━━━━━━━━━━━━━━━━━━━━━━━━━━━━━━━━━━━━━━━━━━━━━━━━━━┳━━━━━━┳━━━━━━━━━━━━━━━━━━━━━━━━━━━━━━━━━━━━━━━━━━━━━━━━━━┓\n",
       "┃<span style=\"font-weight: bold\">  # </span>┃<span style=\"font-weight: bold\"> Source                                           </span>┃<span style=\"font-weight: bold\"> Page </span>┃<span style=\"font-weight: bold\"> Preview                                          </span>┃\n",
       "┡━━━━╇━━━━━━━━━━━━━━━━━━━━━━━━━━━━━━━━━━━━━━━━━━━━━━━━━━╇━━━━━━╇━━━━━━━━━━━━━━━━━━━━━━━━━━━━━━━━━━━━━━━━━━━━━━━━━━┩\n",
       "│  1 │ Samsung_Electronics_Sustainability_Report_2025_… │   86 │ ·  삼성전자주식회사 지속가능경영 웹사이트        │\n",
       "│    │                                                  │      │ http://www.samsung.com/sec/sustainability/main · │\n",
       "│    │                                                  │      │ 삼성전자주식회사 IR 웹사이트                     │\n",
       "│    │                                                  │      │ http://www.samsung.com/sec/ir ·                  │\n",
       "│    │                                                  │      │ 삼성전자주식회사 뉴…                             │\n",
       "│  2 │ Sustainability_report_2024_kr.pdf                │   82 │ 비록 삼성전자주식회사는 지속가능경영보고서의     │\n",
       "│    │                                                  │      │ 미래 예측 진술이 시의성 있고 합리적인 정보, 가 … │\n",
       "│    │                                                  │      │ 및 믿음에 기반한다고 판단하지만, 이러한 미래     │\n",
       "│    │                                                  │      │ 예측 진술(그리고 이를 이루는 정보, 가정 및       │\n",
       "│    │                                                  │      │ 믿음)은  다양한 요인, 리스크, 불확실성의         │\n",
       "│    │                                                  │      │ 영향권에 있으므로…                               │\n",
       "│  3 │ Sustainability_report_2024_kr.pdf                │   82 │ ISAE3000을 적용했습니다. 관련 정보 ·             │\n",
       "│    │                                                  │      │ 삼성전자주식회사 대표 홈페이지                   │\n",
       "│    │                                                  │      │ http://www.samsung.com/sec ·  삼성전자주식회사   │\n",
       "│    │                                                  │      │ 지속가능경영 웹사이트                            │\n",
       "│    │                                                  │      │ http://www.samsung.com/sec/sustainabilit…        │\n",
       "│  4 │ Samsung_Electronics_Sustainability_Report_2025_… │   86 │ 삼성전자 지속가능경영보고서 2025 86              │\n",
       "│    │                                                  │      │ 삼성전자주식회사는 경제·사회·환경적 가치 창출    │\n",
       "│    │                                                  │      │ 성과를 다양한 이해관계자와 투명하게 소통하기     │\n",
       "│    │                                                  │      │ 위해 2025년 열여덟 번째 지속가능경영보고서를     │\n",
       "│    │                                                  │      │ 발간합니다. 작성 기준 본 보고서는 지속가능경영   │\n",
       "│    │                                                  │      │ 보고 기준인 GRI(G…                               │\n",
       "│  5 │ Samsung_Electronics_Sustainability_Report_2025_… │   86 │ 비록 삼성전자주식회사는 지속가능경영보고서의     │\n",
       "│    │                                                  │      │ 미래 예측 진술이 시의성 있고 합리적인 정보, 가 … │\n",
       "│    │                                                  │      │ 및 믿음에 기반한다고 판단하지만, 이러한 미래     │\n",
       "│    │                                                  │      │ 예측 진술(그리고 이를 이루는 정보, 가정 및       │\n",
       "│    │                                                  │      │ 믿음)은  다양한 요인, 리스크, 불확실성의         │\n",
       "│    │                                                  │      │ 영향권에 있으므로…                               │\n",
       "│  6 │ Samsung_Electronics_Sustainability_Report_2025_… │    1 │ 삼성전자 지속가능경영보고서 2025 A Journey       │\n",
       "│    │                                                  │      │ Towards   a Sustainable Future A Journey         │\n",
       "│    │                                                  │      │ Towards  a Sustainable Future                    │\n",
       "│  7 │ Sustainability_report_2024_kr.pdf                │   55 │ 삼성전자 지속가능경영보고서 2024 55Our Company   │\n",
       "│    │                                                  │      │ AppendixMateriality Assessment Facts &amp; Figures   │\n",
       "│    │                                                  │      │ PrinciplePlanet People Facts &amp; Figures 56        │\n",
       "│    │                                                  │      │ 경제성과 57     사…                              │\n",
       "│  8 │ Sustainability_report_2024_kr.pdf                │   30 │ 삼성전자 지속가능경영보고서 2024 30Our Company   │\n",
       "│    │                                                  │      │ AppendixMateriality Assessment Facts &amp; Figures   │\n",
       "│    │                                                  │      │ PrinciplePlanet People 사회적 책임을 다하며      │\n",
       "│    │                                                  │      │ 미래로 함께 나아갑니다. People 31 …              │\n",
       "│  9 │ Sustainability_report_2024_kr.pdf                │    4 │ 삼성전자 지속가능경영보고서 2024 04 Our Company  │\n",
       "│    │                                                  │      │ AppendixMateriality Assessment Facts &amp; Figures   │\n",
       "│    │                                                  │      │ PrinciplePlanet People CEO 메시지 Message from   │\n",
       "│    │                                                  │      │ Our CEO 주주, 고…                                │\n",
       "│ 10 │ Samsung_Electronics_Sustainability_Report_2025_… │   46 │ 삼성전자 지속가능경영보고서 2025 46 주요 평가    │\n",
       "│    │                                                  │      │ 항목 책임있는 구매관행 거래 기본 계약서 체결     │\n",
       "│    │                                                  │      │ 삼성전자는 협력회사와의 거래 기본 계약서에       │\n",
       "│    │                                                  │      │ 온실가스 관리를 포함한 협력회사 행동규범 준수    │\n",
       "│    │                                                  │      │ 의무를 명시함으로써  협력회사 지속가능경영 기반  │\n",
       "│    │                                                  │      │ 강화를 위해 노…                                  │\n",
       "└────┴──────────────────────────────────────────────────┴──────┴──────────────────────────────────────────────────┘\n",
       "</pre>\n"
      ],
      "text/plain": [
       "\u001b[3m                                                    similarity                                                     \u001b[0m\n",
       "┏━━━━┳━━━━━━━━━━━━━━━━━━━━━━━━━━━━━━━━━━━━━━━━━━━━━━━━━━┳━━━━━━┳━━━━━━━━━━━━━━━━━━━━━━━━━━━━━━━━━━━━━━━━━━━━━━━━━━┓\n",
       "┃\u001b[1m \u001b[0m\u001b[1m #\u001b[0m\u001b[1m \u001b[0m┃\u001b[1m \u001b[0m\u001b[1mSource                                          \u001b[0m\u001b[1m \u001b[0m┃\u001b[1m \u001b[0m\u001b[1mPage\u001b[0m\u001b[1m \u001b[0m┃\u001b[1m \u001b[0m\u001b[1mPreview                                         \u001b[0m\u001b[1m \u001b[0m┃\n",
       "┡━━━━╇━━━━━━━━━━━━━━━━━━━━━━━━━━━━━━━━━━━━━━━━━━━━━━━━━━╇━━━━━━╇━━━━━━━━━━━━━━━━━━━━━━━━━━━━━━━━━━━━━━━━━━━━━━━━━━┩\n",
       "│  1 │ Samsung_Electronics_Sustainability_Report_2025_… │   86 │ ·  삼성전자주식회사 지속가능경영 웹사이트        │\n",
       "│    │                                                  │      │ http://www.samsung.com/sec/sustainability/main · │\n",
       "│    │                                                  │      │ 삼성전자주식회사 IR 웹사이트                     │\n",
       "│    │                                                  │      │ http://www.samsung.com/sec/ir ·                  │\n",
       "│    │                                                  │      │ 삼성전자주식회사 뉴…                             │\n",
       "│  2 │ Sustainability_report_2024_kr.pdf                │   82 │ 비록 삼성전자주식회사는 지속가능경영보고서의     │\n",
       "│    │                                                  │      │ 미래 예측 진술이 시의성 있고 합리적인 정보, 가 … │\n",
       "│    │                                                  │      │ 및 믿음에 기반한다고 판단하지만, 이러한 미래     │\n",
       "│    │                                                  │      │ 예측 진술(그리고 이를 이루는 정보, 가정 및       │\n",
       "│    │                                                  │      │ 믿음)은  다양한 요인, 리스크, 불확실성의         │\n",
       "│    │                                                  │      │ 영향권에 있으므로…                               │\n",
       "│  3 │ Sustainability_report_2024_kr.pdf                │   82 │ ISAE3000을 적용했습니다. 관련 정보 ·             │\n",
       "│    │                                                  │      │ 삼성전자주식회사 대표 홈페이지                   │\n",
       "│    │                                                  │      │ http://www.samsung.com/sec ·  삼성전자주식회사   │\n",
       "│    │                                                  │      │ 지속가능경영 웹사이트                            │\n",
       "│    │                                                  │      │ http://www.samsung.com/sec/sustainabilit…        │\n",
       "│  4 │ Samsung_Electronics_Sustainability_Report_2025_… │   86 │ 삼성전자 지속가능경영보고서 2025 86              │\n",
       "│    │                                                  │      │ 삼성전자주식회사는 경제·사회·환경적 가치 창출    │\n",
       "│    │                                                  │      │ 성과를 다양한 이해관계자와 투명하게 소통하기     │\n",
       "│    │                                                  │      │ 위해 2025년 열여덟 번째 지속가능경영보고서를     │\n",
       "│    │                                                  │      │ 발간합니다. 작성 기준 본 보고서는 지속가능경영   │\n",
       "│    │                                                  │      │ 보고 기준인 GRI(G…                               │\n",
       "│  5 │ Samsung_Electronics_Sustainability_Report_2025_… │   86 │ 비록 삼성전자주식회사는 지속가능경영보고서의     │\n",
       "│    │                                                  │      │ 미래 예측 진술이 시의성 있고 합리적인 정보, 가 … │\n",
       "│    │                                                  │      │ 및 믿음에 기반한다고 판단하지만, 이러한 미래     │\n",
       "│    │                                                  │      │ 예측 진술(그리고 이를 이루는 정보, 가정 및       │\n",
       "│    │                                                  │      │ 믿음)은  다양한 요인, 리스크, 불확실성의         │\n",
       "│    │                                                  │      │ 영향권에 있으므로…                               │\n",
       "│  6 │ Samsung_Electronics_Sustainability_Report_2025_… │    1 │ 삼성전자 지속가능경영보고서 2025 A Journey       │\n",
       "│    │                                                  │      │ Towards   a Sustainable Future A Journey         │\n",
       "│    │                                                  │      │ Towards  a Sustainable Future                    │\n",
       "│  7 │ Sustainability_report_2024_kr.pdf                │   55 │ 삼성전자 지속가능경영보고서 2024 55Our Company   │\n",
       "│    │                                                  │      │ AppendixMateriality Assessment Facts & Figures   │\n",
       "│    │                                                  │      │ PrinciplePlanet People Facts & Figures 56        │\n",
       "│    │                                                  │      │ 경제성과 57     사…                              │\n",
       "│  8 │ Sustainability_report_2024_kr.pdf                │   30 │ 삼성전자 지속가능경영보고서 2024 30Our Company   │\n",
       "│    │                                                  │      │ AppendixMateriality Assessment Facts & Figures   │\n",
       "│    │                                                  │      │ PrinciplePlanet People 사회적 책임을 다하며      │\n",
       "│    │                                                  │      │ 미래로 함께 나아갑니다. People 31 …              │\n",
       "│  9 │ Sustainability_report_2024_kr.pdf                │    4 │ 삼성전자 지속가능경영보고서 2024 04 Our Company  │\n",
       "│    │                                                  │      │ AppendixMateriality Assessment Facts & Figures   │\n",
       "│    │                                                  │      │ PrinciplePlanet People CEO 메시지 Message from   │\n",
       "│    │                                                  │      │ Our CEO 주주, 고…                                │\n",
       "│ 10 │ Samsung_Electronics_Sustainability_Report_2025_… │   46 │ 삼성전자 지속가능경영보고서 2025 46 주요 평가    │\n",
       "│    │                                                  │      │ 항목 책임있는 구매관행 거래 기본 계약서 체결     │\n",
       "│    │                                                  │      │ 삼성전자는 협력회사와의 거래 기본 계약서에       │\n",
       "│    │                                                  │      │ 온실가스 관리를 포함한 협력회사 행동규범 준수    │\n",
       "│    │                                                  │      │ 의무를 명시함으로써  협력회사 지속가능경영 기반  │\n",
       "│    │                                                  │      │ 강화를 위해 노…                                  │\n",
       "└────┴──────────────────────────────────────────────────┴──────┴──────────────────────────────────────────────────┘\n"
      ]
     },
     "metadata": {},
     "output_type": "display_data"
    }
   ],
   "source": [
    "# similarity\n",
    "ret_sim = vecstore.as_retriever(\n",
    "    search_type = 'similarity',\n",
    "    search_kwargs = {'k' : 10}\n",
    "    \n",
    ")\n",
    "\n",
    "rich_docs(ret_sim.invoke(question), title='similarity')"
   ]
  },
  {
   "cell_type": "code",
   "execution_count": 18,
   "id": "abbb1e3f",
   "metadata": {},
   "outputs": [
    {
     "data": {
      "text/html": [
       "<pre style=\"white-space:pre;overflow-x:auto;line-height:normal;font-family:Menlo,'DejaVu Sans Mono',consolas,'Courier New',monospace\"><span style=\"font-style: italic\">                                                        mmr                                                        </span>\n",
       "┏━━━━┳━━━━━━━━━━━━━━━━━━━━━━━━━━━━━━━━━━━━━━━━━━━━━━━━━━┳━━━━━━┳━━━━━━━━━━━━━━━━━━━━━━━━━━━━━━━━━━━━━━━━━━━━━━━━━━┓\n",
       "┃<span style=\"font-weight: bold\">  # </span>┃<span style=\"font-weight: bold\"> Source                                           </span>┃<span style=\"font-weight: bold\"> Page </span>┃<span style=\"font-weight: bold\"> Preview                                          </span>┃\n",
       "┡━━━━╇━━━━━━━━━━━━━━━━━━━━━━━━━━━━━━━━━━━━━━━━━━━━━━━━━━╇━━━━━━╇━━━━━━━━━━━━━━━━━━━━━━━━━━━━━━━━━━━━━━━━━━━━━━━━━━┩\n",
       "│  1 │ Samsung_Electronics_Sustainability_Report_2025_… │   86 │ ·  삼성전자주식회사 지속가능경영 웹사이트        │\n",
       "│    │                                                  │      │ http://www.samsung.com/sec/sustainability/main · │\n",
       "│    │                                                  │      │ 삼성전자주식회사 IR 웹사이트                     │\n",
       "│    │                                                  │      │ http://www.samsung.com/sec/ir ·                  │\n",
       "│    │                                                  │      │ 삼성전자주식회사 뉴…                             │\n",
       "│  2 │ Sustainability_report_2024_kr.pdf                │   82 │ 비록 삼성전자주식회사는 지속가능경영보고서의     │\n",
       "│    │                                                  │      │ 미래 예측 진술이 시의성 있고 합리적인 정보, 가 … │\n",
       "│    │                                                  │      │ 및 믿음에 기반한다고 판단하지만, 이러한 미래     │\n",
       "│    │                                                  │      │ 예측 진술(그리고 이를 이루는 정보, 가정 및       │\n",
       "│    │                                                  │      │ 믿음)은  다양한 요인, 리스크, 불확실성의         │\n",
       "│    │                                                  │      │ 영향권에 있으므로…                               │\n",
       "│  3 │ Samsung_Electronics_Sustainability_Report_2025_… │   86 │ 삼성전자 지속가능경영보고서 2025 86              │\n",
       "│    │                                                  │      │ 삼성전자주식회사는 경제·사회·환경적 가치 창출    │\n",
       "│    │                                                  │      │ 성과를 다양한 이해관계자와 투명하게 소통하기     │\n",
       "│    │                                                  │      │ 위해 2025년 열여덟 번째 지속가능경영보고서를     │\n",
       "│    │                                                  │      │ 발간합니다. 작성 기준 본 보고서는 지속가능경영   │\n",
       "│    │                                                  │      │ 보고 기준인 GRI(G…                               │\n",
       "│  4 │ Samsung_Electronics_Sustainability_Report_2025_… │    1 │ 삼성전자 지속가능경영보고서 2025 A Journey       │\n",
       "│    │                                                  │      │ Towards   a Sustainable Future A Journey         │\n",
       "│    │                                                  │      │ Towards  a Sustainable Future                    │\n",
       "│  5 │ Sustainability_report_2024_kr.pdf                │    4 │ 삼성전자 지속가능경영보고서 2024 04 Our Company  │\n",
       "│    │                                                  │      │ AppendixMateriality Assessment Facts &amp; Figures   │\n",
       "│    │                                                  │      │ PrinciplePlanet People CEO 메시지 Message from   │\n",
       "│    │                                                  │      │ Our CEO 주주, 고…                                │\n",
       "│  6 │ Samsung_Electronics_Sustainability_Report_2025_… │   46 │ 삼성전자 지속가능경영보고서 2025 46 주요 평가    │\n",
       "│    │                                                  │      │ 항목 책임있는 구매관행 거래 기본 계약서 체결     │\n",
       "│    │                                                  │      │ 삼성전자는 협력회사와의 거래 기본 계약서에       │\n",
       "│    │                                                  │      │ 온실가스 관리를 포함한 협력회사 행동규범 준수    │\n",
       "│    │                                                  │      │ 의무를 명시함으로써  협력회사 지속가능경영 기반  │\n",
       "│    │                                                  │      │ 강화를 위해 노…                                  │\n",
       "│  7 │ Samsung_Electronics_Sustainability_Report_2025_… │   76 │ 삼성전자 지속가능경영보고서 2025 76 독립된       │\n",
       "│    │                                                  │      │ 인증인의 인증보고서 Our Company AppendixFacts &amp;  │\n",
       "│    │                                                  │      │ Figures PrinciplePlanet People                   │\n",
       "│  8 │ Sustainability_report_2024_kr.pdf                │   52 │ 삼성전자 지속가능경영보고서 2024 52Our Company   │\n",
       "│    │                                                  │      │ AppendixMateriality Assessment Facts &amp; Figures   │\n",
       "│    │                                                  │      │ PrinciplePlanet People 지속가능한 미래를 위해    │\n",
       "│    │                                                  │      │ 책임경영을 실천합니다. Principle …               │\n",
       "│  9 │ Sustainability_report_2024_kr.pdf                │   23 │ 삼성전자 지속가능경영보고서 2024 23 Our Company  │\n",
       "│    │                                                  │      │ AppendixMateriality Assessment Facts &amp; Figures   │\n",
       "│    │                                                  │      │ PrinciplePlanet People 추진방향 국내 반도체 라 … │\n",
       "│    │                                                  │      │ 증설에 따라 2030년 DS부문 제조…                  │\n",
       "│ 10 │ Samsung_Electronics_Sustainability_Report_2025_… │    4 │ 삼성전자 지속가능경영보고서 2025 04 Our Company  │\n",
       "│    │                                                  │      │ AppendixFacts &amp; Figures PrinciplePlanet People   │\n",
       "│    │                                                  │      │ 주주, 고객, 협력회사, 그리고 임직원 여러분,      │\n",
       "│    │                                                  │      │ 2024년은 글로벌 지정학적 리스크와 AI 기술의 성 … │\n",
       "│    │                                                  │      │ …                                                │\n",
       "└────┴──────────────────────────────────────────────────┴──────┴──────────────────────────────────────────────────┘\n",
       "</pre>\n"
      ],
      "text/plain": [
       "\u001b[3m                                                        mmr                                                        \u001b[0m\n",
       "┏━━━━┳━━━━━━━━━━━━━━━━━━━━━━━━━━━━━━━━━━━━━━━━━━━━━━━━━━┳━━━━━━┳━━━━━━━━━━━━━━━━━━━━━━━━━━━━━━━━━━━━━━━━━━━━━━━━━━┓\n",
       "┃\u001b[1m \u001b[0m\u001b[1m #\u001b[0m\u001b[1m \u001b[0m┃\u001b[1m \u001b[0m\u001b[1mSource                                          \u001b[0m\u001b[1m \u001b[0m┃\u001b[1m \u001b[0m\u001b[1mPage\u001b[0m\u001b[1m \u001b[0m┃\u001b[1m \u001b[0m\u001b[1mPreview                                         \u001b[0m\u001b[1m \u001b[0m┃\n",
       "┡━━━━╇━━━━━━━━━━━━━━━━━━━━━━━━━━━━━━━━━━━━━━━━━━━━━━━━━━╇━━━━━━╇━━━━━━━━━━━━━━━━━━━━━━━━━━━━━━━━━━━━━━━━━━━━━━━━━━┩\n",
       "│  1 │ Samsung_Electronics_Sustainability_Report_2025_… │   86 │ ·  삼성전자주식회사 지속가능경영 웹사이트        │\n",
       "│    │                                                  │      │ http://www.samsung.com/sec/sustainability/main · │\n",
       "│    │                                                  │      │ 삼성전자주식회사 IR 웹사이트                     │\n",
       "│    │                                                  │      │ http://www.samsung.com/sec/ir ·                  │\n",
       "│    │                                                  │      │ 삼성전자주식회사 뉴…                             │\n",
       "│  2 │ Sustainability_report_2024_kr.pdf                │   82 │ 비록 삼성전자주식회사는 지속가능경영보고서의     │\n",
       "│    │                                                  │      │ 미래 예측 진술이 시의성 있고 합리적인 정보, 가 … │\n",
       "│    │                                                  │      │ 및 믿음에 기반한다고 판단하지만, 이러한 미래     │\n",
       "│    │                                                  │      │ 예측 진술(그리고 이를 이루는 정보, 가정 및       │\n",
       "│    │                                                  │      │ 믿음)은  다양한 요인, 리스크, 불확실성의         │\n",
       "│    │                                                  │      │ 영향권에 있으므로…                               │\n",
       "│  3 │ Samsung_Electronics_Sustainability_Report_2025_… │   86 │ 삼성전자 지속가능경영보고서 2025 86              │\n",
       "│    │                                                  │      │ 삼성전자주식회사는 경제·사회·환경적 가치 창출    │\n",
       "│    │                                                  │      │ 성과를 다양한 이해관계자와 투명하게 소통하기     │\n",
       "│    │                                                  │      │ 위해 2025년 열여덟 번째 지속가능경영보고서를     │\n",
       "│    │                                                  │      │ 발간합니다. 작성 기준 본 보고서는 지속가능경영   │\n",
       "│    │                                                  │      │ 보고 기준인 GRI(G…                               │\n",
       "│  4 │ Samsung_Electronics_Sustainability_Report_2025_… │    1 │ 삼성전자 지속가능경영보고서 2025 A Journey       │\n",
       "│    │                                                  │      │ Towards   a Sustainable Future A Journey         │\n",
       "│    │                                                  │      │ Towards  a Sustainable Future                    │\n",
       "│  5 │ Sustainability_report_2024_kr.pdf                │    4 │ 삼성전자 지속가능경영보고서 2024 04 Our Company  │\n",
       "│    │                                                  │      │ AppendixMateriality Assessment Facts & Figures   │\n",
       "│    │                                                  │      │ PrinciplePlanet People CEO 메시지 Message from   │\n",
       "│    │                                                  │      │ Our CEO 주주, 고…                                │\n",
       "│  6 │ Samsung_Electronics_Sustainability_Report_2025_… │   46 │ 삼성전자 지속가능경영보고서 2025 46 주요 평가    │\n",
       "│    │                                                  │      │ 항목 책임있는 구매관행 거래 기본 계약서 체결     │\n",
       "│    │                                                  │      │ 삼성전자는 협력회사와의 거래 기본 계약서에       │\n",
       "│    │                                                  │      │ 온실가스 관리를 포함한 협력회사 행동규범 준수    │\n",
       "│    │                                                  │      │ 의무를 명시함으로써  협력회사 지속가능경영 기반  │\n",
       "│    │                                                  │      │ 강화를 위해 노…                                  │\n",
       "│  7 │ Samsung_Electronics_Sustainability_Report_2025_… │   76 │ 삼성전자 지속가능경영보고서 2025 76 독립된       │\n",
       "│    │                                                  │      │ 인증인의 인증보고서 Our Company AppendixFacts &  │\n",
       "│    │                                                  │      │ Figures PrinciplePlanet People                   │\n",
       "│  8 │ Sustainability_report_2024_kr.pdf                │   52 │ 삼성전자 지속가능경영보고서 2024 52Our Company   │\n",
       "│    │                                                  │      │ AppendixMateriality Assessment Facts & Figures   │\n",
       "│    │                                                  │      │ PrinciplePlanet People 지속가능한 미래를 위해    │\n",
       "│    │                                                  │      │ 책임경영을 실천합니다. Principle …               │\n",
       "│  9 │ Sustainability_report_2024_kr.pdf                │   23 │ 삼성전자 지속가능경영보고서 2024 23 Our Company  │\n",
       "│    │                                                  │      │ AppendixMateriality Assessment Facts & Figures   │\n",
       "│    │                                                  │      │ PrinciplePlanet People 추진방향 국내 반도체 라 … │\n",
       "│    │                                                  │      │ 증설에 따라 2030년 DS부문 제조…                  │\n",
       "│ 10 │ Samsung_Electronics_Sustainability_Report_2025_… │    4 │ 삼성전자 지속가능경영보고서 2025 04 Our Company  │\n",
       "│    │                                                  │      │ AppendixFacts & Figures PrinciplePlanet People   │\n",
       "│    │                                                  │      │ 주주, 고객, 협력회사, 그리고 임직원 여러분,      │\n",
       "│    │                                                  │      │ 2024년은 글로벌 지정학적 리스크와 AI 기술의 성 … │\n",
       "│    │                                                  │      │ …                                                │\n",
       "└────┴──────────────────────────────────────────────────┴──────┴──────────────────────────────────────────────────┘\n"
      ]
     },
     "metadata": {},
     "output_type": "display_data"
    }
   ],
   "source": [
    "# mmr\n",
    "ret_mmr = vecstore.as_retriever(\n",
    "    search_type = 'mmr',\n",
    "    search_kwargs = {'k' : 10,\n",
    "                    'fetch_k' : 20,\n",
    "                    'lambda_mult' : 0.5 # 1 : 관련성, 0 : 다양성\n",
    "                    }\n",
    ")\n",
    "\n",
    "rich_docs(ret_mmr.invoke(question), title='mmr')\n"
   ]
  },
  {
   "cell_type": "code",
   "execution_count": null,
   "id": "849c5f90",
   "metadata": {},
   "outputs": [
    {
     "data": {
      "text/html": [
       "<pre style=\"white-space:pre;overflow-x:auto;line-height:normal;font-family:Menlo,'DejaVu Sans Mono',consolas,'Courier New',monospace\"><span style=\"font-style: italic\">                                            similarity_score_threshold                                             </span>\n",
       "┏━━━┳━━━━━━━━━━━━━━━━━━━━━━━━━━━━━━━━━━━━━━━━━━━━━━━━━━┳━━━━━━┳━━━━━━━━━━━━━━━━━━━━━━━━━━━━━━━━━━━━━━━━━━━━━━━━━━━┓\n",
       "┃<span style=\"font-weight: bold\"> # </span>┃<span style=\"font-weight: bold\"> Source                                           </span>┃<span style=\"font-weight: bold\"> Page </span>┃<span style=\"font-weight: bold\"> Preview                                           </span>┃\n",
       "┡━━━╇━━━━━━━━━━━━━━━━━━━━━━━━━━━━━━━━━━━━━━━━━━━━━━━━━━╇━━━━━━╇━━━━━━━━━━━━━━━━━━━━━━━━━━━━━━━━━━━━━━━━━━━━━━━━━━━┩\n",
       "│ 1 │ Samsung_Electronics_Sustainability_Report_2025_… │   86 │ ·  삼성전자주식회사 지속가능경영 웹사이트         │\n",
       "│   │                                                  │      │ http://www.samsung.com/sec/sustainability/main ·  │\n",
       "│   │                                                  │      │ 삼성전자주식회사 IR 웹사이트                      │\n",
       "│   │                                                  │      │ http://www.samsung.com/sec/ir ·  삼성전자주식회 … │\n",
       "│   │                                                  │      │ 뉴…                                               │\n",
       "└───┴──────────────────────────────────────────────────┴──────┴───────────────────────────────────────────────────┘\n",
       "</pre>\n"
      ],
      "text/plain": [
       "\u001b[3m                                            similarity_score_threshold                                             \u001b[0m\n",
       "┏━━━┳━━━━━━━━━━━━━━━━━━━━━━━━━━━━━━━━━━━━━━━━━━━━━━━━━━┳━━━━━━┳━━━━━━━━━━━━━━━━━━━━━━━━━━━━━━━━━━━━━━━━━━━━━━━━━━━┓\n",
       "┃\u001b[1m \u001b[0m\u001b[1m#\u001b[0m\u001b[1m \u001b[0m┃\u001b[1m \u001b[0m\u001b[1mSource                                          \u001b[0m\u001b[1m \u001b[0m┃\u001b[1m \u001b[0m\u001b[1mPage\u001b[0m\u001b[1m \u001b[0m┃\u001b[1m \u001b[0m\u001b[1mPreview                                          \u001b[0m\u001b[1m \u001b[0m┃\n",
       "┡━━━╇━━━━━━━━━━━━━━━━━━━━━━━━━━━━━━━━━━━━━━━━━━━━━━━━━━╇━━━━━━╇━━━━━━━━━━━━━━━━━━━━━━━━━━━━━━━━━━━━━━━━━━━━━━━━━━━┩\n",
       "│ 1 │ Samsung_Electronics_Sustainability_Report_2025_… │   86 │ ·  삼성전자주식회사 지속가능경영 웹사이트         │\n",
       "│   │                                                  │      │ http://www.samsung.com/sec/sustainability/main ·  │\n",
       "│   │                                                  │      │ 삼성전자주식회사 IR 웹사이트                      │\n",
       "│   │                                                  │      │ http://www.samsung.com/sec/ir ·  삼성전자주식회 … │\n",
       "│   │                                                  │      │ 뉴…                                               │\n",
       "└───┴──────────────────────────────────────────────────┴──────┴───────────────────────────────────────────────────┘\n"
      ]
     },
     "metadata": {},
     "output_type": "display_data"
    }
   ],
   "source": [
    "# similarity_score_threshold\n",
    "ret_threshold = vecstore.as_retriever(\n",
    "    search_type = 'similarity_score_threshold',\n",
    "    search_kwargs = {'k' : 8,\n",
    "                    'score_threshold' : 0.4, # 유사도 기준값으로 필터링\n",
    "                    }\n",
    ")\n",
    "\n",
    "rich_docs(ret_threshold.invoke(question), title='similarity_score_threshold')"
   ]
  },
  {
   "cell_type": "code",
   "execution_count": 24,
   "id": "929dae25",
   "metadata": {},
   "outputs": [
    {
     "name": "stdout",
     "output_type": "stream",
     "text": [
      "{'ids': ['sv_2024::c70cb805-6d44-4ca1-9061-27a9071dfc8e'], 'embeddings': None, 'documents': ['A Journey Towards  \\na Sustainable Future\\n삼성전자 지속가능경영보고서 2024'], 'uris': None, 'included': ['metadatas', 'documents'], 'data': None, 'metadatas': [{'creator': 'Adobe InDesign 15.1 (Macintosh)', 'page_label': '1', 'moddate': '2024-11-25T11:10:46+09:00', 'total_pages': 83, 'producer': 'Adobe PDF Library 15.0', 'creationdate': '2024-11-25T11:10:32+09:00', 'page': 0, 'source': '../data/Sustainability_report_2024_kr.pdf', 'trapped': '/False'}]}\n"
     ]
    },
    {
     "data": {
      "text/html": [
       "<pre style=\"white-space:pre;overflow-x:auto;line-height:normal;font-family:Menlo,'DejaVu Sans Mono',consolas,'Courier New',monospace\"><span style=\"font-style: italic\">                                                      filter                                                       </span>\n",
       "┏━━━━┳━━━━━━━━━━━━━━━━━━━━━━━━━━━━━━━━━━━┳━━━━━━┳━━━━━━━━━━━━━━━━━━━━━━━━━━━━━━━━━━━━━━━━━━━━━━━━━━━━━━━━━━━━━━━━━┓\n",
       "┃<span style=\"font-weight: bold\">  # </span>┃<span style=\"font-weight: bold\"> Source                            </span>┃<span style=\"font-weight: bold\"> Page </span>┃<span style=\"font-weight: bold\"> Preview                                                         </span>┃\n",
       "┡━━━━╇━━━━━━━━━━━━━━━━━━━━━━━━━━━━━━━━━━━╇━━━━━━╇━━━━━━━━━━━━━━━━━━━━━━━━━━━━━━━━━━━━━━━━━━━━━━━━━━━━━━━━━━━━━━━━━┩\n",
       "│  1 │ Sustainability_report_2024_kr.pdf │   82 │ 비록 삼성전자주식회사는 지속가능경영보고서의 미래 예측 진술이   │\n",
       "│    │                                   │      │ 시의성 있고 합리적인 정보, 가정  및 믿음에 기반한다고           │\n",
       "│    │                                   │      │ 판단하지만, 이러한 미래 예측 진술(그리고 이를 이루는 정보, 가 … │\n",
       "│    │                                   │      │ 및 믿음)은  다양한 요인, 리스크, 불확실성의 영향권에 있으므로…  │\n",
       "│  2 │ Sustainability_report_2024_kr.pdf │   82 │ ISAE3000을 적용했습니다. 관련 정보 ·  삼성전자주식회사 대표     │\n",
       "│    │                                   │      │ 홈페이지   http://www.samsung.com/sec ·  삼성전자주식회사       │\n",
       "│    │                                   │      │ 지속가능경영 웹사이트                                           │\n",
       "│    │                                   │      │ http://www.samsung.com/sec/sustainabilit…                       │\n",
       "│  3 │ Sustainability_report_2024_kr.pdf │   55 │ 삼성전자 지속가능경영보고서 2024 55Our Company                  │\n",
       "│    │                                   │      │ AppendixMateriality Assessment Facts &amp; Figures PrinciplePlanet  │\n",
       "│    │                                   │      │ People Facts &amp; Figures 56     경제성과 57     사…               │\n",
       "│  4 │ Sustainability_report_2024_kr.pdf │   30 │ 삼성전자 지속가능경영보고서 2024 30Our Company                  │\n",
       "│    │                                   │      │ AppendixMateriality Assessment Facts &amp; Figures PrinciplePlanet  │\n",
       "│    │                                   │      │ People 사회적 책임을 다하며 미래로 함께 나아갑니다. People 31 … │\n",
       "│  5 │ Sustainability_report_2024_kr.pdf │    4 │ 삼성전자 지속가능경영보고서 2024 04 Our Company                 │\n",
       "│    │                                   │      │ AppendixMateriality Assessment Facts &amp; Figures PrinciplePlanet  │\n",
       "│    │                                   │      │ People CEO 메시지 Message from  Our CEO 주주, 고…               │\n",
       "│  6 │ Sustainability_report_2024_kr.pdf │   82 │ \"outlook,\" \"believes,\" \"estimates,\" \"predicts,\" \"potential,\"    │\n",
       "│    │                                   │      │ \"continue,\" \" preliminary,\"   “추진”, “목표”, “전략”, “예정”과  │\n",
       "│    │                                   │      │ 같은 용어로 미래 예측 진술을 식별할 수 있습…                    │\n",
       "│  7 │ Sustainability_report_2024_kr.pdf │   82 │ 삼성전자 지속가능경영보고서 2024 82 Our Company                 │\n",
       "│    │                                   │      │ AppendixMateriality Assessment Facts &amp; Figures PrinciplePlanet  │\n",
       "│    │                                   │      │ People About This Report 삼성전자주식회사는 경제·사회·환…       │\n",
       "│  8 │ Sustainability_report_2024_kr.pdf │   52 │ 삼성전자 지속가능경영보고서 2024 52Our Company                  │\n",
       "│    │                                   │      │ AppendixMateriality Assessment Facts &amp; Figures PrinciplePlanet  │\n",
       "│    │                                   │      │ People 지속가능한 미래를 위해 책임경영을 실천합니다. Principle  │\n",
       "│    │                                   │      │ …                                                               │\n",
       "│  9 │ Sustainability_report_2024_kr.pdf │   39 │ 삼성전자 지속가능경영보고서 2024 39 Our Company                 │\n",
       "│    │                                   │      │ AppendixMateriality Assessment Facts &amp; Figures PrinciplePlanet  │\n",
       "│    │                                   │      │ People 추진 체계 삼성전자는 이사회 산하 지속가능경영위원회와    │\n",
       "│    │                                   │      │ 인권분야 …                                                      │\n",
       "│ 10 │ Sustainability_report_2024_kr.pdf │   23 │ 삼성전자 지속가능경영보고서 2024 23 Our Company                 │\n",
       "│    │                                   │      │ AppendixMateriality Assessment Facts &amp; Figures PrinciplePlanet  │\n",
       "│    │                                   │      │ People 추진방향 국내 반도체 라인 증설에 따라 2030년 DS부문      │\n",
       "│    │                                   │      │ 제조…                                                           │\n",
       "└────┴───────────────────────────────────┴──────┴─────────────────────────────────────────────────────────────────┘\n",
       "</pre>\n"
      ],
      "text/plain": [
       "\u001b[3m                                                      filter                                                       \u001b[0m\n",
       "┏━━━━┳━━━━━━━━━━━━━━━━━━━━━━━━━━━━━━━━━━━┳━━━━━━┳━━━━━━━━━━━━━━━━━━━━━━━━━━━━━━━━━━━━━━━━━━━━━━━━━━━━━━━━━━━━━━━━━┓\n",
       "┃\u001b[1m \u001b[0m\u001b[1m #\u001b[0m\u001b[1m \u001b[0m┃\u001b[1m \u001b[0m\u001b[1mSource                           \u001b[0m\u001b[1m \u001b[0m┃\u001b[1m \u001b[0m\u001b[1mPage\u001b[0m\u001b[1m \u001b[0m┃\u001b[1m \u001b[0m\u001b[1mPreview                                                        \u001b[0m\u001b[1m \u001b[0m┃\n",
       "┡━━━━╇━━━━━━━━━━━━━━━━━━━━━━━━━━━━━━━━━━━╇━━━━━━╇━━━━━━━━━━━━━━━━━━━━━━━━━━━━━━━━━━━━━━━━━━━━━━━━━━━━━━━━━━━━━━━━━┩\n",
       "│  1 │ Sustainability_report_2024_kr.pdf │   82 │ 비록 삼성전자주식회사는 지속가능경영보고서의 미래 예측 진술이   │\n",
       "│    │                                   │      │ 시의성 있고 합리적인 정보, 가정  및 믿음에 기반한다고           │\n",
       "│    │                                   │      │ 판단하지만, 이러한 미래 예측 진술(그리고 이를 이루는 정보, 가 … │\n",
       "│    │                                   │      │ 및 믿음)은  다양한 요인, 리스크, 불확실성의 영향권에 있으므로…  │\n",
       "│  2 │ Sustainability_report_2024_kr.pdf │   82 │ ISAE3000을 적용했습니다. 관련 정보 ·  삼성전자주식회사 대표     │\n",
       "│    │                                   │      │ 홈페이지   http://www.samsung.com/sec ·  삼성전자주식회사       │\n",
       "│    │                                   │      │ 지속가능경영 웹사이트                                           │\n",
       "│    │                                   │      │ http://www.samsung.com/sec/sustainabilit…                       │\n",
       "│  3 │ Sustainability_report_2024_kr.pdf │   55 │ 삼성전자 지속가능경영보고서 2024 55Our Company                  │\n",
       "│    │                                   │      │ AppendixMateriality Assessment Facts & Figures PrinciplePlanet  │\n",
       "│    │                                   │      │ People Facts & Figures 56     경제성과 57     사…               │\n",
       "│  4 │ Sustainability_report_2024_kr.pdf │   30 │ 삼성전자 지속가능경영보고서 2024 30Our Company                  │\n",
       "│    │                                   │      │ AppendixMateriality Assessment Facts & Figures PrinciplePlanet  │\n",
       "│    │                                   │      │ People 사회적 책임을 다하며 미래로 함께 나아갑니다. People 31 … │\n",
       "│  5 │ Sustainability_report_2024_kr.pdf │    4 │ 삼성전자 지속가능경영보고서 2024 04 Our Company                 │\n",
       "│    │                                   │      │ AppendixMateriality Assessment Facts & Figures PrinciplePlanet  │\n",
       "│    │                                   │      │ People CEO 메시지 Message from  Our CEO 주주, 고…               │\n",
       "│  6 │ Sustainability_report_2024_kr.pdf │   82 │ \"outlook,\" \"believes,\" \"estimates,\" \"predicts,\" \"potential,\"    │\n",
       "│    │                                   │      │ \"continue,\" \" preliminary,\"   “추진”, “목표”, “전략”, “예정”과  │\n",
       "│    │                                   │      │ 같은 용어로 미래 예측 진술을 식별할 수 있습…                    │\n",
       "│  7 │ Sustainability_report_2024_kr.pdf │   82 │ 삼성전자 지속가능경영보고서 2024 82 Our Company                 │\n",
       "│    │                                   │      │ AppendixMateriality Assessment Facts & Figures PrinciplePlanet  │\n",
       "│    │                                   │      │ People About This Report 삼성전자주식회사는 경제·사회·환…       │\n",
       "│  8 │ Sustainability_report_2024_kr.pdf │   52 │ 삼성전자 지속가능경영보고서 2024 52Our Company                  │\n",
       "│    │                                   │      │ AppendixMateriality Assessment Facts & Figures PrinciplePlanet  │\n",
       "│    │                                   │      │ People 지속가능한 미래를 위해 책임경영을 실천합니다. Principle  │\n",
       "│    │                                   │      │ …                                                               │\n",
       "│  9 │ Sustainability_report_2024_kr.pdf │   39 │ 삼성전자 지속가능경영보고서 2024 39 Our Company                 │\n",
       "│    │                                   │      │ AppendixMateriality Assessment Facts & Figures PrinciplePlanet  │\n",
       "│    │                                   │      │ People 추진 체계 삼성전자는 이사회 산하 지속가능경영위원회와    │\n",
       "│    │                                   │      │ 인권분야 …                                                      │\n",
       "│ 10 │ Sustainability_report_2024_kr.pdf │   23 │ 삼성전자 지속가능경영보고서 2024 23 Our Company                 │\n",
       "│    │                                   │      │ AppendixMateriality Assessment Facts & Figures PrinciplePlanet  │\n",
       "│    │                                   │      │ People 추진방향 국내 반도체 라인 증설에 따라 2030년 DS부문      │\n",
       "│    │                                   │      │ 제조…                                                           │\n",
       "└────┴───────────────────────────────────┴──────┴─────────────────────────────────────────────────────────────────┘\n"
      ]
     },
     "metadata": {},
     "output_type": "display_data"
    }
   ],
   "source": [
    "# filter\n",
    "\n",
    "print(vecstore._collection.get(limit=1))\n",
    "\n",
    "ret_filter = vecstore.as_retriever(\n",
    "    search_kwargs = {'k' : 10,\n",
    "                    'filter' : {'source': '../data/Sustainability_report_2024_kr.pdf'}\n",
    "                    }\n",
    "    \n",
    ")\n",
    "\n",
    "rich_docs(ret_filter.invoke(question), title='filter')"
   ]
  }
 ],
 "metadata": {
  "kernelspec": {
   "display_name": "langchain-basic",
   "language": "python",
   "name": "python3"
  },
  "language_info": {
   "codemirror_mode": {
    "name": "ipython",
    "version": 3
   },
   "file_extension": ".py",
   "mimetype": "text/x-python",
   "name": "python",
   "nbconvert_exporter": "python",
   "pygments_lexer": "ipython3",
   "version": "3.11.13"
  }
 },
 "nbformat": 4,
 "nbformat_minor": 5
}
