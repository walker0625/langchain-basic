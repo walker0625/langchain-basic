{
 "cells": [
  {
   "cell_type": "markdown",
   "id": "522179a7",
   "metadata": {},
   "source": [
    "# Hybrid / Compress"
   ]
  },
  {
   "cell_type": "code",
   "execution_count": 2,
   "id": "d0d805de",
   "metadata": {},
   "outputs": [
    {
     "data": {
      "text/plain": [
       "True"
      ]
     },
     "execution_count": 2,
     "metadata": {},
     "output_type": "execute_result"
    }
   ],
   "source": [
    "from dotenv import load_dotenv\n",
    "load_dotenv()"
   ]
  },
  {
   "cell_type": "code",
   "execution_count": 3,
   "id": "dd4a2365",
   "metadata": {},
   "outputs": [],
   "source": [
    "# 출력 포메팅\n",
    "from rich.console import Console\n",
    "from rich.table import Table\n",
    "\n",
    "console = Console()\n",
    "\n",
    "def rich_docs(docs, max_len=140, title=\"Retriever Results\"):\n",
    "    table = Table(title=title)\n",
    "    table.add_column(\"#\", justify=\"right\")\n",
    "    table.add_column(\"Source\")\n",
    "    table.add_column(\"Page\", justify=\"right\")\n",
    "    table.add_column(\"Preview\")\n",
    "\n",
    "    for i, d in enumerate(docs, 1):\n",
    "        m = d.metadata or {}\n",
    "        src = (m.get(\"source\",\"\") or \"\").split(\"/\")[-1]\n",
    "        page = str(m.get(\"page_label\", m.get(\"page\",0)+1))\n",
    "        text = (d.page_content or \"\").strip().replace(\"\\n\", \" \")\n",
    "        table.add_row(str(i), src, page, (text[:max_len] + (\"…\" if len(text) > max_len else \"\")))\n",
    "\n",
    "    console.print(table)"
   ]
  },
  {
   "cell_type": "markdown",
   "id": "75c0bab0",
   "metadata": {},
   "source": [
    "## 1. db 생성 및 로드"
   ]
  },
  {
   "cell_type": "code",
   "execution_count": 4,
   "id": "8ba1b47d",
   "metadata": {},
   "outputs": [
    {
     "name": "stderr",
     "output_type": "stream",
     "text": [
      "c:\\walker\\code\\langchain-basic\\.venv\\Lib\\site-packages\\tqdm\\auto.py:21: TqdmWarning: IProgress not found. Please update jupyter and ipywidgets. See https://ipywidgets.readthedocs.io/en/stable/user_install.html\n",
      "  from .autonotebook import tqdm as notebook_tqdm\n"
     ]
    }
   ],
   "source": [
    "from langchain_openai import OpenAIEmbeddings, ChatOpenAI\n",
    "from langchain_chroma import Chroma\n",
    "\n",
    "embedding = OpenAIEmbeddings(model='text-embedding-3-small')\n",
    "persist_directory = '../vectorstore/samsung_2025_re'\n",
    "collection_name = 'samsung_2025'"
   ]
  },
  {
   "cell_type": "code",
   "execution_count": 5,
   "id": "298b9f38",
   "metadata": {},
   "outputs": [
    {
     "data": {
      "text/plain": [
       "87"
      ]
     },
     "execution_count": 5,
     "metadata": {},
     "output_type": "execute_result"
    }
   ],
   "source": [
    "from langchain_community.document_loaders import PyPDFLoader\n",
    "\n",
    "docs = PyPDFLoader(\"../data/Samsung_Electronics_Sustainability_Report_2025_KOR.pdf\").load()\n",
    "len(docs)"
   ]
  },
  {
   "cell_type": "code",
   "execution_count": 6,
   "id": "9b9dcb28",
   "metadata": {},
   "outputs": [
    {
     "data": {
      "text/plain": [
       "237"
      ]
     },
     "execution_count": 6,
     "metadata": {},
     "output_type": "execute_result"
    }
   ],
   "source": [
    "from langchain_text_splitters import RecursiveCharacterTextSplitter\n",
    "\n",
    "splitter = RecursiveCharacterTextSplitter(\n",
    "    chunk_size = 1000,\n",
    "    chunk_overlap = 100\n",
    ")\n",
    "\n",
    "chunks = splitter.split_documents(docs)\n",
    "len(chunks)"
   ]
  },
  {
   "cell_type": "code",
   "execution_count": 7,
   "id": "b6823ae5",
   "metadata": {},
   "outputs": [
    {
     "data": {
      "text/plain": [
       "<langchain_chroma.vectorstores.Chroma at 0x22c27c4f290>"
      ]
     },
     "execution_count": 7,
     "metadata": {},
     "output_type": "execute_result"
    }
   ],
   "source": [
    "vectorstore = Chroma.from_documents(\n",
    "    documents=chunks,\n",
    "    collection_name=collection_name,\n",
    "    persist_directory=persist_directory,\n",
    "    embedding=embedding\n",
    ")\n",
    "\n",
    "vectorstore"
   ]
  },
  {
   "cell_type": "code",
   "execution_count": 8,
   "id": "76d61ae3",
   "metadata": {},
   "outputs": [
    {
     "data": {
      "text/plain": [
       "<langchain_chroma.vectorstores.Chroma at 0x22c2f7c3810>"
      ]
     },
     "execution_count": 8,
     "metadata": {},
     "output_type": "execute_result"
    }
   ],
   "source": [
    "load_vectorstore = Chroma(\n",
    "    persist_directory=persist_directory,\n",
    "    embedding_function=embedding,\n",
    "    collection_name=collection_name\n",
    ")\n",
    "\n",
    "load_vectorstore"
   ]
  },
  {
   "cell_type": "markdown",
   "id": "8678e42d",
   "metadata": {},
   "source": [
    "## 2. Ensemble Retriever(Dense + Parse)"
   ]
  },
  {
   "cell_type": "code",
   "execution_count": 9,
   "id": "ea9e6969",
   "metadata": {},
   "outputs": [],
   "source": [
    "# Dense Retriever\n",
    "sim_retriever = load_vectorstore.as_retriever(\n",
    "    search_type=\"similarity\",\n",
    "    search_kwargs={\n",
    "        \"k\": 5\n",
    "    }\n",
    ")"
   ]
  },
  {
   "cell_type": "code",
   "execution_count": 10,
   "id": "b7ed87a7",
   "metadata": {},
   "outputs": [
    {
     "data": {
      "text/plain": [
       "[{'creator': 'Adobe InDesign 15.1 (Macintosh)',\n",
       "  'creationdate': '2025-07-10T16:11:16+09:00',\n",
       "  'page_label': '1',\n",
       "  'source': '../data/Samsung_Electronics_Sustainability_Report_2025_KOR.pdf',\n",
       "  'producer': 'Adobe PDF Library 15.0',\n",
       "  'total_pages': 87,\n",
       "  'trapped': '/False',\n",
       "  'page': 0,\n",
       "  'moddate': '2025-09-04T16:51:11+09:00'},\n",
       " {'source': '../data/Samsung_Electronics_Sustainability_Report_2025_KOR.pdf',\n",
       "  'total_pages': 87,\n",
       "  'trapped': '/False',\n",
       "  'page': 1,\n",
       "  'page_label': '2',\n",
       "  'creationdate': '2025-07-10T16:11:16+09:00',\n",
       "  'producer': 'Adobe PDF Library 15.0',\n",
       "  'creator': 'Adobe InDesign 15.1 (Macintosh)',\n",
       "  'moddate': '2025-09-04T16:51:11+09:00'}]"
      ]
     },
     "execution_count": 10,
     "metadata": {},
     "output_type": "execute_result"
    }
   ],
   "source": [
    "db_docs = load_vectorstore._collection.get(include=['documents', 'metadatas'])\n",
    "db_docs['metadatas'][:2]"
   ]
  },
  {
   "cell_type": "code",
   "execution_count": 11,
   "id": "cbfb08fa",
   "metadata": {},
   "outputs": [
    {
     "data": {
      "text/plain": [
       "[Document(metadata={'creator': 'Adobe InDesign 15.1 (Macintosh)', 'creationdate': '2025-07-10T16:11:16+09:00', 'page_label': '1', 'source': '../data/Samsung_Electronics_Sustainability_Report_2025_KOR.pdf', 'producer': 'Adobe PDF Library 15.0', 'total_pages': 87, 'trapped': '/False', 'page': 0, 'moddate': '2025-09-04T16:51:11+09:00'}, page_content='삼성전자 지속가능경영보고서 2025\\nA Journey  Towards \\n a Sustainable Future\\nA Journey  Towards\\n a Sustainable Future'),\n",
       " Document(metadata={'source': '../data/Samsung_Electronics_Sustainability_Report_2025_KOR.pdf', 'total_pages': 87, 'trapped': '/False', 'page': 1, 'page_label': '2', 'creationdate': '2025-07-10T16:11:16+09:00', 'producer': 'Adobe PDF Library 15.0', 'creator': 'Adobe InDesign 15.1 (Macintosh)', 'moddate': '2025-09-04T16:51:11+09:00'}, page_content='삼성전자 지속가능경영보고서 2025 02AppendixFacts & Figures PrinciplePlanet PeopleOur Company삼성전자 지속가능경영보고서 2025 02\\nA Journey  Towards \\n a Sustainable Future\\nA Journey  Towards \\n a Sustainable Future\\n삼성전자 지속가능경영보고서 2025\\nCEO 메시지\\n회사소개\\n기업 지배구조\\n중대성 평가\\n이해관계자 소통\\n준법과 윤리경영\\n[DX부문] \\n추진체계와 주요성과 \\n기후변화 \\n자원순환\\n수자원\\n오염물질\\n경제성과\\n사회성과\\n환경성과 \\n사업부문별 환경성과 \\n[DS부문] \\n추진체계와 주요성과 \\n기후변화 \\n자원순환\\n수자원\\n오염물질\\n독립된 인증인의 인증보고서\\nScope 1, 2 온실가스 배출량 검증 의견서 \\nScope 3 온실가스 배출량 검증 의견서 \\nGRI Index\\nTCFD 대조표\\nSASB 대조표\\nAbout This Report \\n임직원\\n공급망\\n사회공헌\\n개인정보보호와 보안\\n제품 품질과 안전\\nOur Company\\nPrinciple\\nPlanet\\nFacts & Figures Appendix \\nPeople\\n04\\n05\\n06\\n07\\n09\\n59\\n11\\n12\\n16\\n18\\n20\\n62\\n63\\n68\\n72\\n21\\n22\\n27\\n29\\n32\\n76\\n77\\n78\\n80\\n82\\n84\\n86\\n35\\n45\\n51\\n53\\n55'),\n",
       " Document(metadata={'page': 2, 'trapped': '/False', 'source': '../data/Samsung_Electronics_Sustainability_Report_2025_KOR.pdf', 'moddate': '2025-09-04T16:51:11+09:00', 'page_label': '3', 'total_pages': 87, 'creationdate': '2025-07-10T16:11:16+09:00', 'producer': 'Adobe PDF Library 15.0', 'creator': 'Adobe InDesign 15.1 (Macintosh)'}, page_content='삼성전자 지속가능경영보고서 2025\\n03\\nOur Company AppendixFacts & Figures PrinciplePlanet People\\nOur Company\\nCEO 메시지\\n회사소개\\n기업 지배구조\\n중대성 평가\\n이해관계자 소통\\n04\\n05\\n06\\n07\\n09')]"
      ]
     },
     "execution_count": 11,
     "metadata": {},
     "output_type": "execute_result"
    }
   ],
   "source": [
    "from langchain_community.retrievers import BM25Retriever\n",
    "from langchain.retrievers import EnsembleRetriever\n",
    "from langchain_core.documents import Document\n",
    "\n",
    "bm_docs = []\n",
    "\n",
    "# chunk된 db의 내용을 가져와서 사용 => chunk 보다는 영속된 db의 내용을 쓰는 것이 안정적\n",
    "for content, meta in zip(db_docs['documents'], db_docs['metadatas']):\n",
    "    bm_docs.append(Document(page_content = content, metadata = meta))\n",
    "    \n",
    "bm_docs[:3]"
   ]
  },
  {
   "cell_type": "code",
   "execution_count": 12,
   "id": "46810ab7",
   "metadata": {},
   "outputs": [],
   "source": [
    "# Parse Retriever\n",
    "bm25_retriever = BM25Retriever.from_documents(bm_docs)\n",
    "bm25_retriever.k = 5"
   ]
  },
  {
   "cell_type": "code",
   "execution_count": 13,
   "id": "c94add31",
   "metadata": {},
   "outputs": [],
   "source": [
    "hybrid_retriever = EnsembleRetriever(\n",
    "    retrievers=[sim_retriever, bm25_retriever],\n",
    "    weights=[0.7, 0.3]\n",
    ")"
   ]
  },
  {
   "cell_type": "code",
   "execution_count": 14,
   "id": "da63e9fc",
   "metadata": {},
   "outputs": [
    {
     "data": {
      "text/html": [
       "<pre style=\"white-space:pre;overflow-x:auto;line-height:normal;font-family:Menlo,'DejaVu Sans Mono',consolas,'Courier New',monospace\"><span style=\"font-style: italic\">                                                   hybrid result                                                   </span>\n",
       "┏━━━┳━━━━━━━━━━━━━━━━━━━━━━━━━━━━━━━━━━━━━━━━━━━━━━━━━━┳━━━━━━┳━━━━━━━━━━━━━━━━━━━━━━━━━━━━━━━━━━━━━━━━━━━━━━━━━━━┓\n",
       "┃<span style=\"font-weight: bold\"> # </span>┃<span style=\"font-weight: bold\"> Source                                           </span>┃<span style=\"font-weight: bold\"> Page </span>┃<span style=\"font-weight: bold\"> Preview                                           </span>┃\n",
       "┡━━━╇━━━━━━━━━━━━━━━━━━━━━━━━━━━━━━━━━━━━━━━━━━━━━━━━━━╇━━━━━━╇━━━━━━━━━━━━━━━━━━━━━━━━━━━━━━━━━━━━━━━━━━━━━━━━━━━┩\n",
       "│ 1 │ Samsung_Electronics_Sustainability_Report_2025_… │    1 │ 삼성전자 지속가능경영보고서 2025 A Journey        │\n",
       "│   │                                                  │      │ Towards   a Sustainable Future A Journey  Towards │\n",
       "│   │                                                  │      │ a Sustainable Future                              │\n",
       "│ 2 │ Samsung_Electronics_Sustainability_Report_2025_… │    4 │ 삼성전자 지속가능경영보고서 2025 04 Our Company   │\n",
       "│   │                                                  │      │ AppendixFacts &amp; Figures PrinciplePlanet People    │\n",
       "│   │                                                  │      │ 주주, 고객, 협력회사, 그리고 임직원 여러분,       │\n",
       "│   │                                                  │      │ 2024년은 글로벌 지정학적 리스크와 AI 기술의 성장  │\n",
       "│   │                                                  │      │ …                                                 │\n",
       "│ 3 │ Samsung_Electronics_Sustainability_Report_2025_… │   77 │ 삼성전자 지속가능경영보고서 2025 77 Scope 1, 2    │\n",
       "│   │                                                  │      │ 온실가스 배출량 검증 의견서 Our Company           │\n",
       "│   │                                                  │      │ AppendixFacts &amp; Figures PrinciplePlanet People    │\n",
       "│ 4 │ Samsung_Electronics_Sustainability_Report_2025_… │   86 │ 삼성전자 지속가능경영보고서 2025 86               │\n",
       "│   │                                                  │      │ 삼성전자주식회사는 경제·사회·환경적 가치 창출     │\n",
       "│   │                                                  │      │ 성과를 다양한 이해관계자와 투명하게 소통하기 위 … │\n",
       "│   │                                                  │      │ 2025년 열여덟 번째 지속가능경영보고서를           │\n",
       "│   │                                                  │      │ 발간합니다. 작성 기준 본 보고서는 지속가능경영    │\n",
       "│   │                                                  │      │ 보고 기준인 GRI(G…                                │\n",
       "│ 5 │ Samsung_Electronics_Sustainability_Report_2025_… │    6 │ 삼성전자 지속가능경영보고서 2025 06 Our Company   │\n",
       "│   │                                                  │      │ AppendixFacts &amp; Figures PrinciplePlanet People    │\n",
       "│   │                                                  │      │ 주요 분야별 협의회  환경     [DX부문] 환경안전    │\n",
       "│   │                                                  │      │ 회의, ESG공시TF  [DS부문]  탄소감축위원…          │\n",
       "│ 6 │ Samsung_Electronics_Sustainability_Report_2025_… │   86 │ ·  삼성전자주식회사 지속가능경영 웹사이트         │\n",
       "│   │                                                  │      │ http://www.samsung.com/sec/sustainability/main ·  │\n",
       "│   │                                                  │      │ 삼성전자주식회사 IR 웹사이트                      │\n",
       "│   │                                                  │      │ http://www.samsung.com/sec/ir ·  삼성전자주식회 … │\n",
       "│   │                                                  │      │ 뉴…                                               │\n",
       "└───┴──────────────────────────────────────────────────┴──────┴───────────────────────────────────────────────────┘\n",
       "</pre>\n"
      ],
      "text/plain": [
       "\u001b[3m                                                   hybrid result                                                   \u001b[0m\n",
       "┏━━━┳━━━━━━━━━━━━━━━━━━━━━━━━━━━━━━━━━━━━━━━━━━━━━━━━━━┳━━━━━━┳━━━━━━━━━━━━━━━━━━━━━━━━━━━━━━━━━━━━━━━━━━━━━━━━━━━┓\n",
       "┃\u001b[1m \u001b[0m\u001b[1m#\u001b[0m\u001b[1m \u001b[0m┃\u001b[1m \u001b[0m\u001b[1mSource                                          \u001b[0m\u001b[1m \u001b[0m┃\u001b[1m \u001b[0m\u001b[1mPage\u001b[0m\u001b[1m \u001b[0m┃\u001b[1m \u001b[0m\u001b[1mPreview                                          \u001b[0m\u001b[1m \u001b[0m┃\n",
       "┡━━━╇━━━━━━━━━━━━━━━━━━━━━━━━━━━━━━━━━━━━━━━━━━━━━━━━━━╇━━━━━━╇━━━━━━━━━━━━━━━━━━━━━━━━━━━━━━━━━━━━━━━━━━━━━━━━━━━┩\n",
       "│ 1 │ Samsung_Electronics_Sustainability_Report_2025_… │    1 │ 삼성전자 지속가능경영보고서 2025 A Journey        │\n",
       "│   │                                                  │      │ Towards   a Sustainable Future A Journey  Towards │\n",
       "│   │                                                  │      │ a Sustainable Future                              │\n",
       "│ 2 │ Samsung_Electronics_Sustainability_Report_2025_… │    4 │ 삼성전자 지속가능경영보고서 2025 04 Our Company   │\n",
       "│   │                                                  │      │ AppendixFacts & Figures PrinciplePlanet People    │\n",
       "│   │                                                  │      │ 주주, 고객, 협력회사, 그리고 임직원 여러분,       │\n",
       "│   │                                                  │      │ 2024년은 글로벌 지정학적 리스크와 AI 기술의 성장  │\n",
       "│   │                                                  │      │ …                                                 │\n",
       "│ 3 │ Samsung_Electronics_Sustainability_Report_2025_… │   77 │ 삼성전자 지속가능경영보고서 2025 77 Scope 1, 2    │\n",
       "│   │                                                  │      │ 온실가스 배출량 검증 의견서 Our Company           │\n",
       "│   │                                                  │      │ AppendixFacts & Figures PrinciplePlanet People    │\n",
       "│ 4 │ Samsung_Electronics_Sustainability_Report_2025_… │   86 │ 삼성전자 지속가능경영보고서 2025 86               │\n",
       "│   │                                                  │      │ 삼성전자주식회사는 경제·사회·환경적 가치 창출     │\n",
       "│   │                                                  │      │ 성과를 다양한 이해관계자와 투명하게 소통하기 위 … │\n",
       "│   │                                                  │      │ 2025년 열여덟 번째 지속가능경영보고서를           │\n",
       "│   │                                                  │      │ 발간합니다. 작성 기준 본 보고서는 지속가능경영    │\n",
       "│   │                                                  │      │ 보고 기준인 GRI(G…                                │\n",
       "│ 5 │ Samsung_Electronics_Sustainability_Report_2025_… │    6 │ 삼성전자 지속가능경영보고서 2025 06 Our Company   │\n",
       "│   │                                                  │      │ AppendixFacts & Figures PrinciplePlanet People    │\n",
       "│   │                                                  │      │ 주요 분야별 협의회  환경     [DX부문] 환경안전    │\n",
       "│   │                                                  │      │ 회의, ESG공시TF  [DS부문]  탄소감축위원…          │\n",
       "│ 6 │ Samsung_Electronics_Sustainability_Report_2025_… │   86 │ ·  삼성전자주식회사 지속가능경영 웹사이트         │\n",
       "│   │                                                  │      │ http://www.samsung.com/sec/sustainability/main ·  │\n",
       "│   │                                                  │      │ 삼성전자주식회사 IR 웹사이트                      │\n",
       "│   │                                                  │      │ http://www.samsung.com/sec/ir ·  삼성전자주식회 … │\n",
       "│   │                                                  │      │ 뉴…                                               │\n",
       "└───┴──────────────────────────────────────────────────┴──────┴───────────────────────────────────────────────────┘\n"
      ]
     },
     "metadata": {},
     "output_type": "display_data"
    }
   ],
   "source": [
    "question = '삼성전자의 2025년 전망은?'\n",
    "result = hybrid_retriever.invoke(question)\n",
    "rich_docs(result, title='hybrid result')"
   ]
  },
  {
   "cell_type": "markdown",
   "id": "6ba9aa17",
   "metadata": {},
   "source": [
    "## 3. 압축 Retriever\n",
    "- 검색 결과가 내용이 너무 길때\n",
    "- 검색 결과가 파편화(띄어쓰기/문단구분) 되어 있는 경우\n",
    "- => 비용 문제는 고려할 것\n",
    "- => 전처리 단계에서 해결하거나 로컬 요약을 사용하는 것도 고려"
   ]
  },
  {
   "cell_type": "code",
   "execution_count": 15,
   "id": "a9731621",
   "metadata": {},
   "outputs": [],
   "source": [
    "from langchain.retrievers import ContextualCompressionRetriever\n",
    "from langchain.retrievers.document_compressors import LLMChainExtractor, LLMChainFilter\n",
    "from langchain_openai import ChatOpenAI\n",
    "\n",
    "compressor = LLMChainExtractor.from_llm(ChatOpenAI(\n",
    "    model_name='gpt-4.1-mini',\n",
    "    temperature=0\n",
    "    )\n",
    ")\n",
    "\n",
    "com_retriever = ContextualCompressionRetriever(\n",
    "    base_retriever=sim_retriever,\n",
    "    base_compressor=compressor\n",
    ")"
   ]
  },
  {
   "cell_type": "code",
   "execution_count": 16,
   "id": "36283831",
   "metadata": {},
   "outputs": [
    {
     "data": {
      "text/html": [
       "<pre style=\"white-space:pre;overflow-x:auto;line-height:normal;font-family:Menlo,'DejaVu Sans Mono',consolas,'Courier New',monospace\"><span style=\"font-style: italic\">                                                  compress result                                                  </span>\n",
       "┏━━━┳━━━━━━━━━━━━━━━━━━━━━━━━━━━━━━━━━━━━━━━━━━━━━━━━━━┳━━━━━━┳━━━━━━━━━━━━━━━━━━━━━━━━━━━━━━━━━━━━━━━━━━━━━━━━━━━┓\n",
       "┃<span style=\"font-weight: bold\"> # </span>┃<span style=\"font-weight: bold\"> Source                                           </span>┃<span style=\"font-weight: bold\"> Page </span>┃<span style=\"font-weight: bold\"> Preview                                           </span>┃\n",
       "┡━━━╇━━━━━━━━━━━━━━━━━━━━━━━━━━━━━━━━━━━━━━━━━━━━━━━━━━╇━━━━━━╇━━━━━━━━━━━━━━━━━━━━━━━━━━━━━━━━━━━━━━━━━━━━━━━━━━━┩\n",
       "│ 1 │ Samsung_Electronics_Sustainability_Report_2025_… │    4 │ 삼성전자는 2022년 9월 발표한 '新환경경영전략'을   │\n",
       "│   │                                                  │      │ 기반으로 탄소중립 달성, 자원순환 극대화, 그리고   │\n",
       "│   │                                                  │      │ 기술 혁신을 통한 환경 난제 해결을 위해 노력하고   │\n",
       "│   │                                                  │      │ 있습니다.   DX(Device eXperience)부문은 2030년    │\n",
       "│   │                                                  │      │ 탄소중립 달성을 목표로   …                        │\n",
       "│ 2 │ Samsung_Electronics_Sustainability_Report_2025_… │    4 │ 삼성전자는 2022년 9월 발표한 '新환경경영전략'을   │\n",
       "│   │                                                  │      │ 기반으로 탄소중립 달성, 자원순환 극대화, 그리고   │\n",
       "│   │                                                  │      │ 기술 혁신을 통한 환경 난제 해결을 위해 노력하고   │\n",
       "│   │                                                  │      │ 있습니다.   DX(Device eXperience)부문은 2030년    │\n",
       "│   │                                                  │      │ 탄소중립 달성을 목표로   …                        │\n",
       "│ 3 │ Samsung_Electronics_Sustainability_Report_2025_… │    1 │ 삼성전자 지속가능경영보고서 2025                  │\n",
       "│ 4 │ Samsung_Electronics_Sustainability_Report_2025_… │    1 │ 삼성전자 지속가능경영보고서 2025                  │\n",
       "│ 5 │ Samsung_Electronics_Sustainability_Report_2025_… │   86 │ 삼성전자 지속가능경영보고서 2025                  │\n",
       "│   │                                                  │      │ 삼성전자주식회사는 경제·사회·환경적 가치 창출     │\n",
       "│   │                                                  │      │ 성과를 다양한 이해관계자와 투명하게 소통하기 위 … │\n",
       "│   │                                                  │      │ 2025년 열여덟 번째 지속가능경영보고서를           │\n",
       "│   │                                                  │      │ 발간합니다.   보고 기간   2024년 1월1일부터       │\n",
       "│   │                                                  │      │ 2024년 12월 …                                     │\n",
       "└───┴──────────────────────────────────────────────────┴──────┴───────────────────────────────────────────────────┘\n",
       "</pre>\n"
      ],
      "text/plain": [
       "\u001b[3m                                                  compress result                                                  \u001b[0m\n",
       "┏━━━┳━━━━━━━━━━━━━━━━━━━━━━━━━━━━━━━━━━━━━━━━━━━━━━━━━━┳━━━━━━┳━━━━━━━━━━━━━━━━━━━━━━━━━━━━━━━━━━━━━━━━━━━━━━━━━━━┓\n",
       "┃\u001b[1m \u001b[0m\u001b[1m#\u001b[0m\u001b[1m \u001b[0m┃\u001b[1m \u001b[0m\u001b[1mSource                                          \u001b[0m\u001b[1m \u001b[0m┃\u001b[1m \u001b[0m\u001b[1mPage\u001b[0m\u001b[1m \u001b[0m┃\u001b[1m \u001b[0m\u001b[1mPreview                                          \u001b[0m\u001b[1m \u001b[0m┃\n",
       "┡━━━╇━━━━━━━━━━━━━━━━━━━━━━━━━━━━━━━━━━━━━━━━━━━━━━━━━━╇━━━━━━╇━━━━━━━━━━━━━━━━━━━━━━━━━━━━━━━━━━━━━━━━━━━━━━━━━━━┩\n",
       "│ 1 │ Samsung_Electronics_Sustainability_Report_2025_… │    4 │ 삼성전자는 2022년 9월 발표한 '新환경경영전략'을   │\n",
       "│   │                                                  │      │ 기반으로 탄소중립 달성, 자원순환 극대화, 그리고   │\n",
       "│   │                                                  │      │ 기술 혁신을 통한 환경 난제 해결을 위해 노력하고   │\n",
       "│   │                                                  │      │ 있습니다.   DX(Device eXperience)부문은 2030년    │\n",
       "│   │                                                  │      │ 탄소중립 달성을 목표로   …                        │\n",
       "│ 2 │ Samsung_Electronics_Sustainability_Report_2025_… │    4 │ 삼성전자는 2022년 9월 발표한 '新환경경영전략'을   │\n",
       "│   │                                                  │      │ 기반으로 탄소중립 달성, 자원순환 극대화, 그리고   │\n",
       "│   │                                                  │      │ 기술 혁신을 통한 환경 난제 해결을 위해 노력하고   │\n",
       "│   │                                                  │      │ 있습니다.   DX(Device eXperience)부문은 2030년    │\n",
       "│   │                                                  │      │ 탄소중립 달성을 목표로   …                        │\n",
       "│ 3 │ Samsung_Electronics_Sustainability_Report_2025_… │    1 │ 삼성전자 지속가능경영보고서 2025                  │\n",
       "│ 4 │ Samsung_Electronics_Sustainability_Report_2025_… │    1 │ 삼성전자 지속가능경영보고서 2025                  │\n",
       "│ 5 │ Samsung_Electronics_Sustainability_Report_2025_… │   86 │ 삼성전자 지속가능경영보고서 2025                  │\n",
       "│   │                                                  │      │ 삼성전자주식회사는 경제·사회·환경적 가치 창출     │\n",
       "│   │                                                  │      │ 성과를 다양한 이해관계자와 투명하게 소통하기 위 … │\n",
       "│   │                                                  │      │ 2025년 열여덟 번째 지속가능경영보고서를           │\n",
       "│   │                                                  │      │ 발간합니다.   보고 기간   2024년 1월1일부터       │\n",
       "│   │                                                  │      │ 2024년 12월 …                                     │\n",
       "└───┴──────────────────────────────────────────────────┴──────┴───────────────────────────────────────────────────┘\n"
      ]
     },
     "metadata": {},
     "output_type": "display_data"
    }
   ],
   "source": [
    "question = '삼성 전자의 목표와 기준 년도만 간단히 알려줘'\n",
    "\n",
    "com_result = com_retriever.invoke(question)\n",
    "rich_docs(com_result, title='compress result')"
   ]
  },
  {
   "cell_type": "markdown",
   "id": "bb6299e5",
   "metadata": {},
   "source": [
    "## 3-1. 압축 Retriever(Embedding - No Cost : 잘 안씀)"
   ]
  },
  {
   "cell_type": "code",
   "execution_count": 22,
   "id": "4f021b8b",
   "metadata": {},
   "outputs": [
    {
     "data": {
      "text/html": [
       "<pre style=\"white-space:pre;overflow-x:auto;line-height:normal;font-family:Menlo,'DejaVu Sans Mono',consolas,'Courier New',monospace\"><span style=\"font-style: italic\">                                                 Retriever Results                                                 </span>\n",
       "┏━━━┳━━━━━━━━━━━━━━━━━━━━━━━━━━━━━━━━━━━━━━━━━━━━━━━━━━┳━━━━━━┳━━━━━━━━━━━━━━━━━━━━━━━━━━━━━━━━━━━━━━━━━━━━━━━━━━━┓\n",
       "┃<span style=\"font-weight: bold\"> # </span>┃<span style=\"font-weight: bold\"> Source                                           </span>┃<span style=\"font-weight: bold\"> Page </span>┃<span style=\"font-weight: bold\"> Preview                                           </span>┃\n",
       "┡━━━╇━━━━━━━━━━━━━━━━━━━━━━━━━━━━━━━━━━━━━━━━━━━━━━━━━━╇━━━━━━╇━━━━━━━━━━━━━━━━━━━━━━━━━━━━━━━━━━━━━━━━━━━━━━━━━━━┩\n",
       "│ 1 │ Samsung_Electronics_Sustainability_Report_2025_… │    4 │ 삼성전자 지속가능경영보고서 2025 04 Our Company   │\n",
       "│   │                                                  │      │ AppendixFacts &amp; Figures PrinciplePlanet People    │\n",
       "│   │                                                  │      │ 주주, 고객, 협력회사, 그리고 임직원 여러분,       │\n",
       "│   │                                                  │      │ 2024년은 글로벌 지정학적 리스크와 AI 기술의 성장  │\n",
       "│   │                                                  │      │ …                                                 │\n",
       "│ 2 │ Samsung_Electronics_Sustainability_Report_2025_… │    1 │ 삼성전자 지속가능경영보고서 2025 A Journey        │\n",
       "│   │                                                  │      │ Towards   a Sustainable Future A Journey  Towards │\n",
       "│   │                                                  │      │ a Sustainable Future                              │\n",
       "│ 3 │ Samsung_Electronics_Sustainability_Report_2025_… │   86 │ 삼성전자 지속가능경영보고서 2025 86               │\n",
       "│   │                                                  │      │ 삼성전자주식회사는 경제·사회·환경적 가치 창출     │\n",
       "│   │                                                  │      │ 성과를 다양한 이해관계자와 투명하게 소통하기 위 … │\n",
       "│   │                                                  │      │ 2025년 열여덟 번째 지속가능경영보고서를           │\n",
       "│   │                                                  │      │ 발간합니다. 작성 기준 본 보고서는 지속가능경영    │\n",
       "│   │                                                  │      │ 보고 기준인 GRI(G…                                │\n",
       "│ 4 │ Samsung_Electronics_Sustainability_Report_2025_… │   84 │ 삼성전자 지속가능경영보고서 2025 84 코드 공시     │\n",
       "│   │                                                  │      │ 항목 참고 페이지 및 답변 제품 안전 TC-HW-230a.1   │\n",
       "│   │                                                  │      │ 제품의 정보보안 관련 리스크를 발견하고 이를       │\n",
       "│   │                                                  │      │ 개선하는 방법 설명 삼성전자는 개인정보보호팀장,   │\n",
       "│   │                                                  │      │ 정보보호센터장이 개인정보보호 운영위원회와 보안…  │\n",
       "│ 5 │ Samsung_Electronics_Sustainability_Report_2025_… │   78 │ 삼성전자 지속가능경영보고서 2025 78 Scope 3       │\n",
       "│   │                                                  │      │ 온실가스 배출량 검증 의견서 Our Company           │\n",
       "│   │                                                  │      │ AppendixFacts &amp; Figures PrinciplePlanet People    │\n",
       "└───┴──────────────────────────────────────────────────┴──────┴───────────────────────────────────────────────────┘\n",
       "</pre>\n"
      ],
      "text/plain": [
       "\u001b[3m                                                 Retriever Results                                                 \u001b[0m\n",
       "┏━━━┳━━━━━━━━━━━━━━━━━━━━━━━━━━━━━━━━━━━━━━━━━━━━━━━━━━┳━━━━━━┳━━━━━━━━━━━━━━━━━━━━━━━━━━━━━━━━━━━━━━━━━━━━━━━━━━━┓\n",
       "┃\u001b[1m \u001b[0m\u001b[1m#\u001b[0m\u001b[1m \u001b[0m┃\u001b[1m \u001b[0m\u001b[1mSource                                          \u001b[0m\u001b[1m \u001b[0m┃\u001b[1m \u001b[0m\u001b[1mPage\u001b[0m\u001b[1m \u001b[0m┃\u001b[1m \u001b[0m\u001b[1mPreview                                          \u001b[0m\u001b[1m \u001b[0m┃\n",
       "┡━━━╇━━━━━━━━━━━━━━━━━━━━━━━━━━━━━━━━━━━━━━━━━━━━━━━━━━╇━━━━━━╇━━━━━━━━━━━━━━━━━━━━━━━━━━━━━━━━━━━━━━━━━━━━━━━━━━━┩\n",
       "│ 1 │ Samsung_Electronics_Sustainability_Report_2025_… │    4 │ 삼성전자 지속가능경영보고서 2025 04 Our Company   │\n",
       "│   │                                                  │      │ AppendixFacts & Figures PrinciplePlanet People    │\n",
       "│   │                                                  │      │ 주주, 고객, 협력회사, 그리고 임직원 여러분,       │\n",
       "│   │                                                  │      │ 2024년은 글로벌 지정학적 리스크와 AI 기술의 성장  │\n",
       "│   │                                                  │      │ …                                                 │\n",
       "│ 2 │ Samsung_Electronics_Sustainability_Report_2025_… │    1 │ 삼성전자 지속가능경영보고서 2025 A Journey        │\n",
       "│   │                                                  │      │ Towards   a Sustainable Future A Journey  Towards │\n",
       "│   │                                                  │      │ a Sustainable Future                              │\n",
       "│ 3 │ Samsung_Electronics_Sustainability_Report_2025_… │   86 │ 삼성전자 지속가능경영보고서 2025 86               │\n",
       "│   │                                                  │      │ 삼성전자주식회사는 경제·사회·환경적 가치 창출     │\n",
       "│   │                                                  │      │ 성과를 다양한 이해관계자와 투명하게 소통하기 위 … │\n",
       "│   │                                                  │      │ 2025년 열여덟 번째 지속가능경영보고서를           │\n",
       "│   │                                                  │      │ 발간합니다. 작성 기준 본 보고서는 지속가능경영    │\n",
       "│   │                                                  │      │ 보고 기준인 GRI(G…                                │\n",
       "│ 4 │ Samsung_Electronics_Sustainability_Report_2025_… │   84 │ 삼성전자 지속가능경영보고서 2025 84 코드 공시     │\n",
       "│   │                                                  │      │ 항목 참고 페이지 및 답변 제품 안전 TC-HW-230a.1   │\n",
       "│   │                                                  │      │ 제품의 정보보안 관련 리스크를 발견하고 이를       │\n",
       "│   │                                                  │      │ 개선하는 방법 설명 삼성전자는 개인정보보호팀장,   │\n",
       "│   │                                                  │      │ 정보보호센터장이 개인정보보호 운영위원회와 보안…  │\n",
       "│ 5 │ Samsung_Electronics_Sustainability_Report_2025_… │   78 │ 삼성전자 지속가능경영보고서 2025 78 Scope 3       │\n",
       "│   │                                                  │      │ 온실가스 배출량 검증 의견서 Our Company           │\n",
       "│   │                                                  │      │ AppendixFacts & Figures PrinciplePlanet People    │\n",
       "└───┴──────────────────────────────────────────────────┴──────┴───────────────────────────────────────────────────┘\n"
      ]
     },
     "metadata": {},
     "output_type": "display_data"
    }
   ],
   "source": [
    "from langchain.retrievers.document_compressors import EmbeddingsFilter\n",
    "\n",
    "# 필터만 거치는거라 비용은 들지 않음\n",
    "compressor = EmbeddingsFilter(\n",
    "    embeddings=embedding,\n",
    "    similarity_threshold=0.2\n",
    ")\n",
    "\n",
    "# 중복이 많은 경우 활용\n",
    "mmr_retriever = load_vectorstore.as_retriever(\n",
    "    search_type = 'mmr',\n",
    "    search_kwargs = {'k' : 5,\n",
    "                    'fetch_k' : 10,\n",
    "                    'lambda_mult' : 0.5 # 1 : 관련성, 0 : 다양성\n",
    "                    }\n",
    ")\n",
    "\n",
    "comp_embed = ContextualCompressionRetriever(\n",
    "    base_retriever=mmr_retriever, \n",
    "    base_compressor=compressor\n",
    ")\n",
    "\n",
    "comp_embed_result = comp_embed.invoke(question)\n",
    "rich_docs(comp_embed_result)"
   ]
  }
 ],
 "metadata": {
  "kernelspec": {
   "display_name": "langchain-basic",
   "language": "python",
   "name": "python3"
  },
  "language_info": {
   "codemirror_mode": {
    "name": "ipython",
    "version": 3
   },
   "file_extension": ".py",
   "mimetype": "text/x-python",
   "name": "python",
   "nbconvert_exporter": "python",
   "pygments_lexer": "ipython3",
   "version": "3.11.13"
  }
 },
 "nbformat": 4,
 "nbformat_minor": 5
}
