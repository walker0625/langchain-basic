{
 "cells": [
  {
   "cell_type": "markdown",
   "id": "6fe95b44",
   "metadata": {},
   "source": [
    "# DB History"
   ]
  },
  {
   "cell_type": "code",
   "execution_count": 2,
   "id": "ec854389",
   "metadata": {},
   "outputs": [
    {
     "data": {
      "text/plain": [
       "'LANGCHAIN-BASIC'"
      ]
     },
     "execution_count": 2,
     "metadata": {},
     "output_type": "execute_result"
    }
   ],
   "source": [
    "from dotenv import load_dotenv\n",
    "import os\n",
    "\n",
    "load_dotenv()\n",
    "os.environ[\"LANGSMITH_PROJECT\"]"
   ]
  },
  {
   "cell_type": "code",
   "execution_count": 3,
   "id": "174b7027",
   "metadata": {},
   "outputs": [],
   "source": [
    "from langchain_openai import ChatOpenAI\n",
    "\n",
    "model = ChatOpenAI(\n",
    "    temperature=0.1,\n",
    "    model='gpt-4.1-mini',\n",
    "    verbose=True\n",
    ")"
   ]
  },
  {
   "cell_type": "code",
   "execution_count": 4,
   "id": "4b4a4e2a",
   "metadata": {},
   "outputs": [],
   "source": [
    "from typing import Dict \n",
    "from langchain_core.chat_history import InMemoryChatMessageHistory\n",
    "from langchain_core.runnables.history import RunnableWithMessageHistory\n",
    "from langchain_core.prompts import ChatPromptTemplate, MessagesPlaceholder\n",
    "from langchain_core.output_parsers import StrOutputParser\n",
    "from langchain_core.runnables.utils import ConfigurableFieldSpec"
   ]
  },
  {
   "cell_type": "code",
   "execution_count": 5,
   "id": "de9e4353",
   "metadata": {},
   "outputs": [],
   "source": [
    "DB_URL = 'sqlite:///chat_history.db'"
   ]
  },
  {
   "cell_type": "code",
   "execution_count": 6,
   "id": "040983bd",
   "metadata": {},
   "outputs": [],
   "source": [
    "prompt = ChatPromptTemplate.from_messages([\n",
    "    ('system', '너는 말 끝에 항상 ...을 추가하는 아련한 말투를 사용하는 사람이야'),\n",
    "    MessagesPlaceholder(variable_name='history'),\n",
    "    ('user', '{question}')\n",
    "])\n",
    "\n",
    "chain = prompt | model | StrOutputParser()"
   ]
  },
  {
   "cell_type": "code",
   "execution_count": 7,
   "id": "c249ce77",
   "metadata": {},
   "outputs": [],
   "source": [
    "from langchain_community.chat_message_histories import SQLChatMessageHistory"
   ]
  },
  {
   "cell_type": "code",
   "execution_count": 8,
   "id": "dec2ceb2",
   "metadata": {},
   "outputs": [],
   "source": [
    "def get_db_chat_history(session_id: str, conversation_id: str) -> SQLChatMessageHistory:\n",
    "    return SQLChatMessageHistory(\n",
    "        table_name = session_id,\n",
    "        session_id = conversation_id,\n",
    "        connection = DB_URL\n",
    "    )"
   ]
  },
  {
   "cell_type": "code",
   "execution_count": 9,
   "id": "ed71a8c5",
   "metadata": {},
   "outputs": [],
   "source": [
    "# history 연결\n",
    "with_history_chain = RunnableWithMessageHistory(\n",
    "    chain,\n",
    "    get_db_chat_history,\n",
    "    input_messages_key='question',\n",
    "    history_messages_key='history',\n",
    "    history_factory_config=[\n",
    "        ConfigurableFieldSpec(\n",
    "            id=\"session_id\",\n",
    "            annotation=str,\n",
    "            name=\"User ID\",\n",
    "            description=\"Unique identifier for the user.\",\n",
    "            default=\"\",\n",
    "            is_shared=True,\n",
    "        ),\n",
    "        ConfigurableFieldSpec(\n",
    "            id=\"conversation_id\",\n",
    "            annotation=str,\n",
    "            name=\"Conversation ID\",\n",
    "            description=\"Unique identifier for the conversation.\",\n",
    "            default=\"\",\n",
    "            is_shared=True,\n",
    "        ),\n",
    "    ]\n",
    ")"
   ]
  },
  {
   "cell_type": "code",
   "execution_count": 10,
   "id": "e6a6ea36",
   "metadata": {},
   "outputs": [
    {
     "name": "stdout",
     "output_type": "stream",
     "text": [
      "곰아워... 그 말이 내 하루를 환하게 밝혀줘서 고마워... 너의 따뜻한 마음 잊지 않을게... 항상 행복하길 바래...\n"
     ]
    }
   ],
   "source": [
    "config1={\"configurable\": {\"session_id\": \"walker0625\", \"conversation_id\": \"conv-1\"}}\n",
    "response = with_history_chain.invoke({'question': '곰아워'}, config=config1)\n",
    "print(response)"
   ]
  },
  {
   "cell_type": "code",
   "execution_count": 16,
   "id": "c09d289d",
   "metadata": {},
   "outputs": [
    {
     "name": "stdout",
     "output_type": "stream",
     "text": [
      "설날은 보통 음력 1월 1일인데... 매년 양력 날짜가 조금씩 달라져서... 올해는 2월 10일쯤 될 거야...\n"
     ]
    }
   ],
   "source": [
    "config2={\"configurable\": {\"session_id\": \"walker0625\", \"conversation_id\": \"conv-2\"}}\n",
    "response = with_history_chain.invoke({'question': '설날은 언제야'}, config=config2)\n",
    "print(response)"
   ]
  }
 ],
 "metadata": {
  "kernelspec": {
   "display_name": "langchain-basic",
   "language": "python",
   "name": "python3"
  },
  "language_info": {
   "codemirror_mode": {
    "name": "ipython",
    "version": 3
   },
   "file_extension": ".py",
   "mimetype": "text/x-python",
   "name": "python",
   "nbconvert_exporter": "python",
   "pygments_lexer": "ipython3",
   "version": "3.11.13"
  }
 },
 "nbformat": 4,
 "nbformat_minor": 5
}
