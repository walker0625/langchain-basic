{
 "cells": [
  {
   "cell_type": "markdown",
   "id": "cfba1db7",
   "metadata": {},
   "source": [
    "# Eval Ragas"
   ]
  },
  {
   "cell_type": "markdown",
   "id": "c04dd032",
   "metadata": {},
   "source": [
    "## 0. DB"
   ]
  },
  {
   "cell_type": "code",
   "execution_count": 4,
   "id": "a6dec85e",
   "metadata": {},
   "outputs": [
    {
     "data": {
      "text/plain": [
       "True"
      ]
     },
     "execution_count": 4,
     "metadata": {},
     "output_type": "execute_result"
    }
   ],
   "source": [
    "from dotenv import load_dotenv\n",
    "\n",
    "from langchain_chroma import Chroma\n",
    "from langchain_openai import OpenAIEmbeddings\n",
    "from langchain_community.document_loaders import PyPDFLoader\n",
    "\n",
    "load_dotenv()"
   ]
  },
  {
   "cell_type": "code",
   "execution_count": 6,
   "id": "83272a19",
   "metadata": {},
   "outputs": [
    {
     "name": "stdout",
     "output_type": "stream",
     "text": [
      "83\n"
     ]
    }
   ],
   "source": [
    "embedding = OpenAIEmbeddings(model='text-embedding-3-small')\n",
    "samsung_vision_2024_path = '../data/Sustainability_report_2024_kr.pdf'\n",
    "\n",
    "docs = PyPDFLoader(samsung_vision_2024_path).load()\n",
    "\n",
    "print(len(docs))"
   ]
  },
  {
   "cell_type": "code",
   "execution_count": 7,
   "id": "aca1817a",
   "metadata": {},
   "outputs": [
    {
     "name": "stdout",
     "output_type": "stream",
     "text": [
      "48\n"
     ]
    }
   ],
   "source": [
    "from langchain_text_splitters import RecursiveCharacterTextSplitter\n",
    "\n",
    "text_splitter = RecursiveCharacterTextSplitter(chunk_size=1000, chunk_overlap=100)\n",
    "chunks = text_splitter.split_documents(docs[:20])\n",
    "\n",
    "print(len(chunks))"
   ]
  },
  {
   "cell_type": "code",
   "execution_count": 8,
   "id": "ee565e3f",
   "metadata": {},
   "outputs": [],
   "source": [
    "collection_name = 'eval_data'\n",
    "db_path = '../vectorstore/eval_db'\n",
    "\n",
    "# db save\n",
    "eval_db = Chroma.from_documents(\n",
    "    documents=chunks, \n",
    "    collection_name=collection_name, \n",
    "    persist_directory=db_path, \n",
    "    embedding=embedding\n",
    ")"
   ]
  },
  {
   "cell_type": "markdown",
   "id": "0ecc7b75",
   "metadata": {},
   "source": [
    "## 1. RAG"
   ]
  },
  {
   "cell_type": "code",
   "execution_count": 9,
   "id": "79ea97f4",
   "metadata": {},
   "outputs": [],
   "source": [
    "from langchain_openai import ChatOpenAI\n",
    "from langchain_core.runnables import RunnablePassthrough, RunnableLambda\n",
    "from langchain_core.prompts import ChatPromptTemplate\n",
    "from langchain_core.output_parsers import StrOutputParser"
   ]
  },
  {
   "cell_type": "code",
   "execution_count": 23,
   "id": "091fbbb6",
   "metadata": {},
   "outputs": [],
   "source": [
    "retriever = eval_db.as_retriever(\n",
    "    search_kwargs = {'k': 5}\n",
    ")"
   ]
  },
  {
   "cell_type": "code",
   "execution_count": 2,
   "id": "54bab752",
   "metadata": {},
   "outputs": [
    {
     "ename": "NameError",
     "evalue": "name 'ChatPromptTemplate' is not defined",
     "output_type": "error",
     "traceback": [
      "\u001b[31m---------------------------------------------------------------------------\u001b[39m",
      "\u001b[31mNameError\u001b[39m                                 Traceback (most recent call last)",
      "\u001b[36mCell\u001b[39m\u001b[36m \u001b[39m\u001b[32mIn[2]\u001b[39m\u001b[32m, line 1\u001b[39m\n\u001b[32m----> \u001b[39m\u001b[32m1\u001b[39m prompt = \u001b[43mChatPromptTemplate\u001b[49m.from_messages([\n\u001b[32m      2\u001b[39m     (\u001b[33m'\u001b[39m\u001b[33msystem\u001b[39m\u001b[33m'\u001b[39m, \u001b[33m\"\"\"\u001b[39m\n\u001b[32m      3\u001b[39m \u001b[33m    주어진 컨텍스트만 근거로 간결하고 정확하게 답하도록 해라.\u001b[39m\n\u001b[32m      4\u001b[39m \u001b[33m    # Context\u001b[39m\n\u001b[32m      5\u001b[39m \u001b[33m    \u001b[39m\u001b[38;5;132;01m{context}\u001b[39;00m\n\u001b[32m      6\u001b[39m \u001b[33m    \u001b[39m\u001b[33m\"\"\"\u001b[39m),\n\u001b[32m      7\u001b[39m     (\u001b[33m'\u001b[39m\u001b[33mhuman\u001b[39m\u001b[33m'\u001b[39m, \u001b[33m'\u001b[39m\u001b[38;5;132;01m{question}\u001b[39;00m\u001b[33m'\u001b[39m)\n\u001b[32m      8\u001b[39m ])\n\u001b[32m     10\u001b[39m model = ChatOpenAI(\n\u001b[32m     11\u001b[39m     model=\u001b[33m'\u001b[39m\u001b[33mgpt-4.1-mini\u001b[39m\u001b[33m'\u001b[39m,\n\u001b[32m     12\u001b[39m     temperature=\u001b[32m0\u001b[39m\n\u001b[32m     13\u001b[39m )\n\u001b[32m     15\u001b[39m output_parser = StrOutputParser()\n",
      "\u001b[31mNameError\u001b[39m: name 'ChatPromptTemplate' is not defined"
     ]
    }
   ],
   "source": [
    "prompt = ChatPromptTemplate.from_messages([\n",
    "    ('system', \"\"\"\n",
    "    주어진 컨텍스트만 근거로 간결하고 정확하게 답하도록 해라.\n",
    "    # Context\n",
    "    {context}\n",
    "    \"\"\"),\n",
    "    ('human', '{question}')\n",
    "])\n",
    "\n",
    "model = ChatOpenAI(\n",
    "    model='gpt-4.1-mini',\n",
    "    temperature=0\n",
    ")\n",
    "\n",
    "output_parser = StrOutputParser()\n",
    "\n",
    "rag_chain = prompt | model | output_parser"
   ]
  },
  {
   "cell_type": "markdown",
   "id": "965814e6",
   "metadata": {},
   "source": [
    "## 3. CHAIN"
   ]
  },
  {
   "cell_type": "code",
   "execution_count": 25,
   "id": "0deea998",
   "metadata": {},
   "outputs": [],
   "source": [
    "from langchain_core.runnables import RunnableLambda, RunnablePassthrough\n",
    "\n",
    "def format_docs(docs):\n",
    "    return '\\n\\n---\\n\\n'.join([doc.page_content for doc in docs])\n",
    "\n",
    "chain = (\n",
    "    {'context' : RunnableLambda(lambda x : x['question']) |  retriever | format_docs,\n",
    "    'question' : RunnablePassthrough()\n",
    "    }\n",
    "    | rag_chain\n",
    ")"
   ]
  },
  {
   "cell_type": "code",
   "execution_count": 26,
   "id": "71c4a6a1",
   "metadata": {},
   "outputs": [
    {
     "data": {
      "text/plain": [
       "'삼성전자는 지속가능성을 사업경쟁력과 기술혁신의 원동력으로 삼아 새로운 도약과 지속 성장을 모색하며, 글로벌 공시규제에 맞춘 투명한 정보 공개와 환경·사회·경제적 리스크 관리에 최선을 다할 전망입니다.'"
      ]
     },
     "execution_count": 26,
     "metadata": {},
     "output_type": "execute_result"
    }
   ],
   "source": [
    "chain.invoke({'question' : '삼성전자의 전망은?'})"
   ]
  },
  {
   "cell_type": "markdown",
   "id": "fe771c47",
   "metadata": {},
   "source": [
    "## 4. Evaluation"
   ]
  },
  {
   "cell_type": "code",
   "execution_count": 5,
   "id": "66497b36",
   "metadata": {},
   "outputs": [
    {
     "data": {
      "text/html": [
       "<div>\n",
       "<style scoped>\n",
       "    .dataframe tbody tr th:only-of-type {\n",
       "        vertical-align: middle;\n",
       "    }\n",
       "\n",
       "    .dataframe tbody tr th {\n",
       "        vertical-align: top;\n",
       "    }\n",
       "\n",
       "    .dataframe thead th {\n",
       "        text-align: right;\n",
       "    }\n",
       "</style>\n",
       "<table border=\"1\" class=\"dataframe\">\n",
       "  <thead>\n",
       "    <tr style=\"text-align: right;\">\n",
       "      <th></th>\n",
       "      <th>user_input</th>\n",
       "      <th>reference_contexts</th>\n",
       "      <th>reference</th>\n",
       "      <th>synthesizer_name</th>\n",
       "    </tr>\n",
       "  </thead>\n",
       "  <tbody>\n",
       "    <tr>\n",
       "      <th>0</th>\n",
       "      <td>How company use renewable energy in 미국?</td>\n",
       "      <td>[\"지속가능한 미래를 위한 노력을 계속해 \\n왔습니다. 2050년 탄소중립을 통해 ...</td>\n",
       "      <td>In the DX division aiming for carbon neutralit...</td>\n",
       "      <td>single_hop_specific_query_synthesizer</td>\n",
       "    </tr>\n",
       "    <tr>\n",
       "      <th>1</th>\n",
       "      <td>Could you please explain the role and signific...</td>\n",
       "      <td>[\"고충의 처리 원칙에 대한 기준을 수립하였고, 공급망 관리에 \\n있어서는 비제조 ...</td>\n",
       "      <td>In March 2023, Samsung Electronics established...</td>\n",
       "      <td>single_hop_specific_query_synthesizer</td>\n",
       "    </tr>\n",
       "    <tr>\n",
       "      <th>2</th>\n",
       "      <td>Can you explane in detail what the 5가지 핵심가치 ar...</td>\n",
       "      <td>['삼성전자 지속가능경영보고서 2024\\n05\\nOur Company Appendi...</td>\n",
       "      <td>Samsung Electronics has established 5가지 핵심가치 (...</td>\n",
       "      <td>single_hop_specific_query_synthesizer</td>\n",
       "    </tr>\n",
       "    <tr>\n",
       "      <th>3</th>\n",
       "      <td>What does DS stand for in Samsung Electronics'...</td>\n",
       "      <td>['Our Company AppendixMateriality Assessment F...</td>\n",
       "      <td>In Samsung Electronics, DS stands for Device S...</td>\n",
       "      <td>single_hop_specific_query_synthesizer</td>\n",
       "    </tr>\n",
       "    <tr>\n",
       "      <th>4</th>\n",
       "      <td>How Mobile eXperience business doing in sales ...</td>\n",
       "      <td>['매출\\n169조 9,923억 원\\n영업이익\\n14조 3,847억 원 네트워크\\n...</td>\n",
       "      <td>The Mobile eXperience business reported sales ...</td>\n",
       "      <td>single_hop_specific_query_synthesizer</td>\n",
       "    </tr>\n",
       "  </tbody>\n",
       "</table>\n",
       "</div>"
      ],
      "text/plain": [
       "                                          user_input  \\\n",
       "0            How company use renewable energy in 미국?   \n",
       "1  Could you please explain the role and signific...   \n",
       "2  Can you explane in detail what the 5가지 핵심가치 ar...   \n",
       "3  What does DS stand for in Samsung Electronics'...   \n",
       "4  How Mobile eXperience business doing in sales ...   \n",
       "\n",
       "                                  reference_contexts  \\\n",
       "0  [\"지속가능한 미래를 위한 노력을 계속해 \\n왔습니다. 2050년 탄소중립을 통해 ...   \n",
       "1  [\"고충의 처리 원칙에 대한 기준을 수립하였고, 공급망 관리에 \\n있어서는 비제조 ...   \n",
       "2  ['삼성전자 지속가능경영보고서 2024\\n05\\nOur Company Appendi...   \n",
       "3  ['Our Company AppendixMateriality Assessment F...   \n",
       "4  ['매출\\n169조 9,923억 원\\n영업이익\\n14조 3,847억 원 네트워크\\n...   \n",
       "\n",
       "                                           reference  \\\n",
       "0  In the DX division aiming for carbon neutralit...   \n",
       "1  In March 2023, Samsung Electronics established...   \n",
       "2  Samsung Electronics has established 5가지 핵심가치 (...   \n",
       "3  In Samsung Electronics, DS stands for Device S...   \n",
       "4  The Mobile eXperience business reported sales ...   \n",
       "\n",
       "                        synthesizer_name  \n",
       "0  single_hop_specific_query_synthesizer  \n",
       "1  single_hop_specific_query_synthesizer  \n",
       "2  single_hop_specific_query_synthesizer  \n",
       "3  single_hop_specific_query_synthesizer  \n",
       "4  single_hop_specific_query_synthesizer  "
      ]
     },
     "execution_count": 5,
     "metadata": {},
     "output_type": "execute_result"
    }
   ],
   "source": [
    "import pandas as pd\n",
    "\n",
    "excel_path = 'report_2024_test.xlsx'\n",
    "df = pd.read_excel(excel_path)\n",
    "df.head()"
   ]
  },
  {
   "cell_type": "markdown",
   "id": "ac1fdcb0",
   "metadata": {},
   "source": [
    "## 평가 과정\n",
    "- user_input : 질문\n",
    "- reference_contexts : 예상 답변을 만들기 위해 참고한 context\n",
    "- reference : 예상 답변\n",
    "***\n",
    "- retriever_contexts : 실제 검색된 context\n",
    "- response : 실제 답변"
   ]
  },
  {
   "cell_type": "code",
   "execution_count": null,
   "id": "8761c7b1",
   "metadata": {},
   "outputs": [],
   "source": [
    "retriever_contexts = []\n",
    "\n",
    "for question in df['user_input']:\n",
    "    docs = retriever.invoke(question)\n",
    "    ctx_list = []\n",
    "    \n",
    "    for doc in docs:\n",
    "        ctx_list.append(doc.page_content)\n",
    "        \n",
    "    retriever_contexts.append(ctx_list)"
   ]
  },
  {
   "cell_type": "code",
   "execution_count": null,
   "id": "4acf665a",
   "metadata": {},
   "outputs": [
    {
     "data": {
      "text/plain": [
       "['삼성전자 지속가능경영보고서 2024\\n14\\nOur Company AppendixMateriality Assessment Facts & Figures PrinciplePlanet People\\nDX부문 재생에너지 전환율\\n재생에너지 확대\\nDX부문은 2027년까지 모든 사업장의 사용 전력 100%를 재생에너지로 \\n전환하는 목표를 수립하였고 글로벌 시장에서 가용한 조 달 수단을 \\n활용하여 재생에너지 사용량을 지속 확대하고 있습니다. 또한 재생에너지 \\n전력구매계약(PPA, Power Purchase Agreement)의 점진적인 확대를 \\n통하여 장기적으로 재생에너지 공급원을 확보하고, 사업장 내 여유 부지에 \\n태양광 발전 설비를 설치하는 등 재생에너지 조달의 질적, 양적 개선을 \\n도모하고 있습니다.\\n주요 지역별 재생에너지 현황\\n미국   미국 지역은 건물 내 태양광 발전 설비 설치, 재생에너지 인증서\\n(REC, Renewable Energy Certificate) 구입 등을 통해 재생 에너지 \\n사용을 늘려왔습니다. 그 결과 미국 사업장은 2020년 재생에너지 100% \\n전환을 달성했습니다.\\n유럽   유럽 지역은 녹색요금제(Green Pricing)와 REC구매를 통해 2020\\n년부터 사용 전력을 100% 재생에너지로 전환했습니다.\\n인도   인도 제조사업장 태양광, 풍력 및 바이오매스 발전사업자와 \\n재생에너지 PPA를 체결하고 REC 구매, 태양광 발전 시설 설치 등을 통해 \\n2022년 제조사업장의 재생에너지 100% 전환을 달성했습니다.\\n베트남/중국   베트남 제조사업장은 REC 구매, 중국 지역은 사업장 내 \\n재생에너지 PPA(태양광) 도입 및 REC 구매를 통해 2022년 사용 전력을 \\n100% 재생에너지로 전환했습니다. 향후 국가별 상황에 맞춰 재생에너지 \\nPPA 발굴 및 확대를 추진할 계획입니다.\\n중남미   브라질 제조사업장은 REC를 구매하여 2022년 재 생에너지 \\n100% 전환을 완료하였습니다. 멕시코 제조사업장은 REC 구매를 포함한',\n",
       " '중남미   브라질 제조사업장은 REC를 구매하여 2022년 재 생에너지 \\n100% 전환을 완료하였습니다. 멕시코 제조사업장은 REC 구매를 포함한 \\n전력 계약을 통해 2020년 4%에서 2023년 70%까지 재생에너지 사용을 \\n확대했습니다. 브라질, 멕시코 제조사업장에서는 지속적으로 재생에너지 \\nPPA를 발굴하고 있으며, 2025년 까지 재생에너지 목표달성을 추진할 \\n계획입니다.\\n한국   DX부문은 수원 사업장에 태양광 발전설비를 설치하여 운영하고 \\n있으며, 2022년 재생에너지 100%를 달성하였습니다. 또한 구미·광주 \\n사업장에서는 선도적으로 사업장 내 재생에너지 PPA를 도입하여 태양광 \\n발전으로 생산된 전력을 공급받고 있습니다.\\n재생에너지 확대 중장기 로드맵\\n‧   재생에너지 사용 확대 선언 \\n(2020년까지 미국, 유럽, 중국 사업장 100% 전환)\\n‧ 미국, 유럽, 중국 사업장 재생에너지 100% 전환\\n‧  한국 DX부문 전 사업장,  \\n베트남, 인도, 브라질 제조사업장 재생에너지 100% 전환\\n‧ 중남미 재생에너지 100% 목표달성 추진\\n‧ DX부문 재생에너지 100% 목표달성 추진\\n2018 \\n2020\\n2022 \\n2025\\n2027\\n주요 지역별 재생에너지 현황 \\n밸류체인 탄소감축 \\nDX부문은 2030년 Scope 1, 2 탄소중립 목표 추진과 동시에 제품의 전체 \\n생애주기 관점에서 소재, 생산, 운송, 사용, 폐기/재활용 등 밸류체인의 \\n탄소배출을 최소화하고자 노력 중입니다.\\n특히, 스마트폰, TV, 냉장고, 세탁기, 에어컨, PC, 모니터 제품의 대표 \\n모델에 저전력 기술을 적용해 2030년 전력 소비량을 2019년 동일 성능/\\n스펙 모델 대비 평균 30% 개선할 계획입니다. 2023년 해당 모델의 전력 \\n소비량을 2019년 대비 평균 25% 개선하였습니다.\\n제품 사용단계 탄소 배출 저감  \\n전 세계가 당면한 기후위기 해결은 모두가 동참해야 하는 과제이기에, \\n협력회사와 함께하는 여정을 만들고자 합니다. 삼성전자는 2019년 \\nCDP\\n1)',\n",
       " '직접배출 감축 활동\\n온실가스 직접배출 감축\\n‧  고효율 설비 교체 및 제조공정 효율화 등 \\n에너지 절감 활동\\n‧  잔여 배출량 감축을 위한 온실가스 \\n감축사업 발굴 및 추진\\n‧ 2030년까지 직접배출 순배출 제로화\\n재생에너지 확대\\n‧  2022년 재생에너지 전환을 추진하는 \\n글로벌 이니셔티브인 RE100 가입\\n‧  다양한 재생에너지 조달 옵션을 \\n활용하여, 재생에너지 확보 추진\\n‧  2027년까지 재생에너지 100% 전환\\n밸류체인 탄소감축\\n‧  스마트폰, TV, 냉장고, 세탁기, 에어컨, PC, 모니터  \\n제품의 대표 모델에 저전력 기술 적용\\n‧  협력회사 온실가스 배출량 산정 및 감축목표 수립 지원\\n(가이드 개발, 교육)\\n‧  제품의 전체 생애주기 관점에서 소재, 생산, 운송, 사용, \\n폐기 ∙ 재활용 등 밸류체인의 탄소배출 저감',\n",
       " '전 세계가 당면한 기후위기 해결은 모두가 동참해야 하는 과제이기에, \\n협력회사와 함께하는 여정을 만들고자 합니다. 삼성전자는 2019년 \\nCDP\\n1)\\n 공급망 프로그램 가입을 시작으로 2022년 온실가스 감축 추진을 \\n위한 운영체계를 정립하고, 실질적인 감축활동을 본격적으로 전개하고 \\n있습니다. 협력회사 온실가스 배출량 산정과 감축목표를 수립할 수 있도록 \\n가이드라인을 개발하여 교육하고 감축 활동 단계별 지원 프 로그램을 \\n운영하고 있습니다.\\n1) CDP : 환경 정보 공개 플랫폼(구 탄소정보공개 프로젝트)\\n협력회사와 함께 하는 기후변화대응 \\n(사용량 GWh)\\n(2023년 기준) \\n93.4%\\n2022\\n1)\\n93.1%(2,856)\\n2023\\n1)\\n93.4%(2,720)\\n2020\\n14.4%(470)\\n2021\\n1 7.7%(556)\\n에너지 고효율 제품 중장기 로드맵\\n‧  7대 제품 대표모델\\n1)\\n에 에너지 고효율 기술을 적용하여 \\n소비전력을 2019년 대비 평균 25% 개선\\n‧  7대 제품 대표모델\\n1)\\n의 소비전력을 2019년 대비 평균 30%  \\n개선 추진\\n2023 \\n2030\\n1)  대표제품군(2023년 모델) : 냉장고(RF85C9241AP), 에어컨(AR10DYEAAWK/\\nST), 세탁기(WF25CB8795BK), TV(KQ75QNC900FXKR), 모니터\\n(LS49AG950NKXKR), PC(NP960XFG), 스마트폰(SM-S918)\\n1) 2022년 전력사용량 : 3,067GWh, 2023년 전력사용량 : 2,914GWh',\n",
       " \"대한 관심 또한 지속 고조되고 있습니다. \\n삼성전자는 이러한 추세에 맞춰 지속가능한 미래를 위한 노력을 계속해 \\n왔습니다. 2050년 탄소중립을 통해 글로벌 기후위기 극복 노력에 \\n동참하고, 자원의 순환성을 극대화하여 순환경제 구축 에 기여하며, \\n기술혁신을 통해 환경난제 해결에 도전하는 내용의 '新환경경영전략'을 \\n2022년 9월에 발표하였습니다. \\n2030년 탄소중립을 목표로 하는 DX부문에서는 미국, 유럽, 중국에 이어 \\n한국, 베트남, 인도, 브라 질을 포함한 글로벌 주요 제조사업장의 사용 \\n전력을 재생에너지로 100% 전환하였으며, 2023년말 기준, 총 93.4%\\n의 재생에너지 전환 실적을 기록하였습니다. 또한 자원순환형 소재 확대 \\n로드맵에 맞춰, 당사가 구매한 제품 내 플라스틱 부품 25%에 재생레진을 \\n적용하였습니다. \\nDS부문에서는 2050년 탄소중립 달성을 위해 2023년 공정가스 처리시설\\n(RCS) 16대를 4개 라인에 신규 설치하고, LNG 폐열 회수 시스템을 확대 \\n적용하여 온실가스 배출 저감을 위해 노력했습니다. 또한 2030년까지 \\n용수 취수량을 2021년 수준으로 절 감하는 것을 목 표로 하고 있으며, \\n국제수자원관리동맹(AWS)으로부터 기흥/화성, 평택, 중국 시안 사업장에 \\n대해 최고 등급인 ' 플래티넘' 인증을 획득하여 수자원 관리 체계의 \\n우수성을 입증 받았습니다. 아울러, 폐기물 발생량 저감을 위해 2024년 \\n3월, 웨이퍼박스 등 9건에 대해 환경부 순환자원 인정을 추가 취득하여 \\n현재까지 총 49건을 순환자원으로 인정받았고 매년 품목을 확대해나가고 \\n있습니다.\\n사회 분야에서는 지난 2023년 2월 발표한 글로벌 인권원칙에 연계하여, \\n글로벌 고충처리 정책 을 2024년 4월 제정, 고충  접수 채널 운영과 \\n접수된 고충의 처리 원칙에 대한 기준을 수립하였고, 공급망 관리에 \\n있어서는 비제조 분야 및 리스크 분석에 따라 제조 분야 2차 협력회사로\"]"
      ]
     },
     "execution_count": 32,
     "metadata": {},
     "output_type": "execute_result"
    }
   ],
   "source": [
    "retriever_contexts[0]"
   ]
  },
  {
   "cell_type": "code",
   "execution_count": 37,
   "id": "84797687",
   "metadata": {},
   "outputs": [],
   "source": [
    "response = []\n",
    "\n",
    "for question in df['user_input']:\n",
    "    answer = chain.invoke({'question' : question})\n",
    "    response.append(answer)"
   ]
  },
  {
   "cell_type": "code",
   "execution_count": null,
   "id": "628e5809",
   "metadata": {},
   "outputs": [],
   "source": [
    "response[:5]"
   ]
  },
  {
   "cell_type": "code",
   "execution_count": 38,
   "id": "cbad279e",
   "metadata": {},
   "outputs": [],
   "source": [
    "df['response'] = response\n",
    "df['retriever_contexts'] = retriever_contexts"
   ]
  },
  {
   "cell_type": "code",
   "execution_count": 40,
   "id": "0716ac22",
   "metadata": {},
   "outputs": [],
   "source": [
    "df.to_excel('report_2024_test_result.xlsx', index=False)"
   ]
  },
  {
   "cell_type": "code",
   "execution_count": 5,
   "id": "41c70899",
   "metadata": {},
   "outputs": [],
   "source": [
    "from ragas import EvaluationDataset, evaluate\n",
    "from ragas.metrics import Faithfulness, LLMContextRecall, FactualCorrectness\n",
    "from ragas.llms import LangchainLLMWrapper\n",
    "from ragas.llms.base import llm_factory\n",
    "import ast\n",
    "import pandas as pd"
   ]
  },
  {
   "cell_type": "code",
   "execution_count": 6,
   "id": "c71a9da2",
   "metadata": {},
   "outputs": [
    {
     "data": {
      "text/html": [
       "<div>\n",
       "<style scoped>\n",
       "    .dataframe tbody tr th:only-of-type {\n",
       "        vertical-align: middle;\n",
       "    }\n",
       "\n",
       "    .dataframe tbody tr th {\n",
       "        vertical-align: top;\n",
       "    }\n",
       "\n",
       "    .dataframe thead th {\n",
       "        text-align: right;\n",
       "    }\n",
       "</style>\n",
       "<table border=\"1\" class=\"dataframe\">\n",
       "  <thead>\n",
       "    <tr style=\"text-align: right;\">\n",
       "      <th></th>\n",
       "      <th>user_input</th>\n",
       "      <th>reference_contexts</th>\n",
       "      <th>reference</th>\n",
       "      <th>synthesizer_name</th>\n",
       "      <th>response</th>\n",
       "      <th>retriever_contexts</th>\n",
       "    </tr>\n",
       "  </thead>\n",
       "  <tbody>\n",
       "    <tr>\n",
       "      <th>0</th>\n",
       "      <td>How company use renewable energy in 미국?</td>\n",
       "      <td>[\"지속가능한 미래를 위한 노력을 계속해 \\n왔습니다. 2050년 탄소중립을 통해 ...</td>\n",
       "      <td>In the DX division aiming for carbon neutralit...</td>\n",
       "      <td>single_hop_specific_query_synthesizer</td>\n",
       "      <td>삼성전자는 미국에서 건물 내 태양광 발전 설비 설치와 재생에너지 인증서(REC) 구...</td>\n",
       "      <td>['삼성전자 지속가능경영보고서 2024\\n14\\nOur Company Appendi...</td>\n",
       "    </tr>\n",
       "    <tr>\n",
       "      <th>1</th>\n",
       "      <td>Could you please explain the role and signific...</td>\n",
       "      <td>[\"고충의 처리 원칙에 대한 기준을 수립하였고, 공급망 관리에 \\n있어서는 비제조 ...</td>\n",
       "      <td>In March 2023, Samsung Electronics established...</td>\n",
       "      <td>single_hop_specific_query_synthesizer</td>\n",
       "      <td>Subsidiary company 희망별숲, established by Samsun...</td>\n",
       "      <td>[\"접수된 고충의 처리 원칙에 대한 기준을 수립하였고, 공급망 관리에 \\n있어서는 ...</td>\n",
       "    </tr>\n",
       "    <tr>\n",
       "      <th>2</th>\n",
       "      <td>Can you explane in detail what the 5가지 핵심가치 ar...</td>\n",
       "      <td>['삼성전자 지속가능경영보고서 2024\\n05\\nOur Company Appendi...</td>\n",
       "      <td>Samsung Electronics has established 5가지 핵심가치 (...</td>\n",
       "      <td>single_hop_specific_query_synthesizer</td>\n",
       "      <td>주어진 컨텍스트에는 삼성전자가 글로벌 행동강령과 지속가능한 성장을 위해 설정한 5가...</td>\n",
       "      <td>['· 업종 간 협력\\n·  기후 대응을 포함한  \\nUN SDGs에 대한 기여\\n...</td>\n",
       "    </tr>\n",
       "    <tr>\n",
       "      <th>3</th>\n",
       "      <td>What does DS stand for in Samsung Electronics'...</td>\n",
       "      <td>['Our Company AppendixMateriality Assessment F...</td>\n",
       "      <td>In Samsung Electronics, DS stands for Device S...</td>\n",
       "      <td>single_hop_specific_query_synthesizer</td>\n",
       "      <td>DS stands for Device Solutions in Samsung Elec...</td>\n",
       "      <td>['삼성전자 지속가능경영보고서 2024\\n19\\nOur Company Appendi...</td>\n",
       "    </tr>\n",
       "    <tr>\n",
       "      <th>4</th>\n",
       "      <td>How Mobile eXperience business doing in sales ...</td>\n",
       "      <td>['매출\\n169조 9,923억 원\\n영업이익\\n14조 3,847억 원 네트워크\\n...</td>\n",
       "      <td>The Mobile eXperience business reported sales ...</td>\n",
       "      <td>single_hop_specific_query_synthesizer</td>\n",
       "      <td>2023년 삼성전자 Mobile eXperience 사업부문의 매출은 66조 5,9...</td>\n",
       "      <td>['삼성전자 지속가능경영보고서 2024\\n05\\nOur Company Appendi...</td>\n",
       "    </tr>\n",
       "  </tbody>\n",
       "</table>\n",
       "</div>"
      ],
      "text/plain": [
       "                                          user_input  \\\n",
       "0            How company use renewable energy in 미국?   \n",
       "1  Could you please explain the role and signific...   \n",
       "2  Can you explane in detail what the 5가지 핵심가치 ar...   \n",
       "3  What does DS stand for in Samsung Electronics'...   \n",
       "4  How Mobile eXperience business doing in sales ...   \n",
       "\n",
       "                                  reference_contexts  \\\n",
       "0  [\"지속가능한 미래를 위한 노력을 계속해 \\n왔습니다. 2050년 탄소중립을 통해 ...   \n",
       "1  [\"고충의 처리 원칙에 대한 기준을 수립하였고, 공급망 관리에 \\n있어서는 비제조 ...   \n",
       "2  ['삼성전자 지속가능경영보고서 2024\\n05\\nOur Company Appendi...   \n",
       "3  ['Our Company AppendixMateriality Assessment F...   \n",
       "4  ['매출\\n169조 9,923억 원\\n영업이익\\n14조 3,847억 원 네트워크\\n...   \n",
       "\n",
       "                                           reference  \\\n",
       "0  In the DX division aiming for carbon neutralit...   \n",
       "1  In March 2023, Samsung Electronics established...   \n",
       "2  Samsung Electronics has established 5가지 핵심가치 (...   \n",
       "3  In Samsung Electronics, DS stands for Device S...   \n",
       "4  The Mobile eXperience business reported sales ...   \n",
       "\n",
       "                        synthesizer_name  \\\n",
       "0  single_hop_specific_query_synthesizer   \n",
       "1  single_hop_specific_query_synthesizer   \n",
       "2  single_hop_specific_query_synthesizer   \n",
       "3  single_hop_specific_query_synthesizer   \n",
       "4  single_hop_specific_query_synthesizer   \n",
       "\n",
       "                                            response  \\\n",
       "0  삼성전자는 미국에서 건물 내 태양광 발전 설비 설치와 재생에너지 인증서(REC) 구...   \n",
       "1  Subsidiary company 희망별숲, established by Samsun...   \n",
       "2  주어진 컨텍스트에는 삼성전자가 글로벌 행동강령과 지속가능한 성장을 위해 설정한 5가...   \n",
       "3  DS stands for Device Solutions in Samsung Elec...   \n",
       "4  2023년 삼성전자 Mobile eXperience 사업부문의 매출은 66조 5,9...   \n",
       "\n",
       "                                  retriever_contexts  \n",
       "0  ['삼성전자 지속가능경영보고서 2024\\n14\\nOur Company Appendi...  \n",
       "1  [\"접수된 고충의 처리 원칙에 대한 기준을 수립하였고, 공급망 관리에 \\n있어서는 ...  \n",
       "2  ['· 업종 간 협력\\n·  기후 대응을 포함한  \\nUN SDGs에 대한 기여\\n...  \n",
       "3  ['삼성전자 지속가능경영보고서 2024\\n19\\nOur Company Appendi...  \n",
       "4  ['삼성전자 지속가능경영보고서 2024\\n05\\nOur Company Appendi...  "
      ]
     },
     "execution_count": 6,
     "metadata": {},
     "output_type": "execute_result"
    }
   ],
   "source": [
    "df = pd.read_excel('report_2024_test_result.xlsx')\n",
    "df.head()"
   ]
  },
  {
   "cell_type": "code",
   "execution_count": 7,
   "id": "af1af5d3",
   "metadata": {},
   "outputs": [
    {
     "data": {
      "text/plain": [
       "dtype('O')"
      ]
     },
     "execution_count": 7,
     "metadata": {},
     "output_type": "execute_result"
    }
   ],
   "source": [
    "df['reference_contexts'] = df['reference_contexts'].apply(lambda x : ast.literal_eval(x)) # 문자열을 list로 변환\n",
    "df['reference_contexts'].dtype"
   ]
  },
  {
   "cell_type": "code",
   "execution_count": 8,
   "id": "ef981c9b",
   "metadata": {},
   "outputs": [
    {
     "data": {
      "text/html": [
       "<div>\n",
       "<style scoped>\n",
       "    .dataframe tbody tr th:only-of-type {\n",
       "        vertical-align: middle;\n",
       "    }\n",
       "\n",
       "    .dataframe tbody tr th {\n",
       "        vertical-align: top;\n",
       "    }\n",
       "\n",
       "    .dataframe thead th {\n",
       "        text-align: right;\n",
       "    }\n",
       "</style>\n",
       "<table border=\"1\" class=\"dataframe\">\n",
       "  <thead>\n",
       "    <tr style=\"text-align: right;\">\n",
       "      <th></th>\n",
       "      <th>user_input</th>\n",
       "      <th>reference_contexts</th>\n",
       "      <th>reference</th>\n",
       "      <th>synthesizer_name</th>\n",
       "      <th>response</th>\n",
       "      <th>retrieved_contexts</th>\n",
       "    </tr>\n",
       "  </thead>\n",
       "  <tbody>\n",
       "    <tr>\n",
       "      <th>0</th>\n",
       "      <td>How company use renewable energy in 미국?</td>\n",
       "      <td>[지속가능한 미래를 위한 노력을 계속해 \\n왔습니다. 2050년 탄소중립을 통해 글...</td>\n",
       "      <td>In the DX division aiming for carbon neutralit...</td>\n",
       "      <td>single_hop_specific_query_synthesizer</td>\n",
       "      <td>삼성전자는 미국에서 건물 내 태양광 발전 설비 설치와 재생에너지 인증서(REC) 구...</td>\n",
       "      <td>['삼성전자 지속가능경영보고서 2024\\n14\\nOur Company Appendi...</td>\n",
       "    </tr>\n",
       "    <tr>\n",
       "      <th>1</th>\n",
       "      <td>Could you please explain the role and signific...</td>\n",
       "      <td>[고충의 처리 원칙에 대한 기준을 수립하였고, 공급망 관리에 \\n있어서는 비제조 분...</td>\n",
       "      <td>In March 2023, Samsung Electronics established...</td>\n",
       "      <td>single_hop_specific_query_synthesizer</td>\n",
       "      <td>Subsidiary company 희망별숲, established by Samsun...</td>\n",
       "      <td>[\"접수된 고충의 처리 원칙에 대한 기준을 수립하였고, 공급망 관리에 \\n있어서는 ...</td>\n",
       "    </tr>\n",
       "    <tr>\n",
       "      <th>2</th>\n",
       "      <td>Can you explane in detail what the 5가지 핵심가치 ar...</td>\n",
       "      <td>[삼성전자 지속가능경영보고서 2024\\n05\\nOur Company Appendix...</td>\n",
       "      <td>Samsung Electronics has established 5가지 핵심가치 (...</td>\n",
       "      <td>single_hop_specific_query_synthesizer</td>\n",
       "      <td>주어진 컨텍스트에는 삼성전자가 글로벌 행동강령과 지속가능한 성장을 위해 설정한 5가...</td>\n",
       "      <td>['· 업종 간 협력\\n·  기후 대응을 포함한  \\nUN SDGs에 대한 기여\\n...</td>\n",
       "    </tr>\n",
       "    <tr>\n",
       "      <th>3</th>\n",
       "      <td>What does DS stand for in Samsung Electronics'...</td>\n",
       "      <td>[Our Company AppendixMateriality Assessment Fa...</td>\n",
       "      <td>In Samsung Electronics, DS stands for Device S...</td>\n",
       "      <td>single_hop_specific_query_synthesizer</td>\n",
       "      <td>DS stands for Device Solutions in Samsung Elec...</td>\n",
       "      <td>['삼성전자 지속가능경영보고서 2024\\n19\\nOur Company Appendi...</td>\n",
       "    </tr>\n",
       "    <tr>\n",
       "      <th>4</th>\n",
       "      <td>How Mobile eXperience business doing in sales ...</td>\n",
       "      <td>[매출\\n169조 9,923억 원\\n영업이익\\n14조 3,847억 원 네트워크\\nM...</td>\n",
       "      <td>The Mobile eXperience business reported sales ...</td>\n",
       "      <td>single_hop_specific_query_synthesizer</td>\n",
       "      <td>2023년 삼성전자 Mobile eXperience 사업부문의 매출은 66조 5,9...</td>\n",
       "      <td>['삼성전자 지속가능경영보고서 2024\\n05\\nOur Company Appendi...</td>\n",
       "    </tr>\n",
       "  </tbody>\n",
       "</table>\n",
       "</div>"
      ],
      "text/plain": [
       "                                          user_input  \\\n",
       "0            How company use renewable energy in 미국?   \n",
       "1  Could you please explain the role and signific...   \n",
       "2  Can you explane in detail what the 5가지 핵심가치 ar...   \n",
       "3  What does DS stand for in Samsung Electronics'...   \n",
       "4  How Mobile eXperience business doing in sales ...   \n",
       "\n",
       "                                  reference_contexts  \\\n",
       "0  [지속가능한 미래를 위한 노력을 계속해 \\n왔습니다. 2050년 탄소중립을 통해 글...   \n",
       "1  [고충의 처리 원칙에 대한 기준을 수립하였고, 공급망 관리에 \\n있어서는 비제조 분...   \n",
       "2  [삼성전자 지속가능경영보고서 2024\\n05\\nOur Company Appendix...   \n",
       "3  [Our Company AppendixMateriality Assessment Fa...   \n",
       "4  [매출\\n169조 9,923억 원\\n영업이익\\n14조 3,847억 원 네트워크\\nM...   \n",
       "\n",
       "                                           reference  \\\n",
       "0  In the DX division aiming for carbon neutralit...   \n",
       "1  In March 2023, Samsung Electronics established...   \n",
       "2  Samsung Electronics has established 5가지 핵심가치 (...   \n",
       "3  In Samsung Electronics, DS stands for Device S...   \n",
       "4  The Mobile eXperience business reported sales ...   \n",
       "\n",
       "                        synthesizer_name  \\\n",
       "0  single_hop_specific_query_synthesizer   \n",
       "1  single_hop_specific_query_synthesizer   \n",
       "2  single_hop_specific_query_synthesizer   \n",
       "3  single_hop_specific_query_synthesizer   \n",
       "4  single_hop_specific_query_synthesizer   \n",
       "\n",
       "                                            response  \\\n",
       "0  삼성전자는 미국에서 건물 내 태양광 발전 설비 설치와 재생에너지 인증서(REC) 구...   \n",
       "1  Subsidiary company 희망별숲, established by Samsun...   \n",
       "2  주어진 컨텍스트에는 삼성전자가 글로벌 행동강령과 지속가능한 성장을 위해 설정한 5가...   \n",
       "3  DS stands for Device Solutions in Samsung Elec...   \n",
       "4  2023년 삼성전자 Mobile eXperience 사업부문의 매출은 66조 5,9...   \n",
       "\n",
       "                                  retrieved_contexts  \n",
       "0  ['삼성전자 지속가능경영보고서 2024\\n14\\nOur Company Appendi...  \n",
       "1  [\"접수된 고충의 처리 원칙에 대한 기준을 수립하였고, 공급망 관리에 \\n있어서는 ...  \n",
       "2  ['· 업종 간 협력\\n·  기후 대응을 포함한  \\nUN SDGs에 대한 기여\\n...  \n",
       "3  ['삼성전자 지속가능경영보고서 2024\\n19\\nOur Company Appendi...  \n",
       "4  ['삼성전자 지속가능경영보고서 2024\\n05\\nOur Company Appendi...  "
      ]
     },
     "execution_count": 8,
     "metadata": {},
     "output_type": "execute_result"
    }
   ],
   "source": [
    "df['retrieved_contexts'] = df['retriever_contexts']\n",
    "df.drop(columns=['retriever_contexts'], inplace=True)\n",
    "df.head()"
   ]
  },
  {
   "cell_type": "code",
   "execution_count": 9,
   "id": "478016d7",
   "metadata": {},
   "outputs": [
    {
     "data": {
      "text/plain": [
       "dtype('O')"
      ]
     },
     "execution_count": 9,
     "metadata": {},
     "output_type": "execute_result"
    }
   ],
   "source": [
    "df['retrieved_contexts'] = df['retrieved_contexts'].apply(lambda x : ast.literal_eval(x)) # 문자열을 list로 변환\n",
    "df['retrieved_contexts'].dtype"
   ]
  },
  {
   "cell_type": "code",
   "execution_count": 10,
   "id": "41702a36",
   "metadata": {},
   "outputs": [
    {
     "data": {
      "text/plain": [
       "EvaluationDataset(features=['user_input', 'retrieved_contexts', 'reference_contexts', 'response', 'reference'], len=100)"
      ]
     },
     "execution_count": 10,
     "metadata": {},
     "output_type": "execute_result"
    }
   ],
   "source": [
    "eval_llm = llm_factory(model = \"gpt-4.1-mini\")\n",
    "# df : 'user_input', 'retrieved_contexts', 'reference_contexts', 'response', 'reference' 형태를 맞춰줘야 함\n",
    "dataset = EvaluationDataset.from_pandas(df) # 키값이 정해져 있으므로 임의로 정하면 오류\n",
    "dataset"
   ]
  },
  {
   "cell_type": "code",
   "execution_count": null,
   "id": "7ec47119",
   "metadata": {},
   "outputs": [
    {
     "name": "stderr",
     "output_type": "stream",
     "text": [
      "Evaluating:   2%|▏         | 7/300 [01:32<1:04:49, 13.27s/it]Exception raised in Job[2]: RateLimitError(Error code: 429 - {'error': {'message': 'Rate limit reached for gpt-4.1-mini in organization org-ifMd863rcCIXpEuEYtSj7yxy on tokens per min (TPM): Limit 200000, Used 199009, Requested 1052. Please try again in 18ms. Visit https://platform.openai.com/account/rate-limits to learn more.', 'type': 'tokens', 'param': None, 'code': 'rate_limit_exceeded'}})\n",
      "Evaluating:   3%|▎         | 8/300 [01:36<50:57, 10.47s/it]  Exception raised in Job[1]: RateLimitError(Error code: 429 - {'error': {'message': 'Rate limit reached for gpt-4.1-mini in organization org-ifMd863rcCIXpEuEYtSj7yxy on tokens per min (TPM): Limit 200000, Used 197855, Requested 3243. Please try again in 329ms. Visit https://platform.openai.com/account/rate-limits to learn more.', 'type': 'tokens', 'param': None, 'code': 'rate_limit_exceeded'}})\n",
      "Evaluating:   3%|▎         | 9/300 [01:37<36:07,  7.45s/it]Exception raised in Job[15]: RateLimitError(Error code: 429 - {'error': {'message': 'Rate limit reached for gpt-4.1-mini in organization org-ifMd863rcCIXpEuEYtSj7yxy on tokens per min (TPM): Limit 200000, Used 200000, Requested 3171. Please try again in 951ms. Visit https://platform.openai.com/account/rate-limits to learn more.', 'type': 'tokens', 'param': None, 'code': 'rate_limit_exceeded'}})\n",
      "Evaluating:   3%|▎         | 10/300 [02:13<1:18:17, 16.20s/it]Exception raised in Job[6]: RateLimitError(Error code: 429 - {'error': {'message': 'Rate limit reached for gpt-4.1-mini in organization org-ifMd863rcCIXpEuEYtSj7yxy on tokens per min (TPM): Limit 200000, Used 199176, Requested 2813. Please try again in 596ms. Visit https://platform.openai.com/account/rate-limits to learn more.', 'type': 'tokens', 'param': None, 'code': 'rate_limit_exceeded'}})\n",
      "Evaluating:   4%|▎         | 11/300 [02:24<1:10:58, 14.74s/it]Exception raised in Job[22]: RateLimitError(Error code: 429 - {'error': {'message': 'Rate limit reached for gpt-4.1-mini in organization org-ifMd863rcCIXpEuEYtSj7yxy on requests per min (RPM): Limit 500, Used 500, Requested 1. Please try again in 120ms. Visit https://platform.openai.com/account/rate-limits to learn more.', 'type': 'requests', 'param': None, 'code': 'rate_limit_exceeded'}})\n",
      "Evaluating:   4%|▍         | 12/300 [02:36<1:06:16, 13.81s/it]Exception raised in Job[7]: RateLimitError(Error code: 429 - {'error': {'message': 'Rate limit reached for gpt-4.1-mini in organization org-ifMd863rcCIXpEuEYtSj7yxy on requests per min (RPM): Limit 500, Used 500, Requested 1. Please try again in 120ms. Visit https://platform.openai.com/account/rate-limits to learn more.', 'type': 'requests', 'param': None, 'code': 'rate_limit_exceeded'}})\n",
      "Evaluating:   4%|▍         | 13/300 [02:36<46:38,  9.75s/it]  Exception raised in Job[0]: RateLimitError(Error code: 429 - {'error': {'message': 'Rate limit reached for gpt-4.1-mini in organization org-ifMd863rcCIXpEuEYtSj7yxy on tokens per min (TPM): Limit 200000, Used 198773, Requested 3196. Please try again in 590ms. Visit https://platform.openai.com/account/rate-limits to learn more.', 'type': 'tokens', 'param': None, 'code': 'rate_limit_exceeded'}})\n",
      "Exception raised in Job[14]: RateLimitError(Error code: 429 - {'error': {'message': 'Rate limit reached for gpt-4.1-mini in organization org-ifMd863rcCIXpEuEYtSj7yxy on tokens per min (TPM): Limit 200000, Used 199216, Requested 1126. Please try again in 102ms. Visit https://platform.openai.com/account/rate-limits to learn more.', 'type': 'tokens', 'param': None, 'code': 'rate_limit_exceeded'}})\n",
      "Evaluating:   5%|▌         | 16/300 [02:45<26:27,  5.59s/it]Exception raised in Job[16]: RateLimitError(Error code: 429 - {'error': {'message': 'Rate limit reached for gpt-4.1-mini in organization org-ifMd863rcCIXpEuEYtSj7yxy on tokens per min (TPM): Limit 200000, Used 200000, Requested 3002. Please try again in 900ms. Visit https://platform.openai.com/account/rate-limits to learn more.', 'type': 'tokens', 'param': None, 'code': 'rate_limit_exceeded'}})\n",
      "Evaluating:   6%|▌         | 17/300 [02:48<23:09,  4.91s/it]Exception raised in Job[18]: RateLimitError(Error code: 429 - {'error': {'message': 'Rate limit reached for gpt-4.1-mini in organization org-ifMd863rcCIXpEuEYtSj7yxy on requests per min (RPM): Limit 500, Used 500, Requested 1. Please try again in 120ms. Visit https://platform.openai.com/account/rate-limits to learn more.', 'type': 'requests', 'param': None, 'code': 'rate_limit_exceeded'}})\n",
      "Evaluating:   6%|▌         | 18/300 [02:59<30:09,  6.42s/it]Exception raised in Job[4]: TimeoutError()\n",
      "Exception raised in Job[3]: TimeoutError()\n",
      "Exception raised in Job[9]: TimeoutError()\n",
      "Evaluating:   6%|▋         | 19/300 [03:00<22:33,  4.82s/it]Exception raised in Job[20]: RateLimitError(Error code: 429 - {'error': {'message': 'Rate limit reached for gpt-4.1-mini in organization org-ifMd863rcCIXpEuEYtSj7yxy on requests per min (RPM): Limit 500, Used 500, Requested 1. Please try again in 120ms. Visit https://platform.openai.com/account/rate-limits to learn more.', 'type': 'requests', 'param': None, 'code': 'rate_limit_exceeded'}})\n",
      "Evaluating:   8%|▊         | 23/300 [03:21<27:34,  5.97s/it]Exception raised in Job[24]: RateLimitError(Error code: 429 - {'error': {'message': 'Rate limit reached for gpt-4.1-mini in organization org-ifMd863rcCIXpEuEYtSj7yxy on tokens per min (TPM): Limit 200000, Used 200000, Requested 3542. Please try again in 1.062s. Visit https://platform.openai.com/account/rate-limits to learn more.', 'type': 'tokens', 'param': None, 'code': 'rate_limit_exceeded'}})\n",
      "Evaluating:   8%|▊         | 24/300 [03:33<34:20,  7.46s/it]Exception raised in Job[21]: RateLimitError(Error code: 429 - {'error': {'message': 'Rate limit reached for gpt-4.1-mini in organization org-ifMd863rcCIXpEuEYtSj7yxy on tokens per min (TPM): Limit 200000, Used 199995, Requested 3537. Please try again in 1.059s. Visit https://platform.openai.com/account/rate-limits to learn more.', 'type': 'tokens', 'param': None, 'code': 'rate_limit_exceeded'}})\n",
      "Evaluating:   9%|▉         | 27/300 [03:55<31:50,  7.00s/it]Exception raised in Job[30]: RateLimitError(Error code: 429 - {'error': {'message': 'Rate limit reached for gpt-4.1-mini in organization org-ifMd863rcCIXpEuEYtSj7yxy on requests per min (RPM): Limit 500, Used 500, Requested 1. Please try again in 120ms. Visit https://platform.openai.com/account/rate-limits to learn more.', 'type': 'requests', 'param': None, 'code': 'rate_limit_exceeded'}})\n",
      "Evaluating:   9%|▉         | 28/300 [04:04<34:05,  7.52s/it]Exception raised in Job[28]: RateLimitError(Error code: 429 - {'error': {'message': 'Rate limit reached for gpt-4.1-mini in organization org-ifMd863rcCIXpEuEYtSj7yxy on requests per min (RPM): Limit 500, Used 500, Requested 1. Please try again in 120ms. Visit https://platform.openai.com/account/rate-limits to learn more.', 'type': 'requests', 'param': None, 'code': 'rate_limit_exceeded'}})\n",
      "Evaluating:  10%|▉         | 29/300 [04:17<41:26,  9.18s/it]Exception raised in Job[26]: RateLimitError(Error code: 429 - {'error': {'message': 'Rate limit reached for gpt-4.1-mini in organization org-ifMd863rcCIXpEuEYtSj7yxy on tokens per min (TPM): Limit 200000, Used 200000, Requested 1297. Please try again in 389ms. Visit https://platform.openai.com/account/rate-limits to learn more.', 'type': 'tokens', 'param': None, 'code': 'rate_limit_exceeded'}})\n",
      "Evaluating:  10%|█         | 30/300 [04:22<35:23,  7.87s/it]Exception raised in Job[35]: RateLimitError(Error code: 429 - {'error': {'message': 'Rate limit reached for gpt-4.1-mini in organization org-ifMd863rcCIXpEuEYtSj7yxy on requests per min (RPM): Limit 500, Used 500, Requested 1. Please try again in 120ms. Visit https://platform.openai.com/account/rate-limits to learn more.', 'type': 'requests', 'param': None, 'code': 'rate_limit_exceeded'}})\n",
      "Evaluating:  10%|█         | 31/300 [04:44<54:19, 12.12s/it]Exception raised in Job[34]: RateLimitError(Error code: 429 - {'error': {'message': 'Rate limit reached for gpt-4.1-mini in organization org-ifMd863rcCIXpEuEYtSj7yxy on requests per min (RPM): Limit 500, Used 500, Requested 1. Please try again in 120ms. Visit https://platform.openai.com/account/rate-limits to learn more.', 'type': 'requests', 'param': None, 'code': 'rate_limit_exceeded'}})\n",
      "Evaluating:  11%|█         | 32/300 [04:52<48:37, 10.89s/it]Exception raised in Job[37]: RateLimitError(Error code: 429 - {'error': {'message': 'Rate limit reached for gpt-4.1-mini in organization org-ifMd863rcCIXpEuEYtSj7yxy on tokens per min (TPM): Limit 200000, Used 200000, Requested 3644. Please try again in 1.093s. Visit https://platform.openai.com/account/rate-limits to learn more.', 'type': 'tokens', 'param': None, 'code': 'rate_limit_exceeded'}})\n",
      "Evaluating:  11%|█         | 33/300 [04:54<36:05,  8.11s/it]Exception raised in Job[32]: RateLimitError(Error code: 429 - {'error': {'message': 'Rate limit reached for gpt-4.1-mini in organization org-ifMd863rcCIXpEuEYtSj7yxy on requests per min (RPM): Limit 500, Used 500, Requested 1. Please try again in 120ms. Visit https://platform.openai.com/account/rate-limits to learn more.', 'type': 'requests', 'param': None, 'code': 'rate_limit_exceeded'}})\n",
      "Evaluating:  11%|█▏        | 34/300 [04:58<30:40,  6.92s/it]Exception raised in Job[25]: RateLimitError(Error code: 429 - {'error': {'message': 'Rate limit reached for gpt-4.1-mini in organization org-ifMd863rcCIXpEuEYtSj7yxy on tokens per min (TPM): Limit 200000, Used 200000, Requested 3531. Please try again in 1.059s. Visit https://platform.openai.com/account/rate-limits to learn more.', 'type': 'tokens', 'param': None, 'code': 'rate_limit_exceeded'}})\n",
      "Evaluating:  12%|█▏        | 35/300 [05:06<32:22,  7.33s/it]Exception raised in Job[36]: RateLimitError(Error code: 429 - {'error': {'message': 'Rate limit reached for gpt-4.1-mini in organization org-ifMd863rcCIXpEuEYtSj7yxy on requests per min (RPM): Limit 500, Used 500, Requested 1. Please try again in 120ms. Visit https://platform.openai.com/account/rate-limits to learn more.', 'type': 'requests', 'param': None, 'code': 'rate_limit_exceeded'}})\n",
      "Evaluating:  12%|█▏        | 36/300 [05:10<27:36,  6.28s/it]Exception raised in Job[31]: RateLimitError(Error code: 429 - {'error': {'message': 'Rate limit reached for gpt-4.1-mini in organization org-ifMd863rcCIXpEuEYtSj7yxy on tokens per min (TPM): Limit 200000, Used 200000, Requested 3086. Please try again in 925ms. Visit https://platform.openai.com/account/rate-limits to learn more.', 'type': 'tokens', 'param': None, 'code': 'rate_limit_exceeded'}})\n",
      "Evaluating:  12%|█▏        | 37/300 [05:21<34:17,  7.82s/it]Exception raised in Job[33]: RateLimitError(Error code: 429 - {'error': {'message': 'Rate limit reached for gpt-4.1-mini in organization org-ifMd863rcCIXpEuEYtSj7yxy on tokens per min (TPM): Limit 200000, Used 200000, Requested 565. Please try again in 169ms. Visit https://platform.openai.com/account/rate-limits to learn more.', 'type': 'tokens', 'param': None, 'code': 'rate_limit_exceeded'}})\n",
      "Evaluating:  13%|█▎        | 38/300 [05:30<35:05,  8.04s/it]Exception raised in Job[42]: RateLimitError(Error code: 429 - {'error': {'message': 'Rate limit reached for gpt-4.1-mini in organization org-ifMd863rcCIXpEuEYtSj7yxy on tokens per min (TPM): Limit 200000, Used 200000, Requested 3958. Please try again in 1.187s. Visit https://platform.openai.com/account/rate-limits to learn more.', 'type': 'tokens', 'param': None, 'code': 'rate_limit_exceeded'}})\n",
      "Evaluating:  13%|█▎        | 39/300 [05:33<28:36,  6.58s/it]Exception raised in Job[27]: TimeoutError()\n",
      "Evaluating:  13%|█▎        | 40/300 [05:36<23:57,  5.53s/it]Exception raised in Job[41]: RateLimitError(Error code: 429 - {'error': {'message': 'Rate limit reached for gpt-4.1-mini in organization org-ifMd863rcCIXpEuEYtSj7yxy on tokens per min (TPM): Limit 200000, Used 200000, Requested 1118. Please try again in 335ms. Visit https://platform.openai.com/account/rate-limits to learn more.', 'type': 'tokens', 'param': None, 'code': 'rate_limit_exceeded'}})\n",
      "Evaluating:  14%|█▍        | 42/300 [05:52<29:04,  6.76s/it]Exception raised in Job[38]: RateLimitError(Error code: 429 - {'error': {'message': 'Rate limit reached for gpt-4.1-mini in organization org-ifMd863rcCIXpEuEYtSj7yxy on tokens per min (TPM): Limit 200000, Used 200000, Requested 1671. Please try again in 501ms. Visit https://platform.openai.com/account/rate-limits to learn more.', 'type': 'tokens', 'param': None, 'code': 'rate_limit_exceeded'}})\n",
      "Evaluating:  14%|█▍        | 43/300 [06:08<40:33,  9.47s/it]Exception raised in Job[43]: RateLimitError(Error code: 429 - {'error': {'message': 'Rate limit reached for gpt-4.1-mini in organization org-ifMd863rcCIXpEuEYtSj7yxy on requests per min (RPM): Limit 500, Used 500, Requested 1. Please try again in 120ms. Visit https://platform.openai.com/account/rate-limits to learn more.', 'type': 'requests', 'param': None, 'code': 'rate_limit_exceeded'}})\n",
      "Evaluating:  15%|█▌        | 45/300 [06:29<45:41, 10.75s/it]Exception raised in Job[44]: RateLimitError(Error code: 429 - {'error': {'message': 'Rate limit reached for gpt-4.1-mini in organization org-ifMd863rcCIXpEuEYtSj7yxy on tokens per min (TPM): Limit 200000, Used 199476, Requested 701. Please try again in 53ms. Visit https://platform.openai.com/account/rate-limits to learn more.', 'type': 'tokens', 'param': None, 'code': 'rate_limit_exceeded'}})\n",
      "Evaluating:  15%|█▌        | 46/300 [06:31<34:37,  8.18s/it]Exception raised in Job[40]: RateLimitError(Error code: 429 - {'error': {'message': 'Rate limit reached for gpt-4.1-mini in organization org-ifMd863rcCIXpEuEYtSj7yxy on tokens per min (TPM): Limit 200000, Used 200000, Requested 3121. Please try again in 936ms. Visit https://platform.openai.com/account/rate-limits to learn more.', 'type': 'tokens', 'param': None, 'code': 'rate_limit_exceeded'}})\n",
      "Evaluating:  16%|█▌        | 48/300 [06:43<30:48,  7.34s/it]Exception raised in Job[46]: RateLimitError(Error code: 429 - {'error': {'message': 'Rate limit reached for gpt-4.1-mini in organization org-ifMd863rcCIXpEuEYtSj7yxy on tokens per min (TPM): Limit 200000, Used 200000, Requested 3444. Please try again in 1.033s. Visit https://platform.openai.com/account/rate-limits to learn more.', 'type': 'tokens', 'param': None, 'code': 'rate_limit_exceeded'}})\n",
      "Evaluating:  16%|█▋        | 49/300 [06:44<22:58,  5.49s/it]Exception raised in Job[47]: RateLimitError(Error code: 429 - {'error': {'message': 'Rate limit reached for gpt-4.1-mini in organization org-ifMd863rcCIXpEuEYtSj7yxy on tokens per min (TPM): Limit 200000, Used 200000, Requested 1211. Please try again in 363ms. Visit https://platform.openai.com/account/rate-limits to learn more.', 'type': 'tokens', 'param': None, 'code': 'rate_limit_exceeded'}})\n",
      "Evaluating:  17%|█▋        | 50/300 [06:53<27:23,  6.57s/it]Exception raised in Job[49]: RateLimitError(Error code: 429 - {'error': {'message': 'Rate limit reached for gpt-4.1-mini in organization org-ifMd863rcCIXpEuEYtSj7yxy on tokens per min (TPM): Limit 200000, Used 200000, Requested 3707. Please try again in 1.112s. Visit https://platform.openai.com/account/rate-limits to learn more.', 'type': 'tokens', 'param': None, 'code': 'rate_limit_exceeded'}})\n",
      "Evaluating:  17%|█▋        | 51/300 [07:08<37:29,  9.04s/it]Exception raised in Job[48]: RateLimitError(Error code: 429 - {'error': {'message': 'Rate limit reached for gpt-4.1-mini in organization org-ifMd863rcCIXpEuEYtSj7yxy on tokens per min (TPM): Limit 200000, Used 200000, Requested 3813. Please try again in 1.143s. Visit https://platform.openai.com/account/rate-limits to learn more.', 'type': 'tokens', 'param': None, 'code': 'rate_limit_exceeded'}})\n",
      "Evaluating:  17%|█▋        | 52/300 [07:21<42:38, 10.32s/it]Exception raised in Job[45]: TimeoutError()\n",
      "Evaluating:  18%|█▊        | 53/300 [07:23<31:47,  7.72s/it]Exception raised in Job[52]: RateLimitError(Error code: 429 - {'error': {'message': 'Rate limit reached for gpt-4.1-mini in organization org-ifMd863rcCIXpEuEYtSj7yxy on requests per min (RPM): Limit 500, Used 500, Requested 1. Please try again in 120ms. Visit https://platform.openai.com/account/rate-limits to learn more.', 'type': 'requests', 'param': None, 'code': 'rate_limit_exceeded'}})\n",
      "Evaluating:  19%|█▊        | 56/300 [07:44<28:55,  7.11s/it]Exception raised in Job[51]: RateLimitError(Error code: 429 - {'error': {'message': 'Rate limit reached for gpt-4.1-mini in organization org-ifMd863rcCIXpEuEYtSj7yxy on tokens per min (TPM): Limit 200000, Used 200000, Requested 3739. Please try again in 1.121s. Visit https://platform.openai.com/account/rate-limits to learn more.', 'type': 'tokens', 'param': None, 'code': 'rate_limit_exceeded'}})\n",
      "Evaluating:  19%|█▉        | 57/300 [07:58<37:01,  9.14s/it]Exception raised in Job[54]: RateLimitError(Error code: 429 - {'error': {'message': 'Rate limit reached for gpt-4.1-mini in organization org-ifMd863rcCIXpEuEYtSj7yxy on tokens per min (TPM): Limit 200000, Used 200000, Requested 3361. Please try again in 1.008s. Visit https://platform.openai.com/account/rate-limits to learn more.', 'type': 'tokens', 'param': None, 'code': 'rate_limit_exceeded'}})\n",
      "Evaluating:  19%|█▉        | 58/300 [08:03<31:56,  7.92s/it]Exception raised in Job[53]: RateLimitError(Error code: 429 - {'error': {'message': 'Rate limit reached for gpt-4.1-mini in organization org-ifMd863rcCIXpEuEYtSj7yxy on tokens per min (TPM): Limit 200000, Used 200000, Requested 1150. Please try again in 345ms. Visit https://platform.openai.com/account/rate-limits to learn more.', 'type': 'tokens', 'param': None, 'code': 'rate_limit_exceeded'}})\n",
      "Evaluating:  20%|█▉        | 59/300 [08:08<28:43,  7.15s/it]Exception raised in Job[55]: TimeoutError()\n",
      "Evaluating:  20%|██        | 60/300 [08:37<54:17, 13.57s/it]Exception raised in Job[65]: RateLimitError(Error code: 429 - {'error': {'message': 'Rate limit reached for gpt-4.1-mini in organization org-ifMd863rcCIXpEuEYtSj7yxy on tokens per min (TPM): Limit 200000, Used 200000, Requested 1287. Please try again in 386ms. Visit https://platform.openai.com/account/rate-limits to learn more.', 'type': 'tokens', 'param': None, 'code': 'rate_limit_exceeded'}})\n",
      "Evaluating:  20%|██        | 61/300 [08:38<39:28,  9.91s/it]Exception raised in Job[57]: RateLimitError(Error code: 429 - {'error': {'message': 'Rate limit reached for gpt-4.1-mini in organization org-ifMd863rcCIXpEuEYtSj7yxy on tokens per min (TPM): Limit 200000, Used 198582, Requested 3347. Please try again in 578ms. Visit https://platform.openai.com/account/rate-limits to learn more.', 'type': 'tokens', 'param': None, 'code': 'rate_limit_exceeded'}})\n",
      "Evaluating:  21%|██        | 63/300 [08:52<34:35,  8.76s/it]Exception raised in Job[66]: RateLimitError(Error code: 429 - {'error': {'message': 'Rate limit reached for gpt-4.1-mini in organization org-ifMd863rcCIXpEuEYtSj7yxy on requests per min (RPM): Limit 500, Used 500, Requested 1. Please try again in 120ms. Visit https://platform.openai.com/account/rate-limits to learn more.', 'type': 'requests', 'param': None, 'code': 'rate_limit_exceeded'}})\n",
      "Evaluating:  21%|██▏       | 64/300 [08:55<28:18,  7.20s/it]Exception raised in Job[61]: RateLimitError(Error code: 429 - {'error': {'message': 'Rate limit reached for gpt-4.1-mini in organization org-ifMd863rcCIXpEuEYtSj7yxy on tokens per min (TPM): Limit 200000, Used 200000, Requested 3784. Please try again in 1.135s. Visit https://platform.openai.com/account/rate-limits to learn more.', 'type': 'tokens', 'param': None, 'code': 'rate_limit_exceeded'}})\n",
      "Evaluating:  22%|██▏       | 65/300 [09:04<29:23,  7.50s/it]Exception raised in Job[58]: TimeoutError()\n",
      "Evaluating:  22%|██▏       | 66/300 [09:08<25:22,  6.50s/it]Exception raised in Job[60]: RateLimitError(Error code: 429 - {'error': {'message': 'Rate limit reached for gpt-4.1-mini in organization org-ifMd863rcCIXpEuEYtSj7yxy on tokens per min (TPM): Limit 200000, Used 198833, Requested 3808. Please try again in 792ms. Visit https://platform.openai.com/account/rate-limits to learn more.', 'type': 'tokens', 'param': None, 'code': 'rate_limit_exceeded'}})\n",
      "Evaluating:  22%|██▏       | 67/300 [09:12<22:48,  5.87s/it]Exception raised in Job[77]: InternalServerError(<html>\n",
      "<head><title>502 Bad Gateway</title></head>\n",
      "<body>\n",
      "<center><h1>502 Bad Gateway</h1></center>\n",
      "<hr><center>cloudflare</center>\n",
      "</body>\n",
      "</html>)\n",
      "Evaluating:  23%|██▎       | 68/300 [09:19<24:03,  6.22s/it]Exception raised in Job[63]: TimeoutError()\n",
      "Evaluating:  23%|██▎       | 69/300 [09:43<44:15, 11.49s/it]Exception raised in Job[64]: TimeoutError()\n",
      "Evaluating:  24%|██▍       | 72/300 [09:54<26:17,  6.92s/it]Exception raised in Job[67]: RateLimitError(Error code: 429 - {'error': {'message': 'Rate limit reached for gpt-4.1-mini in organization org-ifMd863rcCIXpEuEYtSj7yxy on requests per min (RPM): Limit 500, Used 500, Requested 1. Please try again in 120ms. Visit https://platform.openai.com/account/rate-limits to learn more.', 'type': 'requests', 'param': None, 'code': 'rate_limit_exceeded'}})\n",
      "Evaluating:  24%|██▍       | 73/300 [10:21<49:02, 12.96s/it]Exception raised in Job[69]: TimeoutError()\n",
      "Evaluating:  25%|██▍       | 74/300 [10:25<38:22, 10.19s/it]Exception raised in Job[72]: RateLimitError(Error code: 429 - {'error': {'message': 'Rate limit reached for gpt-4.1-mini in organization org-ifMd863rcCIXpEuEYtSj7yxy on tokens per min (TPM): Limit 200000, Used 200000, Requested 3642. Please try again in 1.092s. Visit https://platform.openai.com/account/rate-limits to learn more.', 'type': 'tokens', 'param': None, 'code': 'rate_limit_exceeded'}})\n",
      "Evaluating:  25%|██▌       | 75/300 [10:26<28:09,  7.51s/it]Exception raised in Job[70]: RateLimitError(Error code: 429 - {'error': {'message': 'Rate limit reached for gpt-4.1-mini in organization org-ifMd863rcCIXpEuEYtSj7yxy on tokens per min (TPM): Limit 200000, Used 200000, Requested 3235. Please try again in 970ms. Visit https://platform.openai.com/account/rate-limits to learn more.', 'type': 'tokens', 'param': None, 'code': 'rate_limit_exceeded'}})\n",
      "Evaluating:  26%|██▌       | 77/300 [10:46<31:16,  8.42s/it]Exception raised in Job[83]: RateLimitError(Error code: 429 - {'error': {'message': 'Rate limit reached for gpt-4.1-mini in organization org-ifMd863rcCIXpEuEYtSj7yxy on tokens per min (TPM): Limit 200000, Used 200000, Requested 425. Please try again in 127ms. Visit https://platform.openai.com/account/rate-limits to learn more.', 'type': 'tokens', 'param': None, 'code': 'rate_limit_exceeded'}})\n",
      "Evaluating:  26%|██▌       | 78/300 [10:51<27:03,  7.31s/it]Exception raised in Job[75]: RateLimitError(Error code: 429 - {'error': {'message': 'Rate limit reached for gpt-4.1-mini in organization org-ifMd863rcCIXpEuEYtSj7yxy on requests per min (RPM): Limit 500, Used 500, Requested 1. Please try again in 120ms. Visit https://platform.openai.com/account/rate-limits to learn more.', 'type': 'requests', 'param': None, 'code': 'rate_limit_exceeded'}})\n",
      "Evaluating:  26%|██▋       | 79/300 [10:57<25:57,  7.05s/it]Exception raised in Job[73]: TimeoutError()\n",
      "Evaluating:  27%|██▋       | 80/300 [11:05<26:16,  7.17s/it]Exception raised in Job[76]: RateLimitError(Error code: 429 - {'error': {'message': 'Rate limit reached for gpt-4.1-mini in organization org-ifMd863rcCIXpEuEYtSj7yxy on requests per min (RPM): Limit 500, Used 500, Requested 1. Please try again in 120ms. Visit https://platform.openai.com/account/rate-limits to learn more.', 'type': 'requests', 'param': None, 'code': 'rate_limit_exceeded'}})\n",
      "Evaluating:  27%|██▋       | 81/300 [11:27<42:48, 11.73s/it]Exception raised in Job[81]: RateLimitError(Error code: 429 - {'error': {'message': 'Rate limit reached for gpt-4.1-mini in organization org-ifMd863rcCIXpEuEYtSj7yxy on requests per min (RPM): Limit 500, Used 500, Requested 1. Please try again in 120ms. Visit https://platform.openai.com/account/rate-limits to learn more.', 'type': 'requests', 'param': None, 'code': 'rate_limit_exceeded'}})\n",
      "Evaluating:  27%|██▋       | 82/300 [11:33<36:42, 10.11s/it]Exception raised in Job[84]: RateLimitError(Error code: 429 - {'error': {'message': 'Rate limit reached for gpt-4.1-mini in organization org-ifMd863rcCIXpEuEYtSj7yxy on tokens per min (TPM): Limit 200000, Used 200000, Requested 3204. Please try again in 961ms. Visit https://platform.openai.com/account/rate-limits to learn more.', 'type': 'tokens', 'param': None, 'code': 'rate_limit_exceeded'}})\n",
      "Evaluating:  28%|██▊       | 83/300 [11:42<35:09,  9.72s/it]Exception raised in Job[78]: TimeoutError()\n",
      "Evaluating:  28%|██▊       | 84/300 [11:52<34:44,  9.65s/it]Exception raised in Job[79]: TimeoutError()\n",
      "Evaluating:  28%|██▊       | 85/300 [11:55<28:01,  7.82s/it]Exception raised in Job[87]: RateLimitError(Error code: 429 - {'error': {'message': 'Rate limit reached for gpt-4.1-mini in organization org-ifMd863rcCIXpEuEYtSj7yxy on tokens per min (TPM): Limit 200000, Used 200000, Requested 472. Please try again in 141ms. Visit https://platform.openai.com/account/rate-limits to learn more.', 'type': 'tokens', 'param': None, 'code': 'rate_limit_exceeded'}})\n",
      "Evaluating:  29%|██▊       | 86/300 [12:07<32:23,  9.08s/it]Exception raised in Job[82]: TimeoutError()\n",
      "Evaluating:  29%|██▉       | 87/300 [12:12<27:39,  7.79s/it]Exception raised in Job[85]: RateLimitError(Error code: 429 - {'error': {'message': 'Rate limit reached for gpt-4.1-mini in organization org-ifMd863rcCIXpEuEYtSj7yxy on tokens per min (TPM): Limit 200000, Used 200000, Requested 3156. Please try again in 946ms. Visit https://platform.openai.com/account/rate-limits to learn more.', 'type': 'tokens', 'param': None, 'code': 'rate_limit_exceeded'}})\n",
      "Evaluating:  29%|██▉       | 88/300 [12:22<30:11,  8.54s/it]Exception raised in Job[86]: RateLimitError(Error code: 429 - {'error': {'message': 'Rate limit reached for gpt-4.1-mini in organization org-ifMd863rcCIXpEuEYtSj7yxy on requests per min (RPM): Limit 500, Used 500, Requested 1. Please try again in 120ms. Visit https://platform.openai.com/account/rate-limits to learn more.', 'type': 'requests', 'param': None, 'code': 'rate_limit_exceeded'}})\n",
      "Evaluating:  30%|██▉       | 89/300 [12:23<21:16,  6.05s/it]Exception raised in Job[91]: RateLimitError(Error code: 429 - {'error': {'message': 'Rate limit reached for gpt-4.1-mini in organization org-ifMd863rcCIXpEuEYtSj7yxy on tokens per min (TPM): Limit 200000, Used 200000, Requested 3573. Please try again in 1.071s. Visit https://platform.openai.com/account/rate-limits to learn more.', 'type': 'tokens', 'param': None, 'code': 'rate_limit_exceeded'}})\n",
      "Evaluating:  30%|███       | 90/300 [12:48<41:23, 11.82s/it]Exception raised in Job[93]: RateLimitError(Error code: 429 - {'error': {'message': 'Rate limit reached for gpt-4.1-mini in organization org-ifMd863rcCIXpEuEYtSj7yxy on requests per min (RPM): Limit 500, Used 500, Requested 1. Please try again in 120ms. Visit https://platform.openai.com/account/rate-limits to learn more.', 'type': 'requests', 'param': None, 'code': 'rate_limit_exceeded'}})\n",
      "Evaluating:  30%|███       | 91/300 [12:53<34:12,  9.82s/it]Exception raised in Job[88]: RateLimitError(Error code: 429 - {'error': {'message': 'Rate limit reached for gpt-4.1-mini in organization org-ifMd863rcCIXpEuEYtSj7yxy on tokens per min (TPM): Limit 200000, Used 197438, Requested 3099. Please try again in 161ms. Visit https://platform.openai.com/account/rate-limits to learn more.', 'type': 'tokens', 'param': None, 'code': 'rate_limit_exceeded'}})\n",
      "Evaluating:  31%|███       | 92/300 [12:54<24:36,  7.10s/it]Exception raised in Job[90]: RateLimitError(Error code: 429 - {'error': {'message': 'Rate limit reached for gpt-4.1-mini in organization org-ifMd863rcCIXpEuEYtSj7yxy on tokens per min (TPM): Limit 200000, Used 200000, Requested 3602. Please try again in 1.08s. Visit https://platform.openai.com/account/rate-limits to learn more.', 'type': 'tokens', 'param': None, 'code': 'rate_limit_exceeded'}})\n",
      "Evaluating:  31%|███       | 93/300 [13:11<34:36, 10.03s/it]Exception raised in Job[95]: RateLimitError(Error code: 429 - {'error': {'message': 'Rate limit reached for gpt-4.1-mini in organization org-ifMd863rcCIXpEuEYtSj7yxy on tokens per min (TPM): Limit 200000, Used 200000, Requested 397. Please try again in 119ms. Visit https://platform.openai.com/account/rate-limits to learn more.', 'type': 'tokens', 'param': None, 'code': 'rate_limit_exceeded'}})\n",
      "Evaluating:  31%|███▏      | 94/300 [13:13<25:58,  7.56s/it]Exception raised in Job[94]: RateLimitError(Error code: 429 - {'error': {'message': 'Rate limit reached for gpt-4.1-mini in organization org-ifMd863rcCIXpEuEYtSj7yxy on tokens per min (TPM): Limit 200000, Used 199053, Requested 3680. Please try again in 819ms. Visit https://platform.openai.com/account/rate-limits to learn more.', 'type': 'tokens', 'param': None, 'code': 'rate_limit_exceeded'}})\n",
      "Evaluating:  32%|███▏      | 95/300 [13:23<28:25,  8.32s/it]Exception raised in Job[97]: RateLimitError(Error code: 429 - {'error': {'message': 'Rate limit reached for gpt-4.1-mini in organization org-ifMd863rcCIXpEuEYtSj7yxy on tokens per min (TPM): Limit 200000, Used 200000, Requested 3650. Please try again in 1.095s. Visit https://platform.openai.com/account/rate-limits to learn more.', 'type': 'tokens', 'param': None, 'code': 'rate_limit_exceeded'}})\n",
      "Evaluating:  32%|███▏      | 96/300 [13:24<21:21,  6.28s/it]Exception raised in Job[98]: RateLimitError(Error code: 429 - {'error': {'message': 'Rate limit reached for gpt-4.1-mini in organization org-ifMd863rcCIXpEuEYtSj7yxy on requests per min (RPM): Limit 500, Used 500, Requested 1. Please try again in 120ms. Visit https://platform.openai.com/account/rate-limits to learn more.', 'type': 'requests', 'param': None, 'code': 'rate_limit_exceeded'}})\n",
      "Evaluating:  32%|███▏      | 97/300 [13:33<23:23,  6.91s/it]Exception raised in Job[100]: RateLimitError(Error code: 429 - {'error': {'message': 'Rate limit reached for gpt-4.1-mini in organization org-ifMd863rcCIXpEuEYtSj7yxy on requests per min (RPM): Limit 500, Used 500, Requested 1. Please try again in 120ms. Visit https://platform.openai.com/account/rate-limits to learn more.', 'type': 'requests', 'param': None, 'code': 'rate_limit_exceeded'}})\n",
      "Evaluating:  33%|███▎      | 98/300 [13:43<26:42,  7.94s/it]Exception raised in Job[92]: TimeoutError()\n",
      "Evaluating:  33%|███▎      | 99/300 [13:46<21:57,  6.56s/it]Exception raised in Job[99]: RateLimitError(Error code: 429 - {'error': {'message': 'Rate limit reached for gpt-4.1-mini in organization org-ifMd863rcCIXpEuEYtSj7yxy on requests per min (RPM): Limit 500, Used 500, Requested 1. Please try again in 120ms. Visit https://platform.openai.com/account/rate-limits to learn more.', 'type': 'requests', 'param': None, 'code': 'rate_limit_exceeded'}})\n",
      "Evaluating:  33%|███▎      | 100/300 [13:51<20:28,  6.14s/it]Exception raised in Job[103]: RateLimitError(Error code: 429 - {'error': {'message': 'Rate limit reached for gpt-4.1-mini in organization org-ifMd863rcCIXpEuEYtSj7yxy on requests per min (RPM): Limit 500, Used 500, Requested 1. Please try again in 120ms. Visit https://platform.openai.com/account/rate-limits to learn more.', 'type': 'requests', 'param': None, 'code': 'rate_limit_exceeded'}})\n",
      "Evaluating:  34%|███▍      | 102/300 [14:14<27:14,  8.26s/it]Exception raised in Job[96]: TimeoutError()\n",
      "Evaluating:  35%|███▍      | 104/300 [14:33<27:47,  8.51s/it]Exception raised in Job[101]: RateLimitError(Error code: 429 - {'error': {'message': 'Rate limit reached for gpt-4.1-mini in organization org-ifMd863rcCIXpEuEYtSj7yxy on requests per min (RPM): Limit 500, Used 500, Requested 1. Please try again in 120ms. Visit https://platform.openai.com/account/rate-limits to learn more.', 'type': 'requests', 'param': None, 'code': 'rate_limit_exceeded'}})\n",
      "Evaluating:  35%|███▌      | 105/300 [14:36<22:46,  7.01s/it]Exception raised in Job[110]: RateLimitError(Error code: 429 - {'error': {'message': 'Rate limit reached for gpt-4.1-mini in organization org-ifMd863rcCIXpEuEYtSj7yxy on requests per min (RPM): Limit 500, Used 500, Requested 1. Please try again in 120ms. Visit https://platform.openai.com/account/rate-limits to learn more.', 'type': 'requests', 'param': None, 'code': 'rate_limit_exceeded'}})\n",
      "Evaluating:  36%|███▌      | 108/300 [15:06<31:05,  9.72s/it]Exception raised in Job[105]: RateLimitError(Error code: 429 - {'error': {'message': 'Rate limit reached for gpt-4.1-mini in organization org-ifMd863rcCIXpEuEYtSj7yxy on requests per min (RPM): Limit 500, Used 500, Requested 1. Please try again in 120ms. Visit https://platform.openai.com/account/rate-limits to learn more.', 'type': 'requests', 'param': None, 'code': 'rate_limit_exceeded'}})\n",
      "Evaluating:  36%|███▋      | 109/300 [15:14<29:52,  9.39s/it]Exception raised in Job[107]: RateLimitError(Error code: 429 - {'error': {'message': 'Rate limit reached for gpt-4.1-mini in organization org-ifMd863rcCIXpEuEYtSj7yxy on tokens per min (TPM): Limit 200000, Used 199706, Requested 382. Please try again in 26ms. Visit https://platform.openai.com/account/rate-limits to learn more.', 'type': 'tokens', 'param': None, 'code': 'rate_limit_exceeded'}})\n",
      "Evaluating:  37%|███▋      | 110/300 [15:22<27:55,  8.82s/it]Exception raised in Job[109]: RateLimitError(Error code: 429 - {'error': {'message': 'Rate limit reached for gpt-4.1-mini in organization org-ifMd863rcCIXpEuEYtSj7yxy on tokens per min (TPM): Limit 200000, Used 200000, Requested 3472. Please try again in 1.041s. Visit https://platform.openai.com/account/rate-limits to learn more.', 'type': 'tokens', 'param': None, 'code': 'rate_limit_exceeded'}})\n",
      "Evaluating:  37%|███▋      | 111/300 [15:23<20:52,  6.63s/it]Exception raised in Job[106]: RateLimitError(Error code: 429 - {'error': {'message': 'Rate limit reached for gpt-4.1-mini in organization org-ifMd863rcCIXpEuEYtSj7yxy on tokens per min (TPM): Limit 200000, Used 200000, Requested 3199. Please try again in 959ms. Visit https://platform.openai.com/account/rate-limits to learn more.', 'type': 'tokens', 'param': None, 'code': 'rate_limit_exceeded'}})\n",
      "Evaluating:  37%|███▋      | 112/300 [15:26<16:41,  5.33s/it]Exception raised in Job[108]: TimeoutError()\n",
      "Evaluating:  38%|███▊      | 113/300 [16:11<53:51, 17.28s/it]Exception raised in Job[114]: RateLimitError(Error code: 429 - {'error': {'message': 'Rate limit reached for gpt-4.1-mini in organization org-ifMd863rcCIXpEuEYtSj7yxy on tokens per min (TPM): Limit 200000, Used 200000, Requested 3010. Please try again in 903ms. Visit https://platform.openai.com/account/rate-limits to learn more.', 'type': 'tokens', 'param': None, 'code': 'rate_limit_exceeded'}})\n",
      "Evaluating:  38%|███▊      | 114/300 [16:24<49:32, 15.98s/it]Exception raised in Job[111]: TimeoutError()\n",
      "Evaluating:  38%|███▊      | 115/300 [16:24<34:56, 11.33s/it]Exception raised in Job[112]: TimeoutError()\n",
      "Evaluating:  39%|███▊      | 116/300 [16:33<32:01, 10.44s/it]Exception raised in Job[120]: RateLimitError(Error code: 429 - {'error': {'message': 'Rate limit reached for gpt-4.1-mini in organization org-ifMd863rcCIXpEuEYtSj7yxy on requests per min (RPM): Limit 500, Used 500, Requested 1. Please try again in 120ms. Visit https://platform.openai.com/account/rate-limits to learn more.', 'type': 'requests', 'param': None, 'code': 'rate_limit_exceeded'}})\n",
      "Evaluating:  39%|███▉      | 117/300 [16:52<39:38, 13.00s/it]Exception raised in Job[126]: RateLimitError(Error code: 429 - {'error': {'message': 'Rate limit reached for gpt-4.1-mini in organization org-ifMd863rcCIXpEuEYtSj7yxy on tokens per min (TPM): Limit 200000, Used 200000, Requested 3670. Please try again in 1.101s. Visit https://platform.openai.com/account/rate-limits to learn more.', 'type': 'tokens', 'param': None, 'code': 'rate_limit_exceeded'}})\n",
      "Evaluating:  39%|███▉      | 118/300 [16:57<32:40, 10.77s/it]Exception raised in Job[118]: RateLimitError(Error code: 429 - {'error': {'message': 'Rate limit reached for gpt-4.1-mini in organization org-ifMd863rcCIXpEuEYtSj7yxy on requests per min (RPM): Limit 500, Used 500, Requested 1. Please try again in 120ms. Visit https://platform.openai.com/account/rate-limits to learn more.', 'type': 'requests', 'param': None, 'code': 'rate_limit_exceeded'}})\n",
      "Evaluating:  40%|███▉      | 119/300 [17:06<30:48, 10.22s/it]Exception raised in Job[116]: TimeoutError()\n",
      "Evaluating:  40%|████      | 120/300 [17:08<23:28,  7.82s/it]Exception raised in Job[117]: TimeoutError()\n",
      "Evaluating:  40%|████      | 121/300 [17:15<22:24,  7.51s/it]Exception raised in Job[121]: RateLimitError(Error code: 429 - {'error': {'message': 'Rate limit reached for gpt-4.1-mini in organization org-ifMd863rcCIXpEuEYtSj7yxy on tokens per min (TPM): Limit 200000, Used 200000, Requested 3633. Please try again in 1.089s. Visit https://platform.openai.com/account/rate-limits to learn more.', 'type': 'tokens', 'param': None, 'code': 'rate_limit_exceeded'}})\n",
      "Evaluating:  41%|████      | 122/300 [17:21<20:36,  6.95s/it]Exception raised in Job[119]: TimeoutError()\n",
      "Evaluating:  41%|████      | 123/300 [17:33<25:10,  8.53s/it]Exception raised in Job[122]: RateLimitError(Error code: 429 - {'error': {'message': 'Rate limit reached for gpt-4.1-mini in organization org-ifMd863rcCIXpEuEYtSj7yxy on requests per min (RPM): Limit 500, Used 500, Requested 1. Please try again in 120ms. Visit https://platform.openai.com/account/rate-limits to learn more.', 'type': 'requests', 'param': None, 'code': 'rate_limit_exceeded'}})\n",
      "Evaluating:  41%|████▏     | 124/300 [17:50<32:56, 11.23s/it]Exception raised in Job[125]: RateLimitError(Error code: 429 - {'error': {'message': 'Rate limit reached for gpt-4.1-mini in organization org-ifMd863rcCIXpEuEYtSj7yxy on requests per min (RPM): Limit 500, Used 500, Requested 1. Please try again in 120ms. Visit https://platform.openai.com/account/rate-limits to learn more.', 'type': 'requests', 'param': None, 'code': 'rate_limit_exceeded'}})\n",
      "Evaluating:  42%|████▏     | 125/300 [17:53<25:08,  8.62s/it]Exception raised in Job[127]: RateLimitError(Error code: 429 - {'error': {'message': 'Rate limit reached for gpt-4.1-mini in organization org-ifMd863rcCIXpEuEYtSj7yxy on requests per min (RPM): Limit 500, Used 500, Requested 1. Please try again in 120ms. Visit https://platform.openai.com/account/rate-limits to learn more.', 'type': 'requests', 'param': None, 'code': 'rate_limit_exceeded'}})\n",
      "Evaluating:  42%|████▏     | 126/300 [17:59<22:53,  7.89s/it]Exception raised in Job[123]: RateLimitError(Error code: 429 - {'error': {'message': 'Rate limit reached for gpt-4.1-mini in organization org-ifMd863rcCIXpEuEYtSj7yxy on tokens per min (TPM): Limit 200000, Used 199507, Requested 3634. Please try again in 942ms. Visit https://platform.openai.com/account/rate-limits to learn more.', 'type': 'tokens', 'param': None, 'code': 'rate_limit_exceeded'}})\n",
      "Evaluating:  42%|████▏     | 127/300 [18:05<21:04,  7.31s/it]Exception raised in Job[131]: RateLimitError(Error code: 429 - {'error': {'message': 'Rate limit reached for gpt-4.1-mini in organization org-ifMd863rcCIXpEuEYtSj7yxy on tokens per min (TPM): Limit 200000, Used 200000, Requested 1782. Please try again in 534ms. Visit https://platform.openai.com/account/rate-limits to learn more.', 'type': 'tokens', 'param': None, 'code': 'rate_limit_exceeded'}})\n",
      "Evaluating:  43%|████▎     | 128/300 [18:09<17:39,  6.16s/it]Exception raised in Job[124]: TimeoutError()\n",
      "Evaluating:  43%|████▎     | 129/300 [18:14<17:14,  6.05s/it]Exception raised in Job[128]: RateLimitError(Error code: 429 - {'error': {'message': 'Rate limit reached for gpt-4.1-mini in organization org-ifMd863rcCIXpEuEYtSj7yxy on requests per min (RPM): Limit 500, Used 500, Requested 1. Please try again in 120ms. Visit https://platform.openai.com/account/rate-limits to learn more.', 'type': 'requests', 'param': None, 'code': 'rate_limit_exceeded'}})\n",
      "Evaluating:  44%|████▎     | 131/300 [18:29<18:29,  6.57s/it]Exception raised in Job[130]: RateLimitError(Error code: 429 - {'error': {'message': 'Rate limit reached for gpt-4.1-mini in organization org-ifMd863rcCIXpEuEYtSj7yxy on tokens per min (TPM): Limit 200000, Used 200000, Requested 4047. Please try again in 1.214s. Visit https://platform.openai.com/account/rate-limits to learn more.', 'type': 'tokens', 'param': None, 'code': 'rate_limit_exceeded'}})\n",
      "Evaluating:  44%|████▍     | 132/300 [18:33<16:26,  5.87s/it]Exception raised in Job[129]: RateLimitError(Error code: 429 - {'error': {'message': 'Rate limit reached for gpt-4.1-mini in organization org-ifMd863rcCIXpEuEYtSj7yxy on requests per min (RPM): Limit 500, Used 500, Requested 1. Please try again in 120ms. Visit https://platform.openai.com/account/rate-limits to learn more.', 'type': 'requests', 'param': None, 'code': 'rate_limit_exceeded'}})\n",
      "Evaluating:  44%|████▍     | 133/300 [18:42<18:33,  6.67s/it]Exception raised in Job[132]: RateLimitError(Error code: 429 - {'error': {'message': 'Rate limit reached for gpt-4.1-mini in organization org-ifMd863rcCIXpEuEYtSj7yxy on requests per min (RPM): Limit 500, Used 500, Requested 1. Please try again in 120ms. Visit https://platform.openai.com/account/rate-limits to learn more.', 'type': 'requests', 'param': None, 'code': 'rate_limit_exceeded'}})\n",
      "Evaluating:  45%|████▍     | 134/300 [19:16<40:50, 14.76s/it]Exception raised in Job[133]: RateLimitError(Error code: 429 - {'error': {'message': 'Rate limit reached for gpt-4.1-mini in organization org-ifMd863rcCIXpEuEYtSj7yxy on tokens per min (TPM): Limit 200000, Used 200000, Requested 4030. Please try again in 1.209s. Visit https://platform.openai.com/account/rate-limits to learn more.', 'type': 'tokens', 'param': None, 'code': 'rate_limit_exceeded'}})\n",
      "Evaluating:  45%|████▌     | 136/300 [19:47<39:36, 14.49s/it]Exception raised in Job[134]: RateLimitError(Error code: 429 - {'error': {'message': 'Rate limit reached for gpt-4.1-mini in organization org-ifMd863rcCIXpEuEYtSj7yxy on requests per min (RPM): Limit 500, Used 500, Requested 1. Please try again in 120ms. Visit https://platform.openai.com/account/rate-limits to learn more.', 'type': 'requests', 'param': None, 'code': 'rate_limit_exceeded'}})\n",
      "Evaluating:  46%|████▌     | 137/300 [19:57<35:58, 13.24s/it]Exception raised in Job[135]: TimeoutError()\n",
      "Evaluating:  46%|████▋     | 139/300 [20:13<27:39, 10.31s/it]Exception raised in Job[136]: TimeoutError()\n",
      "Evaluating:  47%|████▋     | 140/300 [20:15<20:52,  7.83s/it]Exception raised in Job[142]: RateLimitError(Error code: 429 - {'error': {'message': 'Rate limit reached for gpt-4.1-mini in organization org-ifMd863rcCIXpEuEYtSj7yxy on tokens per min (TPM): Limit 200000, Used 200000, Requested 3827. Please try again in 1.148s. Visit https://platform.openai.com/account/rate-limits to learn more.', 'type': 'tokens', 'param': None, 'code': 'rate_limit_exceeded'}})\n",
      "Evaluating:  47%|████▋     | 141/300 [20:17<15:41,  5.92s/it]Exception raised in Job[138]: RateLimitError(Error code: 429 - {'error': {'message': 'Rate limit reached for gpt-4.1-mini in organization org-ifMd863rcCIXpEuEYtSj7yxy on requests per min (RPM): Limit 500, Used 500, Requested 1. Please try again in 120ms. Visit https://platform.openai.com/account/rate-limits to learn more.', 'type': 'requests', 'param': None, 'code': 'rate_limit_exceeded'}})\n",
      "Evaluating:  47%|████▋     | 142/300 [20:24<16:35,  6.30s/it]Exception raised in Job[141]: RateLimitError(Error code: 429 - {'error': {'message': 'Rate limit reached for gpt-4.1-mini in organization org-ifMd863rcCIXpEuEYtSj7yxy on tokens per min (TPM): Limit 200000, Used 200000, Requested 3895. Please try again in 1.168s. Visit https://platform.openai.com/account/rate-limits to learn more.', 'type': 'tokens', 'param': None, 'code': 'rate_limit_exceeded'}})\n",
      "Evaluating:  48%|████▊     | 143/300 [20:48<30:54, 11.81s/it]Exception raised in Job[144]: RateLimitError(Error code: 429 - {'error': {'message': 'Rate limit reached for gpt-4.1-mini in organization org-ifMd863rcCIXpEuEYtSj7yxy on requests per min (RPM): Limit 500, Used 500, Requested 1. Please try again in 120ms. Visit https://platform.openai.com/account/rate-limits to learn more.', 'type': 'requests', 'param': None, 'code': 'rate_limit_exceeded'}})\n",
      "Evaluating:  48%|████▊     | 144/300 [20:49<21:45,  8.37s/it]Exception raised in Job[139]: TimeoutError()\n",
      "Evaluating:  49%|████▊     | 146/300 [20:59<17:44,  6.91s/it]Exception raised in Job[145]: RateLimitError(Error code: 429 - {'error': {'message': 'Rate limit reached for gpt-4.1-mini in organization org-ifMd863rcCIXpEuEYtSj7yxy on requests per min (RPM): Limit 500, Used 500, Requested 1. Please try again in 120ms. Visit https://platform.openai.com/account/rate-limits to learn more.', 'type': 'requests', 'param': None, 'code': 'rate_limit_exceeded'}})\n",
      "Evaluating:  49%|████▉     | 147/300 [21:01<14:08,  5.54s/it]Exception raised in Job[149]: RateLimitError(Error code: 429 - {'error': {'message': 'Rate limit reached for gpt-4.1-mini in organization org-ifMd863rcCIXpEuEYtSj7yxy on requests per min (RPM): Limit 500, Used 500, Requested 1. Please try again in 120ms. Visit https://platform.openai.com/account/rate-limits to learn more.', 'type': 'requests', 'param': None, 'code': 'rate_limit_exceeded'}})\n",
      "Evaluating:  49%|████▉     | 148/300 [21:30<31:19, 12.37s/it]Exception raised in Job[147]: RateLimitError(Error code: 429 - {'error': {'message': 'Rate limit reached for gpt-4.1-mini in organization org-ifMd863rcCIXpEuEYtSj7yxy on tokens per min (TPM): Limit 200000, Used 199825, Requested 3630. Please try again in 1.036s. Visit https://platform.openai.com/account/rate-limits to learn more.', 'type': 'tokens', 'param': None, 'code': 'rate_limit_exceeded'}})\n",
      "Evaluating:  50%|████▉     | 149/300 [21:32<23:36,  9.38s/it]Exception raised in Job[148]: TimeoutError()\n",
      "Evaluating:  50%|█████     | 150/300 [21:42<23:43,  9.49s/it]Exception raised in Job[151]: RateLimitError(Error code: 429 - {'error': {'message': 'Rate limit reached for gpt-4.1-mini in organization org-ifMd863rcCIXpEuEYtSj7yxy on tokens per min (TPM): Limit 200000, Used 199363, Requested 3890. Please try again in 975ms. Visit https://platform.openai.com/account/rate-limits to learn more.', 'type': 'tokens', 'param': None, 'code': 'rate_limit_exceeded'}})\n",
      "Evaluating:  51%|█████     | 152/300 [22:08<30:24, 12.33s/it]Exception raised in Job[154]: RateLimitError(Error code: 429 - {'error': {'message': 'Rate limit reached for gpt-4.1-mini in organization org-ifMd863rcCIXpEuEYtSj7yxy on tokens per min (TPM): Limit 200000, Used 200000, Requested 3788. Please try again in 1.136s. Visit https://platform.openai.com/account/rate-limits to learn more.', 'type': 'tokens', 'param': None, 'code': 'rate_limit_exceeded'}})\n",
      "Evaluating:  51%|█████▏    | 154/300 [22:15<18:48,  7.73s/it]Exception raised in Job[157]: RateLimitError(Error code: 429 - {'error': {'message': 'Rate limit reached for gpt-4.1-mini in organization org-ifMd863rcCIXpEuEYtSj7yxy on requests per min (RPM): Limit 500, Used 500, Requested 1. Please try again in 120ms. Visit https://platform.openai.com/account/rate-limits to learn more.', 'type': 'requests', 'param': None, 'code': 'rate_limit_exceeded'}})\n",
      "Evaluating:  52%|█████▏    | 155/300 [22:26<20:35,  8.52s/it]Exception raised in Job[152]: RateLimitError(Error code: 429 - {'error': {'message': 'Rate limit reached for gpt-4.1-mini in organization org-ifMd863rcCIXpEuEYtSj7yxy on tokens per min (TPM): Limit 200000, Used 199643, Requested 2115. Please try again in 527ms. Visit https://platform.openai.com/account/rate-limits to learn more.', 'type': 'tokens', 'param': None, 'code': 'rate_limit_exceeded'}})\n",
      "Evaluating:  52%|█████▏    | 156/300 [22:26<14:45,  6.15s/it]Exception raised in Job[150]: TimeoutError()\n",
      "Evaluating:  52%|█████▏    | 157/300 [22:39<19:14,  8.07s/it]Exception raised in Job[162]: RateLimitError(Error code: 429 - {'error': {'message': 'Rate limit reached for gpt-4.1-mini in organization org-ifMd863rcCIXpEuEYtSj7yxy on tokens per min (TPM): Limit 200000, Used 200000, Requested 3670. Please try again in 1.101s. Visit https://platform.openai.com/account/rate-limits to learn more.', 'type': 'tokens', 'param': None, 'code': 'rate_limit_exceeded'}})\n",
      "Evaluating:  53%|█████▎    | 159/300 [23:06<23:03,  9.81s/it]Exception raised in Job[159]: RateLimitError(Error code: 429 - {'error': {'message': 'Rate limit reached for gpt-4.1-mini in organization org-ifMd863rcCIXpEuEYtSj7yxy on tokens per min (TPM): Limit 200000, Used 199538, Requested 3655. Please try again in 957ms. Visit https://platform.openai.com/account/rate-limits to learn more.', 'type': 'tokens', 'param': None, 'code': 'rate_limit_exceeded'}})\n",
      "Evaluating:  53%|█████▎    | 160/300 [23:08<17:17,  7.41s/it]Exception raised in Job[153]: TimeoutError()\n",
      "Evaluating:  54%|█████▍    | 162/300 [23:15<13:25,  5.84s/it]Exception raised in Job[155]: TimeoutError()\n",
      "Exception raised in Job[156]: TimeoutError()\n",
      "Evaluating:  55%|█████▍    | 164/300 [23:47<19:43,  8.70s/it]\n"
     ]
    },
    {
     "ename": "KeyboardInterrupt",
     "evalue": "",
     "output_type": "error",
     "traceback": [
      "\u001b[31m---------------------------------------------------------------------------\u001b[39m",
      "\u001b[31mKeyboardInterrupt\u001b[39m                         Traceback (most recent call last)",
      "\u001b[36mCell\u001b[39m\u001b[36m \u001b[39m\u001b[32mIn[11]\u001b[39m\u001b[32m, line 1\u001b[39m\n\u001b[32m----> \u001b[39m\u001b[32m1\u001b[39m scores = \u001b[43mevaluate\u001b[49m\u001b[43m(\u001b[49m\n\u001b[32m      2\u001b[39m \u001b[43m    \u001b[49m\u001b[43mdataset\u001b[49m\u001b[43m,\u001b[49m\n\u001b[32m      3\u001b[39m \u001b[43m    \u001b[49m\u001b[43mmetrics\u001b[49m\u001b[43m=\u001b[49m\u001b[43m[\u001b[49m\u001b[43mFaithfulness\u001b[49m\u001b[43m(\u001b[49m\u001b[43m)\u001b[49m\u001b[43m,\u001b[49m\u001b[43mLLMContextRecall\u001b[49m\u001b[43m(\u001b[49m\u001b[43m)\u001b[49m\u001b[43m,\u001b[49m\u001b[43mFactualCorrectness\u001b[49m\u001b[43m(\u001b[49m\u001b[43m)\u001b[49m\u001b[43m]\u001b[49m\u001b[43m,\u001b[49m\n\u001b[32m      4\u001b[39m \u001b[43m    \u001b[49m\u001b[43mllm\u001b[49m\u001b[43m \u001b[49m\u001b[43m=\u001b[49m\u001b[43m \u001b[49m\u001b[43meval_llm\u001b[49m\n\u001b[32m      5\u001b[39m \u001b[43m)\u001b[49m\n",
      "\u001b[36mFile \u001b[39m\u001b[32mc:\\walker\\code\\langchain-basic\\.venv\\Lib\\site-packages\\ragas\\_analytics.py:277\u001b[39m, in \u001b[36mtrack_was_completed.<locals>.wrapper\u001b[39m\u001b[34m(*args, **kwargs)\u001b[39m\n\u001b[32m    274\u001b[39m \u001b[38;5;129m@wraps\u001b[39m(func)\n\u001b[32m    275\u001b[39m \u001b[38;5;28;01mdef\u001b[39;00m\u001b[38;5;250m \u001b[39m\u001b[34mwrapper\u001b[39m(*args: P.args, **kwargs: P.kwargs) -> T:\n\u001b[32m    276\u001b[39m     track(IsCompleteEvent(event_type=func.\u001b[34m__name__\u001b[39m, is_completed=\u001b[38;5;28;01mFalse\u001b[39;00m))\n\u001b[32m--> \u001b[39m\u001b[32m277\u001b[39m     result = \u001b[43mfunc\u001b[49m\u001b[43m(\u001b[49m\u001b[43m*\u001b[49m\u001b[43margs\u001b[49m\u001b[43m,\u001b[49m\u001b[43m \u001b[49m\u001b[43m*\u001b[49m\u001b[43m*\u001b[49m\u001b[43mkwargs\u001b[49m\u001b[43m)\u001b[49m\n\u001b[32m    278\u001b[39m     track(IsCompleteEvent(event_type=func.\u001b[34m__name__\u001b[39m, is_completed=\u001b[38;5;28;01mTrue\u001b[39;00m))\n\u001b[32m    280\u001b[39m     \u001b[38;5;28;01mreturn\u001b[39;00m result\n",
      "\u001b[36mFile \u001b[39m\u001b[32mc:\\walker\\code\\langchain-basic\\.venv\\Lib\\site-packages\\ragas\\evaluation.py:458\u001b[39m, in \u001b[36mevaluate\u001b[39m\u001b[34m(dataset, metrics, llm, embeddings, experiment_name, callbacks, run_config, token_usage_parser, raise_exceptions, column_map, show_progress, batch_size, _run_id, _pbar, return_executor, allow_nest_asyncio)\u001b[39m\n\u001b[32m    454\u001b[39m \u001b[38;5;28;01melse\u001b[39;00m:\n\u001b[32m    455\u001b[39m     \u001b[38;5;66;03m# Default behavior: use nest_asyncio for backward compatibility (Jupyter notebooks)\u001b[39;00m\n\u001b[32m    456\u001b[39m     \u001b[38;5;28;01mfrom\u001b[39;00m\u001b[38;5;250m \u001b[39m\u001b[34;01mragas\u001b[39;00m\u001b[34;01m.\u001b[39;00m\u001b[34;01masync_utils\u001b[39;00m\u001b[38;5;250m \u001b[39m\u001b[38;5;28;01mimport\u001b[39;00m run\n\u001b[32m--> \u001b[39m\u001b[32m458\u001b[39m     \u001b[38;5;28;01mreturn\u001b[39;00m \u001b[43mrun\u001b[49m\u001b[43m(\u001b[49m\u001b[43m_async_wrapper\u001b[49m\u001b[43m(\u001b[49m\u001b[43m)\u001b[49m\u001b[43m)\u001b[49m\n",
      "\u001b[36mFile \u001b[39m\u001b[32mc:\\walker\\code\\langchain-basic\\.venv\\Lib\\site-packages\\ragas\\async_utils.py:125\u001b[39m, in \u001b[36mrun\u001b[39m\u001b[34m(async_func, allow_nest_asyncio)\u001b[39m\n\u001b[32m    123\u001b[39m \u001b[38;5;66;03m# Create the coroutine if it's a callable, otherwise use directly\u001b[39;00m\n\u001b[32m    124\u001b[39m coro = async_func() \u001b[38;5;28;01mif\u001b[39;00m \u001b[38;5;28mcallable\u001b[39m(async_func) \u001b[38;5;28;01melse\u001b[39;00m async_func\n\u001b[32m--> \u001b[39m\u001b[32m125\u001b[39m \u001b[38;5;28;01mreturn\u001b[39;00m \u001b[43masyncio\u001b[49m\u001b[43m.\u001b[49m\u001b[43mrun\u001b[49m\u001b[43m(\u001b[49m\u001b[43mcoro\u001b[49m\u001b[43m)\u001b[49m\n",
      "\u001b[36mFile \u001b[39m\u001b[32mc:\\walker\\code\\langchain-basic\\.venv\\Lib\\site-packages\\nest_asyncio.py:30\u001b[39m, in \u001b[36m_patch_asyncio.<locals>.run\u001b[39m\u001b[34m(main, debug)\u001b[39m\n\u001b[32m     28\u001b[39m task = asyncio.ensure_future(main)\n\u001b[32m     29\u001b[39m \u001b[38;5;28;01mtry\u001b[39;00m:\n\u001b[32m---> \u001b[39m\u001b[32m30\u001b[39m     \u001b[38;5;28;01mreturn\u001b[39;00m \u001b[43mloop\u001b[49m\u001b[43m.\u001b[49m\u001b[43mrun_until_complete\u001b[49m\u001b[43m(\u001b[49m\u001b[43mtask\u001b[49m\u001b[43m)\u001b[49m\n\u001b[32m     31\u001b[39m \u001b[38;5;28;01mfinally\u001b[39;00m:\n\u001b[32m     32\u001b[39m     \u001b[38;5;28;01mif\u001b[39;00m \u001b[38;5;129;01mnot\u001b[39;00m task.done():\n",
      "\u001b[36mFile \u001b[39m\u001b[32mc:\\walker\\code\\langchain-basic\\.venv\\Lib\\site-packages\\nest_asyncio.py:92\u001b[39m, in \u001b[36m_patch_loop.<locals>.run_until_complete\u001b[39m\u001b[34m(self, future)\u001b[39m\n\u001b[32m     90\u001b[39m     f._log_destroy_pending = \u001b[38;5;28;01mFalse\u001b[39;00m\n\u001b[32m     91\u001b[39m \u001b[38;5;28;01mwhile\u001b[39;00m \u001b[38;5;129;01mnot\u001b[39;00m f.done():\n\u001b[32m---> \u001b[39m\u001b[32m92\u001b[39m     \u001b[38;5;28;43mself\u001b[39;49m\u001b[43m.\u001b[49m\u001b[43m_run_once\u001b[49m\u001b[43m(\u001b[49m\u001b[43m)\u001b[49m\n\u001b[32m     93\u001b[39m     \u001b[38;5;28;01mif\u001b[39;00m \u001b[38;5;28mself\u001b[39m._stopping:\n\u001b[32m     94\u001b[39m         \u001b[38;5;28;01mbreak\u001b[39;00m\n",
      "\u001b[36mFile \u001b[39m\u001b[32mc:\\walker\\code\\langchain-basic\\.venv\\Lib\\site-packages\\nest_asyncio.py:115\u001b[39m, in \u001b[36m_patch_loop.<locals>._run_once\u001b[39m\u001b[34m(self)\u001b[39m\n\u001b[32m    108\u001b[39m     heappop(scheduled)\n\u001b[32m    110\u001b[39m timeout = (\n\u001b[32m    111\u001b[39m     \u001b[32m0\u001b[39m \u001b[38;5;28;01mif\u001b[39;00m ready \u001b[38;5;129;01mor\u001b[39;00m \u001b[38;5;28mself\u001b[39m._stopping\n\u001b[32m    112\u001b[39m     \u001b[38;5;28;01melse\u001b[39;00m \u001b[38;5;28mmin\u001b[39m(\u001b[38;5;28mmax\u001b[39m(\n\u001b[32m    113\u001b[39m         scheduled[\u001b[32m0\u001b[39m]._when - \u001b[38;5;28mself\u001b[39m.time(), \u001b[32m0\u001b[39m), \u001b[32m86400\u001b[39m) \u001b[38;5;28;01mif\u001b[39;00m scheduled\n\u001b[32m    114\u001b[39m     \u001b[38;5;28;01melse\u001b[39;00m \u001b[38;5;28;01mNone\u001b[39;00m)\n\u001b[32m--> \u001b[39m\u001b[32m115\u001b[39m event_list = \u001b[38;5;28;43mself\u001b[39;49m\u001b[43m.\u001b[49m\u001b[43m_selector\u001b[49m\u001b[43m.\u001b[49m\u001b[43mselect\u001b[49m\u001b[43m(\u001b[49m\u001b[43mtimeout\u001b[49m\u001b[43m)\u001b[49m\n\u001b[32m    116\u001b[39m \u001b[38;5;28mself\u001b[39m._process_events(event_list)\n\u001b[32m    118\u001b[39m end_time = \u001b[38;5;28mself\u001b[39m.time() + \u001b[38;5;28mself\u001b[39m._clock_resolution\n",
      "\u001b[36mFile \u001b[39m\u001b[32m~\\AppData\\Roaming\\uv\\python\\cpython-3.11.13-windows-x86_64-none\\Lib\\selectors.py:323\u001b[39m, in \u001b[36mSelectSelector.select\u001b[39m\u001b[34m(self, timeout)\u001b[39m\n\u001b[32m    321\u001b[39m ready = []\n\u001b[32m    322\u001b[39m \u001b[38;5;28;01mtry\u001b[39;00m:\n\u001b[32m--> \u001b[39m\u001b[32m323\u001b[39m     r, w, _ = \u001b[38;5;28;43mself\u001b[39;49m\u001b[43m.\u001b[49m\u001b[43m_select\u001b[49m\u001b[43m(\u001b[49m\u001b[38;5;28;43mself\u001b[39;49m\u001b[43m.\u001b[49m\u001b[43m_readers\u001b[49m\u001b[43m,\u001b[49m\u001b[43m \u001b[49m\u001b[38;5;28;43mself\u001b[39;49m\u001b[43m.\u001b[49m\u001b[43m_writers\u001b[49m\u001b[43m,\u001b[49m\u001b[43m \u001b[49m\u001b[43m[\u001b[49m\u001b[43m]\u001b[49m\u001b[43m,\u001b[49m\u001b[43m \u001b[49m\u001b[43mtimeout\u001b[49m\u001b[43m)\u001b[49m\n\u001b[32m    324\u001b[39m \u001b[38;5;28;01mexcept\u001b[39;00m \u001b[38;5;167;01mInterruptedError\u001b[39;00m:\n\u001b[32m    325\u001b[39m     \u001b[38;5;28;01mreturn\u001b[39;00m ready\n",
      "\u001b[36mFile \u001b[39m\u001b[32m~\\AppData\\Roaming\\uv\\python\\cpython-3.11.13-windows-x86_64-none\\Lib\\selectors.py:314\u001b[39m, in \u001b[36mSelectSelector._select\u001b[39m\u001b[34m(self, r, w, _, timeout)\u001b[39m\n\u001b[32m    313\u001b[39m \u001b[38;5;28;01mdef\u001b[39;00m\u001b[38;5;250m \u001b[39m\u001b[34m_select\u001b[39m(\u001b[38;5;28mself\u001b[39m, r, w, _, timeout=\u001b[38;5;28;01mNone\u001b[39;00m):\n\u001b[32m--> \u001b[39m\u001b[32m314\u001b[39m     r, w, x = select.select(r, w, w, timeout)\n\u001b[32m    315\u001b[39m     \u001b[38;5;28;01mreturn\u001b[39;00m r, w + x, []\n",
      "\u001b[31mKeyboardInterrupt\u001b[39m: "
     ]
    },
    {
     "name": "stderr",
     "output_type": "stream",
     "text": [
      "Exception raised in Job[163]: RateLimitError(Error code: 429 - {'error': {'message': 'Rate limit reached for gpt-4.1-mini in organization org-ifMd863rcCIXpEuEYtSj7yxy on tokens per min (TPM): Limit 200000, Used 199012, Requested 3766. Please try again in 833ms. Visit https://platform.openai.com/account/rate-limits to learn more.', 'type': 'tokens', 'param': None, 'code': 'rate_limit_exceeded'}})\n",
      "Exception raised in Job[180]: AssertionError(LLM is not set)\n",
      "Exception raised in Job[181]: AssertionError(set LLM before use)\n",
      "Exception raised in Job[182]: AssertionError(LLM must be set)\n",
      "Exception raised in Job[183]: AssertionError(LLM is not set)\n",
      "Exception raised in Job[184]: AssertionError(set LLM before use)\n",
      "Exception raised in Job[185]: AssertionError(LLM must be set)\n",
      "Exception raised in Job[186]: AssertionError(LLM is not set)\n",
      "Exception raised in Job[187]: AssertionError(set LLM before use)\n",
      "Exception raised in Job[188]: AssertionError(LLM must be set)\n",
      "Exception raised in Job[189]: AssertionError(LLM is not set)\n",
      "Exception raised in Job[190]: AssertionError(set LLM before use)\n",
      "Exception raised in Job[191]: AssertionError(LLM must be set)\n",
      "Exception raised in Job[192]: AssertionError(LLM is not set)\n",
      "Exception raised in Job[193]: AssertionError(set LLM before use)\n",
      "Exception raised in Job[194]: AssertionError(LLM must be set)\n",
      "Exception raised in Job[195]: AssertionError(LLM is not set)\n",
      "Exception raised in Job[196]: AssertionError(set LLM before use)\n",
      "Exception raised in Job[197]: AssertionError(LLM must be set)\n",
      "Exception raised in Job[198]: AssertionError(LLM is not set)\n",
      "Exception raised in Job[199]: AssertionError(set LLM before use)\n",
      "Exception raised in Job[200]: AssertionError(LLM must be set)\n",
      "Exception raised in Job[201]: AssertionError(LLM is not set)\n",
      "Exception raised in Job[202]: AssertionError(set LLM before use)\n",
      "Exception raised in Job[203]: AssertionError(LLM must be set)\n",
      "Exception raised in Job[204]: AssertionError(LLM is not set)\n",
      "Exception raised in Job[205]: AssertionError(set LLM before use)\n",
      "Exception raised in Job[206]: AssertionError(LLM must be set)\n",
      "Exception raised in Job[207]: AssertionError(LLM is not set)\n",
      "Exception raised in Job[208]: AssertionError(set LLM before use)\n",
      "Exception raised in Job[209]: AssertionError(LLM must be set)\n",
      "Exception raised in Job[210]: AssertionError(LLM is not set)\n",
      "Exception raised in Job[211]: AssertionError(set LLM before use)\n",
      "Exception raised in Job[212]: AssertionError(LLM must be set)\n",
      "Exception raised in Job[213]: AssertionError(LLM is not set)\n",
      "Exception raised in Job[214]: AssertionError(set LLM before use)\n",
      "Exception raised in Job[215]: AssertionError(LLM must be set)\n",
      "Exception raised in Job[216]: AssertionError(LLM is not set)\n",
      "Exception raised in Job[217]: AssertionError(set LLM before use)\n",
      "Exception raised in Job[218]: AssertionError(LLM must be set)\n",
      "Exception raised in Job[219]: AssertionError(LLM is not set)\n",
      "Exception raised in Job[220]: AssertionError(set LLM before use)\n",
      "Exception raised in Job[221]: AssertionError(LLM must be set)\n",
      "Exception raised in Job[222]: AssertionError(LLM is not set)\n",
      "Exception raised in Job[223]: AssertionError(set LLM before use)\n",
      "Exception raised in Job[224]: AssertionError(LLM must be set)\n",
      "Exception raised in Job[225]: AssertionError(LLM is not set)\n",
      "Exception raised in Job[226]: AssertionError(set LLM before use)\n",
      "Exception raised in Job[227]: AssertionError(LLM must be set)\n",
      "Exception raised in Job[228]: AssertionError(LLM is not set)\n",
      "Exception raised in Job[229]: AssertionError(set LLM before use)\n",
      "Exception raised in Job[230]: AssertionError(LLM must be set)\n",
      "Exception raised in Job[231]: AssertionError(LLM is not set)\n",
      "Exception raised in Job[232]: AssertionError(set LLM before use)\n",
      "Exception raised in Job[233]: AssertionError(LLM must be set)\n",
      "Exception raised in Job[234]: AssertionError(LLM is not set)\n",
      "Exception raised in Job[235]: AssertionError(set LLM before use)\n",
      "Exception raised in Job[236]: AssertionError(LLM must be set)\n",
      "Exception raised in Job[237]: AssertionError(LLM is not set)\n",
      "Exception raised in Job[238]: AssertionError(set LLM before use)\n",
      "Exception raised in Job[239]: AssertionError(LLM must be set)\n",
      "Exception raised in Job[240]: AssertionError(LLM is not set)\n",
      "Exception raised in Job[241]: AssertionError(set LLM before use)\n",
      "Exception raised in Job[242]: AssertionError(LLM must be set)\n",
      "Exception raised in Job[243]: AssertionError(LLM is not set)\n",
      "Exception raised in Job[244]: AssertionError(set LLM before use)\n",
      "Exception raised in Job[245]: AssertionError(LLM must be set)\n",
      "Exception raised in Job[246]: AssertionError(LLM is not set)\n",
      "Exception raised in Job[247]: AssertionError(set LLM before use)\n",
      "Exception raised in Job[248]: AssertionError(LLM must be set)\n",
      "Exception raised in Job[249]: AssertionError(LLM is not set)\n",
      "Exception raised in Job[250]: AssertionError(set LLM before use)\n",
      "Exception raised in Job[251]: AssertionError(LLM must be set)\n",
      "Exception raised in Job[252]: AssertionError(LLM is not set)\n",
      "Exception raised in Job[253]: AssertionError(set LLM before use)\n",
      "Exception raised in Job[254]: AssertionError(LLM must be set)\n",
      "Exception raised in Job[255]: AssertionError(LLM is not set)\n",
      "Exception raised in Job[256]: AssertionError(set LLM before use)\n",
      "Exception raised in Job[257]: AssertionError(LLM must be set)\n",
      "Exception raised in Job[258]: AssertionError(LLM is not set)\n",
      "Exception raised in Job[259]: AssertionError(set LLM before use)\n",
      "Exception raised in Job[260]: AssertionError(LLM must be set)\n",
      "Exception raised in Job[261]: AssertionError(LLM is not set)\n",
      "Exception raised in Job[262]: AssertionError(set LLM before use)\n",
      "Exception raised in Job[263]: AssertionError(LLM must be set)\n",
      "Exception raised in Job[264]: AssertionError(LLM is not set)\n",
      "Exception raised in Job[265]: AssertionError(set LLM before use)\n",
      "Exception raised in Job[266]: AssertionError(LLM must be set)\n",
      "Exception raised in Job[267]: AssertionError(LLM is not set)\n",
      "Exception raised in Job[268]: AssertionError(set LLM before use)\n",
      "Exception raised in Job[269]: AssertionError(LLM must be set)\n",
      "Exception raised in Job[270]: AssertionError(LLM is not set)\n",
      "Exception raised in Job[271]: AssertionError(set LLM before use)\n",
      "Exception raised in Job[272]: AssertionError(LLM must be set)\n",
      "Exception raised in Job[273]: AssertionError(LLM is not set)\n",
      "Exception raised in Job[274]: AssertionError(set LLM before use)\n",
      "Exception raised in Job[275]: AssertionError(LLM must be set)\n",
      "Exception raised in Job[276]: AssertionError(LLM is not set)\n",
      "Exception raised in Job[277]: AssertionError(set LLM before use)\n",
      "Exception raised in Job[278]: AssertionError(LLM must be set)\n",
      "Exception raised in Job[279]: AssertionError(LLM is not set)\n",
      "Exception raised in Job[280]: AssertionError(set LLM before use)\n",
      "Exception raised in Job[281]: AssertionError(LLM must be set)\n",
      "Exception raised in Job[282]: AssertionError(LLM is not set)\n",
      "Exception raised in Job[283]: AssertionError(set LLM before use)\n",
      "Exception raised in Job[284]: AssertionError(LLM must be set)\n",
      "Exception raised in Job[285]: AssertionError(LLM is not set)\n",
      "Exception raised in Job[286]: AssertionError(set LLM before use)\n",
      "Exception raised in Job[287]: AssertionError(LLM must be set)\n",
      "Exception raised in Job[288]: AssertionError(LLM is not set)\n",
      "Exception raised in Job[289]: AssertionError(set LLM before use)\n",
      "Exception raised in Job[290]: AssertionError(LLM must be set)\n",
      "Exception raised in Job[291]: AssertionError(LLM is not set)\n",
      "Exception raised in Job[292]: AssertionError(set LLM before use)\n",
      "Exception raised in Job[293]: AssertionError(LLM must be set)\n",
      "Exception raised in Job[294]: AssertionError(LLM is not set)\n",
      "Exception raised in Job[295]: AssertionError(set LLM before use)\n",
      "Exception raised in Job[296]: AssertionError(LLM must be set)\n",
      "Exception raised in Job[297]: AssertionError(LLM is not set)\n",
      "Exception raised in Job[298]: AssertionError(set LLM before use)\n",
      "Exception raised in Job[299]: AssertionError(LLM must be set)\n",
      "Exception raised in Job[160]: TimeoutError()\n",
      "Exception raised in Job[173]: AssertionError(LLM must be set)\n",
      "Exception raised in Job[169]: RateLimitError(Error code: 429 - {'error': {'message': 'Rate limit reached for gpt-4.1-mini in organization org-ifMd863rcCIXpEuEYtSj7yxy on tokens per min (TPM): Limit 200000, Used 200000, Requested 3726. Please try again in 1.117s. Visit https://platform.openai.com/account/rate-limits to learn more.', 'type': 'tokens', 'param': None, 'code': 'rate_limit_exceeded'}})\n",
      "Exception raised in Job[164]: RateLimitError(Error code: 429 - {'error': {'message': 'Rate limit reached for gpt-4.1-mini in organization org-ifMd863rcCIXpEuEYtSj7yxy on tokens per min (TPM): Limit 200000, Used 200000, Requested 1476. Please try again in 442ms. Visit https://platform.openai.com/account/rate-limits to learn more.', 'type': 'tokens', 'param': None, 'code': 'rate_limit_exceeded'}})\n",
      "Exception raised in Job[167]: RateLimitError(Error code: 429 - {'error': {'message': 'Rate limit reached for gpt-4.1-mini in organization org-ifMd863rcCIXpEuEYtSj7yxy on tokens per min (TPM): Limit 200000, Used 199041, Requested 2163. Please try again in 361ms. Visit https://platform.openai.com/account/rate-limits to learn more.', 'type': 'tokens', 'param': None, 'code': 'rate_limit_exceeded'}})\n",
      "Exception raised in Job[165]: TimeoutError()\n",
      "Exception raised in Job[166]: TimeoutError()\n",
      "Exception raised in Job[178]: RateLimitError(Error code: 429 - {'error': {'message': 'Rate limit reached for gpt-4.1-mini in organization org-ifMd863rcCIXpEuEYtSj7yxy on tokens per min (TPM): Limit 200000, Used 200000, Requested 3757. Please try again in 1.127s. Visit https://platform.openai.com/account/rate-limits to learn more.', 'type': 'tokens', 'param': None, 'code': 'rate_limit_exceeded'}})\n",
      "Exception raised in Job[170]: TimeoutError()\n",
      "Exception raised in Job[176]: RateLimitError(Error code: 429 - {'error': {'message': 'Rate limit reached for gpt-4.1-mini in organization org-ifMd863rcCIXpEuEYtSj7yxy on requests per min (RPM): Limit 500, Used 500, Requested 1. Please try again in 120ms. Visit https://platform.openai.com/account/rate-limits to learn more.', 'type': 'requests', 'param': None, 'code': 'rate_limit_exceeded'}})\n",
      "Exception raised in Job[175]: RateLimitError(Error code: 429 - {'error': {'message': 'Rate limit reached for gpt-4.1-mini in organization org-ifMd863rcCIXpEuEYtSj7yxy on requests per min (RPM): Limit 500, Used 500, Requested 1. Please try again in 120ms. Visit https://platform.openai.com/account/rate-limits to learn more.', 'type': 'requests', 'param': None, 'code': 'rate_limit_exceeded'}})\n",
      "Exception raised in Job[174]: TimeoutError()\n",
      "Exception raised in Job[177]: RateLimitError(Error code: 429 - {'error': {'message': 'Rate limit reached for gpt-4.1-mini in organization org-ifMd863rcCIXpEuEYtSj7yxy on tokens per min (TPM): Limit 200000, Used 200000, Requested 3973. Please try again in 1.191s. Visit https://platform.openai.com/account/rate-limits to learn more.', 'type': 'tokens', 'param': None, 'code': 'rate_limit_exceeded'}})\n"
     ]
    }
   ],
   "source": [
    "scores = evaluate(\n",
    "    dataset,\n",
    "    metrics=[Faithfulness(), # 할루시네이션 확인\n",
    "            LLMContextRecall(), # retriever 확인 \n",
    "            FactualCorrectness()], # system 프롬프트 확인(답변 '형식' 등)\n",
    "    llm = eval_llm\n",
    ")"
   ]
  },
  {
   "cell_type": "code",
   "execution_count": null,
   "id": "9d340e49",
   "metadata": {},
   "outputs": [],
   "source": [
    "scores"
   ]
  }
 ],
 "metadata": {
  "kernelspec": {
   "display_name": "langchain-basic",
   "language": "python",
   "name": "python3"
  },
  "language_info": {
   "codemirror_mode": {
    "name": "ipython",
    "version": 3
   },
   "file_extension": ".py",
   "mimetype": "text/x-python",
   "name": "python",
   "nbconvert_exporter": "python",
   "pygments_lexer": "ipython3",
   "version": "3.11.13"
  }
 },
 "nbformat": 4,
 "nbformat_minor": 5
}
