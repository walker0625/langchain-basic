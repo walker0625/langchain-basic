{
 "cells": [
  {
   "cell_type": "markdown",
   "id": "0aba41ab",
   "metadata": {},
   "source": [
    "# Evaluation\n",
    "- faithfulness : Answer가 Context에 기반해 사실적으로 답을 했는가?(할루시네이션 확인)\n",
    "- answer_relevancy : Question과 Answer의 연관성이 있는가?(질문과 답의 연관)\n",
    "- context_precision : 가져온 Context에서 Answer가 얼마나 필요한 내용을 반영했는가?(정확한 인용)\n",
    "- context_call : 정답에 필요한 Context를 얼마나 잘 가져왔는가?(검색 품질)\n",
    "\n",
    "## TODO\n",
    "1. 테스트 데이터 셋 만들기(+페르소나 생성)\n",
    "2. RAG 구축\n",
    "3. 평가\n",
    "4. 반복 개선"
   ]
  },
  {
   "cell_type": "markdown",
   "id": "0743211b",
   "metadata": {
    "vscode": {
     "languageId": "plaintext"
    }
   },
   "source": [
    "# 1. 테스트 데이터 셋 만들기(+페르소나 생성)"
   ]
  },
  {
   "cell_type": "code",
   "execution_count": 4,
   "id": "ac9eb096",
   "metadata": {},
   "outputs": [],
   "source": [
    "from langchain_community.document_loaders import PyPDFLoader # load\n",
    "from langchain_text_splitters import RecursiveCharacterTextSplitter # splitter\n",
    "from langchain_openai import OpenAIEmbeddings, ChatOpenAI # embedding"
   ]
  },
  {
   "cell_type": "markdown",
   "id": "cc6f1dff",
   "metadata": {},
   "source": [
    "## 1-1 페르소나\n",
    "1) 데이터 셋에 맞는 페르소나\n",
    "2) 고객의 활용 사례에 맞는 페르소나\n",
    "\n",
    "## 1-2 시나리오\n",
    "1) 1개의 chunk에 맞는 답변\n",
    "2) 복수개의 chunk에 맞는 답변\n",
    "\n",
    "## 1-3 평가 요소 가중치 설정\n",
    "평가 요소간의 가중치를 지정\n",
    "1) 5 : 2.5 : 2.5\n",
    "1) 4 : 3 : 3"
   ]
  },
  {
   "cell_type": "code",
   "execution_count": 5,
   "id": "f9b8816f",
   "metadata": {},
   "outputs": [
    {
     "name": "stdout",
     "output_type": "stream",
     "text": [
      "83\n"
     ]
    }
   ],
   "source": [
    "# 1. load\n",
    "pdf_path = '../data/Sustainability_report_2024_kr.pdf'\n",
    "docs = PyPDFLoader(pdf_path).load()\n",
    "print(len(docs))"
   ]
  },
  {
   "cell_type": "code",
   "execution_count": 6,
   "id": "564c6d40",
   "metadata": {},
   "outputs": [
    {
     "name": "stdout",
     "output_type": "stream",
     "text": [
      "48\n"
     ]
    }
   ],
   "source": [
    "# 2. chunk\n",
    "splitter = RecursiveCharacterTextSplitter(\n",
    "    chunk_size=1000,\n",
    "    chunk_overlap=100\n",
    ")\n",
    "\n",
    "chunks = splitter.split_documents(docs[:20]) # 원래는 문서 전체를 다해야 함\n",
    "print(len(chunks))"
   ]
  },
  {
   "cell_type": "code",
   "execution_count": 7,
   "id": "49b91ee5",
   "metadata": {},
   "outputs": [],
   "source": [
    "# 3. 시나리오 설정 및 페르소나 생성\n",
    "from ragas.llms.base import llm_factory\n",
    "from ragas.embeddings import OpenAIEmbeddings\n",
    "\n",
    "import openai\n",
    "\n",
    "eval_llm = llm_factory('gpt-4o-mini') \n",
    "openai_client = openai.OpenAI()\n",
    "get_embeddings = OpenAIEmbeddings(client=openai_client)"
   ]
  },
  {
   "cell_type": "code",
   "execution_count": 8,
   "id": "701139f7",
   "metadata": {},
   "outputs": [],
   "source": [
    "from ragas.testset import TestsetGenerator\n",
    "\n",
    "generator = TestsetGenerator(\n",
    "    llm = eval_llm, \n",
    "    embedding_model = get_embeddings)"
   ]
  },
  {
   "cell_type": "code",
   "execution_count": null,
   "id": "03a7f83f",
   "metadata": {},
   "outputs": [],
   "source": [
    "generator.persona_list"
   ]
  },
  {
   "cell_type": "markdown",
   "id": "46d45aa0",
   "metadata": {},
   "source": [
    "## 자동 생성 페르소나(기본값 3개) + 커스텀 페르소나\n",
    "1. 기본 testset 하나생성\n",
    "2. 자동 생성 페르소나\n",
    "3. 커스텀 페르소나를 추가"
   ]
  },
  {
   "cell_type": "code",
   "execution_count": null,
   "id": "efc876f8",
   "metadata": {},
   "outputs": [
    {
     "name": "stderr",
     "output_type": "stream",
     "text": [
      "Applying HeadlinesExtractor: 100%|██████████| 39/39 [01:15<00:00,  1.93s/it]\n",
      "Applying HeadlineSplitter: 100%|██████████| 48/48 [00:00<00:00, 556.85it/s]\n",
      "Applying SummaryExtractor:  80%|███████▉  | 35/44 [01:04<00:12,  1.41s/it]Property 'summary' already exists in node 'c3bce0'. Skipping!\n",
      "Property 'summary' already exists in node '39aa51'. Skipping!\n",
      "Property 'summary' already exists in node '59e6f9'. Skipping!\n",
      "Property 'summary' already exists in node 'f9595c'. Skipping!\n",
      "Property 'summary' already exists in node '363d35'. Skipping!\n",
      "Applying SummaryExtractor: 100%|██████████| 44/44 [01:24<00:00,  1.92s/it]\n",
      "Applying CustomNodeFilter: 100%|██████████| 79/79 [02:49<00:00,  2.15s/it]\n",
      "Applying EmbeddingExtractor:   0%|          | 0/44 [00:00<?, ?it/s]c:\\walker\\code\\langchain-basic\\.venv\\Lib\\site-packages\\ragas\\testset\\transforms\\base.py:188: UserWarning: Using sync embedding model OpenAIEmbeddings in async context. This may impact performance. Consider using an async-compatible embedding model for better performance.\n",
      "  property_name, property_value = await self.extract(node)\n",
      "Applying EmbeddingExtractor:  82%|████████▏ | 36/44 [00:06<00:01,  6.57it/s]Property 'summary_embedding' already exists in node '59e6f9'. Skipping!\n",
      "Property 'summary_embedding' already exists in node '39aa51'. Skipping!\n",
      "Property 'summary_embedding' already exists in node '363d35'. Skipping!\n",
      "Property 'summary_embedding' already exists in node 'c3bce0'. Skipping!\n",
      "Property 'summary_embedding' already exists in node 'f9595c'. Skipping!\n",
      "Applying EmbeddingExtractor: 100%|██████████| 44/44 [00:06<00:00,  6.77it/s]\n",
      "Applying ThemesExtractor: 100%|██████████| 74/74 [02:47<00:00,  2.26s/it]\n",
      "Applying NERExtractor: 100%|██████████| 74/74 [02:48<00:00,  2.27s/it]\n",
      "Applying CosineSimilarityBuilder: 100%|██████████| 1/1 [00:00<00:00, 53.52it/s]\n",
      "Applying OverlapScoreBuilder: 100%|██████████| 1/1 [00:00<00:00, 11.33it/s]\n",
      "Generating personas: 100%|██████████| 3/3 [00:06<00:00,  2.08s/it]\n",
      "Generating Scenarios: 100%|██████████| 3/3 [00:08<00:00,  2.74s/it]\n",
      "Generating Samples: 100%|██████████| 3/3 [00:06<00:00,  2.29s/it]\n"
     ]
    }
   ],
   "source": [
    "dataset_test = generator.generate_with_langchain_docs(\n",
    "    documents=chunks,\n",
    "    testset_size=1 # 1개만 해도 페르소나가 3개라 결과는 3개\n",
    ")"
   ]
  },
  {
   "cell_type": "code",
   "execution_count": 31,
   "id": "1357b2f4",
   "metadata": {},
   "outputs": [
    {
     "data": {
      "text/plain": [
       "[Persona(name='Corporate Sustainability Manager', role_description='Leads initiatives to ensure compliance with sustainability regulations and promotes transparency in environmental and social governance practices.'),\n",
       " Persona(name='Sustainability Manager', role_description='Responsible for overseeing and implementing sustainable practices within an organization, focusing on carbon neutrality and resource efficiency.'),\n",
       " Persona(name='Sustainability Manager', role_description='Responsible for implementing and overseeing sustainable practices within the company, particularly in managing labor conditions and environmental impact.')]"
      ]
     },
     "execution_count": 31,
     "metadata": {},
     "output_type": "execute_result"
    }
   ],
   "source": [
    "generator.persona_list # 기본값(3)으로 생성된 페르소나들 "
   ]
  },
  {
   "cell_type": "code",
   "execution_count": 37,
   "id": "71cbc3ed",
   "metadata": {},
   "outputs": [
    {
     "data": {
      "text/html": [
       "<div>\n",
       "<style scoped>\n",
       "    .dataframe tbody tr th:only-of-type {\n",
       "        vertical-align: middle;\n",
       "    }\n",
       "\n",
       "    .dataframe tbody tr th {\n",
       "        vertical-align: top;\n",
       "    }\n",
       "\n",
       "    .dataframe thead th {\n",
       "        text-align: right;\n",
       "    }\n",
       "</style>\n",
       "<table border=\"1\" class=\"dataframe\">\n",
       "  <thead>\n",
       "    <tr style=\"text-align: right;\">\n",
       "      <th></th>\n",
       "      <th>user_input</th>\n",
       "      <th>reference_contexts</th>\n",
       "      <th>reference</th>\n",
       "      <th>synthesizer_name</th>\n",
       "    </tr>\n",
       "  </thead>\n",
       "  <tbody>\n",
       "    <tr>\n",
       "      <th>0</th>\n",
       "      <td>How is the United States involved in the compa...</td>\n",
       "      <td>[지속가능한 미래를 위한 노력을 계속해 \\n왔습니다. 2050년 탄소중립을 통해 글...</td>\n",
       "      <td>In the context of the company's sustainability...</td>\n",
       "      <td>single_hop_specific_query_synthesizer</td>\n",
       "    </tr>\n",
       "    <tr>\n",
       "      <th>1</th>\n",
       "      <td>How does Samsung Electronics' sustainability m...</td>\n",
       "      <td>[&lt;1-hop&gt;\\n\\n삼성전자 지속가능경영보고서 2024\\n18\\nOur Compa...</td>\n",
       "      <td>Samsung Electronics' sustainability management...</td>\n",
       "      <td>multi_hop_abstract_query_synthesizer</td>\n",
       "    </tr>\n",
       "    <tr>\n",
       "      <th>2</th>\n",
       "      <td>2022년 삼성전자가 온실가스 감축을 위해 뭐 했는지, 그리고 협력회사랑 어떻게 같...</td>\n",
       "      <td>[&lt;1-hop&gt;\\n\\n전 세계가 당면한 기후위기 해결은 모두가 동참해야 하는 과제이...</td>\n",
       "      <td>2022년 삼성전자는 온실가스 감축을 추진하기 위해 운영체계를 정립하고 실질적인 감...</td>\n",
       "      <td>multi_hop_specific_query_synthesizer</td>\n",
       "    </tr>\n",
       "  </tbody>\n",
       "</table>\n",
       "</div>"
      ],
      "text/plain": [
       "                                          user_input  ...                       synthesizer_name\n",
       "0  How is the United States involved in the compa...  ...  single_hop_specific_query_synthesizer\n",
       "1  How does Samsung Electronics' sustainability m...  ...   multi_hop_abstract_query_synthesizer\n",
       "2  2022년 삼성전자가 온실가스 감축을 위해 뭐 했는지, 그리고 협력회사랑 어떻게 같...  ...   multi_hop_specific_query_synthesizer\n",
       "\n",
       "[3 rows x 4 columns]"
      ]
     },
     "execution_count": 37,
     "metadata": {},
     "output_type": "execute_result"
    }
   ],
   "source": [
    "test_df = dataset_test.to_pandas()\n",
    "test_df['reference_contexts'][1]\n",
    "test_df"
   ]
  },
  {
   "cell_type": "code",
   "execution_count": 32,
   "id": "cc9db0be",
   "metadata": {},
   "outputs": [],
   "source": [
    "# 커스텀 페르소나 생성\n",
    "from ragas.testset.persona import Persona\n",
    "\n",
    "custom_persona = [\n",
    "    Persona(name='Investor', role_description='Focuses on evaluating the company’s financial performance, ESG strategies, and long-term growth potential to make informed investment decisions.'),\n",
    "    Persona(name='Job Seeker', role_description='Explores career opportunities within the company, paying attention to corporate culture, stability, and sustainability-driven values.'),\n",
    "    Persona(name='Business Partner', role_description='Collaborates with the company as a supplier or partner, emphasizing transparency, fair trade, and shared sustainability goals.')\n",
    "]"
   ]
  },
  {
   "cell_type": "code",
   "execution_count": null,
   "id": "baa238b2",
   "metadata": {},
   "outputs": [
    {
     "data": {
      "text/plain": [
       "[Persona(name='Corporate Sustainability Manager', role_description='Leads initiatives to ensure compliance with sustainability regulations and promotes transparency in environmental and social governance practices.'),\n",
       " Persona(name='Sustainability Manager', role_description='Responsible for overseeing and implementing sustainable practices within an organization, focusing on carbon neutrality and resource efficiency.'),\n",
       " Persona(name='Sustainability Manager', role_description='Responsible for implementing and overseeing sustainable practices within the company, particularly in managing labor conditions and environmental impact.'),\n",
       " Persona(name='Investor', role_description='Focuses on evaluating the company’s financial performance, ESG strategies, and long-term growth potential to make informed investment decisions.'),\n",
       " Persona(name='Job Seeker', role_description='Explores career opportunities within the company, paying attention to corporate culture, stability, and sustainability-driven values.'),\n",
       " Persona(name='Business Partner', role_description='Collaborates with the company as a supplier or partner, emphasizing transparency, fair trade, and shared sustainability goals.')]"
      ]
     },
     "execution_count": 33,
     "metadata": {},
     "output_type": "execute_result"
    }
   ],
   "source": [
    "generator.persona_list = generator.persona_list + custom_persona\n",
    "generator.persona_list # 3 + 3"
   ]
  },
  {
   "cell_type": "code",
   "execution_count": null,
   "id": "714b5bef",
   "metadata": {},
   "outputs": [],
   "source": [
    "from ragas.testset.synthesizers.multi_hop import (\n",
    "    MultiHopAbstractQuerySynthesizer,\n",
    "    MultiHopSpecificQuerySynthesizer,\n",
    ")\n",
    "from ragas.testset.synthesizers.single_hop.specific import (\n",
    "    SingleHopSpecificQuerySynthesizer,\n",
    ")\n",
    "from ragas.llms.base import llm_factory\n",
    "\n",
    "ragas_llm = llm_factory(model = \"gpt-4.1-mini\")\n",
    "\n",
    "# 가중치 조절\n",
    "scenarios = [\n",
    "    (SingleHopSpecificQuerySynthesizer(llm=ragas_llm), 0.4), # chunk 한개 중심\n",
    "    (MultiHopAbstractQuerySynthesizer(llm=ragas_llm), 0.3), # chunk 복수 추상질문 중심\n",
    "    (MultiHopSpecificQuerySynthesizer(llm=ragas_llm), 0.3) # chunk 복수 구체질문 중심\n",
    "]"
   ]
  },
  {
   "cell_type": "code",
   "execution_count": 10,
   "id": "a921b083",
   "metadata": {},
   "outputs": [
    {
     "data": {
      "text/plain": [
       "TestsetGenerator(llm=LangchainLLMWrapper(langchain_llm=ChatOpenAI(...)), embedding_model=OpenAIEmbeddings(provider='openai', model='text-embedding-3-small', client=<OpenAI:sync>), knowledge_graph=KnowledgeGraph(nodes: 0, relationships: 0), persona_list=None)"
      ]
     },
     "execution_count": 10,
     "metadata": {},
     "output_type": "execute_result"
    }
   ],
   "source": [
    "generator"
   ]
  },
  {
   "cell_type": "code",
   "execution_count": null,
   "id": "dd66a9e0",
   "metadata": {},
   "outputs": [
    {
     "name": "stderr",
     "output_type": "stream",
     "text": [
      "Generating Scenarios:   0%|          | 0/3 [00:00<?, ?it/s]"
     ]
    },
    {
     "name": "stderr",
     "output_type": "stream",
     "text": [
      "Generating Scenarios: 100%|██████████| 3/3 [04:59<00:00, 99.90s/it] \n",
      "Generating Samples: 100%|██████████| 100/100 [03:23<00:00,  2.03s/it]\n"
     ]
    }
   ],
   "source": [
    "dataset = generator.generate(\n",
    "    testset_size = 100,\n",
    "    query_distribution = scenarios\n",
    ")ㅁ"
   ]
  },
  {
   "cell_type": "code",
   "execution_count": null,
   "id": "3f71d325",
   "metadata": {},
   "outputs": [
    {
     "data": {
      "text/html": [
       "<div>\n",
       "<style scoped>\n",
       "    .dataframe tbody tr th:only-of-type {\n",
       "        vertical-align: middle;\n",
       "    }\n",
       "\n",
       "    .dataframe tbody tr th {\n",
       "        vertical-align: top;\n",
       "    }\n",
       "\n",
       "    .dataframe thead th {\n",
       "        text-align: right;\n",
       "    }\n",
       "</style>\n",
       "<table border=\"1\" class=\"dataframe\">\n",
       "  <thead>\n",
       "    <tr style=\"text-align: right;\">\n",
       "      <th></th>\n",
       "      <th>user_input</th>\n",
       "      <th>reference_contexts</th>\n",
       "      <th>reference</th>\n",
       "      <th>synthesizer_name</th>\n",
       "    </tr>\n",
       "  </thead>\n",
       "  <tbody>\n",
       "    <tr>\n",
       "      <th>0</th>\n",
       "      <td>How company use renewable energy in 미국?</td>\n",
       "      <td>[지속가능한 미래를 위한 노력을 계속해 \\n왔습니다. 2050년 탄소중립을 통해 글...</td>\n",
       "      <td>In the DX division aiming for carbon neutralit...</td>\n",
       "      <td>single_hop_specific_query_synthesizer</td>\n",
       "    </tr>\n",
       "    <tr>\n",
       "      <th>1</th>\n",
       "      <td>Could you please explain the role and signific...</td>\n",
       "      <td>[고충의 처리 원칙에 대한 기준을 수립하였고, 공급망 관리에 \\n있어서는 비제조 분...</td>\n",
       "      <td>In March 2023, Samsung Electronics established...</td>\n",
       "      <td>single_hop_specific_query_synthesizer</td>\n",
       "    </tr>\n",
       "    <tr>\n",
       "      <th>2</th>\n",
       "      <td>Can you explane in detail what the 5가지 핵심가치 ar...</td>\n",
       "      <td>[삼성전자 지속가능경영보고서 2024\\n05\\nOur Company Appendix...</td>\n",
       "      <td>Samsung Electronics has established 5가지 핵심가치 (...</td>\n",
       "      <td>single_hop_specific_query_synthesizer</td>\n",
       "    </tr>\n",
       "    <tr>\n",
       "      <th>3</th>\n",
       "      <td>What does DS stand for in Samsung Electronics'...</td>\n",
       "      <td>[Our Company AppendixMateriality Assessment Fa...</td>\n",
       "      <td>In Samsung Electronics, DS stands for Device S...</td>\n",
       "      <td>single_hop_specific_query_synthesizer</td>\n",
       "    </tr>\n",
       "    <tr>\n",
       "      <th>4</th>\n",
       "      <td>How Mobile eXperience business doing in sales ...</td>\n",
       "      <td>[매출\\n169조 9,923억 원\\n영업이익\\n14조 3,847억 원 네트워크\\nM...</td>\n",
       "      <td>The Mobile eXperience business reported sales ...</td>\n",
       "      <td>single_hop_specific_query_synthesizer</td>\n",
       "    </tr>\n",
       "  </tbody>\n",
       "</table>\n",
       "</div>"
      ],
      "text/plain": [
       "                                          user_input  ...                       synthesizer_name\n",
       "0            How company use renewable energy in 미국?  ...  single_hop_specific_query_synthesizer\n",
       "1  Could you please explain the role and signific...  ...  single_hop_specific_query_synthesizer\n",
       "2  Can you explane in detail what the 5가지 핵심가치 ar...  ...  single_hop_specific_query_synthesizer\n",
       "3  What does DS stand for in Samsung Electronics'...  ...  single_hop_specific_query_synthesizer\n",
       "4  How Mobile eXperience business doing in sales ...  ...  single_hop_specific_query_synthesizer\n",
       "\n",
       "[5 rows x 4 columns]"
      ]
     },
     "execution_count": 38,
     "metadata": {},
     "output_type": "execute_result"
    }
   ],
   "source": [
    "dataset_df = dataset.to_pandas()\n",
    "dataset_df.head()"
   ]
  },
  {
   "cell_type": "code",
   "execution_count": 39,
   "id": "54fca7d8",
   "metadata": {},
   "outputs": [],
   "source": [
    "dataset_df.to_excel('report_2024_test.xlsx', index=False)"
   ]
  }
 ],
 "metadata": {
  "kernelspec": {
   "display_name": "langchain-basic",
   "language": "python",
   "name": "python3"
  },
  "language_info": {
   "codemirror_mode": {
    "name": "ipython",
    "version": 3
   },
   "file_extension": ".py",
   "mimetype": "text/x-python",
   "name": "python",
   "nbconvert_exporter": "python",
   "pygments_lexer": "ipython3",
   "version": "3.11.13"
  }
 },
 "nbformat": 4,
 "nbformat_minor": 5
}
