{
 "cells": [
  {
   "cell_type": "markdown",
   "id": "935a1dae",
   "metadata": {},
   "source": [
    "### 0) langchain 기본 의존성 세팅\n",
    "##### uv add langchain langchain-experimental langchain-openai langchain-huggingface langchain-google-genai langchain-chrom"
   ]
  }
 ],
 "metadata": {
  "kernelspec": {
   "display_name": "langchain-basic",
   "language": "python",
   "name": "python3"
  },
  "language_info": {
   "codemirror_mode": {
    "name": "ipython",
    "version": 3
   },
   "file_extension": ".py",
   "mimetype": "text/x-python",
   "name": "python",
   "nbconvert_exporter": "python",
   "pygments_lexer": "ipython3",
   "version": "3.11.13"
  }
 },
 "nbformat": 4,
 "nbformat_minor": 5
}
