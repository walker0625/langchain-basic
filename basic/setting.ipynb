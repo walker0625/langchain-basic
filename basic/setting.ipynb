{
 "cells": [
  {
   "cell_type": "markdown",
   "id": "935a1dae",
   "metadata": {},
   "source": [
    "### 0) langchain 기본 의존성 세팅\n",
    "##### uv add langchain langchain-experimental langchain-openai langchain-huggingface langchain-google-genai langchain-chroma"
   ]
  },
  {
   "cell_type": "markdown",
   "id": "21b2af55",
   "metadata": {},
   "source": [
    "### 1) 랭스미스 설정"
   ]
  },
  {
   "cell_type": "code",
   "execution_count": null,
   "id": "c9445479",
   "metadata": {},
   "outputs": [
    {
     "data": {
      "text/plain": [
       "'LANGCHAIN-BASIC'"
      ]
     },
     "execution_count": 4,
     "metadata": {},
     "output_type": "execute_result"
    }
   ],
   "source": [
    "from dotenv import load_dotenv\n",
    "import os\n",
    "\n",
    "load_dotenv()\n",
    "\n",
    "# project_name = 'LANGCHAIN-BASIC'\n",
    "os.environ[\"LANGSMITH_PROJECT\"] # = project_name "
   ]
  },
  {
   "cell_type": "markdown",
   "id": "9b42a0ac",
   "metadata": {},
   "source": [
    "### 2) llm 연결 확인 "
   ]
  },
  {
   "cell_type": "code",
   "execution_count": null,
   "id": "953b8fbd",
   "metadata": {},
   "outputs": [],
   "source": [
    "from langchain_openai import ChatOpenAI\n",
    "\n",
    "model = ChatOpenAI(\n",
    "    temperature=0.1,\n",
    "    model='gpt-4.1-mini',\n",
    "    verbose=True\n",
    ")"
   ]
  },
  {
   "cell_type": "code",
   "execution_count": 8,
   "id": "39e3bb8c",
   "metadata": {},
   "outputs": [
    {
     "name": "stdout",
     "output_type": "stream",
     "text": [
      "content='LangChain의 가장 중요한 점 3가지는 다음과 같습니다:\\n\\n1. **언어 모델과의 통합 및 확장성**  \\n   LangChain은 다양한 언어 모델(예: OpenAI GPT, Hugging Face 모델 등)과 쉽게 통합할 수 있도록 설계되어 있습니다. 이를 통해 사용자는 자신이 원하는 모델을 선택하고, 필요에 따라 커스텀 파이프라인을 구축할 수 있습니다.\\n\\n2. **체인(Chain) 기반의 모듈화된 워크플로우**  \\n   LangChain은 여러 개의 컴포넌트(예: 프롬프트 템플릿, LLM, 데이터 소스, 후처리기 등)를 연결하는 체인 구조를 제공합니다. 이를 통해 복잡한 작업을 단계별로 나누어 관리하고, 재사용 가능한 모듈로 구성할 수 있어 개발 생산성이 높아집니다.\\n\\n3. **데이터 연결 및 외부 도구 활용**  \\n   LangChain은 문서 검색, 데이터베이스 질의, API 호출 등 외부 데이터 소스와 도구를 쉽게 연결할 수 있는 기능을 제공합니다. 이를 통해 단순한 텍스트 생성뿐 아니라 실제 데이터 기반의 응용 프로그램 개발이 가능해집니다.\\n\\n요약하면, LangChain은 언어 모델 통합, 모듈화된 체인 워크플로우, 그리고 외부 데이터 및 도구와의 연결성을 핵심으로 하는 프레임워크입니다.' additional_kwargs={'refusal': None} response_metadata={'token_usage': {'completion_tokens': 315, 'prompt_tokens': 18, 'total_tokens': 333, 'completion_tokens_details': {'accepted_prediction_tokens': 0, 'audio_tokens': 0, 'reasoning_tokens': 0, 'rejected_prediction_tokens': 0}, 'prompt_tokens_details': {'audio_tokens': 0, 'cached_tokens': 0}}, 'model_name': 'gpt-4.1-mini-2025-04-14', 'system_fingerprint': 'fp_6d7dcc9a98', 'id': 'chatcmpl-CLKAhkiq9umNqwodKmq5rK4F2Cu5n', 'service_tier': 'default', 'finish_reason': 'stop', 'logprobs': None} id='run--4cc93a6c-a896-4ffb-aef3-91fff381f30f-0' usage_metadata={'input_tokens': 18, 'output_tokens': 315, 'total_tokens': 333, 'input_token_details': {'audio': 0, 'cache_read': 0}, 'output_token_details': {'audio': 0, 'reasoning': 0}}\n"
     ]
    }
   ],
   "source": [
    "question = 'langchain의 가장 중요한 점 3가지 알려줘'\n",
    "\n",
    "response = model.invoke(question)\n",
    "print(response)"
   ]
  },
  {
   "cell_type": "code",
   "execution_count": 9,
   "id": "48984793",
   "metadata": {},
   "outputs": [
    {
     "name": "stdout",
     "output_type": "stream",
     "text": [
      "LangChain의 가장 중요한 점 3가지는 다음과 같습니다:\n",
      "\n",
      "1. **언어 모델과의 통합 및 확장성**  \n",
      "   LangChain은 다양한 언어 모델(예: OpenAI GPT, Hugging Face 모델 등)과 쉽게 통합할 수 있도록 설계되어 있습니다. 이를 통해 사용자는 자신이 원하는 모델을 선택하고, 필요에 따라 커스텀 파이프라인을 구축할 수 있습니다.\n",
      "\n",
      "2. **체인(Chain) 기반의 모듈화된 워크플로우**  \n",
      "   LangChain은 여러 개의 컴포넌트(예: 프롬프트 템플릿, LLM, 데이터 소스, 후처리기 등)를 연결하는 체인 구조를 제공합니다. 이를 통해 복잡한 작업을 단계별로 나누어 관리하고, 재사용 가능한 모듈로 구성할 수 있어 개발 생산성이 높아집니다.\n",
      "\n",
      "3. **데이터 연결 및 외부 도구 활용**  \n",
      "   LangChain은 문서 검색, 데이터베이스 질의, API 호출 등 외부 데이터 소스와 도구를 쉽게 연결할 수 있는 기능을 제공합니다. 이를 통해 단순한 텍스트 생성뿐 아니라 실제 데이터 기반의 응용 프로그램 개발이 가능해집니다.\n",
      "\n",
      "요약하면, LangChain은 언어 모델 통합, 모듈화된 체인 워크플로우, 그리고 외부 데이터 및 도구와의 연결성을 핵심으로 하는 프레임워크입니다.\n"
     ]
    }
   ],
   "source": [
    "print(response.content)"
   ]
  },
  {
   "cell_type": "code",
   "execution_count": null,
   "id": "38d25be2",
   "metadata": {},
   "outputs": [
    {
     "data": {
      "text/plain": [
       "{'token_usage': {'completion_tokens': 315,\n",
       "  'prompt_tokens': 18,\n",
       "  'total_tokens': 333,\n",
       "  'completion_tokens_details': {'accepted_prediction_tokens': 0,\n",
       "   'audio_tokens': 0,\n",
       "   'reasoning_tokens': 0,\n",
       "   'rejected_prediction_tokens': 0},\n",
       "  'prompt_tokens_details': {'audio_tokens': 0, 'cached_tokens': 0}},\n",
       " 'model_name': 'gpt-4.1-mini-2025-04-14',\n",
       " 'system_fingerprint': 'fp_6d7dcc9a98',\n",
       " 'id': 'chatcmpl-CLKAhkiq9umNqwodKmq5rK4F2Cu5n',\n",
       " 'service_tier': 'default',\n",
       " 'finish_reason': 'stop',\n",
       " 'logprobs': None}"
      ]
     },
     "execution_count": 12,
     "metadata": {},
     "output_type": "execute_result"
    }
   ],
   "source": [
    "response.response_metadata # print는 dict 출력시에는 지양(한 줄로 출력됨)"
   ]
  },
  {
   "cell_type": "markdown",
   "id": "479af1b7",
   "metadata": {},
   "source": [
    "### 3) 스트리밍 출력 "
   ]
  },
  {
   "cell_type": "code",
   "execution_count": 13,
   "id": "10e6b7cf",
   "metadata": {},
   "outputs": [
    {
     "name": "stdout",
     "output_type": "stream",
     "text": [
      "LangChain의 가장 중요한 점 3가지는 다음과 같습니다:\n",
      "\n",
      "1. **언어 모델과의 통합 및 확장성**  \n",
      "   LangChain은 다양한 언어 모델(예: OpenAI GPT, Hugging Face 모델 등)과 쉽게 통합할 수 있도록 설계되어 있습니다. 이를 통해 사용자는 자신이 원하는 모델을 선택하고, 필요에 따라 커스텀 파이프라인을 구축할 수 있습니다.\n",
      "\n",
      "2. **체인(chain) 기반의 작업 흐름 구성**  \n",
      "   LangChain은 여러 개의 언어 모델 호출이나 데이터 처리 단계를 체인 형태로 연결할 수 있게 해줍니다. 이를 통해 복잡한 작업을 단계별로 나누어 관리하고, 재사용 가능한 모듈로 구성할 수 있어 효율적입니다.\n",
      "\n",
      "3. **데이터 연결 및 외부 도구 활용**  \n",
      "   LangChain은 데이터베이스, 문서 저장소, API 등 외부 데이터 소스와 쉽게 연결할 수 있는 기능을 제공합니다. 또한, 검색, 요약, 질의응답 등 다양한 도구와 결합하여 실용적인 애플리케이션을 개발할 수 있습니다.\n",
      "\n",
      "이 세 가지 특징 덕분에 LangChain은 LLM(대형 언어 모델)을 활용한 애플리케이션 개발에 매우 유용한 프레임워크로 자리잡고 있습니다."
     ]
    }
   ],
   "source": [
    "answer = model.stream(question)\n",
    "\n",
    "for token in answer:\n",
    "    print(token.content, end='', flush=True)"
   ]
  }
 ],
 "metadata": {
  "kernelspec": {
   "display_name": "langchain-basic",
   "language": "python",
   "name": "python3"
  },
  "language_info": {
   "codemirror_mode": {
    "name": "ipython",
    "version": 3
   },
   "file_extension": ".py",
   "mimetype": "text/x-python",
   "name": "python",
   "nbconvert_exporter": "python",
   "pygments_lexer": "ipython3",
   "version": "3.11.13"
  }
 },
 "nbformat": 4,
 "nbformat_minor": 5
}
