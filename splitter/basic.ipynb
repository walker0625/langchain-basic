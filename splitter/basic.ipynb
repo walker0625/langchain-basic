{
 "cells": [
  {
   "cell_type": "markdown",
   "id": "0073ed5d",
   "metadata": {},
   "source": [
    "# Splitter"
   ]
  },
  {
   "cell_type": "code",
   "execution_count": 11,
   "id": "37d7ca31",
   "metadata": {},
   "outputs": [],
   "source": [
    "from langchain_community.document_loaders import PyMuPDFLoader\n",
    "from langchain_core.documents import Document\n",
    "from langchain_text_splitters import CharacterTextSplitter, RecursiveCharacterTextSplitter, TokenTextSplitter"
   ]
  },
  {
   "cell_type": "code",
   "execution_count": 12,
   "id": "a783b6de",
   "metadata": {},
   "outputs": [
    {
     "data": {
      "text/plain": [
       "'A Journey Towards  \\na Sustainable Future\\n삼성전자 지속가능경영보고서 2024'"
      ]
     },
     "execution_count": 12,
     "metadata": {},
     "output_type": "execute_result"
    }
   ],
   "source": [
    "file_path = '../data/Sustainability_report_2024_kr.pdf'\n",
    "\n",
    "loader = PyMuPDFLoader(file_path)\n",
    "docs = loader.load()\n",
    "docs[0].page_content"
   ]
  },
  {
   "cell_type": "code",
   "execution_count": 13,
   "id": "a3b3cbf5",
   "metadata": {},
   "outputs": [
    {
     "data": {
      "text/plain": [
       "['gpt2',\n",
       " 'r50k_base',\n",
       " 'p50k_base',\n",
       " 'p50k_edit',\n",
       " 'cl100k_base',\n",
       " 'o200k_base',\n",
       " 'o200k_harmony']"
      ]
     },
     "execution_count": 13,
     "metadata": {},
     "output_type": "execute_result"
    }
   ],
   "source": [
    "import tiktoken\n",
    "\n",
    "tiktoken.list_encoding_names() # o200k_base 대부분은 이 기준"
   ]
  },
  {
   "cell_type": "code",
   "execution_count": 14,
   "id": "9a59405d",
   "metadata": {},
   "outputs": [],
   "source": [
    "encoding = tiktoken.encoding_for_model(\"gpt-4.1-mini\")"
   ]
  },
  {
   "cell_type": "code",
   "execution_count": 15,
   "id": "67b6e2e6",
   "metadata": {},
   "outputs": [
    {
     "data": {
      "text/plain": [
       "[14307, 171731, 13, 35007, 114614, 12020, 13]"
      ]
     },
     "execution_count": 15,
     "metadata": {},
     "output_type": "execute_result"
    }
   ],
   "source": [
    "text = '안녕하세요. 반갑습니다.'\n",
    "encoding.encode(text)"
   ]
  },
  {
   "cell_type": "code",
   "execution_count": 16,
   "id": "ff64995e",
   "metadata": {},
   "outputs": [],
   "source": [
    "char_splitter = CharacterTextSplitter(\n",
    "    chunk_size = 1000,\n",
    "    chunk_overlap = 100\n",
    ")\n",
    "\n",
    "recursive_splitter = RecursiveCharacterTextSplitter(\n",
    "    chunk_size = 1000,\n",
    "    chunk_overlap = 100\n",
    ")\n",
    "\n",
    "token_splitter = TokenTextSplitter(\n",
    "    chunk_size = 1000,\n",
    "    chunk_overlap = 100\n",
    ")"
   ]
  }
 ],
 "metadata": {
  "kernelspec": {
   "display_name": "langchain-basic",
   "language": "python",
   "name": "python3"
  },
  "language_info": {
   "codemirror_mode": {
    "name": "ipython",
    "version": 3
   },
   "file_extension": ".py",
   "mimetype": "text/x-python",
   "name": "python",
   "nbconvert_exporter": "python",
   "pygments_lexer": "ipython3",
   "version": "3.11.13"
  }
 },
 "nbformat": 4,
 "nbformat_minor": 5
}
