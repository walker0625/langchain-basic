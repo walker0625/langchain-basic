{
 "cells": [
  {
   "cell_type": "markdown",
   "id": "671f95fe",
   "metadata": {},
   "source": [
    "# Faiss"
   ]
  },
  {
   "cell_type": "markdown",
   "id": "c4bbcc0e",
   "metadata": {},
   "source": [
    "## 0. PDF 로드"
   ]
  },
  {
   "cell_type": "code",
   "execution_count": 7,
   "id": "894610c2",
   "metadata": {},
   "outputs": [
    {
     "data": {
      "text/plain": [
       "True"
      ]
     },
     "execution_count": 7,
     "metadata": {},
     "output_type": "execute_result"
    }
   ],
   "source": [
    "from dotenv import load_dotenv\n",
    "\n",
    "load_dotenv()"
   ]
  },
  {
   "cell_type": "code",
   "execution_count": 8,
   "id": "8e2cd67a",
   "metadata": {},
   "outputs": [
    {
     "data": {
      "text/plain": [
       "87"
      ]
     },
     "execution_count": 8,
     "metadata": {},
     "output_type": "execute_result"
    }
   ],
   "source": [
    "from langchain_community.document_loaders import PyPDFLoader\n",
    "\n",
    "pdf_docs = PyPDFLoader(\"../data/Samsung_Electronics_Sustainability_Report_2025_KOR.pdf\").load()\n",
    "len(pdf_docs)"
   ]
  },
  {
   "cell_type": "code",
   "execution_count": 6,
   "id": "7b52bbf6",
   "metadata": {},
   "outputs": [
    {
     "data": {
      "text/plain": [
       "237"
      ]
     },
     "execution_count": 6,
     "metadata": {},
     "output_type": "execute_result"
    }
   ],
   "source": [
    "from langchain_text_splitters import RecursiveCharacterTextSplitter\n",
    "\n",
    "rec_splitter = RecursiveCharacterTextSplitter(chunk_size=1000, chunk_overlap=100)\n",
    "docs = rec_splitter.split_documents(pdf_docs)\n",
    "len(docs)"
   ]
  },
  {
   "cell_type": "code",
   "execution_count": 24,
   "id": "f59d3ee5",
   "metadata": {},
   "outputs": [],
   "source": [
    "# 메타데이터에 태그 추가\n",
    "for item in docs:\n",
    "    item.metadata = {**(item.metadata), 'class' : 'wanted'}"
   ]
  },
  {
   "cell_type": "code",
   "execution_count": 13,
   "id": "3563e987",
   "metadata": {},
   "outputs": [],
   "source": [
    "for doc in docs:\n",
    "    doc.metadata['from'] = 'wanted'"
   ]
  },
  {
   "cell_type": "code",
   "execution_count": 16,
   "id": "840dddba",
   "metadata": {},
   "outputs": [
    {
     "name": "stdout",
     "output_type": "stream",
     "text": [
      "wanted\n"
     ]
    },
    {
     "data": {
      "text/plain": [
       "'wanted'"
      ]
     },
     "execution_count": 16,
     "metadata": {},
     "output_type": "execute_result"
    }
   ],
   "source": [
    "print(docs[0].metadata['class'])\n",
    "docs[0].metadata['from']"
   ]
  },
  {
   "cell_type": "markdown",
   "id": "e286bfc4",
   "metadata": {},
   "source": [
    "## 1. Faiss 벡터 DB 생성"
   ]
  },
  {
   "cell_type": "code",
   "execution_count": 23,
   "id": "96e10e4f",
   "metadata": {},
   "outputs": [
    {
     "name": "stdout",
     "output_type": "stream",
     "text": [
      "3072\n"
     ]
    }
   ],
   "source": [
    "from langchain_openai.embeddings import OpenAIEmbeddings\n",
    "\n",
    "embeddings = OpenAIEmbeddings(model='text-embedding-3-large')\n",
    "\n",
    "dim_size = len(embeddings.embed_query('test'))\n",
    "print(dim_size) # large 모델 차원수 확인"
   ]
  },
  {
   "cell_type": "code",
   "execution_count": 30,
   "id": "ee7f728e",
   "metadata": {},
   "outputs": [],
   "source": [
    "import faiss\n",
    "from langchain_community.vectorstores import FAISS\n",
    "from langchain_community.docstore.in_memory import InMemoryDocstore\n",
    "\n",
    "db = FAISS.from_documents(\n",
    "    documents=[docs[0]],\n",
    "    embedding=embeddings,\n",
    "    #ids=['test1']\n",
    ")"
   ]
  },
  {
   "cell_type": "code",
   "execution_count": 34,
   "id": "a2d3e389",
   "metadata": {},
   "outputs": [
    {
     "data": {
      "text/plain": [
       "{'72545224-4687-4898-8309-b6e5279e7b69': Document(id='72545224-4687-4898-8309-b6e5279e7b69', metadata={'producer': 'Adobe PDF Library 15.0', 'creator': 'Adobe InDesign 15.1 (Macintosh)', 'creationdate': '2025-07-10T16:11:16+09:00', 'moddate': '2025-09-04T16:51:11+09:00', 'trapped': '/False', 'source': '../data/Samsung_Electronics_Sustainability_Report_2025_KOR.pdf', 'total_pages': 87, 'page': 0, 'page_label': '1', 'class': 'wanted', 'from': 'wanted'}, page_content='삼성전자 지속가능경영보고서 2025\\nA Journey  Towards \\n a Sustainable Future\\nA Journey  Towards\\n a Sustainable Future')}"
      ]
     },
     "execution_count": 34,
     "metadata": {},
     "output_type": "execute_result"
    }
   ],
   "source": [
    "db.docstore.__dict__['_dict']"
   ]
  },
  {
   "cell_type": "code",
   "execution_count": 31,
   "id": "54f06ebe",
   "metadata": {},
   "outputs": [
    {
     "data": {
      "text/plain": [
       "{0: '72545224-4687-4898-8309-b6e5279e7b69'}"
      ]
     },
     "execution_count": 31,
     "metadata": {},
     "output_type": "execute_result"
    }
   ],
   "source": [
    "db.index_to_docstore_id"
   ]
  },
  {
   "cell_type": "code",
   "execution_count": 32,
   "id": "725e78cc",
   "metadata": {},
   "outputs": [
    {
     "data": {
      "text/plain": [
       "[Document(id='72545224-4687-4898-8309-b6e5279e7b69', metadata={'producer': 'Adobe PDF Library 15.0', 'creator': 'Adobe InDesign 15.1 (Macintosh)', 'creationdate': '2025-07-10T16:11:16+09:00', 'moddate': '2025-09-04T16:51:11+09:00', 'trapped': '/False', 'source': '../data/Samsung_Electronics_Sustainability_Report_2025_KOR.pdf', 'total_pages': 87, 'page': 0, 'page_label': '1', 'class': 'wanted', 'from': 'wanted'}, page_content='삼성전자 지속가능경영보고서 2025\\nA Journey  Towards \\n a Sustainable Future\\nA Journey  Towards\\n a Sustainable Future')]"
      ]
     },
     "execution_count": 32,
     "metadata": {},
     "output_type": "execute_result"
    }
   ],
   "source": [
    "db.similarity_search('삼성', k=3)"
   ]
  },
  {
   "cell_type": "code",
   "execution_count": 39,
   "id": "0b1604bf",
   "metadata": {},
   "outputs": [],
   "source": [
    "vectorstore_db_path = '../vectorstore/samsung_2025_faiss'\n",
    "index_name = 'samsung_2025'\n",
    "\n",
    "db.save_local(\n",
    "    folder_path = vectorstore_db_path,\n",
    "    index_name = index_name\n",
    ")"
   ]
  },
  {
   "cell_type": "code",
   "execution_count": null,
   "id": "e345f47b",
   "metadata": {},
   "outputs": [],
   "source": [
    "load_db = FAISS.load_local(\n",
    "    folder_path = vectorstore_db_path,\n",
    "    index_name = index_name,\n",
    "    embeddings=embeddings,\n",
    "    allow_dangerous_deserialization=True # pickle 파일 보안 문제 처리\n",
    ")"
   ]
  },
  {
   "cell_type": "code",
   "execution_count": 44,
   "id": "d9830e22",
   "metadata": {},
   "outputs": [
    {
     "data": {
      "text/plain": [
       "{'72545224-4687-4898-8309-b6e5279e7b69': Document(id='72545224-4687-4898-8309-b6e5279e7b69', metadata={'producer': 'Adobe PDF Library 15.0', 'creator': 'Adobe InDesign 15.1 (Macintosh)', 'creationdate': '2025-07-10T16:11:16+09:00', 'moddate': '2025-09-04T16:51:11+09:00', 'trapped': '/False', 'source': '../data/Samsung_Electronics_Sustainability_Report_2025_KOR.pdf', 'total_pages': 87, 'page': 0, 'page_label': '1', 'class': 'wanted', 'from': 'wanted'}, page_content='삼성전자 지속가능경영보고서 2025\\nA Journey  Towards \\n a Sustainable Future\\nA Journey  Towards\\n a Sustainable Future')}"
      ]
     },
     "execution_count": 44,
     "metadata": {},
     "output_type": "execute_result"
    }
   ],
   "source": [
    "load_db.docstore.__dict__['_dict']"
   ]
  },
  {
   "cell_type": "markdown",
   "id": "865dd8cc",
   "metadata": {},
   "source": [
    "## 2. 문서 추가하기"
   ]
  },
  {
   "cell_type": "code",
   "execution_count": 46,
   "id": "5260fdbb",
   "metadata": {},
   "outputs": [
    {
     "data": {
      "text/plain": [
       "['c1cb029e-0b28-4c40-afb4-bbf543931500',\n",
       " 'aa385dcf-2375-40b7-a0e7-62ed2e232e00',\n",
       " '6b0e4093-ed6d-48d8-8a21-691e3e62a112',\n",
       " '2f507c56-e185-4b2b-97a2-0a1b24b2271a',\n",
       " 'f6ca170b-c784-4d9a-b76a-877b66dc9e7f',\n",
       " 'c7448971-7d5c-45fb-b460-5d9fcfb588f9',\n",
       " '3d8c8c42-e53c-4a8e-90d1-6624406294f0',\n",
       " '7b1beacf-9885-4d44-8c65-5846dce482df',\n",
       " '1d637425-7741-4ce2-84db-bb2ab2117fa8']"
      ]
     },
     "execution_count": 46,
     "metadata": {},
     "output_type": "execute_result"
    }
   ],
   "source": [
    "load_db.add_documents(\n",
    "    docs[1:10]\n",
    ")"
   ]
  },
  {
   "cell_type": "code",
   "execution_count": 47,
   "id": "1c835e18",
   "metadata": {},
   "outputs": [
    {
     "data": {
      "text/plain": [
       "{0: '72545224-4687-4898-8309-b6e5279e7b69',\n",
       " 1: 'c1cb029e-0b28-4c40-afb4-bbf543931500',\n",
       " 2: 'aa385dcf-2375-40b7-a0e7-62ed2e232e00',\n",
       " 3: '6b0e4093-ed6d-48d8-8a21-691e3e62a112',\n",
       " 4: '2f507c56-e185-4b2b-97a2-0a1b24b2271a',\n",
       " 5: 'f6ca170b-c784-4d9a-b76a-877b66dc9e7f',\n",
       " 6: 'c7448971-7d5c-45fb-b460-5d9fcfb588f9',\n",
       " 7: '3d8c8c42-e53c-4a8e-90d1-6624406294f0',\n",
       " 8: '7b1beacf-9885-4d44-8c65-5846dce482df',\n",
       " 9: '1d637425-7741-4ce2-84db-bb2ab2117fa8'}"
      ]
     },
     "execution_count": 47,
     "metadata": {},
     "output_type": "execute_result"
    }
   ],
   "source": [
    "load_db.index_to_docstore_id"
   ]
  },
  {
   "cell_type": "code",
   "execution_count": 51,
   "id": "252e7861",
   "metadata": {},
   "outputs": [],
   "source": [
    "# 불러온 db를 다시 저장해야 갱신된 db가 파일로 저장됨\n",
    "vectorstore_db_path = '../vectorstore/samsung_2025_faiss'\n",
    "index_name = 'samsung_2025'\n",
    "\n",
    "load_db.save_local(\n",
    "    folder_path = vectorstore_db_path,\n",
    "    index_name = index_name\n",
    ")"
   ]
  },
  {
   "cell_type": "code",
   "execution_count": 52,
   "id": "d505b59c",
   "metadata": {},
   "outputs": [
    {
     "data": {
      "text/plain": [
       "{0: '72545224-4687-4898-8309-b6e5279e7b69',\n",
       " 1: 'c1cb029e-0b28-4c40-afb4-bbf543931500',\n",
       " 2: 'aa385dcf-2375-40b7-a0e7-62ed2e232e00',\n",
       " 3: '6b0e4093-ed6d-48d8-8a21-691e3e62a112',\n",
       " 4: '2f507c56-e185-4b2b-97a2-0a1b24b2271a',\n",
       " 5: 'f6ca170b-c784-4d9a-b76a-877b66dc9e7f',\n",
       " 6: 'c7448971-7d5c-45fb-b460-5d9fcfb588f9',\n",
       " 7: '3d8c8c42-e53c-4a8e-90d1-6624406294f0',\n",
       " 8: '7b1beacf-9885-4d44-8c65-5846dce482df',\n",
       " 9: '1d637425-7741-4ce2-84db-bb2ab2117fa8'}"
      ]
     },
     "execution_count": 52,
     "metadata": {},
     "output_type": "execute_result"
    }
   ],
   "source": [
    "update_db = FAISS.load_local(\n",
    "    folder_path = vectorstore_db_path,\n",
    "    index_name = index_name,\n",
    "    embeddings=embeddings,\n",
    "    allow_dangerous_deserialization=True # pickle 파일 보안 문제 처리\n",
    ")\n",
    "\n",
    "load_db.index_to_docstore_id"
   ]
  },
  {
   "cell_type": "code",
   "execution_count": 54,
   "id": "f1ccaec8",
   "metadata": {},
   "outputs": [
    {
     "data": {
      "text/plain": [
       "{0: '72545224-4687-4898-8309-b6e5279e7b69',\n",
       " 1: 'c1cb029e-0b28-4c40-afb4-bbf543931500',\n",
       " 2: 'aa385dcf-2375-40b7-a0e7-62ed2e232e00',\n",
       " 3: '6b0e4093-ed6d-48d8-8a21-691e3e62a112',\n",
       " 4: '2f507c56-e185-4b2b-97a2-0a1b24b2271a',\n",
       " 5: 'f6ca170b-c784-4d9a-b76a-877b66dc9e7f',\n",
       " 6: 'c7448971-7d5c-45fb-b460-5d9fcfb588f9',\n",
       " 7: '3d8c8c42-e53c-4a8e-90d1-6624406294f0',\n",
       " 8: '7b1beacf-9885-4d44-8c65-5846dce482df',\n",
       " 9: '1d637425-7741-4ce2-84db-bb2ab2117fa8',\n",
       " 10: '33d2498d-fb0a-47e4-8104-7111adec708f',\n",
       " 11: '16569fce-cac7-45e1-bcb7-377529ab913f',\n",
       " 12: '053fa5ad-a44a-4787-8fe9-6cd195302f19',\n",
       " 13: '88002f0f-e99a-4ab8-9ec7-f63bf60d8fab'}"
      ]
     },
     "execution_count": 54,
     "metadata": {},
     "output_type": "execute_result"
    }
   ],
   "source": [
    "from langchain_core.documents import Document\n",
    "\n",
    "update_db.add_documents(\n",
    "    [\n",
    "        Document(\n",
    "            page_content='dummy data1',\n",
    "            metadata={'source' : 'manual', 'class': 'wanted', 'from': 'wanted'}\n",
    "        ),\n",
    "        Document(\n",
    "            page_content='dummy data2',\n",
    "            metadata={'source' : 'manual', 'class': 'wanted', 'from': 'wanted'}\n",
    "        )\n",
    "    ]\n",
    ")\n",
    "\n",
    "update_db.index_to_docstore_id"
   ]
  },
  {
   "cell_type": "code",
   "execution_count": 59,
   "id": "60149321",
   "metadata": {},
   "outputs": [
    {
     "data": {
      "text/plain": [
       "True"
      ]
     },
     "execution_count": 59,
     "metadata": {},
     "output_type": "execute_result"
    }
   ],
   "source": [
    "update_db.delete(['053fa5ad-a44a-4787-8fe9-6cd195302f19'])"
   ]
  },
  {
   "cell_type": "code",
   "execution_count": 60,
   "id": "4c3a364c",
   "metadata": {},
   "outputs": [
    {
     "data": {
      "text/plain": [
       "{0: '72545224-4687-4898-8309-b6e5279e7b69',\n",
       " 1: 'c1cb029e-0b28-4c40-afb4-bbf543931500',\n",
       " 2: 'aa385dcf-2375-40b7-a0e7-62ed2e232e00',\n",
       " 3: '6b0e4093-ed6d-48d8-8a21-691e3e62a112',\n",
       " 4: '2f507c56-e185-4b2b-97a2-0a1b24b2271a',\n",
       " 5: 'f6ca170b-c784-4d9a-b76a-877b66dc9e7f',\n",
       " 6: 'c7448971-7d5c-45fb-b460-5d9fcfb588f9',\n",
       " 7: '3d8c8c42-e53c-4a8e-90d1-6624406294f0',\n",
       " 8: '7b1beacf-9885-4d44-8c65-5846dce482df',\n",
       " 9: '1d637425-7741-4ce2-84db-bb2ab2117fa8',\n",
       " 10: '33d2498d-fb0a-47e4-8104-7111adec708f',\n",
       " 11: '16569fce-cac7-45e1-bcb7-377529ab913f'}"
      ]
     },
     "execution_count": 60,
     "metadata": {},
     "output_type": "execute_result"
    }
   ],
   "source": [
    "update_db.index_to_docstore_id"
   ]
  },
  {
   "cell_type": "code",
   "execution_count": 61,
   "id": "ae12e4e3",
   "metadata": {},
   "outputs": [
    {
     "data": {
      "text/plain": [
       "[Document(id='33d2498d-fb0a-47e4-8104-7111adec708f', metadata={'source': 'manual', 'class': 'wanted', 'from': 'wanted'}, page_content='dummy data1'),\n",
       " Document(id='16569fce-cac7-45e1-bcb7-377529ab913f', metadata={'source': 'manual', 'class': 'wanted', 'from': 'wanted'}, page_content='dummy data2')]"
      ]
     },
     "execution_count": 61,
     "metadata": {},
     "output_type": "execute_result"
    }
   ],
   "source": [
    "update_db.similarity_search('dummy data1', k=2)"
   ]
  },
  {
   "cell_type": "markdown",
   "id": "f0b42342",
   "metadata": {},
   "source": [
    "## 3. 벡터 스토어 합치기"
   ]
  },
  {
   "cell_type": "code",
   "execution_count": null,
   "id": "5246407c",
   "metadata": {},
   "outputs": [],
   "source": [
    "# 삼성 2024 데이터 10개 -> db1\n",
    "# 삼성 2024 데이터 10개(11~20) -> db2\n",
    "# 두개 통합하여 -> db3"
   ]
  },
  {
   "cell_type": "code",
   "execution_count": 63,
   "id": "e2a8d27c",
   "metadata": {},
   "outputs": [],
   "source": [
    "db1 = FAISS.from_documents(\n",
    "    docs[:10],\n",
    "    embedding=embeddings\n",
    ")\n",
    "\n",
    "db2 = FAISS.from_documents(\n",
    "    docs[10:20],\n",
    "    embedding=embeddings\n",
    ")"
   ]
  },
  {
   "cell_type": "code",
   "execution_count": null,
   "id": "15831eb6",
   "metadata": {},
   "outputs": [
    {
     "data": {
      "text/plain": [
       "{0: 'ec9d1699-5388-4ba3-a5a8-84885edc3a41',\n",
       " 1: '4140598b-d930-4e92-9f7b-799cec2b63bc',\n",
       " 2: 'd3652d06-8e0a-49e3-a08a-3a0a935948eb',\n",
       " 3: 'fbbd6ef8-cc26-4dd4-ae13-bb06ba8d0b16',\n",
       " 4: '62df1517-eb94-48e2-be13-c38354f1ed2a',\n",
       " 5: '31c42602-0d71-4314-97fa-3c12fb4b307a',\n",
       " 6: 'c9f41dbd-cdc1-48c6-b3cd-7afb628de3a8',\n",
       " 7: '1f8e2bf2-a7f8-4032-8705-ef80ecf9d68f',\n",
       " 8: '2a9726b5-b13b-47a3-aa64-059f657f5cc9',\n",
       " 9: 'a1dcbefe-1055-468b-bae3-26210e4f2382',\n",
       " 10: 'e4ad4948-3321-4f4d-9228-c8a44e944fc3',\n",
       " 11: '9fb9b3c3-9967-49f7-ba4c-dd325de33d1c',\n",
       " 12: 'c618697a-daee-468c-852d-9f07bc4278d4',\n",
       " 13: '95e68434-112e-413d-ac34-2244292de39f',\n",
       " 14: '17200ed6-745d-40cd-8384-e6a99e71e77b',\n",
       " 15: '7b7b07cc-b7be-4478-beb5-069cde01ed5d',\n",
       " 16: '987fb6c3-4351-4e36-ac51-8598a962e59f',\n",
       " 17: '834f9da2-22f2-4f92-a41e-54fec0a43a47',\n",
       " 18: '64e1ad7b-b2c0-46c2-8013-570bff848946',\n",
       " 19: 'a357675b-3799-44ab-a8ea-84a13235b2d5'}"
      ]
     },
     "execution_count": 70,
     "metadata": {},
     "output_type": "execute_result"
    }
   ],
   "source": [
    "# 1. 새로운 공간에 빈 통합 db 생성(db3)\n",
    "db3 = FAISS(\n",
    "    docstore=InMemoryDocstore(),\n",
    "    index_to_docstore_id={},\n",
    "    embedding_function=embeddings,\n",
    "    index=faiss.IndexFlatL2(dim_size) # 임베딩 차원 3072\n",
    ")\n",
    "\n",
    "# key를 주의해서 합쳐야 함\n",
    "# samsung2025::ec9d1699-5388-4ba3-a5a8-84885edc3a41\n",
    "db3.merge_from(\n",
    "    target=db1\n",
    ")\n",
    "\n",
    "db3.merge_from(\n",
    "    target=db2\n",
    ")\n",
    "\n",
    "db3.index_to_docstore_id \n",
    "\n",
    "# 2. db1에 db2 병합\n",
    "# db1.merge_from(\n",
    "#     target=db2\n",
    "# )"
   ]
  }
 ],
 "metadata": {
  "kernelspec": {
   "display_name": "langchain-basic",
   "language": "python",
   "name": "python3"
  },
  "language_info": {
   "codemirror_mode": {
    "name": "ipython",
    "version": 3
   },
   "file_extension": ".py",
   "mimetype": "text/x-python",
   "name": "python",
   "nbconvert_exporter": "python",
   "pygments_lexer": "ipython3",
   "version": "3.11.13"
  }
 },
 "nbformat": 4,
 "nbformat_minor": 5
}
