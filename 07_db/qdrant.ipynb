{
 "cells": [
  {
   "cell_type": "markdown",
   "id": "671f95fe",
   "metadata": {},
   "source": [
    "# Faiss"
   ]
  },
  {
   "cell_type": "code",
   "execution_count": null,
   "id": "520fa251",
   "metadata": {},
   "outputs": [],
   "source": [
    "# docker run -d --name qdrant -p 6333:6333 -p 6334:6334 qdrant/qdrant"
   ]
  },
  {
   "cell_type": "markdown",
   "id": "c4bbcc0e",
   "metadata": {},
   "source": [
    "## 0. PDF 로드"
   ]
  },
  {
   "cell_type": "code",
   "execution_count": 1,
   "id": "894610c2",
   "metadata": {},
   "outputs": [
    {
     "data": {
      "text/plain": [
       "True"
      ]
     },
     "execution_count": 1,
     "metadata": {},
     "output_type": "execute_result"
    }
   ],
   "source": [
    "from dotenv import load_dotenv\n",
    "\n",
    "load_dotenv()"
   ]
  },
  {
   "cell_type": "code",
   "execution_count": 2,
   "id": "8e2cd67a",
   "metadata": {},
   "outputs": [
    {
     "data": {
      "text/plain": [
       "87"
      ]
     },
     "execution_count": 2,
     "metadata": {},
     "output_type": "execute_result"
    }
   ],
   "source": [
    "from langchain_community.document_loaders import PyPDFLoader\n",
    "\n",
    "pdf_docs = PyPDFLoader(\"../data/Samsung_Electronics_Sustainability_Report_2025_KOR.pdf\").load()\n",
    "len(pdf_docs)"
   ]
  },
  {
   "cell_type": "code",
   "execution_count": 3,
   "id": "7b52bbf6",
   "metadata": {},
   "outputs": [
    {
     "data": {
      "text/plain": [
       "237"
      ]
     },
     "execution_count": 3,
     "metadata": {},
     "output_type": "execute_result"
    }
   ],
   "source": [
    "from langchain_text_splitters import RecursiveCharacterTextSplitter\n",
    "\n",
    "rec_splitter = RecursiveCharacterTextSplitter(chunk_size=1000, chunk_overlap=100)\n",
    "docs = rec_splitter.split_documents(pdf_docs)\n",
    "len(docs)"
   ]
  },
  {
   "cell_type": "code",
   "execution_count": 5,
   "id": "3563e987",
   "metadata": {},
   "outputs": [
    {
     "data": {
      "text/plain": [
       "'wanted'"
      ]
     },
     "execution_count": 5,
     "metadata": {},
     "output_type": "execute_result"
    }
   ],
   "source": [
    "for doc in docs:\n",
    "    doc.metadata['from'] = 'wanted'\n",
    "    \n",
    "docs[0].metadata['from']"
   ]
  },
  {
   "cell_type": "markdown",
   "id": "e286bfc4",
   "metadata": {},
   "source": [
    "## 1. Qdrant 벡터 DB 생성"
   ]
  },
  {
   "cell_type": "code",
   "execution_count": 6,
   "id": "96e10e4f",
   "metadata": {},
   "outputs": [
    {
     "name": "stdout",
     "output_type": "stream",
     "text": [
      "3072\n"
     ]
    }
   ],
   "source": [
    "from langchain_openai.embeddings import OpenAIEmbeddings\n",
    "\n",
    "embeddings = OpenAIEmbeddings(model='text-embedding-3-large')\n",
    "\n",
    "dim_size = len(embeddings.embed_query('test'))\n",
    "print(dim_size) # large 모델 차원수 확인"
   ]
  },
  {
   "cell_type": "code",
   "execution_count": 17,
   "id": "a6aaddc8",
   "metadata": {},
   "outputs": [
    {
     "name": "stdout",
     "output_type": "stream",
     "text": [
      "collections=[CollectionDescription(name='kpop_demon_hunters'), CollectionDescription(name='ee6f42f0c8e7492192a74de39587507d'), CollectionDescription(name='qdrant_test')]\n"
     ]
    }
   ],
   "source": [
    "from qdrant_client import QdrantClient\n",
    "\n",
    "# Qdrant 서버 접속\n",
    "client = QdrantClient(url=\"http://localhost:6333\")\n",
    "\n",
    "# 서버 정상 동작 확인\n",
    "print(client.get_collections())"
   ]
  },
  {
   "cell_type": "code",
   "execution_count": 16,
   "id": "ee7f728e",
   "metadata": {},
   "outputs": [],
   "source": [
    "from langchain_community.vectorstores import Qdrant\n",
    "from langchain_community.docstore.in_memory import InMemoryDocstore\n",
    "\n",
    "db = Qdrant.from_documents(\n",
    "    documents=[docs[0]],\n",
    "    embedding=embeddings,\n",
    "    collection_name='qdrant_test',\n",
    "    #ids=['test1']\n",
    ")"
   ]
  },
  {
   "cell_type": "code",
   "execution_count": 18,
   "id": "725e78cc",
   "metadata": {},
   "outputs": [
    {
     "data": {
      "text/plain": [
       "[Document(metadata={'producer': 'Adobe PDF Library 15.0', 'creator': 'Adobe InDesign 15.1 (Macintosh)', 'creationdate': '2025-07-10T16:11:16+09:00', 'moddate': '2025-09-04T16:51:11+09:00', 'trapped': '/False', 'source': '../data/Samsung_Electronics_Sustainability_Report_2025_KOR.pdf', 'total_pages': 87, 'page': 0, 'page_label': '1', 'from': 'wanted', '_id': 'abad4ae4-55cc-422d-9e80-3a05cdadee12', '_collection_name': 'qdrant_test'}, page_content='삼성전자 지속가능경영보고서 2025\\nA Journey  Towards \\n a Sustainable Future\\nA Journey  Towards\\n a Sustainable Future')]"
      ]
     },
     "execution_count": 18,
     "metadata": {},
     "output_type": "execute_result"
    }
   ],
   "source": [
    "db.similarity_search('삼성', k=3)"
   ]
  },
  {
   "cell_type": "code",
   "execution_count": 20,
   "id": "8573bf22",
   "metadata": {},
   "outputs": [
    {
     "data": {
      "text/plain": [
       "[Document(metadata={'producer': 'Adobe PDF Library 15.0', 'creator': 'Adobe InDesign 15.1 (Macintosh)', 'creationdate': '2025-07-10T16:11:16+09:00', 'moddate': '2025-09-04T16:51:11+09:00', 'trapped': '/False', 'source': '../data/Samsung_Electronics_Sustainability_Report_2025_KOR.pdf', 'total_pages': 87, 'page': 0, 'page_label': '1', 'from': 'wanted', '_id': 'abad4ae4-55cc-422d-9e80-3a05cdadee12', '_collection_name': 'qdrant_test'}, page_content='삼성전자 지속가능경영보고서 2025\\nA Journey  Towards \\n a Sustainable Future\\nA Journey  Towards\\n a Sustainable Future')]"
      ]
     },
     "execution_count": 20,
     "metadata": {},
     "output_type": "execute_result"
    }
   ],
   "source": [
    "db.as_retriever().invoke('삼성', k=3)"
   ]
  }
 ],
 "metadata": {
  "kernelspec": {
   "display_name": "langchain-basic",
   "language": "python",
   "name": "python3"
  },
  "language_info": {
   "codemirror_mode": {
    "name": "ipython",
    "version": 3
   },
   "file_extension": ".py",
   "mimetype": "text/x-python",
   "name": "python",
   "nbconvert_exporter": "python",
   "pygments_lexer": "ipython3",
   "version": "3.11.13"
  }
 },
 "nbformat": 4,
 "nbformat_minor": 5
}
