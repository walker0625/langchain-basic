{
 "cells": [
  {
   "cell_type": "markdown",
   "id": "1524b0e0",
   "metadata": {},
   "source": [
    "# Chroma"
   ]
  },
  {
   "cell_type": "markdown",
   "id": "99c1972e",
   "metadata": {},
   "source": [
    "## 1. Chroma + Ensemble retrieve"
   ]
  },
  {
   "cell_type": "code",
   "execution_count": 1,
   "id": "08bb88bb",
   "metadata": {},
   "outputs": [],
   "source": [
    "from langchain_chroma import Chroma\n",
    "from langchain.retrievers import EnsembleRetriever\n",
    "from langchain_openai import OpenAIEmbeddings\n",
    "from langchain_community.document_loaders import PyPDFLoader"
   ]
  },
  {
   "cell_type": "code",
   "execution_count": 2,
   "id": "3ddcae12",
   "metadata": {},
   "outputs": [],
   "source": [
    "emb = OpenAIEmbeddings(model='text-embedding-3-small')"
   ]
  },
  {
   "cell_type": "code",
   "execution_count": 3,
   "id": "cfca5bb0",
   "metadata": {},
   "outputs": [],
   "source": [
    "samsung_vision_2024_path = '../data/Sustainability_report_2024_kr.pdf'\n",
    "samsung_vision_2025_path = '../data/Samsung_Electronics_Sustainability_Report_2025_KOR.pdf'\n",
    "\n",
    "docs_2024 = PyPDFLoader(samsung_vision_2024_path).load()\n",
    "docs_2025 = PyPDFLoader(samsung_vision_2025_path).load()"
   ]
  },
  {
   "cell_type": "code",
   "execution_count": 4,
   "id": "e9340793",
   "metadata": {},
   "outputs": [
    {
     "name": "stdout",
     "output_type": "stream",
     "text": [
      "83\n",
      "87\n"
     ]
    }
   ],
   "source": [
    "print(len(docs_2024))\n",
    "print(len(docs_2025))"
   ]
  },
  {
   "cell_type": "code",
   "execution_count": 6,
   "id": "40287b7e",
   "metadata": {},
   "outputs": [
    {
     "name": "stdout",
     "output_type": "stream",
     "text": [
      "207\n",
      "237\n"
     ]
    }
   ],
   "source": [
    "from langchain_text_splitters import RecursiveCharacterTextSplitter\n",
    "\n",
    "text_splitter = RecursiveCharacterTextSplitter(chunk_size=1000, chunk_overlap=100)\n",
    "\n",
    "chunks_2024 = text_splitter.split_documents(docs_2024)\n",
    "chunks_2025 = text_splitter.split_documents(docs_2025)\n",
    "\n",
    "print(len(chunks_2024))\n",
    "print(len(chunks_2025))"
   ]
  },
  {
   "cell_type": "code",
   "execution_count": 22,
   "id": "b1bdc6c8",
   "metadata": {},
   "outputs": [
    {
     "ename": "NameError",
     "evalue": "name 'chunks_2024' is not defined",
     "output_type": "error",
     "traceback": [
      "\u001b[31m---------------------------------------------------------------------------\u001b[39m",
      "\u001b[31mNameError\u001b[39m                                 Traceback (most recent call last)",
      "\u001b[36mCell\u001b[39m\u001b[36m \u001b[39m\u001b[32mIn[22]\u001b[39m\u001b[32m, line 1\u001b[39m\n\u001b[32m----> \u001b[39m\u001b[32m1\u001b[39m db_2024 = Chroma.from_documents(documents=\u001b[43mchunks_2024\u001b[49m, collection_name=\u001b[33m'\u001b[39m\u001b[33msv_2024\u001b[39m\u001b[33m'\u001b[39m, persist_directory=\u001b[33m'\u001b[39m\u001b[33m../vectorstore/chroma_samsung\u001b[39m\u001b[33m'\u001b[39m, embedding=emb)\n\u001b[32m      2\u001b[39m db_2025 = Chroma.from_documents(documents=chunks_2025, collection_name=\u001b[33m'\u001b[39m\u001b[33msv_2025\u001b[39m\u001b[33m'\u001b[39m, persist_directory=\u001b[33m'\u001b[39m\u001b[33m../vectorstore/chroma_samsung\u001b[39m\u001b[33m'\u001b[39m, embedding=emb)\n",
      "\u001b[31mNameError\u001b[39m: name 'chunks_2024' is not defined"
     ]
    }
   ],
   "source": [
    "db_2024 = Chroma.from_documents(documents=chunks_2024, collection_name='sv_2024', persist_directory='../vectorstore/chroma_samsung', embedding=emb)\n",
    "db_2025 = Chroma.from_documents(documents=chunks_2025, collection_name='sv_2025', persist_directory='../vectorstore/chroma_samsung', embedding=emb)"
   ]
  },
  {
   "cell_type": "code",
   "execution_count": 9,
   "id": "c9d457d1",
   "metadata": {},
   "outputs": [],
   "source": [
    "retriever_2024 = db_2024.as_retriever()\n",
    "retriever_2025 = db_2025.as_retriever()"
   ]
  },
  {
   "cell_type": "code",
   "execution_count": null,
   "id": "ae59b0d3",
   "metadata": {},
   "outputs": [],
   "source": [
    "result_2024 = retriever_2024.invoke('삼성 경영 전망에 대해 알려줘', k=3)\n",
    "result_2025 = retriever_2025.invoke('삼성 경영 전망에 대해 알려줘', k=7)"
   ]
  },
  {
   "cell_type": "code",
   "execution_count": null,
   "id": "0188bb91",
   "metadata": {},
   "outputs": [
    {
     "name": "stdout",
     "output_type": "stream",
     "text": [
      "[Document(id='843edbad-aea6-4df3-a4a9-c4ce239551b1', metadata={'creator': 'Adobe InDesign 15.1 (Macintosh)', 'trapped': '/False', 'page_label': '30', 'moddate': '2024-11-25T11:10:46+09:00', 'source': '../data/Sustainability_report_2024_kr.pdf', 'creationdate': '2024-11-25T11:10:32+09:00', 'producer': 'Adobe PDF Library 15.0', 'page': 29, 'total_pages': 83}, page_content='삼성전자 지속가능경영보고서 2024 30Our Company AppendixMateriality Assessment Facts & Figures PrinciplePlanet People\\n사회적 책임을 다하며 미래로 함께 나아갑니다.\\nPeople\\n31    임직원\\n39    공급망\\n45    사회공헌\\n48    개인정보보호/보안\\n50    고객의 안전/품질'), Document(id='0f5be0eb-372c-432f-9cc0-4a82663232ad', metadata={'creator': 'Adobe InDesign 15.1 (Macintosh)', 'page': 2, 'producer': 'Adobe PDF Library 15.0', 'creationdate': '2025-07-10T16:11:16+09:00', 'moddate': '2025-09-04T16:51:11+09:00', 'page_label': '3', 'trapped': '/False', 'total_pages': 87, 'source': '../data/Samsung_Electronics_Sustainability_Report_2025_KOR.pdf'}, page_content='삼성전자 지속가능경영보고서 2025\\n03\\nOur Company AppendixFacts & Figures PrinciplePlanet People\\nOur Company\\nCEO 메시지\\n회사소개\\n기업 지배구조\\n중대성 평가\\n이해관계자 소통\\n04\\n05\\n06\\n07\\n09'), Document(id='ca5052f0-5aa9-458a-a37c-6eac95d30148', metadata={'page_label': '5', 'source': '../data/Sustainability_report_2024_kr.pdf', 'trapped': '/False', 'producer': 'Adobe PDF Library 15.0', 'page': 4, 'creator': 'Adobe InDesign 15.1 (Macintosh)', 'total_pages': 83, 'creationdate': '2024-11-25T11:10:32+09:00', 'moddate': '2024-11-25T11:10:46+09:00'}, page_content='삼성전자 지속가능경영보고서 2024\\n05\\nOur Company AppendixMateriality Assessment Facts & Figures PrinciplePlanet People\\n회사소개\\nAbout Us\\n삼성전자주식회사(이하 삼성전자)는 인재와 기술을 바탕으로 최고의 제품과 서비스를 창출하여 인류사회에 공헌하는 글로벌 초일류기업을 지향합니다. \\n이를 위해 삼성전자의 경영철학을 반영한 5가지 핵심가치 를 수립하였고, 핵심가치를 세부원칙과 행동지침 으로 구체화하여 삼성전자 임직원이 \\n지켜야 할 글로벌 행동규범(Global Code of Conduct) 을 제정하였습니다. 삼성전자는 조직문화에 5가지 핵심가치를 내재화하고 글로벌 행동규범을 \\n모든 경영활동의 기준으로 삼아 지속적으로 성장해갈 것입니다. \\n사업부문 및 글로벌 네트워크 소개\\n삼성전자는 제품 특성에 따라 DX(Device eXperience)와 DS(Device Solutions) 2개 부문으로 나뉘어 독립적으로 운영되고 있습니다. DX부문은 \\n스마트폰, 네트워크 시스템, 컴퓨터, TV, 냉장고, 세탁기, 에어컨, 의료기기 등 완제품을 생산/판매하고 있으며, DS부문은 메모리 반도체 사업, Foundry \\n사업, System LSI 사업으로 구성되어 DRAM, NAND Flash, 모바일AP 등의 반도체 부품을 생산/판매하고 있습니다. 삼성전자는 2023년 말 기준 전 \\n세계에 232개의 생산거점, 판매거점, R&D 센터, 디자인 센터를 보유하고 있습니다.\\n Our Company\\n매출\\n169조 9,923억 원\\n영업이익\\n14조 3,847억 원 네트워크\\nMobile eXperience 영상디스플레이 생활가전\\n의료기기\\n매출\\n66조 5,945억 원\\n영업이익\\n△14조 8,795억 원\\nFoundry System LSI\\n주요 사업부\\nDevice eXperienceDX\\nDS Device Solutions\\n메모리\\n※ 상기 매출과 영업이익은 2023년 실적을 기준으로, SDC, Harman을 제외하고 작성했습니다.'), Document(id='af7b5a0f-95ca-4308-b778-aa114141df1d', metadata={'source': '../data/Samsung_Electronics_Sustainability_Report_2025_KOR.pdf', 'creationdate': '2025-07-10T16:11:16+09:00', 'page_label': '86', 'total_pages': 87, 'producer': 'Adobe PDF Library 15.0', 'trapped': '/False', 'moddate': '2025-09-04T16:51:11+09:00', 'creator': 'Adobe InDesign 15.1 (Macintosh)', 'page': 85}, page_content='비록 삼성전자주식회사는 지속가능경영보고서의 미래 예측 진술이 시의성 있고 합리적인 정보, 가정 \\n및 믿음에 기반한다고 판단하지만, 이러한 미래 예측 진술(그리고 이를 이루는 정보, 가정 및 믿음)은 \\n다양한 요인, 리스크, 불확실성의 영향권에 있으므로 실제 결과가 경영진의 기대 및 계획과 상이하게 \\n나타날 수 있습니다.\\n미래 예측 진술은 어떠한 경우에도 해당 진술이 이 루어진 그 시점에 한하여 유관하며, 삼성전자는 \\n새로운 정보, 미래의 사건 등으로 인해 미래 예측 진술을 업데이트 할 의무를 지지 않습니다.\\nAbout This Report\\nOur Company AppendixFacts & Figures PrinciplePlanet People'), Document(id='c60b95db-9842-43c2-a88e-b46f169f7804', metadata={'page': 81, 'moddate': '2024-11-25T11:10:46+09:00', 'trapped': '/False', 'producer': 'Adobe PDF Library 15.0', 'creationdate': '2024-11-25T11:10:32+09:00', 'page_label': '82', 'source': '../data/Sustainability_report_2024_kr.pdf', 'creator': 'Adobe InDesign 15.1 (Macintosh)', 'total_pages': 83}, page_content='ISAE3000을 적용했습니다.\\n관련 정보\\n·  삼성전자주식회사 대표 홈페이지 \\n http://www.samsung.com/sec\\n·  삼성전자주식회사 지속가능경영 웹사이트  \\n http://www.samsung.com/sec/sustainability/main\\n·  삼성전자주식회사 IR 홈페이지 \\n http://www.samsung.com/sec/ir\\n·  삼성전자주식회사 뉴스룸 \\n http://news.samsung.com/kr \\n http://news.samsung.com/global\\n담당 부서\\n· 삼성전자주식회사 지속가능경영추진센터\\n· 주소 : 16677 경기도 수원시 영통구 삼성로 129(매탄동)\\n· 이메일 : csr.partner@samsung.com\\n참고 자료\\n·  사업 보고서 \\n·  기업지배구조 보고서 \\n·  삼성전자 책임광물 관리 보고서 \\n·  CDP 보고서 \\n·  행동규범 \\n·  행동규범 가이드라인 \\n미래 예측 진술 공지\\n삼성전자주 식회사의 지속가능경영보고서에서 삼성전자의 ESG 목 표 및 전략과 관련된 것을 \\n포함하여 이루 어진 모든  특정 내용은 관련법상 미래 예 측 진술에 해당 할 수 있습니다. 이 \\n지속가능경영보고서에서는 향후 성황 및 ESG 성과에 대한 삼성전자의 현재 견해를 반영하는 미래 \\n예측 진술이 포함되어 있습니다. 이와 같은 내용은 위험과 불확실성을 포함하고 있습니다.\\n어떠한 사실이 현재 또는 과거 시 점에만 국한되는 것이 아니 라 미래에도 유 관한 경우 미래 예 측 \\n진술로 볼 수 있습니다. 예 를 들어, 삼성전자의 전망, 지침, 그  외 특정 과거 혹 은 현재의 사실과 \\n직접적 연관성이 있지 않은 정보 등을 포함합니다. 경우에 따라 \"may,\" \"will,\" \"could,\" \"should,\" \\n\"forecasts,\" \"expects,\" \"intends,\" \"plans,\" “aims to”, “goals,” “trying to,” \"anticipates,\" \"projects,\"'), Document(id='3130e700-3d08-444d-acfb-967e996fae12', metadata={'trapped': '/False', 'source': '../data/Samsung_Electronics_Sustainability_Report_2025_KOR.pdf', 'producer': 'Adobe PDF Library 15.0', 'page_label': '86', 'creationdate': '2025-07-10T16:11:16+09:00', 'creator': 'Adobe InDesign 15.1 (Macintosh)', 'page': 85, 'moddate': '2025-09-04T16:51:11+09:00', 'total_pages': 87}, page_content='·  삼성전자주식회사 지속가능경영 웹사이트   \\nhttp://www.samsung.com/sec/sustainability/main\\n·  삼성전자주식회사 IR 웹사이트   \\nhttp://www.samsung.com/sec/ir\\n·  삼성전자주식회사 뉴스룸   \\nhttp://news.samsung.com/kr   \\nhttp://news.samsung.com/global\\n담당 부서\\n· 삼성전자주식회사 지속가능경영추진센터\\n· 주소: 16677 경기도 수원시 영통구 삼성로 129(매탄동)\\n· 이메일: sustainability.sec@samsung.com\\n참고 자료\\n·  사업 보고서 \\n·  기업지배구조 보고서 \\n·  삼성전자 책임광물 관리 보고서 \\n·  행동규범 \\n·  행동규범 가이드라인 \\n미래 예측 진술 공지\\n삼성전자주식회사의 지속가능경영보고서에서 삼성전자의 지속가능경영 목표 및  전략과 관련된 \\n것을 포함하여 이 루어진 모 든 특정 내용은 관련법상 미래  예측 진술에 해 당할 수 있습니다. 이 \\n지속가능경영보고서에서는 향후 상황 및 지속가능경영 성과에 대한 삼성전자의 현재 견해를 반영하는 \\n미래 예측 진술이 포함되어 있습니다. 이와 같은 내용은 위험과 불확실성을 포함하고 있습니다.\\n어떠한 사실이 현 재 또는 과거 시점에만 국한되는 것 이 아니라 미래에도 유관한 경 우 미래 예측 \\n진술로 볼 수 있습니다. 예를 들어, 삼성전자의 전망, 지침, 그 외 특정 과거 혹은 현재의 사실과 직접적 \\n연관성이 있지 않은 정보 등을 포함합니다. 경우에 따라 \"may,\" \"will,\" \"could,\" \"should,\" \"forecasts,\" \\n\"expects, \" \"intends,\" \"plans,\" “aims to ”, “goals,” “trying to, ” \"anticipates, \" \"projects, \" \\n\"outlook,\" \"believes,\" \"estimates,\" \"predicts,\" \"potential,\" \"continue,\" \"preliminary,\" “추진”,'), Document(id='996a37de-85f9-4b8a-9530-54ee7c45edab', metadata={'page_label': '82', 'creationdate': '2024-11-25T11:10:32+09:00', 'trapped': '/False', 'creator': 'Adobe InDesign 15.1 (Macintosh)', 'total_pages': 83, 'source': '../data/Sustainability_report_2024_kr.pdf', 'producer': 'Adobe PDF Library 15.0', 'moddate': '2024-11-25T11:10:46+09:00', 'page': 81}, page_content='비록 삼성전자주식회사는 지속가능경영보고서의 미래 예측 진술이 시의성 있고 합리적인 정보, 가정 \\n및 믿음에 기반한다고 판단하지만, 이러한 미래 예측 진술(그리고 이를 이루는 정보, 가정 및 믿음)은 \\n다양한 요인, 리스크, 불확실성의 영향권에 있으므로 실제 결과가 경영진의 기대 및 계획과 상이하게 \\n나타날 수 있습니다.\\n미래 예측 진술은 어 떠한 경우에도 해 당 진술이 이 루어진 그 시점에 한하여 유관하며, 삼성전자는 \\n새로운 정보, 미래의 사건 등으로 인해 미래 예측 진술을 업데이트 할 의무를 지지 않습니다.'), Document(id='dd40673d-058e-4d7e-8b3c-7c328eb35670', metadata={'moddate': '2025-09-04T16:51:11+09:00', 'page': 0, 'page_label': '1', 'creationdate': '2025-07-10T16:11:16+09:00', 'source': '../data/Samsung_Electronics_Sustainability_Report_2025_KOR.pdf', 'producer': 'Adobe PDF Library 15.0', 'trapped': '/False', 'total_pages': 87, 'creator': 'Adobe InDesign 15.1 (Macintosh)'}, page_content='삼성전자 지속가능경영보고서 2025\\nA Journey  Towards \\n a Sustainable Future\\nA Journey  Towards\\n a Sustainable Future')]\n"
     ]
    }
   ],
   "source": [
    "ensemble_retriever = EnsembleRetriever(retrievers=[retriever_2024, retriever_2025], weights=[0.5, 0.5]) # 앞에서 문서수로 가중치를 조절\n",
    "result_total = ensemble_retriever.invoke('앞으로 삼성 경영 전망에 대해 알려줘')\n",
    "print(result_total)"
   ]
  },
  {
   "cell_type": "code",
   "execution_count": 16,
   "id": "b744cd88",
   "metadata": {},
   "outputs": [
    {
     "name": "stdout",
     "output_type": "stream",
     "text": [
      "삼성전자 지속가능경영보고서 2024 30Our Company AppendixMateriality Assessment Facts & Figures PrinciplePlanet People\n",
      "사회적 책임을 다하며 미래로 함께 나아갑니다.\n",
      "People\n",
      "31    임직원\n",
      "39    공급망\n",
      "45    사회공헌\n",
      "48    개인정보보호/보안\n",
      "50    고객의 안전/품질\n"
     ]
    }
   ],
   "source": [
    "print(result_total[0].page_content)"
   ]
  },
  {
   "cell_type": "markdown",
   "id": "3b8b7ab1",
   "metadata": {},
   "source": [
    "## 2. db 병합(자주 쓰이진 않음)"
   ]
  },
  {
   "cell_type": "code",
   "execution_count": null,
   "id": "cd6dcd30",
   "metadata": {},
   "outputs": [
    {
     "data": {
      "text/plain": [
       "Collection(name=samsung_all)"
      ]
     },
     "execution_count": 4,
     "metadata": {},
     "output_type": "execute_result"
    }
   ],
   "source": [
    "import chromadb\n",
    "from chromadb.config import Settings\n",
    "\n",
    "client = chromadb.PersistentClient(path=\"../vectorstore/chroma_samsung\")\n",
    "\n",
    "src24 = client.get_collection(\"sv_2024\")\n",
    "src25 = client.get_collection(\"sv_2025\")\n",
    "\n",
    "# 빈 db 생성\n",
    "sv_all = Chroma(\n",
    "    collection_name=\"samsung_all\",\n",
    "    persist_directory=\"../vectorstore/chroma_samsung\",\n",
    "    embedding_function=emb,\n",
    ")\n",
    "\n",
    "dst = client.get_collection(\"samsung_all\")\n",
    "dst"
   ]
  },
  {
   "cell_type": "code",
   "execution_count": 5,
   "id": "0b922325",
   "metadata": {},
   "outputs": [
    {
     "name": "stdout",
     "output_type": "stream",
     "text": [
      "[sv_2024] moved 207 docs so far...\n",
      "[sv_2025] moved 237 docs so far...\n"
     ]
    }
   ],
   "source": [
    "# 2. samsung_2024 → samsung_all 복사\n",
    "batch = 1000\n",
    "offset = 0\n",
    "while True:\n",
    "    batch_data = src24.get(\n",
    "        include=[\"embeddings\", \"metadatas\", \"documents\"],\n",
    "        limit=batch, offset=offset\n",
    "    )\n",
    "    ids = batch_data[\"ids\"]\n",
    "    if not ids:\n",
    "        break\n",
    "\n",
    "    # ID 충돌 방지: 접두사 붙이기\n",
    "    new_ids = [f\"{src24.name}::{i}\" for i in ids]\n",
    "\n",
    "    dst.upsert(\n",
    "        ids=new_ids,\n",
    "        documents=batch_data[\"documents\"],\n",
    "        embeddings=batch_data[\"embeddings\"],   # 이미 계산된 벡터 재사용\n",
    "        metadatas=batch_data[\"metadatas\"],\n",
    "    )\n",
    "    offset += len(ids)\n",
    "    print(f\"[{src24.name}] moved {offset} docs so far...\")\n",
    "    \n",
    "# 3. samsung_2025 → samsung_all 복사\n",
    "batch = 1000\n",
    "offset = 0\n",
    "while True:\n",
    "    batch_data = src25.get(\n",
    "        include=[\"embeddings\", \"metadatas\", \"documents\"],\n",
    "        limit=batch, offset=offset\n",
    "    )\n",
    "    ids = batch_data[\"ids\"]\n",
    "    if not ids:\n",
    "        break\n",
    "\n",
    "    new_ids = [f\"{src25.name}::{i}\" for i in ids]\n",
    "\n",
    "    dst.upsert(\n",
    "        ids=new_ids,\n",
    "        documents=batch_data[\"documents\"],\n",
    "        embeddings=batch_data[\"embeddings\"],\n",
    "        metadatas=batch_data[\"metadatas\"],\n",
    "    )\n",
    "    offset += len(ids)\n",
    "    print(f\"[{src25.name}] moved {offset} docs so far...\")"
   ]
  },
  {
   "cell_type": "markdown",
   "id": "abf4fdc9",
   "metadata": {},
   "source": [
    "## "
   ]
  },
  {
   "cell_type": "markdown",
   "id": "94c12bf5",
   "metadata": {},
   "source": [
    "## 3. 병합된 db 불러와서 활용"
   ]
  },
  {
   "cell_type": "code",
   "execution_count": 15,
   "id": "ae905cee",
   "metadata": {},
   "outputs": [
    {
     "data": {
      "text/plain": [
       "<langchain_community.vectorstores.chroma.Chroma at 0x1ccd218d490>"
      ]
     },
     "execution_count": 15,
     "metadata": {},
     "output_type": "execute_result"
    }
   ],
   "source": [
    "from langchain_community.vectorstores import Chroma\n",
    "\n",
    "# 특정 컬렉션 명으로 로드\n",
    "total_db = Chroma(\n",
    "    persist_directory=\"../vectorstore/chroma_samsung\",      # DB 폴더 경로\n",
    "    collection_name=\"samsung_all\",     \n",
    "    embedding_function=emb         \n",
    ")\n",
    "\n",
    "total_db"
   ]
  },
  {
   "cell_type": "code",
   "execution_count": 18,
   "id": "588d3029",
   "metadata": {},
   "outputs": [
    {
     "name": "stdout",
     "output_type": "stream",
     "text": [
      "10\n"
     ]
    }
   ],
   "source": [
    "# 검색 예시\n",
    "query = \"각각 2024년과 2025년 삼성 경영 전망\"\n",
    "total_retriever = total_db.as_retriever()\n",
    "results = total_retriever.invoke(query, k=10)\n",
    "print(len(results))"
   ]
  },
  {
   "cell_type": "code",
   "execution_count": 19,
   "id": "2652ccc9",
   "metadata": {},
   "outputs": [
    {
     "name": "stdout",
     "output_type": "stream",
     "text": [
      "../data/Samsung_Electronics_Sustainability_Report_2025_KOR.pdf\n",
      "../data/Sustainability_report_2024_kr.pdf\n",
      "../data/Samsung_Electronics_Sustainability_Report_2025_KOR.pdf\n",
      "../data/Samsung_Electronics_Sustainability_Report_2025_KOR.pdf\n",
      "../data/Sustainability_report_2024_kr.pdf\n",
      "../data/Samsung_Electronics_Sustainability_Report_2025_KOR.pdf\n",
      "../data/Sustainability_report_2024_kr.pdf\n",
      "../data/Samsung_Electronics_Sustainability_Report_2025_KOR.pdf\n",
      "../data/Samsung_Electronics_Sustainability_Report_2025_KOR.pdf\n",
      "../data/Sustainability_report_2024_kr.pdf\n"
     ]
    }
   ],
   "source": [
    "for result in results:\n",
    "    print(result.metadata['source'])"
   ]
  }
 ],
 "metadata": {
  "kernelspec": {
   "display_name": "langchain-basic",
   "language": "python",
   "name": "python3"
  },
  "language_info": {
   "codemirror_mode": {
    "name": "ipython",
    "version": 3
   },
   "file_extension": ".py",
   "mimetype": "text/x-python",
   "name": "python",
   "nbconvert_exporter": "python",
   "pygments_lexer": "ipython3",
   "version": "3.11.13"
  }
 },
 "nbformat": 4,
 "nbformat_minor": 5
}
