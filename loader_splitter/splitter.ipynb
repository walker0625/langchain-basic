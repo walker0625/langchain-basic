{
 "cells": [
  {
   "cell_type": "markdown",
   "id": "0073ed5d",
   "metadata": {},
   "source": [
    "# Splitter"
   ]
  },
  {
   "cell_type": "code",
   "execution_count": 11,
   "id": "37d7ca31",
   "metadata": {},
   "outputs": [],
   "source": [
    "from langchain_community.document_loaders import PyMuPDFLoader\n",
    "from langchain_core.documents import Document\n",
    "from langchain_text_splitters import CharacterTextSplitter, RecursiveCharacterTextSplitter, TokenTextSplitter"
   ]
  },
  {
   "cell_type": "code",
   "execution_count": 12,
   "id": "a783b6de",
   "metadata": {},
   "outputs": [
    {
     "data": {
      "text/plain": [
       "'A Journey Towards  \\na Sustainable Future\\n삼성전자 지속가능경영보고서 2024'"
      ]
     },
     "execution_count": 12,
     "metadata": {},
     "output_type": "execute_result"
    }
   ],
   "source": [
    "file_path = '../data/Sustainability_report_2024_kr.pdf'\n",
    "\n",
    "loader = PyMuPDFLoader(file_path)\n",
    "docs = loader.load()\n",
    "docs[0].page_content"
   ]
  },
  {
   "cell_type": "code",
   "execution_count": 13,
   "id": "a3b3cbf5",
   "metadata": {},
   "outputs": [
    {
     "data": {
      "text/plain": [
       "['gpt2',\n",
       " 'r50k_base',\n",
       " 'p50k_base',\n",
       " 'p50k_edit',\n",
       " 'cl100k_base',\n",
       " 'o200k_base',\n",
       " 'o200k_harmony']"
      ]
     },
     "execution_count": 13,
     "metadata": {},
     "output_type": "execute_result"
    }
   ],
   "source": [
    "import tiktoken\n",
    "\n",
    "tiktoken.list_encoding_names() # o200k_base 대부분은 이 기준"
   ]
  },
  {
   "cell_type": "code",
   "execution_count": 14,
   "id": "9a59405d",
   "metadata": {},
   "outputs": [],
   "source": [
    "encoding = tiktoken.encoding_for_model(\"gpt-4.1-mini\")"
   ]
  },
  {
   "cell_type": "code",
   "execution_count": 15,
   "id": "67b6e2e6",
   "metadata": {},
   "outputs": [
    {
     "data": {
      "text/plain": [
       "[14307, 171731, 13, 35007, 114614, 12020, 13]"
      ]
     },
     "execution_count": 15,
     "metadata": {},
     "output_type": "execute_result"
    }
   ],
   "source": [
    "text = '안녕하세요. 반갑습니다.'\n",
    "encoding.encode(text)"
   ]
  },
  {
   "cell_type": "code",
   "execution_count": 34,
   "id": "ff64995e",
   "metadata": {},
   "outputs": [],
   "source": [
    "char_splitter = CharacterTextSplitter(\n",
    "    chunk_size = 500,\n",
    "    chunk_overlap = 50\n",
    ")\n",
    "\n",
    "# 가장 주로 쓰임\n",
    "recursive_splitter = RecursiveCharacterTextSplitter(\n",
    "    chunk_size = 500,\n",
    "    chunk_overlap = 50\n",
    ")\n",
    "\n",
    "token_splitter = TokenTextSplitter(\n",
    "    chunk_size = 500,\n",
    "    chunk_overlap = 50\n",
    ")"
   ]
  },
  {
   "cell_type": "code",
   "execution_count": 35,
   "id": "bf4fb750",
   "metadata": {},
   "outputs": [
    {
     "name": "stdout",
     "output_type": "stream",
     "text": [
      "Materiality  \n",
      " Assessment\n",
      "삼성전자 지속가능경영보고서 2024\n",
      "07\n",
      "Our Company\n",
      "Appendix\n",
      "Materiality Assessment\n",
      "Facts & Figures \n",
      "Principle\n",
      "Planet\n",
      "People\n"
     ]
    }
   ],
   "source": [
    "char_chunk = char_splitter.split_documents(docs)\n",
    "print(char_chunk[6].page_content)"
   ]
  },
  {
   "cell_type": "code",
   "execution_count": null,
   "id": "da51c8db",
   "metadata": {},
   "outputs": [
    {
     "name": "stdout",
     "output_type": "stream",
     "text": [
      "대한 관심 또한 지속 고조되고 있습니다. \n",
      "삼성전자는 이러한 추세에 맞춰 지속가능한 미래를 위한 노력을 계속해 \n",
      "왔습니다. 2050년 탄소중립을 통해 글로벌 기후위기 극복 노력에 \n",
      "동참하고, 자원의 순환성을 극대화하여 순환경제 구축에 기여하며, \n",
      "기술혁신을 통해 환경난제 해결에 도전하는 내용의 '新환경경영전략'을 \n",
      "2022년 9월에 발표하였습니다. \n",
      "2030년 탄소중립을 목표로 하는 DX부문에서는 미국, 유럽, 중국에 이어 \n",
      "한국, 베트남, 인도, 브라질을 포함한 글로벌 주요 제조사업장의 사용 \n",
      "전력을 재생에너지로 100% 전환하였으며, 2023년말 기준, 총 93.4%\n",
      "의 재생에너지 전환 실적을 기록하였습니다. 또한 자원순환형 소재 확대 \n",
      "로드맵에 맞춰, 당사가 구매한 제품 내 플라스틱 부품 25%에 재생레진을 \n",
      "적용하였습니다. \n",
      "DS부문에서는 2050년 탄소중립 달성을 위해 2023년 공정가스 처리시설\n"
     ]
    }
   ],
   "source": [
    "rec_chunk = recursive_splitter.split_documents(docs)\n",
    "print(rec_chunk[6].page_content)"
   ]
  },
  {
   "cell_type": "code",
   "execution_count": 37,
   "id": "c6b3b6e5",
   "metadata": {},
   "outputs": [
    {
     "name": "stdout",
     "output_type": "stream",
     "text": [
      "��업의 지속가능경영 \n",
      "활동 정보 공개는 글로벌 비재무정보 공시 제도의 확산에 맞춰, 새로운 \n",
      "국면을 맞고 있습니다. 국제회계기준재단(IFRS Foundation)이 2023년 \n",
      "6월 지속가능성 지표를 확정한 것을 시작으로, EU의 지속가능성 보고지침\n",
      "(CSRD)과 미국 증권거래위원회(SEC) 기후공시 기준 역시 세부 내용을 \n",
      "순차적으로 확정하며 ESG 정보의 의무 공시 시대가 열리고 있습니다.\n",
      "이와 함께, EU 탄소국경조정제도(CBAM)와 EU 배터리규제 등을 통한 \n",
      "\n"
     ]
    }
   ],
   "source": [
    "token_chunk = token_splitter.split_documents(docs)\n",
    "print(token_chunk[6].page_content)"
   ]
  }
 ],
 "metadata": {
  "kernelspec": {
   "display_name": "langchain-basic",
   "language": "python",
   "name": "python3"
  },
  "language_info": {
   "codemirror_mode": {
    "name": "ipython",
    "version": 3
   },
   "file_extension": ".py",
   "mimetype": "text/x-python",
   "name": "python",
   "nbconvert_exporter": "python",
   "pygments_lexer": "ipython3",
   "version": "3.11.13"
  }
 },
 "nbformat": 4,
 "nbformat_minor": 5
}
